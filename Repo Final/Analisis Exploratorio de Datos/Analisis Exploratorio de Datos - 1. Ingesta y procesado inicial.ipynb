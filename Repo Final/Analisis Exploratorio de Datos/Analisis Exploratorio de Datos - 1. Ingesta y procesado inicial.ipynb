{
 "cells": [
  {
   "cell_type": "markdown",
   "metadata": {},
   "source": [
    "En esta sección vamos a hacer un ejemplo completo de como hacer un Análisis Exploratorio de Datos (EDA en inglés).\n",
    "\n",
    "Hoy en dia no hay un proceso standard a la hora de realizar EDA, pero un proceso que a mi me gusta está basado en el proceso propuesto por Distric Data Labs ([aquí](http://blog.districtdatalabs.com/data-exploration-with-python-1) un blog post, y [aquí](https://www.youtube.com/watch?v=YEBRkLo568Q) una charla sobre el proceso)."
   ]
  },
  {
   "cell_type": "code",
   "execution_count": 1,
   "metadata": {},
   "outputs": [
    {
     "ename": "ModuleNotFoundError",
     "evalue": "No module named 'watermark'",
     "output_type": "error",
     "traceback": [
      "\u001b[1;31m---------------------------------------------------------------------------\u001b[0m",
      "\u001b[1;31mModuleNotFoundError\u001b[0m                       Traceback (most recent call last)",
      "Cell \u001b[1;32mIn[1], line 1\u001b[0m\n\u001b[1;32m----> 1\u001b[0m get_ipython()\u001b[38;5;241m.\u001b[39mrun_line_magic(\u001b[38;5;124m'\u001b[39m\u001b[38;5;124mload_ext\u001b[39m\u001b[38;5;124m'\u001b[39m, \u001b[38;5;124m'\u001b[39m\u001b[38;5;124mwatermark\u001b[39m\u001b[38;5;124m'\u001b[39m)\n\u001b[0;32m      2\u001b[0m get_ipython()\u001b[38;5;241m.\u001b[39mrun_line_magic(\u001b[38;5;124m'\u001b[39m\u001b[38;5;124mwatermark\u001b[39m\u001b[38;5;124m'\u001b[39m, \u001b[38;5;124m'\u001b[39m\u001b[38;5;124m'\u001b[39m)\n",
      "File \u001b[1;32m~\\.conda\\envs\\Data-tesis\\Lib\\site-packages\\IPython\\core\\interactiveshell.py:2417\u001b[0m, in \u001b[0;36mInteractiveShell.run_line_magic\u001b[1;34m(self, magic_name, line, _stack_depth)\u001b[0m\n\u001b[0;32m   2415\u001b[0m     kwargs[\u001b[38;5;124m'\u001b[39m\u001b[38;5;124mlocal_ns\u001b[39m\u001b[38;5;124m'\u001b[39m] \u001b[38;5;241m=\u001b[39m \u001b[38;5;28mself\u001b[39m\u001b[38;5;241m.\u001b[39mget_local_scope(stack_depth)\n\u001b[0;32m   2416\u001b[0m \u001b[38;5;28;01mwith\u001b[39;00m \u001b[38;5;28mself\u001b[39m\u001b[38;5;241m.\u001b[39mbuiltin_trap:\n\u001b[1;32m-> 2417\u001b[0m     result \u001b[38;5;241m=\u001b[39m fn(\u001b[38;5;241m*\u001b[39margs, \u001b[38;5;241m*\u001b[39m\u001b[38;5;241m*\u001b[39mkwargs)\n\u001b[0;32m   2419\u001b[0m \u001b[38;5;66;03m# The code below prevents the output from being displayed\u001b[39;00m\n\u001b[0;32m   2420\u001b[0m \u001b[38;5;66;03m# when using magics with decodator @output_can_be_silenced\u001b[39;00m\n\u001b[0;32m   2421\u001b[0m \u001b[38;5;66;03m# when the last Python token in the expression is a ';'.\u001b[39;00m\n\u001b[0;32m   2422\u001b[0m \u001b[38;5;28;01mif\u001b[39;00m \u001b[38;5;28mgetattr\u001b[39m(fn, magic\u001b[38;5;241m.\u001b[39mMAGIC_OUTPUT_CAN_BE_SILENCED, \u001b[38;5;28;01mFalse\u001b[39;00m):\n",
      "File \u001b[1;32m~\\.conda\\envs\\Data-tesis\\Lib\\site-packages\\IPython\\core\\magics\\extension.py:33\u001b[0m, in \u001b[0;36mExtensionMagics.load_ext\u001b[1;34m(self, module_str)\u001b[0m\n\u001b[0;32m     31\u001b[0m \u001b[38;5;28;01mif\u001b[39;00m \u001b[38;5;129;01mnot\u001b[39;00m module_str:\n\u001b[0;32m     32\u001b[0m     \u001b[38;5;28;01mraise\u001b[39;00m UsageError(\u001b[38;5;124m'\u001b[39m\u001b[38;5;124mMissing module name.\u001b[39m\u001b[38;5;124m'\u001b[39m)\n\u001b[1;32m---> 33\u001b[0m res \u001b[38;5;241m=\u001b[39m \u001b[38;5;28mself\u001b[39m\u001b[38;5;241m.\u001b[39mshell\u001b[38;5;241m.\u001b[39mextension_manager\u001b[38;5;241m.\u001b[39mload_extension(module_str)\n\u001b[0;32m     35\u001b[0m \u001b[38;5;28;01mif\u001b[39;00m res \u001b[38;5;241m==\u001b[39m \u001b[38;5;124m'\u001b[39m\u001b[38;5;124malready loaded\u001b[39m\u001b[38;5;124m'\u001b[39m:\n\u001b[0;32m     36\u001b[0m     \u001b[38;5;28mprint\u001b[39m(\u001b[38;5;124m\"\u001b[39m\u001b[38;5;124mThe \u001b[39m\u001b[38;5;132;01m%s\u001b[39;00m\u001b[38;5;124m extension is already loaded. To reload it, use:\u001b[39m\u001b[38;5;124m\"\u001b[39m \u001b[38;5;241m%\u001b[39m module_str)\n",
      "File \u001b[1;32m~\\.conda\\envs\\Data-tesis\\Lib\\site-packages\\IPython\\core\\extensions.py:76\u001b[0m, in \u001b[0;36mExtensionManager.load_extension\u001b[1;34m(self, module_str)\u001b[0m\n\u001b[0;32m     69\u001b[0m \u001b[38;5;250m\u001b[39m\u001b[38;5;124;03m\"\"\"Load an IPython extension by its module name.\u001b[39;00m\n\u001b[0;32m     70\u001b[0m \n\u001b[0;32m     71\u001b[0m \u001b[38;5;124;03mReturns the string \"already loaded\" if the extension is already loaded,\u001b[39;00m\n\u001b[0;32m     72\u001b[0m \u001b[38;5;124;03m\"no load function\" if the module doesn't have a load_ipython_extension\u001b[39;00m\n\u001b[0;32m     73\u001b[0m \u001b[38;5;124;03mfunction, or None if it succeeded.\u001b[39;00m\n\u001b[0;32m     74\u001b[0m \u001b[38;5;124;03m\"\"\"\u001b[39;00m\n\u001b[0;32m     75\u001b[0m \u001b[38;5;28;01mtry\u001b[39;00m:\n\u001b[1;32m---> 76\u001b[0m     \u001b[38;5;28;01mreturn\u001b[39;00m \u001b[38;5;28mself\u001b[39m\u001b[38;5;241m.\u001b[39m_load_extension(module_str)\n\u001b[0;32m     77\u001b[0m \u001b[38;5;28;01mexcept\u001b[39;00m \u001b[38;5;167;01mModuleNotFoundError\u001b[39;00m:\n\u001b[0;32m     78\u001b[0m     \u001b[38;5;28;01mif\u001b[39;00m module_str \u001b[38;5;129;01min\u001b[39;00m BUILTINS_EXTS:\n",
      "File \u001b[1;32m~\\.conda\\envs\\Data-tesis\\Lib\\site-packages\\IPython\\core\\extensions.py:91\u001b[0m, in \u001b[0;36mExtensionManager._load_extension\u001b[1;34m(self, module_str)\u001b[0m\n\u001b[0;32m     89\u001b[0m \u001b[38;5;28;01mwith\u001b[39;00m \u001b[38;5;28mself\u001b[39m\u001b[38;5;241m.\u001b[39mshell\u001b[38;5;241m.\u001b[39mbuiltin_trap:\n\u001b[0;32m     90\u001b[0m     \u001b[38;5;28;01mif\u001b[39;00m module_str \u001b[38;5;129;01mnot\u001b[39;00m \u001b[38;5;129;01min\u001b[39;00m sys\u001b[38;5;241m.\u001b[39mmodules:\n\u001b[1;32m---> 91\u001b[0m         mod \u001b[38;5;241m=\u001b[39m import_module(module_str)\n\u001b[0;32m     92\u001b[0m     mod \u001b[38;5;241m=\u001b[39m sys\u001b[38;5;241m.\u001b[39mmodules[module_str]\n\u001b[0;32m     93\u001b[0m     \u001b[38;5;28;01mif\u001b[39;00m \u001b[38;5;28mself\u001b[39m\u001b[38;5;241m.\u001b[39m_call_load_ipython_extension(mod):\n",
      "File \u001b[1;32m~\\.conda\\envs\\Data-tesis\\Lib\\importlib\\__init__.py:126\u001b[0m, in \u001b[0;36mimport_module\u001b[1;34m(name, package)\u001b[0m\n\u001b[0;32m    124\u001b[0m             \u001b[38;5;28;01mbreak\u001b[39;00m\n\u001b[0;32m    125\u001b[0m         level \u001b[38;5;241m+\u001b[39m\u001b[38;5;241m=\u001b[39m \u001b[38;5;241m1\u001b[39m\n\u001b[1;32m--> 126\u001b[0m \u001b[38;5;28;01mreturn\u001b[39;00m _bootstrap\u001b[38;5;241m.\u001b[39m_gcd_import(name[level:], package, level)\n",
      "File \u001b[1;32m<frozen importlib._bootstrap>:1204\u001b[0m, in \u001b[0;36m_gcd_import\u001b[1;34m(name, package, level)\u001b[0m\n",
      "File \u001b[1;32m<frozen importlib._bootstrap>:1176\u001b[0m, in \u001b[0;36m_find_and_load\u001b[1;34m(name, import_)\u001b[0m\n",
      "File \u001b[1;32m<frozen importlib._bootstrap>:1140\u001b[0m, in \u001b[0;36m_find_and_load_unlocked\u001b[1;34m(name, import_)\u001b[0m\n",
      "\u001b[1;31mModuleNotFoundError\u001b[0m: No module named 'watermark'"
     ]
    }
   ],
   "source": [
    "%load_ext watermark\n",
    "%watermark"
   ]
  },
  {
   "cell_type": "markdown",
   "metadata": {},
   "source": [
    "El archivo original está en: https://www.fueleconomy.gov/feg/epadata/vehicles.csv.zip\n",
    "El archivo que vamos a usar es una versión modificada (con menos columnas)\n",
    "\n",
    "Descripcion del dataset\n",
    "http://www.fueleconomy.gov/feg/ws/index.shtml#ft7\n",
    "\n",
    "\n",
    "Supongamos que somos la agencia de porteccion ambiental americana, la EPA. Uno de sus trabajos es analizar los coches nuevos que se venden en EEUU y estudiar su contaminacion."
   ]
  },
  {
   "cell_type": "code",
   "execution_count": 2,
   "metadata": {},
   "outputs": [],
   "source": [
    "import pandas as pd"
   ]
  },
  {
   "cell_type": "code",
   "execution_count": 3,
   "metadata": {},
   "outputs": [],
   "source": [
    "%matplotlib notebook"
   ]
  },
  {
   "cell_type": "markdown",
   "metadata": {},
   "source": [
    "### Lectura de datos"
   ]
  },
  {
   "cell_type": "code",
   "execution_count": 4,
   "metadata": {},
   "outputs": [],
   "source": [
    "df_consumo = pd.read_csv(\"Data/dataset-final.csv\")"
   ]
  },
  {
   "cell_type": "code",
   "execution_count": 5,
   "metadata": {},
   "outputs": [
    {
     "data": {
      "text/plain": [
       "(10149, 57)"
      ]
     },
     "execution_count": 5,
     "metadata": {},
     "output_type": "execute_result"
    }
   ],
   "source": [
    "df_consumo.shape"
   ]
  },
  {
   "cell_type": "code",
   "execution_count": 6,
   "metadata": {},
   "outputs": [
    {
     "data": {
      "text/html": [
       "<div>\n",
       "<style scoped>\n",
       "    .dataframe tbody tr th:only-of-type {\n",
       "        vertical-align: middle;\n",
       "    }\n",
       "\n",
       "    .dataframe tbody tr th {\n",
       "        vertical-align: top;\n",
       "    }\n",
       "\n",
       "    .dataframe thead th {\n",
       "        text-align: right;\n",
       "    }\n",
       "</style>\n",
       "<table border=\"1\" class=\"dataframe\">\n",
       "  <thead>\n",
       "    <tr style=\"text-align: right;\">\n",
       "      <th></th>\n",
       "      <th>directorio</th>\n",
       "      <th>per_sexo</th>\n",
       "      <th>per_edad</th>\n",
       "      <th>vive_padre_hogar</th>\n",
       "      <th>vive_madre_hogar</th>\n",
       "      <th>departamento</th>\n",
       "      <th>municipio</th>\n",
       "      <th>tipo_vivienda</th>\n",
       "      <th>servicio_energia</th>\n",
       "      <th>estrato</th>\n",
       "      <th>...</th>\n",
       "      <th>g_11_j_consumio_alguna_vez_heroina</th>\n",
       "      <th>g_11_j_anios_consumio_heroina</th>\n",
       "      <th>k_03_consumio_marihuana_12m</th>\n",
       "      <th>k_04_frecuencia_consumo_marihuana_12m</th>\n",
       "      <th>l_02_consumio_cocaina_12m</th>\n",
       "      <th>l_03_frecuencia_consumo_cocaina_12m</th>\n",
       "      <th>m_02_consumio_basuco_12m</th>\n",
       "      <th>m_03_frecuencia_consumo_basuco_12m</th>\n",
       "      <th>0_02_consumio_heroina_12m</th>\n",
       "      <th>0_03_frecuencia_consumo_heroina_12m</th>\n",
       "    </tr>\n",
       "  </thead>\n",
       "  <tbody>\n",
       "    <tr>\n",
       "      <th>0</th>\n",
       "      <td>11207</td>\n",
       "      <td>1</td>\n",
       "      <td>19</td>\n",
       "      <td>2</td>\n",
       "      <td>2</td>\n",
       "      <td>Guaviare</td>\n",
       "      <td>SAN JOSÉ DEL GUAVIARE</td>\n",
       "      <td>2</td>\n",
       "      <td>1</td>\n",
       "      <td>2.0</td>\n",
       "      <td>...</td>\n",
       "      <td>2</td>\n",
       "      <td>NaN</td>\n",
       "      <td>NaN</td>\n",
       "      <td>NaN</td>\n",
       "      <td>NaN</td>\n",
       "      <td>NaN</td>\n",
       "      <td>NaN</td>\n",
       "      <td>NaN</td>\n",
       "      <td>NaN</td>\n",
       "      <td>NaN</td>\n",
       "    </tr>\n",
       "    <tr>\n",
       "      <th>1</th>\n",
       "      <td>1180</td>\n",
       "      <td>2</td>\n",
       "      <td>51</td>\n",
       "      <td>2</td>\n",
       "      <td>1</td>\n",
       "      <td>Cordoba</td>\n",
       "      <td>MONTERÍA</td>\n",
       "      <td>1</td>\n",
       "      <td>1</td>\n",
       "      <td>1.0</td>\n",
       "      <td>...</td>\n",
       "      <td>2</td>\n",
       "      <td>NaN</td>\n",
       "      <td>NaN</td>\n",
       "      <td>NaN</td>\n",
       "      <td>NaN</td>\n",
       "      <td>NaN</td>\n",
       "      <td>NaN</td>\n",
       "      <td>NaN</td>\n",
       "      <td>NaN</td>\n",
       "      <td>NaN</td>\n",
       "    </tr>\n",
       "    <tr>\n",
       "      <th>2</th>\n",
       "      <td>4398</td>\n",
       "      <td>1</td>\n",
       "      <td>52</td>\n",
       "      <td>3</td>\n",
       "      <td>3</td>\n",
       "      <td>Caqueta</td>\n",
       "      <td>FLORENCIA</td>\n",
       "      <td>1</td>\n",
       "      <td>1</td>\n",
       "      <td>2.0</td>\n",
       "      <td>...</td>\n",
       "      <td>2</td>\n",
       "      <td>NaN</td>\n",
       "      <td>NaN</td>\n",
       "      <td>NaN</td>\n",
       "      <td>NaN</td>\n",
       "      <td>NaN</td>\n",
       "      <td>NaN</td>\n",
       "      <td>NaN</td>\n",
       "      <td>NaN</td>\n",
       "      <td>NaN</td>\n",
       "    </tr>\n",
       "    <tr>\n",
       "      <th>3</th>\n",
       "      <td>4399</td>\n",
       "      <td>2</td>\n",
       "      <td>39</td>\n",
       "      <td>1</td>\n",
       "      <td>1</td>\n",
       "      <td>Bolivar</td>\n",
       "      <td>CARTAGENA</td>\n",
       "      <td>1</td>\n",
       "      <td>1</td>\n",
       "      <td>5.0</td>\n",
       "      <td>...</td>\n",
       "      <td>2</td>\n",
       "      <td>NaN</td>\n",
       "      <td>NaN</td>\n",
       "      <td>NaN</td>\n",
       "      <td>NaN</td>\n",
       "      <td>NaN</td>\n",
       "      <td>NaN</td>\n",
       "      <td>NaN</td>\n",
       "      <td>NaN</td>\n",
       "      <td>NaN</td>\n",
       "    </tr>\n",
       "    <tr>\n",
       "      <th>4</th>\n",
       "      <td>2619</td>\n",
       "      <td>2</td>\n",
       "      <td>27</td>\n",
       "      <td>1</td>\n",
       "      <td>1</td>\n",
       "      <td>Tolima</td>\n",
       "      <td>ESPINAL</td>\n",
       "      <td>1</td>\n",
       "      <td>1</td>\n",
       "      <td>2.0</td>\n",
       "      <td>...</td>\n",
       "      <td>2</td>\n",
       "      <td>NaN</td>\n",
       "      <td>NaN</td>\n",
       "      <td>NaN</td>\n",
       "      <td>NaN</td>\n",
       "      <td>NaN</td>\n",
       "      <td>NaN</td>\n",
       "      <td>NaN</td>\n",
       "      <td>NaN</td>\n",
       "      <td>NaN</td>\n",
       "    </tr>\n",
       "  </tbody>\n",
       "</table>\n",
       "<p>5 rows × 57 columns</p>\n",
       "</div>"
      ],
      "text/plain": [
       "   directorio  per_sexo  per_edad  vive_padre_hogar  vive_madre_hogar  \\\n",
       "0       11207         1        19                 2                 2   \n",
       "1        1180         2        51                 2                 1   \n",
       "2        4398         1        52                 3                 3   \n",
       "3        4399         2        39                 1                 1   \n",
       "4        2619         2        27                 1                 1   \n",
       "\n",
       "  departamento              municipio  tipo_vivienda  servicio_energia  \\\n",
       "0     Guaviare  SAN JOSÉ DEL GUAVIARE              2                 1   \n",
       "1      Cordoba               MONTERÍA              1                 1   \n",
       "2      Caqueta              FLORENCIA              1                 1   \n",
       "3      Bolivar              CARTAGENA              1                 1   \n",
       "4       Tolima                ESPINAL              1                 1   \n",
       "\n",
       "   estrato  ...  g_11_j_consumio_alguna_vez_heroina  \\\n",
       "0      2.0  ...                                   2   \n",
       "1      1.0  ...                                   2   \n",
       "2      2.0  ...                                   2   \n",
       "3      5.0  ...                                   2   \n",
       "4      2.0  ...                                   2   \n",
       "\n",
       "   g_11_j_anios_consumio_heroina  k_03_consumio_marihuana_12m  \\\n",
       "0                            NaN                          NaN   \n",
       "1                            NaN                          NaN   \n",
       "2                            NaN                          NaN   \n",
       "3                            NaN                          NaN   \n",
       "4                            NaN                          NaN   \n",
       "\n",
       "   k_04_frecuencia_consumo_marihuana_12m  l_02_consumio_cocaina_12m  \\\n",
       "0                                    NaN                        NaN   \n",
       "1                                    NaN                        NaN   \n",
       "2                                    NaN                        NaN   \n",
       "3                                    NaN                        NaN   \n",
       "4                                    NaN                        NaN   \n",
       "\n",
       "   l_03_frecuencia_consumo_cocaina_12m  m_02_consumio_basuco_12m  \\\n",
       "0                                  NaN                       NaN   \n",
       "1                                  NaN                       NaN   \n",
       "2                                  NaN                       NaN   \n",
       "3                                  NaN                       NaN   \n",
       "4                                  NaN                       NaN   \n",
       "\n",
       "   m_03_frecuencia_consumo_basuco_12m  0_02_consumio_heroina_12m  \\\n",
       "0                                 NaN                        NaN   \n",
       "1                                 NaN                        NaN   \n",
       "2                                 NaN                        NaN   \n",
       "3                                 NaN                        NaN   \n",
       "4                                 NaN                        NaN   \n",
       "\n",
       "   0_03_frecuencia_consumo_heroina_12m  \n",
       "0                                  NaN  \n",
       "1                                  NaN  \n",
       "2                                  NaN  \n",
       "3                                  NaN  \n",
       "4                                  NaN  \n",
       "\n",
       "[5 rows x 57 columns]"
      ]
     },
     "execution_count": 6,
     "metadata": {},
     "output_type": "execute_result"
    }
   ],
   "source": [
    "df_consumo.head()"
   ]
  },
  {
   "cell_type": "markdown",
   "metadata": {},
   "source": [
    "Es conveniente renombrar las columnas y darles un nombre descriptivo"
   ]
  },
  {
   "cell_type": "code",
   "execution_count": 7,
   "metadata": {},
   "outputs": [
    {
     "data": {
      "text/plain": [
       "directorio                                        int64\n",
       "per_sexo                                          int64\n",
       "per_edad                                          int64\n",
       "vive_padre_hogar                                  int64\n",
       "vive_madre_hogar                                  int64\n",
       "departamento                                     object\n",
       "municipio                                        object\n",
       "tipo_vivienda                                     int64\n",
       "servicio_energia                                  int64\n",
       "estrato                                         float64\n",
       "residentes_hogar                                  int64\n",
       "d_01_aporta_dinero_hogar                          int64\n",
       "d_02_situacion_actual                             int64\n",
       "d_08_estado_salud                                 int64\n",
       "d_09_deprimido                                    int64\n",
       "d_10_poco_interes                                 int64\n",
       "d_11_h_riesgo_fumar_marihuana_frecuentemente      int64\n",
       "d_11_k_riesgo_cocaina_frecuentemente              int64\n",
       "d_11_n_riesgo_fumar_basuco_frecuentemente         int64\n",
       "d_12_b_consumo_sp_barrio                          int64\n",
       "d_12_c_expendio_sp_barrio                         int64\n",
       "d2_01_etnia                                       int64\n",
       "d2_03_estado_civil                                int64\n",
       "d2_04_num_hijos                                   int64\n",
       "d2_05_nivel_educativo                             int64\n",
       "g_01_familiares_consumen_sp                       int64\n",
       "g_01_a_num_familiares_consumen_sp               float64\n",
       "g_02_amigos_consumen_sp                           int64\n",
       "g_02_a_num_amigos_consumen_sp                   float64\n",
       "g_03_curiosidad_probar_sp                         int64\n",
       "g_04_probaria_sp                                  int64\n",
       "g_05_posibilidad_probar_sp                        int64\n",
       "g_06_a_posibilidad_conseguir_marihuana            int64\n",
       "g_06_b_posibilidad_conseguir_cocaina              int64\n",
       "g_06_c_posibilidad_conseguir_basuco               int64\n",
       "g_06_j_posibilidad_conseguir_heroina              int64\n",
       "g_07_alguien_ofrecio_comprar_probar_sp            int64\n",
       "g_08_a_ofrecieron_marihuana                     float64\n",
       "g_08_b_ofrecieron_cocaina                       float64\n",
       "g_08_c_ofrecieron_basuco                        float64\n",
       "g_08_e_ofrecieron_heroina                       float64\n",
       "g_11_f_consumio_alguna_vez_marihuana              int64\n",
       "g_11_f_anios_consumio_marihuana                 float64\n",
       "g_11_g_consumio_alguna_vez_cocaina                int64\n",
       "g_11_g_anios_consumio_cocaina                   float64\n",
       "g_11_h_consumio_alguna_vez_basuco                 int64\n",
       "g_11_h_anios_consumio_basuco                    float64\n",
       "g_11_j_consumio_alguna_vez_heroina                int64\n",
       "g_11_j_anios_consumio_heroina                   float64\n",
       "k_03_consumio_marihuana_12m                     float64\n",
       "k_04_frecuencia_consumo_marihuana_12m           float64\n",
       "l_02_consumio_cocaina_12m                       float64\n",
       "l_03_frecuencia_consumo_cocaina_12m             float64\n",
       "m_02_consumio_basuco_12m                        float64\n",
       "m_03_frecuencia_consumo_basuco_12m              float64\n",
       "0_02_consumio_heroina_12m                       float64\n",
       "0_03_frecuencia_consumo_heroina_12m             float64\n",
       "dtype: object"
      ]
     },
     "execution_count": 7,
     "metadata": {},
     "output_type": "execute_result"
    }
   ],
   "source": [
    "df_consumo.dtypes"
   ]
  },
  {
   "cell_type": "code",
   "execution_count": 8,
   "metadata": {},
   "outputs": [],
   "source": [
    "df_consumo = df_consumo.rename(columns={\n",
    "    \"d_11_h_riesgo_fumar_marihuana_frecuentemente\":\"d_11_h_conocimiento_riesgo_fumar_marihuana_frecuentemente\",\n",
    "    \"d_11_k_riesgo_cocaina_frecuentemente\":\"d_11_k_conocimiento_riesgo_cocaina_frecuentemente\",\n",
    "    \"d_11_n_riesgo_fumar_basuco_frecuentemente\":\"d_11_n_conocimiento_riesgo_fumar_basuco_frecuentemente\",\n",
    "    \"d_12_b_consumo_sp_barrio\":\"d_12_b_presenta_problema_consumo_sp_barrio\",\n",
    "    \"d_12_c_expendio_sp_barrio\":\"d_12_c_presenta_problema_expendio_sp_barrio\",\n",
    "    \"0_02_consumio_heroina_12m\":\"o_02_consumio_heroina_12m\",\n",
    "    \"0_03_frecuencia_consumo_heroina_12m\":\"o_03_frecuencia_consumo_heroina_12m\",\n",
    "})"
   ]
  },
  {
   "cell_type": "code",
   "execution_count": 9,
   "metadata": {},
   "outputs": [
    {
     "data": {
      "text/plain": [
       "directorio                                                     int64\n",
       "per_sexo                                                       int64\n",
       "per_edad                                                       int64\n",
       "vive_padre_hogar                                               int64\n",
       "vive_madre_hogar                                               int64\n",
       "departamento                                                  object\n",
       "municipio                                                     object\n",
       "tipo_vivienda                                                  int64\n",
       "servicio_energia                                               int64\n",
       "estrato                                                      float64\n",
       "residentes_hogar                                               int64\n",
       "d_01_aporta_dinero_hogar                                       int64\n",
       "d_02_situacion_actual                                          int64\n",
       "d_08_estado_salud                                              int64\n",
       "d_09_deprimido                                                 int64\n",
       "d_10_poco_interes                                              int64\n",
       "d_11_h_conocimiento_riesgo_fumar_marihuana_frecuentemente      int64\n",
       "d_11_k_conocimiento_riesgo_cocaina_frecuentemente              int64\n",
       "d_11_n_conocimiento_riesgo_fumar_basuco_frecuentemente         int64\n",
       "d_12_b_presenta_problema_consumo_sp_barrio                     int64\n",
       "d_12_c_presenta_problema_expendio_sp_barrio                    int64\n",
       "d2_01_etnia                                                    int64\n",
       "d2_03_estado_civil                                             int64\n",
       "d2_04_num_hijos                                                int64\n",
       "d2_05_nivel_educativo                                          int64\n",
       "g_01_familiares_consumen_sp                                    int64\n",
       "g_01_a_num_familiares_consumen_sp                            float64\n",
       "g_02_amigos_consumen_sp                                        int64\n",
       "g_02_a_num_amigos_consumen_sp                                float64\n",
       "g_03_curiosidad_probar_sp                                      int64\n",
       "g_04_probaria_sp                                               int64\n",
       "g_05_posibilidad_probar_sp                                     int64\n",
       "g_06_a_posibilidad_conseguir_marihuana                         int64\n",
       "g_06_b_posibilidad_conseguir_cocaina                           int64\n",
       "g_06_c_posibilidad_conseguir_basuco                            int64\n",
       "g_06_j_posibilidad_conseguir_heroina                           int64\n",
       "g_07_alguien_ofrecio_comprar_probar_sp                         int64\n",
       "g_08_a_ofrecieron_marihuana                                  float64\n",
       "g_08_b_ofrecieron_cocaina                                    float64\n",
       "g_08_c_ofrecieron_basuco                                     float64\n",
       "g_08_e_ofrecieron_heroina                                    float64\n",
       "g_11_f_consumio_alguna_vez_marihuana                           int64\n",
       "g_11_f_anios_consumio_marihuana                              float64\n",
       "g_11_g_consumio_alguna_vez_cocaina                             int64\n",
       "g_11_g_anios_consumio_cocaina                                float64\n",
       "g_11_h_consumio_alguna_vez_basuco                              int64\n",
       "g_11_h_anios_consumio_basuco                                 float64\n",
       "g_11_j_consumio_alguna_vez_heroina                             int64\n",
       "g_11_j_anios_consumio_heroina                                float64\n",
       "k_03_consumio_marihuana_12m                                  float64\n",
       "k_04_frecuencia_consumo_marihuana_12m                        float64\n",
       "l_02_consumio_cocaina_12m                                    float64\n",
       "l_03_frecuencia_consumo_cocaina_12m                          float64\n",
       "m_02_consumio_basuco_12m                                     float64\n",
       "m_03_frecuencia_consumo_basuco_12m                           float64\n",
       "o_02_consumio_heroina_12m                                    float64\n",
       "o_03_frecuencia_consumo_heroina_12m                          float64\n",
       "dtype: object"
      ]
     },
     "execution_count": 9,
     "metadata": {},
     "output_type": "execute_result"
    }
   ],
   "source": [
    "df_consumo.dtypes"
   ]
  },
  {
   "cell_type": "markdown",
   "metadata": {},
   "source": [
    "**¿Cual es el objetivo de este análisis?**\n",
    "\n",
    "Un aspecto importante que me gusta siempre tener claro al empezar un EDA es saber el objetivo del mismo. Generalmente hay una lista de preguntas concretas que responder, o al menos las personas a cargo de recolectar el dataset lo crearon con un objetivo en mente.\n",
    "\n",
    "En este caso, uno de los objetivos por los cuales la EPA crea este dataset es para identificar factores de riesgo relacionadas al consumo de sustancias por parte de las personas, \n",
    "\n",
    "\n",
    "en este caso las variables que miden el consumo de marihuana, cocaina y bazuco"
   ]
  },
  {
   "cell_type": "markdown",
   "metadata": {},
   "source": [
    "### Descripcion de entidad\n",
    "\n",
    "- Departamento-municipio\n",
    "- tipo_vivienda-servicio_energia\n",
    "- tipo_vivienda-estrato\n",
    "- tipo_vivienda-residentes_hogar"
   ]
  },
  {
   "cell_type": "markdown",
   "metadata": {},
   "source": [
    "### Despues de cada paso es importante guardar el dataset. Asi no modificamos el original"
   ]
  },
  {
   "cell_type": "code",
   "execution_count": 10,
   "metadata": {},
   "outputs": [],
   "source": [
    "df_consumo.to_csv(\"Data/df_consumo.1.procesado_inicial.csv\", index=False)"
   ]
  },
  {
   "cell_type": "code",
   "execution_count": null,
   "metadata": {},
   "outputs": [],
   "source": []
  }
 ],
 "metadata": {
  "kernelspec": {
   "display_name": "Python 3 (ipykernel)",
   "language": "python",
   "name": "python3"
  },
  "language_info": {
   "codemirror_mode": {
    "name": "ipython",
    "version": 3
   },
   "file_extension": ".py",
   "mimetype": "text/x-python",
   "name": "python",
   "nbconvert_exporter": "python",
   "pygments_lexer": "ipython3",
   "version": "3.11.4"
  }
 },
 "nbformat": 4,
 "nbformat_minor": 2
}
