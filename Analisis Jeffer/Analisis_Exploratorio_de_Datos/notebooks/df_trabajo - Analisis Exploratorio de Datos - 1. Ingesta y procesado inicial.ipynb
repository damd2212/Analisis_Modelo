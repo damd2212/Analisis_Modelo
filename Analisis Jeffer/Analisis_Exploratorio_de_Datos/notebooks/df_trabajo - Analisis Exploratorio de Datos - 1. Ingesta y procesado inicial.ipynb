{
 "cells": [
  {
   "cell_type": "markdown",
   "metadata": {},
   "source": [
    "En esta sección vamos a hacer un ejemplo completo de como hacer un Análisis Exploratorio de Datos (EDA en inglés).\n",
    "\n",
    "Hoy en dia no hay un proceso standard a la hora de realizar EDA, pero un proceso que a mi me gusta está basado en el proceso propuesto por Distric Data Labs ([aquí](http://blog.districtdatalabs.com/data-exploration-with-python-1) un blog post, y [aquí](https://www.youtube.com/watch?v=YEBRkLo568Q) una charla sobre el proceso)."
   ]
  },
  {
   "cell_type": "code",
   "execution_count": 1,
   "metadata": {},
   "outputs": [
    {
     "name": "stdout",
     "output_type": "stream",
     "text": [
      "Last updated: 2023-06-05T11:56:13.962164-05:00\n",
      "\n",
      "Python implementation: CPython\n",
      "Python version       : 3.10.9\n",
      "IPython version      : 8.10.0\n",
      "\n",
      "Compiler    : MSC v.1916 64 bit (AMD64)\n",
      "OS          : Windows\n",
      "Release     : 10\n",
      "Machine     : AMD64\n",
      "Processor   : Intel64 Family 6 Model 165 Stepping 2, GenuineIntel\n",
      "CPU cores   : 8\n",
      "Architecture: 64bit\n",
      "\n"
     ]
    }
   ],
   "source": [
    "%load_ext watermark\n",
    "%watermark"
   ]
  },
  {
   "cell_type": "markdown",
   "metadata": {},
   "source": [
    "El archivo original está en: https://www.fueleconomy.gov/feg/epadata/vehicles.csv.zip\n",
    "El archivo que vamos a usar es una versión modificada (con menos columnas)\n",
    "\n",
    "Descripcion del dataset\n",
    "http://www.fueleconomy.gov/feg/ws/index.shtml#ft7\n",
    "\n",
    "\n",
    "Supongamos que somos la agencia de porteccion ambiental americana, la EPA. Uno de sus trabajos es analizar los coches nuevos que se venden en EEUU y estudiar su contaminacion."
   ]
  },
  {
   "cell_type": "code",
   "execution_count": 2,
   "metadata": {},
   "outputs": [],
   "source": [
    "import pandas as pd"
   ]
  },
  {
   "cell_type": "code",
   "execution_count": 3,
   "metadata": {},
   "outputs": [],
   "source": [
    "%matplotlib notebook"
   ]
  },
  {
   "cell_type": "markdown",
   "metadata": {},
   "source": [
    "### Lectura de datos"
   ]
  },
  {
   "cell_type": "code",
   "execution_count": 4,
   "metadata": {},
   "outputs": [],
   "source": [
    "df_consumo_trabajo = pd.read_csv(\"Data/dataset-final-trabajo.csv\")"
   ]
  },
  {
   "cell_type": "code",
   "execution_count": 5,
   "metadata": {},
   "outputs": [
    {
     "data": {
      "text/plain": [
       "(28691, 59)"
      ]
     },
     "execution_count": 5,
     "metadata": {},
     "output_type": "execute_result"
    }
   ],
   "source": [
    "df_consumo_trabajo.shape"
   ]
  },
  {
   "cell_type": "code",
   "execution_count": 6,
   "metadata": {},
   "outputs": [
    {
     "data": {
      "text/html": [
       "<div>\n",
       "<style scoped>\n",
       "    .dataframe tbody tr th:only-of-type {\n",
       "        vertical-align: middle;\n",
       "    }\n",
       "\n",
       "    .dataframe tbody tr th {\n",
       "        vertical-align: top;\n",
       "    }\n",
       "\n",
       "    .dataframe thead th {\n",
       "        text-align: right;\n",
       "    }\n",
       "</style>\n",
       "<table border=\"1\" class=\"dataframe\">\n",
       "  <thead>\n",
       "    <tr style=\"text-align: right;\">\n",
       "      <th></th>\n",
       "      <th>directorio</th>\n",
       "      <th>per_sexo</th>\n",
       "      <th>per_edad</th>\n",
       "      <th>vive_padre_hogar</th>\n",
       "      <th>vive_madre_hogar</th>\n",
       "      <th>departamento</th>\n",
       "      <th>municipio</th>\n",
       "      <th>tipo_vivienda</th>\n",
       "      <th>servicio_energia</th>\n",
       "      <th>estrato</th>\n",
       "      <th>...</th>\n",
       "      <th>r_01_accidente_laboral</th>\n",
       "      <th>r_02_consumio_sp_en_accidente_laboral</th>\n",
       "      <th>r_03_estuvo_enfermo_accidentado_ult_30d</th>\n",
       "      <th>r_04_consecuencia_sp</th>\n",
       "      <th>r_05_existe_reglamento_sp_trabajo</th>\n",
       "      <th>r_06_prevencion_sp_trabajo</th>\n",
       "      <th>r_07_programa_ayuda_sp</th>\n",
       "      <th>r_08_c_consumo_marihuana_trabajo</th>\n",
       "      <th>r_08_d_consumo_cocaina_trabajo</th>\n",
       "      <th>r_09_rendimiento_disminuido_trabajo</th>\n",
       "    </tr>\n",
       "  </thead>\n",
       "  <tbody>\n",
       "    <tr>\n",
       "      <th>0</th>\n",
       "      <td>3</td>\n",
       "      <td>1</td>\n",
       "      <td>54</td>\n",
       "      <td>3</td>\n",
       "      <td>2</td>\n",
       "      <td>Boyaca</td>\n",
       "      <td>TUNJA</td>\n",
       "      <td>2</td>\n",
       "      <td>1</td>\n",
       "      <td>3.0</td>\n",
       "      <td>...</td>\n",
       "      <td>2</td>\n",
       "      <td>NaN</td>\n",
       "      <td>0</td>\n",
       "      <td>NaN</td>\n",
       "      <td>2</td>\n",
       "      <td>2</td>\n",
       "      <td>2</td>\n",
       "      <td>9</td>\n",
       "      <td>9</td>\n",
       "      <td>2</td>\n",
       "    </tr>\n",
       "    <tr>\n",
       "      <th>1</th>\n",
       "      <td>6</td>\n",
       "      <td>2</td>\n",
       "      <td>46</td>\n",
       "      <td>2</td>\n",
       "      <td>2</td>\n",
       "      <td>Sucre</td>\n",
       "      <td>COROZAL</td>\n",
       "      <td>1</td>\n",
       "      <td>1</td>\n",
       "      <td>1.0</td>\n",
       "      <td>...</td>\n",
       "      <td>2</td>\n",
       "      <td>NaN</td>\n",
       "      <td>0</td>\n",
       "      <td>NaN</td>\n",
       "      <td>2</td>\n",
       "      <td>2</td>\n",
       "      <td>2</td>\n",
       "      <td>9</td>\n",
       "      <td>9</td>\n",
       "      <td>2</td>\n",
       "    </tr>\n",
       "    <tr>\n",
       "      <th>2</th>\n",
       "      <td>7</td>\n",
       "      <td>1</td>\n",
       "      <td>33</td>\n",
       "      <td>2</td>\n",
       "      <td>2</td>\n",
       "      <td>Sucre</td>\n",
       "      <td>COROZAL</td>\n",
       "      <td>1</td>\n",
       "      <td>1</td>\n",
       "      <td>1.0</td>\n",
       "      <td>...</td>\n",
       "      <td>2</td>\n",
       "      <td>NaN</td>\n",
       "      <td>0</td>\n",
       "      <td>NaN</td>\n",
       "      <td>1</td>\n",
       "      <td>1</td>\n",
       "      <td>1</td>\n",
       "      <td>9</td>\n",
       "      <td>9</td>\n",
       "      <td>9</td>\n",
       "    </tr>\n",
       "    <tr>\n",
       "      <th>3</th>\n",
       "      <td>8</td>\n",
       "      <td>2</td>\n",
       "      <td>33</td>\n",
       "      <td>2</td>\n",
       "      <td>2</td>\n",
       "      <td>Cordoba</td>\n",
       "      <td>MONTERÍA</td>\n",
       "      <td>2</td>\n",
       "      <td>1</td>\n",
       "      <td>3.0</td>\n",
       "      <td>...</td>\n",
       "      <td>2</td>\n",
       "      <td>NaN</td>\n",
       "      <td>0</td>\n",
       "      <td>NaN</td>\n",
       "      <td>9</td>\n",
       "      <td>2</td>\n",
       "      <td>9</td>\n",
       "      <td>9</td>\n",
       "      <td>9</td>\n",
       "      <td>2</td>\n",
       "    </tr>\n",
       "    <tr>\n",
       "      <th>4</th>\n",
       "      <td>11</td>\n",
       "      <td>2</td>\n",
       "      <td>27</td>\n",
       "      <td>2</td>\n",
       "      <td>2</td>\n",
       "      <td>Cordoba</td>\n",
       "      <td>MONTERÍA</td>\n",
       "      <td>2</td>\n",
       "      <td>1</td>\n",
       "      <td>3.0</td>\n",
       "      <td>...</td>\n",
       "      <td>2</td>\n",
       "      <td>NaN</td>\n",
       "      <td>0</td>\n",
       "      <td>NaN</td>\n",
       "      <td>1</td>\n",
       "      <td>2</td>\n",
       "      <td>9</td>\n",
       "      <td>9</td>\n",
       "      <td>9</td>\n",
       "      <td>2</td>\n",
       "    </tr>\n",
       "  </tbody>\n",
       "</table>\n",
       "<p>5 rows × 59 columns</p>\n",
       "</div>"
      ],
      "text/plain": [
       "   directorio  per_sexo  per_edad  vive_padre_hogar  vive_madre_hogar  \\\n",
       "0           3         1        54                 3                 2   \n",
       "1           6         2        46                 2                 2   \n",
       "2           7         1        33                 2                 2   \n",
       "3           8         2        33                 2                 2   \n",
       "4          11         2        27                 2                 2   \n",
       "\n",
       "  departamento municipio  tipo_vivienda  servicio_energia  estrato  ...  \\\n",
       "0       Boyaca     TUNJA              2                 1      3.0  ...   \n",
       "1        Sucre   COROZAL              1                 1      1.0  ...   \n",
       "2        Sucre   COROZAL              1                 1      1.0  ...   \n",
       "3      Cordoba  MONTERÍA              2                 1      3.0  ...   \n",
       "4      Cordoba  MONTERÍA              2                 1      3.0  ...   \n",
       "\n",
       "   r_01_accidente_laboral  r_02_consumio_sp_en_accidente_laboral  \\\n",
       "0                       2                                    NaN   \n",
       "1                       2                                    NaN   \n",
       "2                       2                                    NaN   \n",
       "3                       2                                    NaN   \n",
       "4                       2                                    NaN   \n",
       "\n",
       "   r_03_estuvo_enfermo_accidentado_ult_30d  r_04_consecuencia_sp  \\\n",
       "0                                        0                   NaN   \n",
       "1                                        0                   NaN   \n",
       "2                                        0                   NaN   \n",
       "3                                        0                   NaN   \n",
       "4                                        0                   NaN   \n",
       "\n",
       "   r_05_existe_reglamento_sp_trabajo  r_06_prevencion_sp_trabajo  \\\n",
       "0                                  2                           2   \n",
       "1                                  2                           2   \n",
       "2                                  1                           1   \n",
       "3                                  9                           2   \n",
       "4                                  1                           2   \n",
       "\n",
       "   r_07_programa_ayuda_sp  r_08_c_consumo_marihuana_trabajo  \\\n",
       "0                       2                                 9   \n",
       "1                       2                                 9   \n",
       "2                       1                                 9   \n",
       "3                       9                                 9   \n",
       "4                       9                                 9   \n",
       "\n",
       "   r_08_d_consumo_cocaina_trabajo  r_09_rendimiento_disminuido_trabajo  \n",
       "0                               9                                    2  \n",
       "1                               9                                    2  \n",
       "2                               9                                    9  \n",
       "3                               9                                    2  \n",
       "4                               9                                    2  \n",
       "\n",
       "[5 rows x 59 columns]"
      ]
     },
     "execution_count": 6,
     "metadata": {},
     "output_type": "execute_result"
    }
   ],
   "source": [
    "df_consumo_trabajo.head()"
   ]
  },
  {
   "cell_type": "markdown",
   "metadata": {},
   "source": [
    "Es conveniente renombrar las columnas y darles un nombre descriptivo"
   ]
  },
  {
   "cell_type": "code",
   "execution_count": 7,
   "metadata": {},
   "outputs": [
    {
     "data": {
      "text/plain": [
       "directorio                                        int64\n",
       "per_sexo                                          int64\n",
       "per_edad                                          int64\n",
       "vive_padre_hogar                                  int64\n",
       "vive_madre_hogar                                  int64\n",
       "departamento                                     object\n",
       "municipio                                        object\n",
       "tipo_vivienda                                     int64\n",
       "servicio_energia                                  int64\n",
       "estrato                                         float64\n",
       "residentes_hogar                                  int64\n",
       "d_01_aporta_dinero_hogar                          int64\n",
       "d_03_actividad_economica_empresa_negocio          int64\n",
       "d_04_cargo                                        int64\n",
       "d_08_estado_salud                                 int64\n",
       "d_09_deprimido                                    int64\n",
       "d_10_poco_interes                                 int64\n",
       "d_11_h_riesgo_fumar_marihuana_frecuentemente      int64\n",
       "d_11_k_riesgo_cocaina_frecuentemente              int64\n",
       "d_11_n_riesgo_fumar_basuco_frecuentemente         int64\n",
       "d_12_b_consumo_sp_barrio                          int64\n",
       "d_12_c_expendio_sp_barrio                         int64\n",
       "d2_01_etnia                                       int64\n",
       "d2_03_estado_civil                                int64\n",
       "d2_04_num_hijos                                   int64\n",
       "d2_05_nivel_educativo                             int64\n",
       "g_01_familiares_consumen_sp                       int64\n",
       "g_01_a_num_familiares_consumen_sp               float64\n",
       "g_02_amigos_consumen_sp                           int64\n",
       "g_02_a_num_amigos_consumen_sp                   float64\n",
       "g_03_curiosidad_probar_sp                         int64\n",
       "g_05_posibilidad_probar_sp                        int64\n",
       "g_06_a_posibilidad_conseguir_marihuana            int64\n",
       "g_06_b_posibilidad_conseguir_cocaina              int64\n",
       "g_06_c_posibilidad_conseguir_basuco               int64\n",
       "g_06_j_posibilidad_conseguir_heroina              int64\n",
       "g_07_alguien_ofrecio_comprar_probar_sp            int64\n",
       "g_08_a_ofrecieron_marihuana                     float64\n",
       "g_08_b_ofrecieron_cocaina                       float64\n",
       "g_08_c_ofrecieron_basuco                        float64\n",
       "g_08_e_ofrecieron_heroina                       float64\n",
       "g_11_f_consumio_alguna_vez_marihuana              int64\n",
       "g_11_f_anios_consumio_marihuana                 float64\n",
       "g_11_g_consumio_alguna_vez_cocaina                int64\n",
       "g_11_g_anios_consumio_cocaina                   float64\n",
       "g_11_h_consumio_alguna_vez_basuco                 int64\n",
       "g_11_h_anios_consumio_basuco                    float64\n",
       "g_11_j_consumio_alguna_vez_heroina                int64\n",
       "g_11_j_anios_consumio_heroina                   float64\n",
       "r_01_accidente_laboral                            int64\n",
       "r_02_consumio_sp_en_accidente_laboral           float64\n",
       "r_03_estuvo_enfermo_accidentado_ult_30d           int64\n",
       "r_04_consecuencia_sp                            float64\n",
       "r_05_existe_reglamento_sp_trabajo                 int64\n",
       "r_06_prevencion_sp_trabajo                        int64\n",
       "r_07_programa_ayuda_sp                            int64\n",
       "r_08_c_consumo_marihuana_trabajo                  int64\n",
       "r_08_d_consumo_cocaina_trabajo                    int64\n",
       "r_09_rendimiento_disminuido_trabajo               int64\n",
       "dtype: object"
      ]
     },
     "execution_count": 7,
     "metadata": {},
     "output_type": "execute_result"
    }
   ],
   "source": [
    "df_consumo_trabajo.dtypes"
   ]
  },
  {
   "cell_type": "code",
   "execution_count": 8,
   "metadata": {},
   "outputs": [],
   "source": [
    "df_consumo_trabajo = df_consumo_trabajo.rename(columns={\n",
    "    \"d_11_h_riesgo_fumar_marihuana_frecuentemente\":\"d_11_h_conocimiento_riesgo_fumar_marihuana_frecuentemente\",\n",
    "    \"d_11_k_riesgo_cocaina_frecuentemente\":\"d_11_k_conocimiento_riesgo_cocaina_frecuentemente\",\n",
    "    \"d_11_n_riesgo_fumar_basuco_frecuentemente\":\"d_11_n_conocimiento_riesgo_fumar_basuco_frecuentemente\",\n",
    "    \"d_12_b_consumo_sp_barrio\":\"d_12_b_presenta_problemas_consumo_sp_barrio\",\n",
    "    \"d_12_c_expendio_sp_barrio\":\"d_12_c_presenta_problemas_expendio_sp_barrio\",\n",
    "    \"r_04_consecuencia_sp\":\"r_04_consecuencia_sp_r_03\",\n",
    "    \"r_07_programa_ayuda_sp\":\"r_07_programa_ayuda_sp_trabajo\",\n",
    "    \"r_08_c_consumo_marihuana_trabajo\":\"r_08_c_consumo_marihuana_en_trabajo\",\n",
    "    \"r_08_d_consumo_cocaina_trabajo\":\"r_08_d_consumo_cocaina_en_trabajo\",\n",
    "})"
   ]
  },
  {
   "cell_type": "code",
   "execution_count": 10,
   "metadata": {},
   "outputs": [
    {
     "data": {
      "text/plain": [
       "directorio                                                     int64\n",
       "per_sexo                                                       int64\n",
       "per_edad                                                       int64\n",
       "vive_padre_hogar                                               int64\n",
       "vive_madre_hogar                                               int64\n",
       "departamento                                                  object\n",
       "municipio                                                     object\n",
       "tipo_vivienda                                                  int64\n",
       "servicio_energia                                               int64\n",
       "estrato                                                      float64\n",
       "residentes_hogar                                               int64\n",
       "d_01_aporta_dinero_hogar                                       int64\n",
       "d_03_actividad_economica_empresa_negocio                       int64\n",
       "d_04_cargo                                                     int64\n",
       "d_08_estado_salud                                              int64\n",
       "d_09_deprimido                                                 int64\n",
       "d_10_poco_interes                                              int64\n",
       "d_11_h_conocimiento_riesgo_fumar_marihuana_frecuentemente      int64\n",
       "d_11_k_conocimiento_riesgo_cocaina_frecuentemente              int64\n",
       "d_11_n_conocimiento_riesgo_fumar_basuco_frecuentemente         int64\n",
       "d_12_b_presenta_problemas_consumo_sp_barrio                    int64\n",
       "d_12_c_presenta_problemas_expendio_sp_barrio                   int64\n",
       "d2_01_etnia                                                    int64\n",
       "d2_03_estado_civil                                             int64\n",
       "d2_04_num_hijos                                                int64\n",
       "d2_05_nivel_educativo                                          int64\n",
       "g_01_familiares_consumen_sp                                    int64\n",
       "g_01_a_num_familiares_consumen_sp                            float64\n",
       "g_02_amigos_consumen_sp                                        int64\n",
       "g_02_a_num_amigos_consumen_sp                                float64\n",
       "g_03_curiosidad_probar_sp                                      int64\n",
       "g_05_posibilidad_probar_sp                                     int64\n",
       "g_06_a_posibilidad_conseguir_marihuana                         int64\n",
       "g_06_b_posibilidad_conseguir_cocaina                           int64\n",
       "g_06_c_posibilidad_conseguir_basuco                            int64\n",
       "g_06_j_posibilidad_conseguir_heroina                           int64\n",
       "g_07_alguien_ofrecio_comprar_probar_sp                         int64\n",
       "g_08_a_ofrecieron_marihuana                                  float64\n",
       "g_08_b_ofrecieron_cocaina                                    float64\n",
       "g_08_c_ofrecieron_basuco                                     float64\n",
       "g_08_e_ofrecieron_heroina                                    float64\n",
       "g_11_f_consumio_alguna_vez_marihuana                           int64\n",
       "g_11_f_anios_consumio_marihuana                              float64\n",
       "g_11_g_consumio_alguna_vez_cocaina                             int64\n",
       "g_11_g_anios_consumio_cocaina                                float64\n",
       "g_11_h_consumio_alguna_vez_basuco                              int64\n",
       "g_11_h_anios_consumio_basuco                                 float64\n",
       "g_11_j_consumio_alguna_vez_heroina                             int64\n",
       "g_11_j_anios_consumio_heroina                                float64\n",
       "r_01_accidente_laboral                                         int64\n",
       "r_02_consumio_sp_en_accidente_laboral                        float64\n",
       "r_03_estuvo_enfermo_accidentado_ult_30d                        int64\n",
       "r_04_consecuencia_sp_r_03                                    float64\n",
       "r_05_existe_reglamento_sp_trabajo                              int64\n",
       "r_06_prevencion_sp_trabajo                                     int64\n",
       "r_07_programa_ayuda_sp_trabajo                                 int64\n",
       "r_08_c_consumo_marihuana_en_trabajo                            int64\n",
       "r_08_d_consumo_cocaina_en_trabajo                              int64\n",
       "r_09_rendimiento_disminuido_trabajo                            int64\n",
       "dtype: object"
      ]
     },
     "execution_count": 10,
     "metadata": {},
     "output_type": "execute_result"
    }
   ],
   "source": [
    "df_consumo_trabajo.dtypes"
   ]
  },
  {
   "cell_type": "markdown",
   "metadata": {},
   "source": [
    "**¿Cual es el objetivo de este análisis?**\n",
    "\n",
    "Un aspecto importante que me gusta siempre tener claro al empezar un EDA es saber el objetivo del mismo. Generalmente hay una lista de preguntas concretas que responder, o al menos las personas a cargo de recolectar el dataset lo crearon con un objetivo en mente.\n",
    "\n",
    "En este caso, uno de los objetivos por los cuales la EPA crea este dataset es para identificar factores de riesgo relacionadas al consumo de sustancias por parte de las personas, \n",
    "\n",
    "\n",
    "en este caso las variables que miden el consumo de marihuana, cocaina y bazuco"
   ]
  },
  {
   "cell_type": "markdown",
   "metadata": {},
   "source": [
    "### Descripcion de entidad\n",
    "\n",
    "- Departamento-municipio\n",
    "- tipo_vivienda-servicio_energia\n",
    "- tipo_vivienda-estrato\n",
    "- tipo_vivienda-residentes_hogar"
   ]
  },
  {
   "cell_type": "markdown",
   "metadata": {},
   "source": [
    "### Despues de cada paso es importante guardar el dataset. Asi no modificamos el original"
   ]
  },
  {
   "cell_type": "code",
   "execution_count": 9,
   "metadata": {},
   "outputs": [],
   "source": [
    "df_consumo_trabajo.to_csv(\"Data/df_consumo_trabajo.1.procesado_inicial.csv\", index=False)"
   ]
  },
  {
   "cell_type": "code",
   "execution_count": null,
   "metadata": {},
   "outputs": [],
   "source": []
  }
 ],
 "metadata": {
  "kernelspec": {
   "display_name": "Python 3 (ipykernel)",
   "language": "python",
   "name": "python3"
  },
  "language_info": {
   "codemirror_mode": {
    "name": "ipython",
    "version": 3
   },
   "file_extension": ".py",
   "mimetype": "text/x-python",
   "name": "python",
   "nbconvert_exporter": "python",
   "pygments_lexer": "ipython3",
   "version": "3.10.9"
  }
 },
 "nbformat": 4,
 "nbformat_minor": 2
}
