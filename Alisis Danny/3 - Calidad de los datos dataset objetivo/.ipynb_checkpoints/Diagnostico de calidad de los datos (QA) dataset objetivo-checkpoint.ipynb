{
 "cells": [
  {
   "cell_type": "code",
   "execution_count": 41,
   "metadata": {},
   "outputs": [
    {
     "name": "stdout",
     "output_type": "stream",
     "text": [
      "The watermark extension is already loaded. To reload it, use:\n",
      "  %reload_ext watermark\n",
      "Last updated: 2023-09-10T19:39:15.214876-05:00\n",
      "\n",
      "Python implementation: CPython\n",
      "Python version       : 3.10.11\n",
      "IPython version      : 8.13.2\n",
      "\n",
      "Compiler    : MSC v.1916 64 bit (AMD64)\n",
      "OS          : Windows\n",
      "Release     : 10\n",
      "Machine     : AMD64\n",
      "Processor   : Intel64 Family 6 Model 158 Stepping 10, GenuineIntel\n",
      "CPU cores   : 8\n",
      "Architecture: 64bit\n",
      "\n"
     ]
    }
   ],
   "source": [
    "%load_ext watermark\n",
    "%watermark"
   ]
  },
  {
   "cell_type": "code",
   "execution_count": 42,
   "metadata": {},
   "outputs": [],
   "source": [
    "import pandas as pd\n",
    "import numpy as np"
   ]
  },
  {
   "cell_type": "markdown",
   "metadata": {},
   "source": [
    "La magia de matplotlib matplotlib notebook, es muy util para hacer plots mas visibles, pero es un poco complicada de usar ya que requiere el cerrar cada plot para poder continuar.\n",
    "\n",
    "Alternativamente, se puede usar la magia %matplotlib inline, que es más sencilla ya que simplemente muestra el gráfico original en el jupyter notebook. Para modificar el tamaño de los plots en este caso basta con cambiar el parámetro general de matplotlib figure.figsize al tamaño de gráfico deseado (en pulgadas)\n"
   ]
  },
  {
   "cell_type": "code",
   "execution_count": 43,
   "metadata": {},
   "outputs": [],
   "source": [
    "%matplotlib inline\n",
    "import matplotlib.pyplot as plt\n",
    "\n",
    "plt.rcParams['figure.figsize'] = (12,12) # 10 pulgadas de ancho y 10 de alto para todos los plots"
   ]
  },
  {
   "cell_type": "code",
   "execution_count": 44,
   "metadata": {},
   "outputs": [],
   "source": [
    "consumidores = pd.read_csv(\"C:/Users/Danny/Desktop/Analisis tesis/3 - Calidad de los datos dataset objetivo/data/df_consumo_varObjetivo.csv\")"
   ]
  },
  {
   "cell_type": "code",
   "execution_count": 45,
   "metadata": {},
   "outputs": [
    {
     "data": {
      "text/plain": [
       "(10000, 41)"
      ]
     },
     "execution_count": 45,
     "metadata": {},
     "output_type": "execute_result"
    }
   ],
   "source": [
    "consumidores.shape"
   ]
  },
  {
   "cell_type": "code",
   "execution_count": 46,
   "metadata": {},
   "outputs": [
    {
     "data": {
      "text/html": [
       "<div>\n",
       "<style scoped>\n",
       "    .dataframe tbody tr th:only-of-type {\n",
       "        vertical-align: middle;\n",
       "    }\n",
       "\n",
       "    .dataframe tbody tr th {\n",
       "        vertical-align: top;\n",
       "    }\n",
       "\n",
       "    .dataframe thead th {\n",
       "        text-align: right;\n",
       "    }\n",
       "</style>\n",
       "<table border=\"1\" class=\"dataframe\">\n",
       "  <thead>\n",
       "    <tr style=\"text-align: right;\">\n",
       "      <th></th>\n",
       "      <th>departamento</th>\n",
       "      <th>residentes_hogar</th>\n",
       "      <th>d2_04_num_hijos</th>\n",
       "      <th>per_edad_tipo</th>\n",
       "      <th>estrato_tipo</th>\n",
       "      <th>situacion_tipo</th>\n",
       "      <th>frecuencia_consumo_marihuana_tipo</th>\n",
       "      <th>frecuencia_consumo_cocaina_tipo</th>\n",
       "      <th>frecuencia_consumo_basuco_tipo</th>\n",
       "      <th>per_sexo_tipo</th>\n",
       "      <th>...</th>\n",
       "      <th>g_06_b_posibilidad_conseguir_cocaina_tipo</th>\n",
       "      <th>g_06_c_posibilidad_conseguir_basuco_tipo</th>\n",
       "      <th>g_07_alguien_ofrecio_comprar_probar_sp_tipo</th>\n",
       "      <th>g_01_a_num_familiares_consumen_sp_imp_tipo</th>\n",
       "      <th>g_02_a_num_amigos_consumen_sp_imp_tipo</th>\n",
       "      <th>g_08_a_ofrecieron_marihuana_imp_tipo</th>\n",
       "      <th>g_08_b_ofrecieron_cocaina_imp_tipo</th>\n",
       "      <th>g_08_c_ofrecieron_basuco_imp_tipo</th>\n",
       "      <th>RiesgoConsumo</th>\n",
       "      <th>ValorPCA</th>\n",
       "    </tr>\n",
       "  </thead>\n",
       "  <tbody>\n",
       "    <tr>\n",
       "      <th>0</th>\n",
       "      <td>Guaviare</td>\n",
       "      <td>5</td>\n",
       "      <td>0</td>\n",
       "      <td>Joven</td>\n",
       "      <td>Estrato bajo</td>\n",
       "      <td>Trabajando</td>\n",
       "      <td>Nunca</td>\n",
       "      <td>Nunca</td>\n",
       "      <td>Nunca</td>\n",
       "      <td>Hombre</td>\n",
       "      <td>...</td>\n",
       "      <td>g_06_b_No_conoce_facilidad_dificultad</td>\n",
       "      <td>g_06_c_No_conoce_facilidad_dificultad</td>\n",
       "      <td>g_07_No</td>\n",
       "      <td>g_01_a_No_aplica</td>\n",
       "      <td>g_02_a_Dos_o_mas</td>\n",
       "      <td>g_08_a_No_aplica</td>\n",
       "      <td>g_08_b_No_aplica</td>\n",
       "      <td>g_08_c_No_aplica</td>\n",
       "      <td>Bajo</td>\n",
       "      <td>-1.210353</td>\n",
       "    </tr>\n",
       "    <tr>\n",
       "      <th>1</th>\n",
       "      <td>Cordoba</td>\n",
       "      <td>4</td>\n",
       "      <td>3</td>\n",
       "      <td>Adulto</td>\n",
       "      <td>Estrato bajo</td>\n",
       "      <td>Trabajando</td>\n",
       "      <td>Nunca</td>\n",
       "      <td>Nunca</td>\n",
       "      <td>Nunca</td>\n",
       "      <td>Mujer</td>\n",
       "      <td>...</td>\n",
       "      <td>g_06_b_Seria_facil</td>\n",
       "      <td>g_06_c_Seria_facil</td>\n",
       "      <td>g_07_No</td>\n",
       "      <td>g_01_a_No_aplica</td>\n",
       "      <td>g_02_a_No_aplica</td>\n",
       "      <td>g_08_a_No_aplica</td>\n",
       "      <td>g_08_b_No_aplica</td>\n",
       "      <td>g_08_c_No_aplica</td>\n",
       "      <td>Bajo</td>\n",
       "      <td>-1.698516</td>\n",
       "    </tr>\n",
       "    <tr>\n",
       "      <th>2</th>\n",
       "      <td>Caqueta</td>\n",
       "      <td>4</td>\n",
       "      <td>2</td>\n",
       "      <td>Adulto</td>\n",
       "      <td>Estrato bajo</td>\n",
       "      <td>Trabajando</td>\n",
       "      <td>Nunca</td>\n",
       "      <td>Nunca</td>\n",
       "      <td>Nunca</td>\n",
       "      <td>Hombre</td>\n",
       "      <td>...</td>\n",
       "      <td>g_06_b_No_conoce_facilidad_dificultad</td>\n",
       "      <td>g_06_c_No_conoce_facilidad_dificultad</td>\n",
       "      <td>g_07_No</td>\n",
       "      <td>g_01_a_No_aplica</td>\n",
       "      <td>g_02_a_No_aplica</td>\n",
       "      <td>g_08_a_No_aplica</td>\n",
       "      <td>g_08_b_No_aplica</td>\n",
       "      <td>g_08_c_No_aplica</td>\n",
       "      <td>Bajo</td>\n",
       "      <td>-2.032479</td>\n",
       "    </tr>\n",
       "    <tr>\n",
       "      <th>3</th>\n",
       "      <td>Bolivar</td>\n",
       "      <td>6</td>\n",
       "      <td>0</td>\n",
       "      <td>Adulto</td>\n",
       "      <td>Estrato alto</td>\n",
       "      <td>Trabajando</td>\n",
       "      <td>Nunca</td>\n",
       "      <td>Nunca</td>\n",
       "      <td>Nunca</td>\n",
       "      <td>Mujer</td>\n",
       "      <td>...</td>\n",
       "      <td>g_06_b_No_podria_conseguir</td>\n",
       "      <td>g_06_c_No_podria_conseguir</td>\n",
       "      <td>g_07_No</td>\n",
       "      <td>g_01_a_No_aplica</td>\n",
       "      <td>g_02_a_No_aplica</td>\n",
       "      <td>g_08_a_No_aplica</td>\n",
       "      <td>g_08_b_No_aplica</td>\n",
       "      <td>g_08_c_No_aplica</td>\n",
       "      <td>Bajo</td>\n",
       "      <td>-1.803122</td>\n",
       "    </tr>\n",
       "    <tr>\n",
       "      <th>4</th>\n",
       "      <td>Tolima</td>\n",
       "      <td>4</td>\n",
       "      <td>1</td>\n",
       "      <td>Joven</td>\n",
       "      <td>Estrato bajo</td>\n",
       "      <td>Buscando trabajo</td>\n",
       "      <td>Nunca</td>\n",
       "      <td>Nunca</td>\n",
       "      <td>Nunca</td>\n",
       "      <td>Mujer</td>\n",
       "      <td>...</td>\n",
       "      <td>g_06_b_Seria_facil</td>\n",
       "      <td>g_06_c_Seria_facil</td>\n",
       "      <td>g_07_No</td>\n",
       "      <td>g_01_a_No_aplica</td>\n",
       "      <td>g_02_a_Dos_o_mas</td>\n",
       "      <td>g_08_a_No_aplica</td>\n",
       "      <td>g_08_b_No_aplica</td>\n",
       "      <td>g_08_c_No_aplica</td>\n",
       "      <td>Medio</td>\n",
       "      <td>-0.782395</td>\n",
       "    </tr>\n",
       "  </tbody>\n",
       "</table>\n",
       "<p>5 rows × 41 columns</p>\n",
       "</div>"
      ],
      "text/plain": [
       "  departamento  residentes_hogar  d2_04_num_hijos per_edad_tipo  estrato_tipo  \\\n",
       "0     Guaviare                 5                0         Joven  Estrato bajo   \n",
       "1      Cordoba                 4                3        Adulto  Estrato bajo   \n",
       "2      Caqueta                 4                2        Adulto  Estrato bajo   \n",
       "3      Bolivar                 6                0        Adulto  Estrato alto   \n",
       "4       Tolima                 4                1         Joven  Estrato bajo   \n",
       "\n",
       "     situacion_tipo frecuencia_consumo_marihuana_tipo  \\\n",
       "0        Trabajando                             Nunca   \n",
       "1        Trabajando                             Nunca   \n",
       "2        Trabajando                             Nunca   \n",
       "3        Trabajando                             Nunca   \n",
       "4  Buscando trabajo                             Nunca   \n",
       "\n",
       "  frecuencia_consumo_cocaina_tipo frecuencia_consumo_basuco_tipo  \\\n",
       "0                           Nunca                          Nunca   \n",
       "1                           Nunca                          Nunca   \n",
       "2                           Nunca                          Nunca   \n",
       "3                           Nunca                          Nunca   \n",
       "4                           Nunca                          Nunca   \n",
       "\n",
       "  per_sexo_tipo  ... g_06_b_posibilidad_conseguir_cocaina_tipo  \\\n",
       "0        Hombre  ...     g_06_b_No_conoce_facilidad_dificultad   \n",
       "1         Mujer  ...                        g_06_b_Seria_facil   \n",
       "2        Hombre  ...     g_06_b_No_conoce_facilidad_dificultad   \n",
       "3         Mujer  ...                g_06_b_No_podria_conseguir   \n",
       "4         Mujer  ...                        g_06_b_Seria_facil   \n",
       "\n",
       "  g_06_c_posibilidad_conseguir_basuco_tipo  \\\n",
       "0    g_06_c_No_conoce_facilidad_dificultad   \n",
       "1                       g_06_c_Seria_facil   \n",
       "2    g_06_c_No_conoce_facilidad_dificultad   \n",
       "3               g_06_c_No_podria_conseguir   \n",
       "4                       g_06_c_Seria_facil   \n",
       "\n",
       "  g_07_alguien_ofrecio_comprar_probar_sp_tipo  \\\n",
       "0                                     g_07_No   \n",
       "1                                     g_07_No   \n",
       "2                                     g_07_No   \n",
       "3                                     g_07_No   \n",
       "4                                     g_07_No   \n",
       "\n",
       "  g_01_a_num_familiares_consumen_sp_imp_tipo  \\\n",
       "0                           g_01_a_No_aplica   \n",
       "1                           g_01_a_No_aplica   \n",
       "2                           g_01_a_No_aplica   \n",
       "3                           g_01_a_No_aplica   \n",
       "4                           g_01_a_No_aplica   \n",
       "\n",
       "  g_02_a_num_amigos_consumen_sp_imp_tipo g_08_a_ofrecieron_marihuana_imp_tipo  \\\n",
       "0                       g_02_a_Dos_o_mas                     g_08_a_No_aplica   \n",
       "1                       g_02_a_No_aplica                     g_08_a_No_aplica   \n",
       "2                       g_02_a_No_aplica                     g_08_a_No_aplica   \n",
       "3                       g_02_a_No_aplica                     g_08_a_No_aplica   \n",
       "4                       g_02_a_Dos_o_mas                     g_08_a_No_aplica   \n",
       "\n",
       "  g_08_b_ofrecieron_cocaina_imp_tipo g_08_c_ofrecieron_basuco_imp_tipo  \\\n",
       "0                   g_08_b_No_aplica                  g_08_c_No_aplica   \n",
       "1                   g_08_b_No_aplica                  g_08_c_No_aplica   \n",
       "2                   g_08_b_No_aplica                  g_08_c_No_aplica   \n",
       "3                   g_08_b_No_aplica                  g_08_c_No_aplica   \n",
       "4                   g_08_b_No_aplica                  g_08_c_No_aplica   \n",
       "\n",
       "  RiesgoConsumo  ValorPCA  \n",
       "0          Bajo -1.210353  \n",
       "1          Bajo -1.698516  \n",
       "2          Bajo -2.032479  \n",
       "3          Bajo -1.803122  \n",
       "4         Medio -0.782395  \n",
       "\n",
       "[5 rows x 41 columns]"
      ]
     },
     "execution_count": 46,
     "metadata": {},
     "output_type": "execute_result"
    }
   ],
   "source": [
    "consumidores.head()"
   ]
  },
  {
   "cell_type": "markdown",
   "metadata": {},
   "source": [
    "Se elimina la columna RiesgoPCA la cual no se va a utilizar para la creacion del modelo"
   ]
  },
  {
   "cell_type": "code",
   "execution_count": 47,
   "metadata": {},
   "outputs": [],
   "source": [
    "del consumidores['ValorPCA']"
   ]
  },
  {
   "cell_type": "code",
   "execution_count": 48,
   "metadata": {},
   "outputs": [
    {
     "data": {
      "text/html": [
       "<div>\n",
       "<style scoped>\n",
       "    .dataframe tbody tr th:only-of-type {\n",
       "        vertical-align: middle;\n",
       "    }\n",
       "\n",
       "    .dataframe tbody tr th {\n",
       "        vertical-align: top;\n",
       "    }\n",
       "\n",
       "    .dataframe thead th {\n",
       "        text-align: right;\n",
       "    }\n",
       "</style>\n",
       "<table border=\"1\" class=\"dataframe\">\n",
       "  <thead>\n",
       "    <tr style=\"text-align: right;\">\n",
       "      <th></th>\n",
       "      <th>departamento</th>\n",
       "      <th>residentes_hogar</th>\n",
       "      <th>d2_04_num_hijos</th>\n",
       "      <th>per_edad_tipo</th>\n",
       "      <th>estrato_tipo</th>\n",
       "      <th>situacion_tipo</th>\n",
       "      <th>frecuencia_consumo_marihuana_tipo</th>\n",
       "      <th>frecuencia_consumo_cocaina_tipo</th>\n",
       "      <th>frecuencia_consumo_basuco_tipo</th>\n",
       "      <th>per_sexo_tipo</th>\n",
       "      <th>...</th>\n",
       "      <th>g_06_a_posibilidad_conseguir_marihuana_tipo</th>\n",
       "      <th>g_06_b_posibilidad_conseguir_cocaina_tipo</th>\n",
       "      <th>g_06_c_posibilidad_conseguir_basuco_tipo</th>\n",
       "      <th>g_07_alguien_ofrecio_comprar_probar_sp_tipo</th>\n",
       "      <th>g_01_a_num_familiares_consumen_sp_imp_tipo</th>\n",
       "      <th>g_02_a_num_amigos_consumen_sp_imp_tipo</th>\n",
       "      <th>g_08_a_ofrecieron_marihuana_imp_tipo</th>\n",
       "      <th>g_08_b_ofrecieron_cocaina_imp_tipo</th>\n",
       "      <th>g_08_c_ofrecieron_basuco_imp_tipo</th>\n",
       "      <th>RiesgoConsumo</th>\n",
       "    </tr>\n",
       "  </thead>\n",
       "  <tbody>\n",
       "    <tr>\n",
       "      <th>0</th>\n",
       "      <td>Guaviare</td>\n",
       "      <td>5</td>\n",
       "      <td>0</td>\n",
       "      <td>Joven</td>\n",
       "      <td>Estrato bajo</td>\n",
       "      <td>Trabajando</td>\n",
       "      <td>Nunca</td>\n",
       "      <td>Nunca</td>\n",
       "      <td>Nunca</td>\n",
       "      <td>Hombre</td>\n",
       "      <td>...</td>\n",
       "      <td>g_06_a_No_conoce_facilidad_dificultad</td>\n",
       "      <td>g_06_b_No_conoce_facilidad_dificultad</td>\n",
       "      <td>g_06_c_No_conoce_facilidad_dificultad</td>\n",
       "      <td>g_07_No</td>\n",
       "      <td>g_01_a_No_aplica</td>\n",
       "      <td>g_02_a_Dos_o_mas</td>\n",
       "      <td>g_08_a_No_aplica</td>\n",
       "      <td>g_08_b_No_aplica</td>\n",
       "      <td>g_08_c_No_aplica</td>\n",
       "      <td>Bajo</td>\n",
       "    </tr>\n",
       "    <tr>\n",
       "      <th>1</th>\n",
       "      <td>Cordoba</td>\n",
       "      <td>4</td>\n",
       "      <td>3</td>\n",
       "      <td>Adulto</td>\n",
       "      <td>Estrato bajo</td>\n",
       "      <td>Trabajando</td>\n",
       "      <td>Nunca</td>\n",
       "      <td>Nunca</td>\n",
       "      <td>Nunca</td>\n",
       "      <td>Mujer</td>\n",
       "      <td>...</td>\n",
       "      <td>g_06_a_Seria_facil</td>\n",
       "      <td>g_06_b_Seria_facil</td>\n",
       "      <td>g_06_c_Seria_facil</td>\n",
       "      <td>g_07_No</td>\n",
       "      <td>g_01_a_No_aplica</td>\n",
       "      <td>g_02_a_No_aplica</td>\n",
       "      <td>g_08_a_No_aplica</td>\n",
       "      <td>g_08_b_No_aplica</td>\n",
       "      <td>g_08_c_No_aplica</td>\n",
       "      <td>Bajo</td>\n",
       "    </tr>\n",
       "    <tr>\n",
       "      <th>2</th>\n",
       "      <td>Caqueta</td>\n",
       "      <td>4</td>\n",
       "      <td>2</td>\n",
       "      <td>Adulto</td>\n",
       "      <td>Estrato bajo</td>\n",
       "      <td>Trabajando</td>\n",
       "      <td>Nunca</td>\n",
       "      <td>Nunca</td>\n",
       "      <td>Nunca</td>\n",
       "      <td>Hombre</td>\n",
       "      <td>...</td>\n",
       "      <td>g_06_a_No_conoce_facilidad_dificultad</td>\n",
       "      <td>g_06_b_No_conoce_facilidad_dificultad</td>\n",
       "      <td>g_06_c_No_conoce_facilidad_dificultad</td>\n",
       "      <td>g_07_No</td>\n",
       "      <td>g_01_a_No_aplica</td>\n",
       "      <td>g_02_a_No_aplica</td>\n",
       "      <td>g_08_a_No_aplica</td>\n",
       "      <td>g_08_b_No_aplica</td>\n",
       "      <td>g_08_c_No_aplica</td>\n",
       "      <td>Bajo</td>\n",
       "    </tr>\n",
       "    <tr>\n",
       "      <th>3</th>\n",
       "      <td>Bolivar</td>\n",
       "      <td>6</td>\n",
       "      <td>0</td>\n",
       "      <td>Adulto</td>\n",
       "      <td>Estrato alto</td>\n",
       "      <td>Trabajando</td>\n",
       "      <td>Nunca</td>\n",
       "      <td>Nunca</td>\n",
       "      <td>Nunca</td>\n",
       "      <td>Mujer</td>\n",
       "      <td>...</td>\n",
       "      <td>g_06_a_No_podria_conseguir</td>\n",
       "      <td>g_06_b_No_podria_conseguir</td>\n",
       "      <td>g_06_c_No_podria_conseguir</td>\n",
       "      <td>g_07_No</td>\n",
       "      <td>g_01_a_No_aplica</td>\n",
       "      <td>g_02_a_No_aplica</td>\n",
       "      <td>g_08_a_No_aplica</td>\n",
       "      <td>g_08_b_No_aplica</td>\n",
       "      <td>g_08_c_No_aplica</td>\n",
       "      <td>Bajo</td>\n",
       "    </tr>\n",
       "    <tr>\n",
       "      <th>4</th>\n",
       "      <td>Tolima</td>\n",
       "      <td>4</td>\n",
       "      <td>1</td>\n",
       "      <td>Joven</td>\n",
       "      <td>Estrato bajo</td>\n",
       "      <td>Buscando trabajo</td>\n",
       "      <td>Nunca</td>\n",
       "      <td>Nunca</td>\n",
       "      <td>Nunca</td>\n",
       "      <td>Mujer</td>\n",
       "      <td>...</td>\n",
       "      <td>g_06_a_Seria_facil</td>\n",
       "      <td>g_06_b_Seria_facil</td>\n",
       "      <td>g_06_c_Seria_facil</td>\n",
       "      <td>g_07_No</td>\n",
       "      <td>g_01_a_No_aplica</td>\n",
       "      <td>g_02_a_Dos_o_mas</td>\n",
       "      <td>g_08_a_No_aplica</td>\n",
       "      <td>g_08_b_No_aplica</td>\n",
       "      <td>g_08_c_No_aplica</td>\n",
       "      <td>Medio</td>\n",
       "    </tr>\n",
       "  </tbody>\n",
       "</table>\n",
       "<p>5 rows × 40 columns</p>\n",
       "</div>"
      ],
      "text/plain": [
       "  departamento  residentes_hogar  d2_04_num_hijos per_edad_tipo  estrato_tipo  \\\n",
       "0     Guaviare                 5                0         Joven  Estrato bajo   \n",
       "1      Cordoba                 4                3        Adulto  Estrato bajo   \n",
       "2      Caqueta                 4                2        Adulto  Estrato bajo   \n",
       "3      Bolivar                 6                0        Adulto  Estrato alto   \n",
       "4       Tolima                 4                1         Joven  Estrato bajo   \n",
       "\n",
       "     situacion_tipo frecuencia_consumo_marihuana_tipo  \\\n",
       "0        Trabajando                             Nunca   \n",
       "1        Trabajando                             Nunca   \n",
       "2        Trabajando                             Nunca   \n",
       "3        Trabajando                             Nunca   \n",
       "4  Buscando trabajo                             Nunca   \n",
       "\n",
       "  frecuencia_consumo_cocaina_tipo frecuencia_consumo_basuco_tipo  \\\n",
       "0                           Nunca                          Nunca   \n",
       "1                           Nunca                          Nunca   \n",
       "2                           Nunca                          Nunca   \n",
       "3                           Nunca                          Nunca   \n",
       "4                           Nunca                          Nunca   \n",
       "\n",
       "  per_sexo_tipo  ... g_06_a_posibilidad_conseguir_marihuana_tipo  \\\n",
       "0        Hombre  ...       g_06_a_No_conoce_facilidad_dificultad   \n",
       "1         Mujer  ...                          g_06_a_Seria_facil   \n",
       "2        Hombre  ...       g_06_a_No_conoce_facilidad_dificultad   \n",
       "3         Mujer  ...                  g_06_a_No_podria_conseguir   \n",
       "4         Mujer  ...                          g_06_a_Seria_facil   \n",
       "\n",
       "  g_06_b_posibilidad_conseguir_cocaina_tipo  \\\n",
       "0     g_06_b_No_conoce_facilidad_dificultad   \n",
       "1                        g_06_b_Seria_facil   \n",
       "2     g_06_b_No_conoce_facilidad_dificultad   \n",
       "3                g_06_b_No_podria_conseguir   \n",
       "4                        g_06_b_Seria_facil   \n",
       "\n",
       "  g_06_c_posibilidad_conseguir_basuco_tipo  \\\n",
       "0    g_06_c_No_conoce_facilidad_dificultad   \n",
       "1                       g_06_c_Seria_facil   \n",
       "2    g_06_c_No_conoce_facilidad_dificultad   \n",
       "3               g_06_c_No_podria_conseguir   \n",
       "4                       g_06_c_Seria_facil   \n",
       "\n",
       "  g_07_alguien_ofrecio_comprar_probar_sp_tipo  \\\n",
       "0                                     g_07_No   \n",
       "1                                     g_07_No   \n",
       "2                                     g_07_No   \n",
       "3                                     g_07_No   \n",
       "4                                     g_07_No   \n",
       "\n",
       "  g_01_a_num_familiares_consumen_sp_imp_tipo  \\\n",
       "0                           g_01_a_No_aplica   \n",
       "1                           g_01_a_No_aplica   \n",
       "2                           g_01_a_No_aplica   \n",
       "3                           g_01_a_No_aplica   \n",
       "4                           g_01_a_No_aplica   \n",
       "\n",
       "  g_02_a_num_amigos_consumen_sp_imp_tipo g_08_a_ofrecieron_marihuana_imp_tipo  \\\n",
       "0                       g_02_a_Dos_o_mas                     g_08_a_No_aplica   \n",
       "1                       g_02_a_No_aplica                     g_08_a_No_aplica   \n",
       "2                       g_02_a_No_aplica                     g_08_a_No_aplica   \n",
       "3                       g_02_a_No_aplica                     g_08_a_No_aplica   \n",
       "4                       g_02_a_Dos_o_mas                     g_08_a_No_aplica   \n",
       "\n",
       "  g_08_b_ofrecieron_cocaina_imp_tipo g_08_c_ofrecieron_basuco_imp_tipo  \\\n",
       "0                   g_08_b_No_aplica                  g_08_c_No_aplica   \n",
       "1                   g_08_b_No_aplica                  g_08_c_No_aplica   \n",
       "2                   g_08_b_No_aplica                  g_08_c_No_aplica   \n",
       "3                   g_08_b_No_aplica                  g_08_c_No_aplica   \n",
       "4                   g_08_b_No_aplica                  g_08_c_No_aplica   \n",
       "\n",
       "  RiesgoConsumo  \n",
       "0          Bajo  \n",
       "1          Bajo  \n",
       "2          Bajo  \n",
       "3          Bajo  \n",
       "4         Medio  \n",
       "\n",
       "[5 rows x 40 columns]"
      ]
     },
     "execution_count": 48,
     "metadata": {},
     "output_type": "execute_result"
    }
   ],
   "source": [
    "consumidores.head()"
   ]
  },
  {
   "cell_type": "markdown",
   "metadata": {},
   "source": [
    "#### NOTA: Antes de comenzar a realizar el diagnostico de este dataset, se aclara que ya paso por un primer procesado de datos, sin embargo para este caso ya se cuenta con la variable objetivo, la cual se utilizara para la creacion del modelo, donde se cuenta con las variables o columnas necesarias"
   ]
  },
  {
   "cell_type": "markdown",
   "metadata": {},
   "source": [
    "Se remplaza los datos de la columna nivel de riesgo por valores numericos asi"
   ]
  },
  {
   "cell_type": "code",
   "execution_count": 29,
   "metadata": {},
   "outputs": [
    {
     "data": {
      "text/plain": [
       "Bajo        3819\n",
       "Muy Alto    2416\n",
       "Alto        2257\n",
       "Medio       1508\n",
       "Name: RiesgoConsumo, dtype: int64"
      ]
     },
     "execution_count": 29,
     "metadata": {},
     "output_type": "execute_result"
    }
   ],
   "source": [
    "consumidores.RiesgoConsumo.value_counts(normalize=False)"
   ]
  },
  {
   "cell_type": "code",
   "execution_count": 30,
   "metadata": {},
   "outputs": [],
   "source": [
    "consumidores.loc[consumidores['RiesgoConsumo']=='Bajo', 'RiesgoConsumoImp'] = 1\n",
    "consumidores.loc[consumidores['RiesgoConsumo']=='Medio', 'RiesgoConsumoImp'] = 2\n",
    "consumidores.loc[consumidores['RiesgoConsumo']=='Alto', 'RiesgoConsumoImp'] = 3\n",
    "consumidores.loc[consumidores['RiesgoConsumo']=='Muy Alto', 'RiesgoConsumoImp'] = 4"
   ]
  },
  {
   "cell_type": "code",
   "execution_count": 31,
   "metadata": {},
   "outputs": [
    {
     "data": {
      "text/plain": [
       "dtype('int64')"
      ]
     },
     "execution_count": 31,
     "metadata": {},
     "output_type": "execute_result"
    }
   ],
   "source": [
    "consumidores.RiesgoConsumoImp = consumidores.RiesgoConsumoImp.astype(\"int64\")\n",
    "consumidores.RiesgoConsumoImp.dtype"
   ]
  },
  {
   "cell_type": "code",
   "execution_count": 33,
   "metadata": {},
   "outputs": [],
   "source": [
    "del consumidores['RiesgoConsumo']"
   ]
  },
  {
   "cell_type": "markdown",
   "metadata": {},
   "source": [
    "### Duplicados\n",
    "\n",
    "En este apartado se intentan ver dos cosas:\n",
    "\n",
    "* Asegurarse de que datos que no debieran estar duplicados no lo están (por ejemplo, numeros de telefono)\n",
    "\n",
    "* Revisar  si hay columnas que tengan un alto numero de duplicados, ya que pueden no aportar mucha informacion"
   ]
  },
  {
   "cell_type": "code",
   "execution_count": 49,
   "metadata": {},
   "outputs": [
    {
     "data": {
      "text/plain": [
       "(2, 40)"
      ]
     },
     "execution_count": 49,
     "metadata": {},
     "output_type": "execute_result"
    }
   ],
   "source": [
    "consumidores[consumidores.duplicated()].shape"
   ]
  },
  {
   "cell_type": "markdown",
   "metadata": {},
   "source": [
    "Se puede observar que existen dos registros duplicados, por ende se procede a eliminarlos"
   ]
  },
  {
   "cell_type": "code",
   "execution_count": 50,
   "metadata": {},
   "outputs": [
    {
     "data": {
      "text/plain": [
       "(9998, 40)"
      ]
     },
     "execution_count": 50,
     "metadata": {},
     "output_type": "execute_result"
    }
   ],
   "source": [
    "consumidores = consumidores.drop_duplicates()\n",
    "consumidores.shape"
   ]
  },
  {
   "cell_type": "markdown",
   "metadata": {},
   "source": [
    "Ahora falta ver si hay variables en las que haya una gran cantidad de records que tengan el mismo valor (cardinalidad)."
   ]
  },
  {
   "cell_type": "code",
   "execution_count": 51,
   "metadata": {},
   "outputs": [
    {
     "name": "stdout",
     "output_type": "stream",
     "text": [
      "departamento | 0.141-0.003 | object\n",
      "residentes_hogar | 0.245-0.0 | int64\n",
      "d2_04_num_hijos | 0.39-0.0 | int64\n",
      "per_edad_tipo | 0.58-0.084 | object\n",
      "estrato_tipo | 0.662-0.028 | object\n",
      "situacion_tipo | 0.596-0.054 | object\n",
      "frecuencia_consumo_marihuana_tipo | 0.609-0.014 | object\n",
      "frecuencia_consumo_cocaina_tipo | 0.905-0.002 | object\n",
      "frecuencia_consumo_basuco_tipo | 0.97-0.0 | object\n",
      "per_sexo_tipo | 0.503-0.497 | object\n",
      "vive_padre_hogar_tipo | 0.57-0.15 | object\n",
      "vive_madre_hogar_tipo | 0.534-0.167 | object\n",
      "vivienda_tipo | 0.545-0.001 | object\n",
      "d_01_aporta_dinero_hogar_tipo | 0.694-0.306 | object\n",
      "d_08_estado_salud_tipo | 0.6-0.01 | object\n",
      "d_09_deprimido_tipo | 0.743-0.257 | object\n",
      "d_10_poco_interes_tipo | 0.799-0.201 | object\n",
      "d_11_h_conocimiento_riesgo_fumar_marihuana_frecuentemente_tipo | 0.825-0.017 | object\n",
      "d_11_k_conocimiento_riesgo_cocaina_frecuentemente_tipo | 0.944-0.002 | object\n",
      "d_11_n_conocimiento_riesgo_fumar_basuco_frecuentemente_tipo | 0.947-0.002 | object\n",
      "d_12_b_presenta_problema_consumo_sp_barrio_tipo | 0.677-0.323 | object\n",
      "d_12_c_presenta_problema_expendio_sp_barrio_tipo | 0.604-0.396 | object\n",
      "d2_01_etnia_tipo | 0.824-0.001 | object\n",
      "d2_03_estado_civil_tipo | 0.417-0.023 | object\n",
      "d2_05_nivel_educativo_tipo | 0.301-0.001 | object\n",
      "g_01_familiares_consumen_sp_tipo | 0.725-0.275 | object\n",
      "g_02_amigos_consumen_sp_tipo | 0.572-0.428 | object\n",
      "g_03_curiosidad_probar_sp_tipo | 0.577-0.423 | object\n",
      "g_04_probaria_sp_tipo | 0.809-0.191 | object\n",
      "g_05_posibilidad_probar_sp_tipo | 0.515-0.485 | object\n",
      "g_06_a_posibilidad_conseguir_marihuana_tipo | 0.61-0.047 | object\n",
      "g_06_b_posibilidad_conseguir_cocaina_tipo | 0.363-0.086 | object\n",
      "g_06_c_posibilidad_conseguir_basuco_tipo | 0.391-0.092 | object\n",
      "g_07_alguien_ofrecio_comprar_probar_sp_tipo | 0.513-0.487 | object\n",
      "g_01_a_num_familiares_consumen_sp_imp_tipo | 0.725-0.133 | object\n",
      "g_02_a_num_amigos_consumen_sp_imp_tipo | 0.572-0.062 | object\n",
      "g_08_a_ofrecieron_marihuana_imp_tipo | 0.513-0.021 | object\n",
      "g_08_b_ofrecieron_cocaina_imp_tipo | 0.513-0.028 | object\n",
      "g_08_c_ofrecieron_basuco_imp_tipo | 0.513-0.01 | object\n",
      "RiesgoConsumo | 0.382-0.151 | object\n"
     ]
    }
   ],
   "source": [
    "n_records = len(consumidores)\n",
    "def valores_duplicados_col(df):\n",
    "    for columna in df:\n",
    "        n_por_valor = df[columna].value_counts()\n",
    "        mas_comun = n_por_valor.iloc[0]\n",
    "        menos_comun = n_por_valor.iloc[-1]\n",
    "        print(\"{} | {}-{} | {}\".format(\n",
    "            df[columna].name,\n",
    "            round(mas_comun / (1.0*n_records),3),\n",
    "            round(menos_comun / (1.0*n_records),3),\n",
    "            df[columna].dtype\n",
    "        ))\n",
    "\n",
    "valores_duplicados_col(consumidores)"
   ]
  },
  {
   "cell_type": "markdown",
   "metadata": {},
   "source": [
    "### Valores inexistentes"
   ]
  },
  {
   "cell_type": "code",
   "execution_count": 52,
   "metadata": {
    "scrolled": false
   },
   "outputs": [
    {
     "name": "stdout",
     "output_type": "stream",
     "text": [
      "departamento | 0.0 | object\n",
      "residentes_hogar | 0.0 | int64\n",
      "d2_04_num_hijos | 0.0 | int64\n",
      "per_edad_tipo | 0.0 | object\n",
      "estrato_tipo | 0.0 | object\n",
      "situacion_tipo | 0.0 | object\n",
      "frecuencia_consumo_marihuana_tipo | 0.0 | object\n",
      "frecuencia_consumo_cocaina_tipo | 0.0 | object\n",
      "frecuencia_consumo_basuco_tipo | 0.0 | object\n",
      "per_sexo_tipo | 0.0 | object\n",
      "vive_padre_hogar_tipo | 0.0 | object\n",
      "vive_madre_hogar_tipo | 0.0 | object\n",
      "vivienda_tipo | 0.0 | object\n",
      "d_01_aporta_dinero_hogar_tipo | 0.0 | object\n",
      "d_08_estado_salud_tipo | 0.0 | object\n",
      "d_09_deprimido_tipo | 0.0 | object\n",
      "d_10_poco_interes_tipo | 0.0 | object\n",
      "d_11_h_conocimiento_riesgo_fumar_marihuana_frecuentemente_tipo | 0.0 | object\n",
      "d_11_k_conocimiento_riesgo_cocaina_frecuentemente_tipo | 0.0 | object\n",
      "d_11_n_conocimiento_riesgo_fumar_basuco_frecuentemente_tipo | 0.0 | object\n",
      "d_12_b_presenta_problema_consumo_sp_barrio_tipo | 0.0 | object\n",
      "d_12_c_presenta_problema_expendio_sp_barrio_tipo | 0.0 | object\n",
      "d2_01_etnia_tipo | 0.0 | object\n",
      "d2_03_estado_civil_tipo | 0.0 | object\n",
      "d2_05_nivel_educativo_tipo | 0.0 | object\n",
      "g_01_familiares_consumen_sp_tipo | 0.0 | object\n",
      "g_02_amigos_consumen_sp_tipo | 0.0 | object\n",
      "g_03_curiosidad_probar_sp_tipo | 0.0 | object\n",
      "g_04_probaria_sp_tipo | 0.0 | object\n",
      "g_05_posibilidad_probar_sp_tipo | 0.0 | object\n",
      "g_06_a_posibilidad_conseguir_marihuana_tipo | 0.0 | object\n",
      "g_06_b_posibilidad_conseguir_cocaina_tipo | 0.0 | object\n",
      "g_06_c_posibilidad_conseguir_basuco_tipo | 0.0 | object\n",
      "g_07_alguien_ofrecio_comprar_probar_sp_tipo | 0.0 | object\n",
      "g_01_a_num_familiares_consumen_sp_imp_tipo | 0.0 | object\n",
      "g_02_a_num_amigos_consumen_sp_imp_tipo | 0.0 | object\n",
      "g_08_a_ofrecieron_marihuana_imp_tipo | 0.0 | object\n",
      "g_08_b_ofrecieron_cocaina_imp_tipo | 0.0 | object\n",
      "g_08_c_ofrecieron_basuco_imp_tipo | 0.0 | object\n",
      "RiesgoConsumo | 0.0 | object\n"
     ]
    }
   ],
   "source": [
    "n_records = len(consumidores)\n",
    "def valores_inexistentes_col(df):\n",
    "    for columna in df:\n",
    "        print(\"{} | {} | {}\".format(\n",
    "            df[columna].name, len(df[df[columna].isnull()]) / (1.0*n_records), df[columna].dtype\n",
    "        ))\n",
    "\n",
    "valores_inexistentes_col(consumidores)"
   ]
  },
  {
   "cell_type": "markdown",
   "metadata": {},
   "source": [
    "### Valores extremos (outliers)"
   ]
  },
  {
   "cell_type": "markdown",
   "metadata": {},
   "source": [
    "Para detectar valores extremos una medida general es considerar outliers aquellos valores con una puntuación Z (z score) mayor de 3, esto es, que se alejan 3 veces o mas desviaciones standard de la media.\n",
    "\n",
    "El z score se define como:\n",
    "\n",
    "$$z(x)= \\frac{x-\\mu}{\\sigma}$$"
   ]
  },
  {
   "cell_type": "code",
   "execution_count": 53,
   "metadata": {},
   "outputs": [
    {
     "name": "stdout",
     "output_type": "stream",
     "text": [
      "residentes_hogar | 118 | int64\n",
      "d2_04_num_hijos | 156 | int64\n"
     ]
    }
   ],
   "source": [
    "from scipy import stats\n",
    "import numpy as np\n",
    "\n",
    "def outliers_col(df):\n",
    "    for columna in df:\n",
    "        if df[columna].dtype != np.object_:\n",
    "            n_outliers = len(df[np.abs(stats.zscore(df[columna])) > 3])    \n",
    "            print(\"{} | {} | {}\".format(\n",
    "                df[columna].name,\n",
    "                n_outliers,\n",
    "                df[columna].dtype\n",
    "        ))\n",
    "\n",
    "outliers_col(consumidores)"
   ]
  },
  {
   "cell_type": "code",
   "execution_count": 40,
   "metadata": {},
   "outputs": [
    {
     "data": {
      "image/png": "[encoded data removed]",
      "text/plain": [
       "<Figure size 1200x1200 with 1 Axes>"
      ]
     },
     "metadata": {},
     "output_type": "display_data"
    }
   ],
   "source": [
    "consumidores.boxplot(column='RiesgoConsumoImp');"
   ]
  },
  {
   "cell_type": "code",
   "execution_count": 46,
   "metadata": {},
   "outputs": [
    {
     "data": {
      "text/plain": [
       "5.0    340\n",
       "2.0    302\n",
       "4.0    216\n",
       "3.0    207\n",
       "1.0    145\n",
       "9.0     13\n",
       "Name: k_04_frecuencia_consumo_marihuana_12m, dtype: int64"
      ]
     },
     "execution_count": 46,
     "metadata": {},
     "output_type": "execute_result"
    }
   ],
   "source": [
    "consumidores.k_04_frecuencia_consumo_marihuana_12m.value_counts(normalize=False)"
   ]
  },
  {
   "cell_type": "markdown",
   "metadata": {},
   "source": [
    "Estado de alerta varibale de numero de hijos\n",
    "vive_padre_hogar\n",
    "vive_madre_hogar\n",
    "d_09_deprimido\n",
    "d_10_poco_interes\n",
    "g_07_alguien_ofrecio_comprar_probar_sp"
   ]
  },
  {
   "cell_type": "markdown",
   "metadata": {},
   "source": [
    "Se puede observar que existen ciertos valores en las respuestas que pueed que no ayuden al momento de entrenar el modelo, porende es necesario eliminar tales registros"
   ]
  },
  {
   "cell_type": "code",
   "execution_count": 47,
   "metadata": {},
   "outputs": [
    {
     "data": {
      "text/plain": [
       "(10149, 57)"
      ]
     },
     "execution_count": 47,
     "metadata": {},
     "output_type": "execute_result"
    }
   ],
   "source": [
    "aux_consumidores = consumidores[(consumidores.vive_madre_hogar!=9)]\n",
    "aux_consumidores.shape"
   ]
  },
  {
   "cell_type": "code",
   "execution_count": 48,
   "metadata": {},
   "outputs": [
    {
     "data": {
      "text/plain": [
       "(10149, 57)"
      ]
     },
     "execution_count": 48,
     "metadata": {},
     "output_type": "execute_result"
    }
   ],
   "source": [
    "aux_consumidores = aux_consumidores[(aux_consumidores.vive_padre_hogar!=9)]\n",
    "aux_consumidores.shape"
   ]
  },
  {
   "cell_type": "code",
   "execution_count": 49,
   "metadata": {},
   "outputs": [
    {
     "data": {
      "text/plain": [
       "(10120, 57)"
      ]
     },
     "execution_count": 49,
     "metadata": {},
     "output_type": "execute_result"
    }
   ],
   "source": [
    "aux_consumidores = aux_consumidores[(aux_consumidores.d_09_deprimido!=9)]\n",
    "aux_consumidores.shape"
   ]
  },
  {
   "cell_type": "code",
   "execution_count": 50,
   "metadata": {},
   "outputs": [
    {
     "data": {
      "text/plain": [
       "(10099, 57)"
      ]
     },
     "execution_count": 50,
     "metadata": {},
     "output_type": "execute_result"
    }
   ],
   "source": [
    "aux_consumidores = aux_consumidores[(aux_consumidores.d_10_poco_interes!=9)]\n",
    "aux_consumidores.shape"
   ]
  },
  {
   "cell_type": "code",
   "execution_count": 51,
   "metadata": {},
   "outputs": [
    {
     "data": {
      "text/plain": [
       "(10069, 57)"
      ]
     },
     "execution_count": 51,
     "metadata": {},
     "output_type": "execute_result"
    }
   ],
   "source": [
    "aux_consumidores = aux_consumidores[(aux_consumidores.g_07_alguien_ofrecio_comprar_probar_sp!=9)]\n",
    "aux_consumidores.shape"
   ]
  },
  {
   "cell_type": "code",
   "execution_count": 52,
   "metadata": {},
   "outputs": [
    {
     "data": {
      "text/plain": [
       "2    5148\n",
       "1    4921\n",
       "Name: g_07_alguien_ofrecio_comprar_probar_sp, dtype: int64"
      ]
     },
     "execution_count": 52,
     "metadata": {},
     "output_type": "execute_result"
    }
   ],
   "source": [
    "aux_consumidores.g_07_alguien_ofrecio_comprar_probar_sp.value_counts(normalize=False)"
   ]
  },
  {
   "cell_type": "markdown",
   "metadata": {},
   "source": [
    "Ahora se procedera a eliminar los registros cuyas respuestas no ayudan"
   ]
  },
  {
   "cell_type": "code",
   "execution_count": 53,
   "metadata": {},
   "outputs": [
    {
     "data": {
      "text/plain": [
       "(10057, 57)"
      ]
     },
     "execution_count": 53,
     "metadata": {},
     "output_type": "execute_result"
    }
   ],
   "source": [
    "aux_consumidores = aux_consumidores[(aux_consumidores.estrato!=9)]\n",
    "aux_consumidores.shape"
   ]
  },
  {
   "cell_type": "code",
   "execution_count": 54,
   "metadata": {},
   "outputs": [
    {
     "data": {
      "text/plain": [
       "(10054, 57)"
      ]
     },
     "execution_count": 54,
     "metadata": {},
     "output_type": "execute_result"
    }
   ],
   "source": [
    "aux_consumidores = aux_consumidores[(aux_consumidores.d2_05_nivel_educativo!=9)]\n",
    "aux_consumidores.shape"
   ]
  },
  {
   "cell_type": "code",
   "execution_count": 55,
   "metadata": {},
   "outputs": [
    {
     "data": {
      "text/plain": [
       "(10049, 57)"
      ]
     },
     "execution_count": 55,
     "metadata": {},
     "output_type": "execute_result"
    }
   ],
   "source": [
    "aux_consumidores = aux_consumidores[(aux_consumidores.k_03_consumio_marihuana_12m!=9)]\n",
    "aux_consumidores.shape"
   ]
  },
  {
   "cell_type": "code",
   "execution_count": 56,
   "metadata": {},
   "outputs": [
    {
     "data": {
      "text/plain": [
       "(10036, 57)"
      ]
     },
     "execution_count": 56,
     "metadata": {},
     "output_type": "execute_result"
    }
   ],
   "source": [
    "aux_consumidores = aux_consumidores[(aux_consumidores.k_04_frecuencia_consumo_marihuana_12m!=9)]\n",
    "aux_consumidores.shape"
   ]
  },
  {
   "cell_type": "code",
   "execution_count": 57,
   "metadata": {},
   "outputs": [
    {
     "data": {
      "text/plain": [
       "(10034, 57)"
      ]
     },
     "execution_count": 57,
     "metadata": {},
     "output_type": "execute_result"
    }
   ],
   "source": [
    "aux_consumidores = aux_consumidores[(aux_consumidores.l_02_consumio_cocaina_12m!=9)]\n",
    "aux_consumidores.shape"
   ]
  },
  {
   "cell_type": "code",
   "execution_count": 58,
   "metadata": {},
   "outputs": [
    {
     "data": {
      "text/plain": [
       "(10032, 57)"
      ]
     },
     "execution_count": 58,
     "metadata": {},
     "output_type": "execute_result"
    }
   ],
   "source": [
    "aux_consumidores = aux_consumidores[(aux_consumidores.l_03_frecuencia_consumo_cocaina_12m!=9)]\n",
    "aux_consumidores.shape"
   ]
  },
  {
   "cell_type": "code",
   "execution_count": 59,
   "metadata": {},
   "outputs": [
    {
     "data": {
      "text/plain": [
       "(10031, 57)"
      ]
     },
     "execution_count": 59,
     "metadata": {},
     "output_type": "execute_result"
    }
   ],
   "source": [
    "aux_consumidores = aux_consumidores[(aux_consumidores.m_02_consumio_basuco_12m!=9)]\n",
    "aux_consumidores.shape"
   ]
  },
  {
   "cell_type": "code",
   "execution_count": 60,
   "metadata": {},
   "outputs": [
    {
     "data": {
      "text/plain": [
       "(10031, 57)"
      ]
     },
     "execution_count": 60,
     "metadata": {},
     "output_type": "execute_result"
    }
   ],
   "source": [
    "aux_consumidores = aux_consumidores[(aux_consumidores.m_03_frecuencia_consumo_basuco_12m!=9)]\n",
    "aux_consumidores.shape"
   ]
  },
  {
   "cell_type": "code",
   "execution_count": 61,
   "metadata": {},
   "outputs": [
    {
     "data": {
      "text/plain": [
       "(10031, 57)"
      ]
     },
     "execution_count": 61,
     "metadata": {},
     "output_type": "execute_result"
    }
   ],
   "source": [
    "aux_consumidores = aux_consumidores[(aux_consumidores.o_02_consumio_heroina_12m!=9)]\n",
    "aux_consumidores.shape"
   ]
  },
  {
   "cell_type": "code",
   "execution_count": 62,
   "metadata": {},
   "outputs": [
    {
     "data": {
      "text/plain": [
       "(10031, 57)"
      ]
     },
     "execution_count": 62,
     "metadata": {},
     "output_type": "execute_result"
    }
   ],
   "source": [
    "aux_consumidores = aux_consumidores[(aux_consumidores.o_03_frecuencia_consumo_heroina_12m!=9)]\n",
    "aux_consumidores.shape"
   ]
  },
  {
   "cell_type": "code",
   "execution_count": 63,
   "metadata": {},
   "outputs": [
    {
     "data": {
      "text/plain": [
       "(10009, 57)"
      ]
     },
     "execution_count": 63,
     "metadata": {},
     "output_type": "execute_result"
    }
   ],
   "source": [
    "aux_consumidores = aux_consumidores.dropna(subset=['estrato'])\n",
    "aux_consumidores.shape"
   ]
  },
  {
   "cell_type": "code",
   "execution_count": 64,
   "metadata": {},
   "outputs": [
    {
     "data": {
      "text/plain": [
       "(10000, 57)"
      ]
     },
     "execution_count": 64,
     "metadata": {},
     "output_type": "execute_result"
    }
   ],
   "source": [
    "aux_consumidores = aux_consumidores[(aux_consumidores.estrato!=8)]\n",
    "aux_consumidores.shape"
   ]
  },
  {
   "cell_type": "code",
   "execution_count": 65,
   "metadata": {},
   "outputs": [
    {
     "data": {
      "text/plain": [
       "2.0    3755\n",
       "1.0    2865\n",
       "3.0    2547\n",
       "4.0     555\n",
       "5.0     170\n",
       "6.0     108\n",
       "Name: estrato, dtype: int64"
      ]
     },
     "execution_count": 65,
     "metadata": {},
     "output_type": "execute_result"
    }
   ],
   "source": [
    "aux_consumidores.estrato.value_counts(normalize=False)"
   ]
  },
  {
   "cell_type": "markdown",
   "metadata": {},
   "source": [
    "Se elimina la columna de servicio de energia dado que ya no aporta informacion valiosa para el dataset"
   ]
  },
  {
   "cell_type": "code",
   "execution_count": 66,
   "metadata": {},
   "outputs": [],
   "source": [
    "del aux_consumidores['servicio_energia']"
   ]
  },
  {
   "cell_type": "markdown",
   "metadata": {},
   "source": [
    "Ya que hemos descubierto esto, volvamos a revisar los datos con el nuevo dataset"
   ]
  },
  {
   "cell_type": "code",
   "execution_count": 67,
   "metadata": {},
   "outputs": [
    {
     "data": {
      "text/plain": [
       "(10000, 56)"
      ]
     },
     "execution_count": 67,
     "metadata": {},
     "output_type": "execute_result"
    }
   ],
   "source": [
    "aux_consumidores.shape"
   ]
  },
  {
   "cell_type": "code",
   "execution_count": 68,
   "metadata": {},
   "outputs": [
    {
     "name": "stdout",
     "output_type": "stream",
     "text": [
      "directorio | 0 | int64\n",
      "per_sexo | 0 | int64\n",
      "per_edad | 0 | int64\n",
      "vive_padre_hogar | 0 | int64\n",
      "vive_madre_hogar | 0 | int64\n",
      "tipo_vivienda | 10 | int64\n",
      "estrato | 108 | float64\n",
      "residentes_hogar | 118 | int64\n",
      "d_01_aporta_dinero_hogar | 0 | int64\n",
      "d_02_situacion_actual | 310 | int64\n",
      "d_08_estado_salud | 100 | int64\n",
      "d_09_deprimido | 0 | int64\n",
      "d_10_poco_interes | 0 | int64\n",
      "d_11_h_conocimiento_riesgo_fumar_marihuana_frecuentemente | 174 | int64\n",
      "d_11_k_conocimiento_riesgo_cocaina_frecuentemente | 558 | int64\n",
      "d_11_n_conocimiento_riesgo_fumar_basuco_frecuentemente | 534 | int64\n",
      "d_12_b_presenta_problema_consumo_sp_barrio | 0 | int64\n",
      "d_12_c_presenta_problema_expendio_sp_barrio | 0 | int64\n",
      "d2_01_etnia | 576 | int64\n",
      "d2_03_estado_civil | 0 | int64\n",
      "d2_04_num_hijos | 156 | int64\n",
      "d2_05_nivel_educativo | 0 | int64\n",
      "g_01_familiares_consumen_sp | 0 | int64\n",
      "g_01_a_num_familiares_consumen_sp | 0 | float64\n",
      "g_02_amigos_consumen_sp | 0 | int64\n",
      "g_02_a_num_amigos_consumen_sp | 0 | float64\n",
      "g_03_curiosidad_probar_sp | 0 | int64\n",
      "g_04_probaria_sp | 0 | int64\n",
      "g_05_posibilidad_probar_sp | 0 | int64\n",
      "g_06_a_posibilidad_conseguir_marihuana | 0 | int64\n",
      "g_06_b_posibilidad_conseguir_cocaina | 0 | int64\n",
      "g_06_c_posibilidad_conseguir_basuco | 0 | int64\n",
      "g_06_j_posibilidad_conseguir_heroina | 0 | int64\n",
      "g_07_alguien_ofrecio_comprar_probar_sp | 0 | int64\n",
      "g_08_a_ofrecieron_marihuana | 0 | float64\n",
      "g_08_b_ofrecieron_cocaina | 0 | float64\n",
      "g_08_c_ofrecieron_basuco | 0 | float64\n",
      "g_08_e_ofrecieron_heroina | 0 | float64\n",
      "g_11_f_consumio_alguna_vez_marihuana | 0 | int64\n",
      "g_11_f_anios_consumio_marihuana | 0 | float64\n",
      "g_11_g_consumio_alguna_vez_cocaina | 948 | int64\n",
      "g_11_g_anios_consumio_cocaina | 0 | float64\n",
      "g_11_h_consumio_alguna_vez_basuco | 301 | int64\n",
      "g_11_h_anios_consumio_basuco | 0 | float64\n",
      "g_11_j_consumio_alguna_vez_heroina | 44 | int64\n",
      "g_11_j_anios_consumio_heroina | 0 | float64\n",
      "k_03_consumio_marihuana_12m | 0 | float64\n",
      "k_04_frecuencia_consumo_marihuana_12m | 0 | float64\n",
      "l_02_consumio_cocaina_12m | 0 | float64\n",
      "l_03_frecuencia_consumo_cocaina_12m | 0 | float64\n",
      "m_02_consumio_basuco_12m | 0 | float64\n",
      "m_03_frecuencia_consumo_basuco_12m | 0 | float64\n",
      "o_02_consumio_heroina_12m | 0 | float64\n",
      "o_03_frecuencia_consumo_heroina_12m | 0 | float64\n"
     ]
    }
   ],
   "source": [
    "outliers_col(aux_consumidores)"
   ]
  },
  {
   "cell_type": "code",
   "execution_count": 69,
   "metadata": {},
   "outputs": [
    {
     "name": "stdout",
     "output_type": "stream",
     "text": [
      "directorio | 0.0-0.0 | int64\n",
      "per_sexo | 0.496-0.49 | int64\n",
      "per_edad | 0.03-0.008 | int64\n",
      "vive_padre_hogar | 0.562-0.147 | int64\n",
      "vive_madre_hogar | 0.526-0.164 | int64\n",
      "departamento | 0.139-0.003 | object\n",
      "municipio | 0.102-0.0 | object\n",
      "tipo_vivienda | 0.537-0.001 | int64\n",
      "estrato | 0.37-0.011 | float64\n",
      "residentes_hogar | 0.241-0.0 | int64\n",
      "d_01_aporta_dinero_hogar | 0.684-0.301 | int64\n",
      "d_02_situacion_actual | 0.587-0.008 | int64\n",
      "d_08_estado_salud | 0.591-0.01 | int64\n",
      "d_09_deprimido | 0.732-0.253 | int64\n",
      "d_10_poco_interes | 0.787-0.198 | int64\n",
      "d_11_h_conocimiento_riesgo_fumar_marihuana_frecuentemente | 0.813-0.017 | int64\n",
      "d_11_k_conocimiento_riesgo_cocaina_frecuentemente | 0.93-0.002 | int64\n",
      "d_11_n_conocimiento_riesgo_fumar_basuco_frecuentemente | 0.933-0.002 | int64\n",
      "d_12_b_presenta_problema_consumo_sp_barrio | 0.666-0.319 | int64\n",
      "d_12_c_presenta_problema_expendio_sp_barrio | 0.596-0.39 | int64\n",
      "d2_01_etnia | 0.812-0.001 | int64\n",
      "d2_03_estado_civil | 0.411-0.023 | int64\n",
      "d2_04_num_hijos | 0.384-0.0 | int64\n",
      "d2_05_nivel_educativo | 0.297-0.001 | int64\n",
      "g_01_familiares_consumen_sp | 0.715-0.271 | int64\n",
      "g_01_a_num_familiares_consumen_sp | 0.14-0.131 | float64\n",
      "g_02_amigos_consumen_sp | 0.563-0.422 | int64\n",
      "g_02_a_num_amigos_consumen_sp | 0.361-0.061 | float64\n",
      "g_03_curiosidad_probar_sp | 0.569-0.416 | int64\n",
      "g_04_probaria_sp | 0.797-0.188 | int64\n",
      "g_05_posibilidad_probar_sp | 0.507-0.478 | int64\n",
      "g_06_a_posibilidad_conseguir_marihuana | 0.601-0.046 | int64\n",
      "g_06_b_posibilidad_conseguir_cocaina | 0.357-0.084 | int64\n",
      "g_06_c_posibilidad_conseguir_basuco | 0.385-0.09 | int64\n",
      "g_06_j_posibilidad_conseguir_heroina | 0.553-0.114 | int64\n",
      "g_07_alguien_ofrecio_comprar_probar_sp | 0.506-0.479 | int64\n",
      "g_08_a_ofrecieron_marihuana | 0.3-0.021 | float64\n",
      "g_08_b_ofrecieron_cocaina | 0.263-0.027 | float64\n",
      "g_08_c_ofrecieron_basuco | 0.382-0.01 | float64\n",
      "g_08_e_ofrecieron_heroina | 0.437-0.004 | float64\n",
      "g_11_f_consumio_alguna_vez_marihuana | 0.6-0.385 | int64\n",
      "g_11_f_anios_consumio_marihuana | 0.057-0.0 | float64\n",
      "g_11_g_consumio_alguna_vez_cocaina | 0.892-0.093 | int64\n",
      "g_11_g_anios_consumio_cocaina | 0.013-0.0 | float64\n",
      "g_11_h_consumio_alguna_vez_basuco | 0.956-0.03 | int64\n",
      "g_11_h_anios_consumio_basuco | 0.057-0.0 | float64\n",
      "g_11_j_consumio_alguna_vez_heroina | 0.981-0.004 | int64\n",
      "g_11_j_anios_consumio_heroina | 0.001-0.0 | float64\n",
      "k_03_consumio_marihuana_12m | 0.268-0.117 | float64\n",
      "k_04_frecuencia_consumo_marihuana_12m | 0.033-0.014 | float64\n",
      "l_02_consumio_cocaina_12m | 0.07-0.023 | float64\n",
      "l_03_frecuencia_consumo_cocaina_12m | 0.008-0.002 | float64\n",
      "m_02_consumio_basuco_12m | 0.025-0.005 | float64\n",
      "m_03_frecuencia_consumo_basuco_12m | 0.001-0.0 | float64\n",
      "o_02_consumio_heroina_12m | 0.004-0.0 | float64\n",
      "o_03_frecuencia_consumo_heroina_12m | 0.0-0.0 | float64\n"
     ]
    }
   ],
   "source": [
    "valores_duplicados_col(aux_consumidores)"
   ]
  },
  {
   "cell_type": "code",
   "execution_count": 70,
   "metadata": {},
   "outputs": [
    {
     "data": {
      "text/plain": [
       "1    5029\n",
       "2    4971\n",
       "Name: per_sexo, dtype: int64"
      ]
     },
     "execution_count": 70,
     "metadata": {},
     "output_type": "execute_result"
    }
   ],
   "source": [
    "aux_consumidores.per_sexo.value_counts(normalize=False)"
   ]
  },
  {
   "cell_type": "markdown",
   "metadata": {},
   "source": [
    "### Valores inexistentes"
   ]
  },
  {
   "cell_type": "code",
   "execution_count": 71,
   "metadata": {},
   "outputs": [
    {
     "name": "stdout",
     "output_type": "stream",
     "text": [
      "directorio | 0.0 | int64\n",
      "per_sexo | 0.0 | int64\n",
      "per_edad | 0.0 | int64\n",
      "vive_padre_hogar | 0.0 | int64\n",
      "vive_madre_hogar | 0.0 | int64\n",
      "departamento | 0.0 | object\n",
      "municipio | 0.0 | object\n",
      "tipo_vivienda | 0.0 | int64\n",
      "estrato | 0.0 | float64\n",
      "residentes_hogar | 0.0 | int64\n",
      "d_01_aporta_dinero_hogar | 0.0 | int64\n",
      "d_02_situacion_actual | 0.0 | int64\n",
      "d_08_estado_salud | 0.0 | int64\n",
      "d_09_deprimido | 0.0 | int64\n",
      "d_10_poco_interes | 0.0 | int64\n",
      "d_11_h_conocimiento_riesgo_fumar_marihuana_frecuentemente | 0.0 | int64\n",
      "d_11_k_conocimiento_riesgo_cocaina_frecuentemente | 0.0 | int64\n",
      "d_11_n_conocimiento_riesgo_fumar_basuco_frecuentemente | 0.0 | int64\n",
      "d_12_b_presenta_problema_consumo_sp_barrio | 0.0 | int64\n",
      "d_12_c_presenta_problema_expendio_sp_barrio | 0.0 | int64\n",
      "d2_01_etnia | 0.0 | int64\n",
      "d2_03_estado_civil | 0.0 | int64\n",
      "d2_04_num_hijos | 0.0 | int64\n",
      "d2_05_nivel_educativo | 0.0 | int64\n",
      "g_01_familiares_consumen_sp | 0.0 | int64\n",
      "g_01_a_num_familiares_consumen_sp | 0.7146516898216573 | float64\n",
      "g_02_amigos_consumen_sp | 0.0 | int64\n",
      "g_02_a_num_amigos_consumen_sp | 0.5634052616021283 | float64\n",
      "g_03_curiosidad_probar_sp | 0.0 | int64\n",
      "g_04_probaria_sp | 0.0 | int64\n",
      "g_05_posibilidad_probar_sp | 0.0 | int64\n",
      "g_06_a_posibilidad_conseguir_marihuana | 0.0 | int64\n",
      "g_06_b_posibilidad_conseguir_cocaina | 0.0 | int64\n",
      "g_06_c_posibilidad_conseguir_basuco | 0.0 | int64\n",
      "g_06_j_posibilidad_conseguir_heroina | 0.0 | int64\n",
      "g_07_alguien_ofrecio_comprar_probar_sp | 0.0 | int64\n",
      "g_08_a_ofrecieron_marihuana | 0.5058626465661642 | float64\n",
      "g_08_b_ofrecieron_cocaina | 0.5058626465661642 | float64\n",
      "g_08_c_ofrecieron_basuco | 0.5058626465661642 | float64\n",
      "g_08_e_ofrecieron_heroina | 0.5058626465661642 | float64\n",
      "g_11_f_consumio_alguna_vez_marihuana | 0.0 | int64\n",
      "g_11_f_anios_consumio_marihuana | 0.5998620553749138 | float64\n",
      "g_11_g_consumio_alguna_vez_cocaina | 0.0 | int64\n",
      "g_11_g_anios_consumio_cocaina | 0.891910533057444 | float64\n",
      "g_11_h_consumio_alguna_vez_basuco | 0.0 | int64\n",
      "g_11_h_anios_consumio_basuco | 0.5998620553749138 | float64\n",
      "g_11_j_consumio_alguna_vez_heroina | 0.0 | int64\n",
      "g_11_j_anios_consumio_heroina | 0.9809833481131146 | float64\n",
      "k_03_consumio_marihuana_12m | 0.5998620553749138 | float64\n",
      "k_04_frecuencia_consumo_marihuana_12m | 0.8683614149177259 | float64\n",
      "l_02_consumio_cocaina_12m | 0.891910533057444 | float64\n",
      "l_03_frecuencia_consumo_cocaina_12m | 0.9619666962262292 | float64\n",
      "m_02_consumio_basuco_12m | 0.9556606562222879 | float64\n",
      "m_03_frecuencia_consumo_basuco_12m | 0.980195093112622 | float64\n",
      "o_02_consumio_heroina_12m | 0.9809833481131146 | float64\n",
      "o_03_frecuencia_consumo_heroina_12m | 0.9849246231155779 | float64\n"
     ]
    }
   ],
   "source": [
    "valores_inexistentes_col(aux_consumidores)"
   ]
  },
  {
   "cell_type": "markdown",
   "metadata": {},
   "source": [
    "Ahora vemos que no hay valores inexistentes extremos en ninguna variable. La variable con mayor numero de valores inexistentes es g_11_j_anios_consumio_heroina (99%). Es de resaltar que es necesario agregar datos a la variable dado que esta variable tiene relacion con otra variable"
   ]
  },
  {
   "cell_type": "markdown",
   "metadata": {},
   "source": [
    "### Conclusion\n",
    "- NO hay records duplicados \n",
    "- La variable `servicio_energia, d_01_aporta_dinero_hogar, d_08_estado_salud(61%),d_09_deprimido,d_10_poco_interes,d_11_h_conocimiento_riesgo_fumar_marihuana_frecuentemente,\n",
    "d_11_k_conocimiento_riesgo_cocaina_frecuentemente,d_11_n_conocimiento_riesgo_fumar_basuco_frecuentemente,\n",
    "d_12_b_presenta_problema_consumo_sp_barrio,d_12_c_presenta_problema_expendio_sp_barrio,d2_01_etnia,\n",
    "g_01_familiares_consumen_sp,g_02_amigos_consumen_sp,g_03_curiosidad_probar_sp,g_04_probaria_sp,\n",
    "g_05_posibilidad_probar_sp(50%),g_06_a_posibilidad_conseguir_marihuana(60%),g_06_j_posibilidad_conseguir_heroina(55%),\n",
    "g_07_alguien_ofrecio_comprar_probar_sp(50%),g_11_f_consumio_alguna_vez_marihuana,g_11_g_consumio_alguna_vez_cocaina,\n",
    "g_11_h_consumio_alguna_vez_basuco,g_11_j_consumio_alguna_vez_heroina ` tienen una clase dominante mayor al 65%\n",
    "- hay un outlier en las variables `d_09_deprimido,d_10_poco_interes,g_07_alguien_ofrecio_comprar_probar_sp` y tabien hay datos inconsistentes\n",
    "- Es necesario categoriazar las columnas g_11 a o_03, per_edad, estrato, situacion actual, edades\n",
    "- Posibles para eliminar: d2_04_num_hijos\n",
    "- Se descubre que la variable de estrato"
   ]
  },
  {
   "cell_type": "markdown",
   "metadata": {},
   "source": [
    "### Exportamos"
   ]
  },
  {
   "cell_type": "code",
   "execution_count": 72,
   "metadata": {},
   "outputs": [],
   "source": [
    "aux_consumidores.to_csv(\"C:/Users/Danny/Desktop/Analisis tesis/Analisis exploratorio de datos/data/consumidores.2.limpio_analisis.csv\", index=False)"
   ]
  },
  {
   "cell_type": "code",
   "execution_count": null,
   "metadata": {},
   "outputs": [],
   "source": []
  }
 ],
 "metadata": {
  "kernelspec": {
   "display_name": "Python 3 (ipykernel)",
   "language": "python",
   "name": "python3"
  },
  "language_info": {
   "codemirror_mode": {
    "name": "ipython",
    "version": 3
   },
   "file_extension": ".py",
   "mimetype": "text/x-python",
   "name": "python",
   "nbconvert_exporter": "python",
   "pygments_lexer": "ipython3",
   "version": "3.10.11"
  }
 },
 "nbformat": 4,
 "nbformat_minor": 2
}
