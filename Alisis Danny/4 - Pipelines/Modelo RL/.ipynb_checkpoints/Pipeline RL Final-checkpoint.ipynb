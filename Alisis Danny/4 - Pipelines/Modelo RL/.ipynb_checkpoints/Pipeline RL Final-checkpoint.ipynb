{
 "cells": [
  {
   "cell_type": "code",
   "execution_count": 1,
   "metadata": {},
   "outputs": [
    {
     "name": "stdout",
     "output_type": "stream",
     "text": [
      "Last updated: 2024-05-29T22:17:02.165385-05:00\n",
      "\n",
      "Python implementation: CPython\n",
      "Python version       : 3.10.11\n",
      "IPython version      : 8.13.2\n",
      "\n",
      "Compiler    : MSC v.1916 64 bit (AMD64)\n",
      "OS          : Windows\n",
      "Release     : 10\n",
      "Machine     : AMD64\n",
      "Processor   : Intel64 Family 6 Model 158 Stepping 10, GenuineIntel\n",
      "CPU cores   : 8\n",
      "Architecture: 64bit\n",
      "\n"
     ]
    }
   ],
   "source": [
    "%load_ext watermark\n",
    "%watermark"
   ]
  },
  {
   "cell_type": "code",
   "execution_count": 2,
   "metadata": {},
   "outputs": [],
   "source": [
    "import pandas as pd\n",
    "import numpy as np\n",
    "from sklearn.linear_model import LogisticRegression\n",
    "from sklearn import preprocessing, feature_extraction\n",
    "from sklearn.preprocessing import StandardScaler\n",
    "from sklearn.impute import SimpleImputer\n",
    "from sklearn.pipeline import Pipeline, FeatureUnion\n",
    "#import category_encoders\n",
    "from sklearn.model_selection import cross_validate\n",
    "from category_encoders import OneHotEncoder\n",
    "from category_encoders.ordinal import OrdinalEncoder\n",
    "from sklearn.pipeline import FeatureUnion\n",
    "from sklearn.model_selection import train_test_split\n",
    "from sklearn import metrics\n",
    "from sklearn.compose import ColumnTransformer"
   ]
  },
  {
   "cell_type": "code",
   "execution_count": 3,
   "metadata": {},
   "outputs": [],
   "source": [
    "consumidores = pd.read_csv(\"C:/Users/Danny/Desktop/Analisis tesis/4 - Pipelines/data/df_consumo_varObjetivo.csv\")"
   ]
  },
  {
   "cell_type": "code",
   "execution_count": 4,
   "metadata": {
    "scrolled": true
   },
   "outputs": [
    {
     "data": {
      "text/html": [
       "<div>\n",
       "<style scoped>\n",
       "    .dataframe tbody tr th:only-of-type {\n",
       "        vertical-align: middle;\n",
       "    }\n",
       "\n",
       "    .dataframe tbody tr th {\n",
       "        vertical-align: top;\n",
       "    }\n",
       "\n",
       "    .dataframe thead th {\n",
       "        text-align: right;\n",
       "    }\n",
       "</style>\n",
       "<table border=\"1\" class=\"dataframe\">\n",
       "  <thead>\n",
       "    <tr style=\"text-align: right;\">\n",
       "      <th></th>\n",
       "      <th>departamento</th>\n",
       "      <th>residentes_hogar</th>\n",
       "      <th>d2_04_num_hijos</th>\n",
       "      <th>per_edad_tipo</th>\n",
       "      <th>estrato_tipo</th>\n",
       "      <th>situacion_tipo</th>\n",
       "      <th>frecuencia_consumo_marihuana_tipo</th>\n",
       "      <th>frecuencia_consumo_cocaina_tipo</th>\n",
       "      <th>frecuencia_consumo_basuco_tipo</th>\n",
       "      <th>per_sexo_tipo</th>\n",
       "      <th>...</th>\n",
       "      <th>g_06_a_posibilidad_conseguir_marihuana_tipo</th>\n",
       "      <th>g_06_b_posibilidad_conseguir_cocaina_tipo</th>\n",
       "      <th>g_06_c_posibilidad_conseguir_basuco_tipo</th>\n",
       "      <th>g_07_alguien_ofrecio_comprar_probar_sp_tipo</th>\n",
       "      <th>g_01_a_num_familiares_consumen_sp_imp_tipo</th>\n",
       "      <th>g_02_a_num_amigos_consumen_sp_imp_tipo</th>\n",
       "      <th>g_08_a_ofrecieron_marihuana_imp_tipo</th>\n",
       "      <th>g_08_b_ofrecieron_cocaina_imp_tipo</th>\n",
       "      <th>g_08_c_ofrecieron_basuco_imp_tipo</th>\n",
       "      <th>CatRiesgo</th>\n",
       "    </tr>\n",
       "  </thead>\n",
       "  <tbody>\n",
       "    <tr>\n",
       "      <th>0</th>\n",
       "      <td>Guaviare</td>\n",
       "      <td>5</td>\n",
       "      <td>0</td>\n",
       "      <td>Joven</td>\n",
       "      <td>Estrato bajo</td>\n",
       "      <td>Trabajando</td>\n",
       "      <td>Nunca</td>\n",
       "      <td>Nunca</td>\n",
       "      <td>Nunca</td>\n",
       "      <td>Hombre</td>\n",
       "      <td>...</td>\n",
       "      <td>g_06_a_No_conoce_facilidad_dificultad</td>\n",
       "      <td>g_06_b_No_conoce_facilidad_dificultad</td>\n",
       "      <td>g_06_c_No_conoce_facilidad_dificultad</td>\n",
       "      <td>g_07_No</td>\n",
       "      <td>g_01_a_No_aplica</td>\n",
       "      <td>g_02_a_Dos_o_mas</td>\n",
       "      <td>g_08_a_No_aplica</td>\n",
       "      <td>g_08_b_No_aplica</td>\n",
       "      <td>g_08_c_No_aplica</td>\n",
       "      <td>0</td>\n",
       "    </tr>\n",
       "    <tr>\n",
       "      <th>1</th>\n",
       "      <td>Cordoba</td>\n",
       "      <td>4</td>\n",
       "      <td>3</td>\n",
       "      <td>Adulto</td>\n",
       "      <td>Estrato bajo</td>\n",
       "      <td>Trabajando</td>\n",
       "      <td>Nunca</td>\n",
       "      <td>Nunca</td>\n",
       "      <td>Nunca</td>\n",
       "      <td>Mujer</td>\n",
       "      <td>...</td>\n",
       "      <td>g_06_a_Seria_facil</td>\n",
       "      <td>g_06_b_Seria_facil</td>\n",
       "      <td>g_06_c_Seria_facil</td>\n",
       "      <td>g_07_No</td>\n",
       "      <td>g_01_a_No_aplica</td>\n",
       "      <td>g_02_a_No_aplica</td>\n",
       "      <td>g_08_a_No_aplica</td>\n",
       "      <td>g_08_b_No_aplica</td>\n",
       "      <td>g_08_c_No_aplica</td>\n",
       "      <td>0</td>\n",
       "    </tr>\n",
       "    <tr>\n",
       "      <th>2</th>\n",
       "      <td>Caqueta</td>\n",
       "      <td>4</td>\n",
       "      <td>2</td>\n",
       "      <td>Adulto</td>\n",
       "      <td>Estrato bajo</td>\n",
       "      <td>Trabajando</td>\n",
       "      <td>Nunca</td>\n",
       "      <td>Nunca</td>\n",
       "      <td>Nunca</td>\n",
       "      <td>Hombre</td>\n",
       "      <td>...</td>\n",
       "      <td>g_06_a_No_conoce_facilidad_dificultad</td>\n",
       "      <td>g_06_b_No_conoce_facilidad_dificultad</td>\n",
       "      <td>g_06_c_No_conoce_facilidad_dificultad</td>\n",
       "      <td>g_07_No</td>\n",
       "      <td>g_01_a_No_aplica</td>\n",
       "      <td>g_02_a_No_aplica</td>\n",
       "      <td>g_08_a_No_aplica</td>\n",
       "      <td>g_08_b_No_aplica</td>\n",
       "      <td>g_08_c_No_aplica</td>\n",
       "      <td>0</td>\n",
       "    </tr>\n",
       "    <tr>\n",
       "      <th>3</th>\n",
       "      <td>Bolivar</td>\n",
       "      <td>6</td>\n",
       "      <td>0</td>\n",
       "      <td>Adulto</td>\n",
       "      <td>Estrato alto</td>\n",
       "      <td>Trabajando</td>\n",
       "      <td>Nunca</td>\n",
       "      <td>Nunca</td>\n",
       "      <td>Nunca</td>\n",
       "      <td>Mujer</td>\n",
       "      <td>...</td>\n",
       "      <td>g_06_a_No_podria_conseguir</td>\n",
       "      <td>g_06_b_No_podria_conseguir</td>\n",
       "      <td>g_06_c_No_podria_conseguir</td>\n",
       "      <td>g_07_No</td>\n",
       "      <td>g_01_a_No_aplica</td>\n",
       "      <td>g_02_a_No_aplica</td>\n",
       "      <td>g_08_a_No_aplica</td>\n",
       "      <td>g_08_b_No_aplica</td>\n",
       "      <td>g_08_c_No_aplica</td>\n",
       "      <td>0</td>\n",
       "    </tr>\n",
       "    <tr>\n",
       "      <th>4</th>\n",
       "      <td>Tolima</td>\n",
       "      <td>4</td>\n",
       "      <td>1</td>\n",
       "      <td>Joven</td>\n",
       "      <td>Estrato bajo</td>\n",
       "      <td>Buscando trabajo</td>\n",
       "      <td>Nunca</td>\n",
       "      <td>Nunca</td>\n",
       "      <td>Nunca</td>\n",
       "      <td>Mujer</td>\n",
       "      <td>...</td>\n",
       "      <td>g_06_a_Seria_facil</td>\n",
       "      <td>g_06_b_Seria_facil</td>\n",
       "      <td>g_06_c_Seria_facil</td>\n",
       "      <td>g_07_No</td>\n",
       "      <td>g_01_a_No_aplica</td>\n",
       "      <td>g_02_a_Dos_o_mas</td>\n",
       "      <td>g_08_a_No_aplica</td>\n",
       "      <td>g_08_b_No_aplica</td>\n",
       "      <td>g_08_c_No_aplica</td>\n",
       "      <td>1</td>\n",
       "    </tr>\n",
       "  </tbody>\n",
       "</table>\n",
       "<p>5 rows × 40 columns</p>\n",
       "</div>"
      ],
      "text/plain": [
       "  departamento  residentes_hogar  d2_04_num_hijos per_edad_tipo  estrato_tipo  \\\n",
       "0     Guaviare                 5                0         Joven  Estrato bajo   \n",
       "1      Cordoba                 4                3        Adulto  Estrato bajo   \n",
       "2      Caqueta                 4                2        Adulto  Estrato bajo   \n",
       "3      Bolivar                 6                0        Adulto  Estrato alto   \n",
       "4       Tolima                 4                1         Joven  Estrato bajo   \n",
       "\n",
       "     situacion_tipo frecuencia_consumo_marihuana_tipo  \\\n",
       "0        Trabajando                             Nunca   \n",
       "1        Trabajando                             Nunca   \n",
       "2        Trabajando                             Nunca   \n",
       "3        Trabajando                             Nunca   \n",
       "4  Buscando trabajo                             Nunca   \n",
       "\n",
       "  frecuencia_consumo_cocaina_tipo frecuencia_consumo_basuco_tipo  \\\n",
       "0                           Nunca                          Nunca   \n",
       "1                           Nunca                          Nunca   \n",
       "2                           Nunca                          Nunca   \n",
       "3                           Nunca                          Nunca   \n",
       "4                           Nunca                          Nunca   \n",
       "\n",
       "  per_sexo_tipo  ... g_06_a_posibilidad_conseguir_marihuana_tipo  \\\n",
       "0        Hombre  ...       g_06_a_No_conoce_facilidad_dificultad   \n",
       "1         Mujer  ...                          g_06_a_Seria_facil   \n",
       "2        Hombre  ...       g_06_a_No_conoce_facilidad_dificultad   \n",
       "3         Mujer  ...                  g_06_a_No_podria_conseguir   \n",
       "4         Mujer  ...                          g_06_a_Seria_facil   \n",
       "\n",
       "  g_06_b_posibilidad_conseguir_cocaina_tipo  \\\n",
       "0     g_06_b_No_conoce_facilidad_dificultad   \n",
       "1                        g_06_b_Seria_facil   \n",
       "2     g_06_b_No_conoce_facilidad_dificultad   \n",
       "3                g_06_b_No_podria_conseguir   \n",
       "4                        g_06_b_Seria_facil   \n",
       "\n",
       "  g_06_c_posibilidad_conseguir_basuco_tipo  \\\n",
       "0    g_06_c_No_conoce_facilidad_dificultad   \n",
       "1                       g_06_c_Seria_facil   \n",
       "2    g_06_c_No_conoce_facilidad_dificultad   \n",
       "3               g_06_c_No_podria_conseguir   \n",
       "4                       g_06_c_Seria_facil   \n",
       "\n",
       "  g_07_alguien_ofrecio_comprar_probar_sp_tipo  \\\n",
       "0                                     g_07_No   \n",
       "1                                     g_07_No   \n",
       "2                                     g_07_No   \n",
       "3                                     g_07_No   \n",
       "4                                     g_07_No   \n",
       "\n",
       "  g_01_a_num_familiares_consumen_sp_imp_tipo  \\\n",
       "0                           g_01_a_No_aplica   \n",
       "1                           g_01_a_No_aplica   \n",
       "2                           g_01_a_No_aplica   \n",
       "3                           g_01_a_No_aplica   \n",
       "4                           g_01_a_No_aplica   \n",
       "\n",
       "  g_02_a_num_amigos_consumen_sp_imp_tipo g_08_a_ofrecieron_marihuana_imp_tipo  \\\n",
       "0                       g_02_a_Dos_o_mas                     g_08_a_No_aplica   \n",
       "1                       g_02_a_No_aplica                     g_08_a_No_aplica   \n",
       "2                       g_02_a_No_aplica                     g_08_a_No_aplica   \n",
       "3                       g_02_a_No_aplica                     g_08_a_No_aplica   \n",
       "4                       g_02_a_Dos_o_mas                     g_08_a_No_aplica   \n",
       "\n",
       "  g_08_b_ofrecieron_cocaina_imp_tipo g_08_c_ofrecieron_basuco_imp_tipo  \\\n",
       "0                   g_08_b_No_aplica                  g_08_c_No_aplica   \n",
       "1                   g_08_b_No_aplica                  g_08_c_No_aplica   \n",
       "2                   g_08_b_No_aplica                  g_08_c_No_aplica   \n",
       "3                   g_08_b_No_aplica                  g_08_c_No_aplica   \n",
       "4                   g_08_b_No_aplica                  g_08_c_No_aplica   \n",
       "\n",
       "  CatRiesgo  \n",
       "0         0  \n",
       "1         0  \n",
       "2         0  \n",
       "3         0  \n",
       "4         1  \n",
       "\n",
       "[5 rows x 40 columns]"
      ]
     },
     "execution_count": 4,
     "metadata": {},
     "output_type": "execute_result"
    }
   ],
   "source": [
    "consumidores.head()"
   ]
  },
  {
   "cell_type": "markdown",
   "metadata": {},
   "source": [
    "Como vimos en un apartado anterior, en este modelo vamos a modificar cada variable en función de su tipo. Al conjunto de pasos que siguen los datos se le llama comúnmente **Pipelines** (literalmente, sistemas de tuberias)."
   ]
  },
  {
   "cell_type": "code",
   "execution_count": 5,
   "metadata": {
    "scrolled": false
   },
   "outputs": [
    {
     "data": {
      "text/plain": [
       "(10000, 40)"
      ]
     },
     "execution_count": 5,
     "metadata": {},
     "output_type": "execute_result"
    }
   ],
   "source": [
    "consumidores.shape"
   ]
  },
  {
   "cell_type": "markdown",
   "metadata": {},
   "source": [
    "**INCISO**\n",
    "\n",
    "vamos a modificar dos transformadores de scikitlearn para que sean compatibles con pipelines. Este paso es necesario en la version actual de scikit-learn, pero seguramente será arreglado en el futuro"
   ]
  },
  {
   "cell_type": "code",
   "execution_count": 6,
   "metadata": {},
   "outputs": [],
   "source": [
    "variable_objetivo = [\"CatRiesgo\"]\n",
    "variables_independientes = consumidores.drop(variable_objetivo, axis=1).columns"
   ]
  },
  {
   "cell_type": "code",
   "execution_count": 7,
   "metadata": {},
   "outputs": [],
   "source": [
    "datos_numericos = consumidores[variables_independientes].select_dtypes([int, float])\n",
    "col_numericas = datos_numericos.columns\n",
    "col_no_numericas = consumidores[variables_independientes].select_dtypes([object]).columns\n",
    "\n",
    "dict_var_ordinales = {\n",
    "    \"per_edad_tipo\": [\"Adolescente\", \"Joven\", \"Adulto\", \"Persona mayor\"],\n",
    "    \"estrato_tipo\":[\"Estrato bajo\", \"Estrato medio\", \"Estrato alto\"],\n",
    "    \"d_08_estado_salud_tipo\":[\"d_08_Muy_malo\",\"d_08_Malo\",\"d_08_Regular\",\"d_08_Bueno\",\"d_08_Muy_bueno\"],\n",
    "    \"frecuencia_consumo_marihuana_tipo\":[\"Nunca\", \"Alguna vez en su vida\", \"Una vez en el año\", \"Algunas veces durante los últimos 12 meses\", \"Algunas veces mensualmente\", \"Algunas veces semanalmente\", \"Diariamente\"],\n",
    "    \"frecuencia_consumo_cocaina_tipo\":[\"Nunca\", \"Alguna vez en su vida\", \"Una vez en el año\", \"Algunas veces durante los últimos 12 meses\", \"Algunas veces mensualmente\", \"Algunas veces semanalmente\", \"Diariamente\"],\n",
    "    \"frecuencia_consumo_basuco_tipo\":[\"Nunca\", \"Alguna vez en su vida\", \"Una vez en el año\", \"Algunas veces durante los últimos 12 meses\", \"Algunas veces mensualmente\", \"Algunas veces semanalmente\", \"Diariamente\"],\n",
    "}\n",
    "\n",
    "col_ordinales = list(dict_var_ordinales.keys())\n",
    "datos_ordinales = consumidores[col_ordinales]\n",
    "col_categoricas = list(set(col_no_numericas) - set(col_ordinales))\n",
    "datos_categoricos = consumidores[col_categoricas]"
   ]
  },
  {
   "cell_type": "markdown",
   "metadata": {},
   "source": [
    "Un pipeline de sklearn se define como una secuencia de pasos. Cada paso se define con una tupla de forma `[nombre del paso, transformador]`\n",
    "\n",
    "Por ejemplo, si queremos crear un pipeline que procese las variables numéricas, primero imputándolas y después estandarizandolas, podriamos crear un pipeline"
   ]
  },
  {
   "cell_type": "markdown",
   "metadata": {},
   "source": [
    "Creamos ahora los pipelines para cada tipo de variable. Es necesario aclarar que se va ha hacer uso de la libreria Category Encoders par ael procesamiento de variables categoricas y categoricas ordinales"
   ]
  },
  {
   "cell_type": "code",
   "execution_count": 8,
   "metadata": {},
   "outputs": [
    {
     "data": {
      "text/plain": [
       "array([[0.30769231, 0.        ],\n",
       "       [0.23076923, 0.25      ],\n",
       "       [0.23076923, 0.16666667],\n",
       "       [0.38461538, 0.        ],\n",
       "       [0.23076923, 0.08333333]])"
      ]
     },
     "execution_count": 8,
     "metadata": {},
     "output_type": "execute_result"
    }
   ],
   "source": [
    "transformador_numerico = Pipeline([\n",
    "    (\"imputador_numerico\", SimpleImputer(missing_values=np.nan, strategy='mean')),\n",
    "    (\"escalador_numerico\", preprocessing.MinMaxScaler())\n",
    "])\n",
    "\n",
    "pipeline_numerico = ColumnTransformer([\n",
    "    (\"transformador_numerico\", transformador_numerico, col_numericas),\n",
    "])\n",
    "\n",
    "pipeline_numerico.fit_transform(consumidores)[:5]"
   ]
  },
  {
   "cell_type": "code",
   "execution_count": 9,
   "metadata": {},
   "outputs": [
    {
     "data": {
      "text/html": [
       "<style>#sk-container-id-1 {color: black;}#sk-container-id-1 pre{padding: 0;}#sk-container-id-1 div.sk-toggleable {background-color: white;}#sk-container-id-1 label.sk-toggleable__label {cursor: pointer;display: block;width: 100%;margin-bottom: 0;padding: 0.3em;box-sizing: border-box;text-align: center;}#sk-container-id-1 label.sk-toggleable__label-arrow:before {content: \"▸\";float: left;margin-right: 0.25em;color: #696969;}#sk-container-id-1 label.sk-toggleable__label-arrow:hover:before {color: black;}#sk-container-id-1 div.sk-estimator:hover label.sk-toggleable__label-arrow:before {color: black;}#sk-container-id-1 div.sk-toggleable__content {max-height: 0;max-width: 0;overflow: hidden;text-align: left;background-color: #f0f8ff;}#sk-container-id-1 div.sk-toggleable__content pre {margin: 0.2em;color: black;border-radius: 0.25em;background-color: #f0f8ff;}#sk-container-id-1 input.sk-toggleable__control:checked~div.sk-toggleable__content {max-height: 200px;max-width: 100%;overflow: auto;}#sk-container-id-1 input.sk-toggleable__control:checked~label.sk-toggleable__label-arrow:before {content: \"▾\";}#sk-container-id-1 div.sk-estimator input.sk-toggleable__control:checked~label.sk-toggleable__label {background-color: #d4ebff;}#sk-container-id-1 div.sk-label input.sk-toggleable__control:checked~label.sk-toggleable__label {background-color: #d4ebff;}#sk-container-id-1 input.sk-hidden--visually {border: 0;clip: rect(1px 1px 1px 1px);clip: rect(1px, 1px, 1px, 1px);height: 1px;margin: -1px;overflow: hidden;padding: 0;position: absolute;width: 1px;}#sk-container-id-1 div.sk-estimator {font-family: monospace;background-color: #f0f8ff;border: 1px dotted black;border-radius: 0.25em;box-sizing: border-box;margin-bottom: 0.5em;}#sk-container-id-1 div.sk-estimator:hover {background-color: #d4ebff;}#sk-container-id-1 div.sk-parallel-item::after {content: \"\";width: 100%;border-bottom: 1px solid gray;flex-grow: 1;}#sk-container-id-1 div.sk-label:hover label.sk-toggleable__label {background-color: #d4ebff;}#sk-container-id-1 div.sk-serial::before {content: \"\";position: absolute;border-left: 1px solid gray;box-sizing: border-box;top: 0;bottom: 0;left: 50%;z-index: 0;}#sk-container-id-1 div.sk-serial {display: flex;flex-direction: column;align-items: center;background-color: white;padding-right: 0.2em;padding-left: 0.2em;position: relative;}#sk-container-id-1 div.sk-item {position: relative;z-index: 1;}#sk-container-id-1 div.sk-parallel {display: flex;align-items: stretch;justify-content: center;background-color: white;position: relative;}#sk-container-id-1 div.sk-item::before, #sk-container-id-1 div.sk-parallel-item::before {content: \"\";position: absolute;border-left: 1px solid gray;box-sizing: border-box;top: 0;bottom: 0;left: 50%;z-index: -1;}#sk-container-id-1 div.sk-parallel-item {display: flex;flex-direction: column;z-index: 1;position: relative;background-color: white;}#sk-container-id-1 div.sk-parallel-item:first-child::after {align-self: flex-end;width: 50%;}#sk-container-id-1 div.sk-parallel-item:last-child::after {align-self: flex-start;width: 50%;}#sk-container-id-1 div.sk-parallel-item:only-child::after {width: 0;}#sk-container-id-1 div.sk-dashed-wrapped {border: 1px dashed gray;margin: 0 0.4em 0.5em 0.4em;box-sizing: border-box;padding-bottom: 0.4em;background-color: white;}#sk-container-id-1 div.sk-label label {font-family: monospace;font-weight: bold;display: inline-block;line-height: 1.2em;}#sk-container-id-1 div.sk-label-container {text-align: center;}#sk-container-id-1 div.sk-container {/* jupyter's `normalize.less` sets `[hidden] { display: none; }` but bootstrap.min.css set `[hidden] { display: none !important; }` so we also need the `!important` here to be able to override the default hidden behavior on the sphinx rendered scikit-learn.org. See: https://github.com/scikit-learn/scikit-learn/issues/21755 */display: inline-block !important;position: relative;}#sk-container-id-1 div.sk-text-repr-fallback {display: none;}</style><div id=\"sk-container-id-1\" class=\"sk-top-container\"><div class=\"sk-text-repr-fallback\"><pre>ColumnTransformer(transformers=[(&#x27;transformador_numerico&#x27;,\n",
       "                                 Pipeline(steps=[(&#x27;imputador_numerico&#x27;,\n",
       "                                                  SimpleImputer()),\n",
       "                                                 (&#x27;escalador_numerico&#x27;,\n",
       "                                                  MinMaxScaler())]),\n",
       "                                 Index([&#x27;residentes_hogar&#x27;, &#x27;d2_04_num_hijos&#x27;], dtype=&#x27;object&#x27;))])</pre><b>In a Jupyter environment, please rerun this cell to show the HTML representation or trust the notebook. <br />On GitHub, the HTML representation is unable to render, please try loading this page with nbviewer.org.</b></div><div class=\"sk-container\" hidden><div class=\"sk-item sk-dashed-wrapped\"><div class=\"sk-label-container\"><div class=\"sk-label sk-toggleable\"><input class=\"sk-toggleable__control sk-hidden--visually\" id=\"sk-estimator-id-1\" type=\"checkbox\" ><label for=\"sk-estimator-id-1\" class=\"sk-toggleable__label sk-toggleable__label-arrow\">ColumnTransformer</label><div class=\"sk-toggleable__content\"><pre>ColumnTransformer(transformers=[(&#x27;transformador_numerico&#x27;,\n",
       "                                 Pipeline(steps=[(&#x27;imputador_numerico&#x27;,\n",
       "                                                  SimpleImputer()),\n",
       "                                                 (&#x27;escalador_numerico&#x27;,\n",
       "                                                  MinMaxScaler())]),\n",
       "                                 Index([&#x27;residentes_hogar&#x27;, &#x27;d2_04_num_hijos&#x27;], dtype=&#x27;object&#x27;))])</pre></div></div></div><div class=\"sk-parallel\"><div class=\"sk-parallel-item\"><div class=\"sk-item\"><div class=\"sk-label-container\"><div class=\"sk-label sk-toggleable\"><input class=\"sk-toggleable__control sk-hidden--visually\" id=\"sk-estimator-id-2\" type=\"checkbox\" ><label for=\"sk-estimator-id-2\" class=\"sk-toggleable__label sk-toggleable__label-arrow\">transformador_numerico</label><div class=\"sk-toggleable__content\"><pre>Index([&#x27;residentes_hogar&#x27;, &#x27;d2_04_num_hijos&#x27;], dtype=&#x27;object&#x27;)</pre></div></div></div><div class=\"sk-serial\"><div class=\"sk-item\"><div class=\"sk-serial\"><div class=\"sk-item\"><div class=\"sk-estimator sk-toggleable\"><input class=\"sk-toggleable__control sk-hidden--visually\" id=\"sk-estimator-id-3\" type=\"checkbox\" ><label for=\"sk-estimator-id-3\" class=\"sk-toggleable__label sk-toggleable__label-arrow\">SimpleImputer</label><div class=\"sk-toggleable__content\"><pre>SimpleImputer()</pre></div></div></div><div class=\"sk-item\"><div class=\"sk-estimator sk-toggleable\"><input class=\"sk-toggleable__control sk-hidden--visually\" id=\"sk-estimator-id-4\" type=\"checkbox\" ><label for=\"sk-estimator-id-4\" class=\"sk-toggleable__label sk-toggleable__label-arrow\">MinMaxScaler</label><div class=\"sk-toggleable__content\"><pre>MinMaxScaler()</pre></div></div></div></div></div></div></div></div></div></div></div></div>"
      ],
      "text/plain": [
       "ColumnTransformer(transformers=[('transformador_numerico',\n",
       "                                 Pipeline(steps=[('imputador_numerico',\n",
       "                                                  SimpleImputer()),\n",
       "                                                 ('escalador_numerico',\n",
       "                                                  MinMaxScaler())]),\n",
       "                                 Index(['residentes_hogar', 'd2_04_num_hijos'], dtype='object'))])"
      ]
     },
     "execution_count": 9,
     "metadata": {},
     "output_type": "execute_result"
    }
   ],
   "source": [
    "pipeline_numerico"
   ]
  },
  {
   "cell_type": "markdown",
   "metadata": {},
   "source": [
    "Ahora se procede a crear el pipeline categorico"
   ]
  },
  {
   "cell_type": "code",
   "execution_count": 10,
   "metadata": {},
   "outputs": [
    {
     "data": {
      "text/plain": [
       "array([[1, 0, 0, 0, 1, 0, 1, 0, 0, 0, 0, 0, 0, 0, 0, 0, 0, 0, 0, 0, 0, 0,\n",
       "        0, 0, 0, 0, 0, 0, 0, 0, 0, 0, 0, 0, 0, 0, 0, 0, 1, 0, 0, 0, 0, 0,\n",
       "        0, 0, 1, 0, 1, 0, 1, 0, 0, 0, 0, 1, 0, 0, 0, 1, 0, 0, 0, 0, 1, 0,\n",
       "        1, 0, 0, 1, 0, 0, 0, 0, 1, 0, 0, 0, 0, 1, 0, 1, 0, 1, 0, 0, 0, 1,\n",
       "        0, 0, 1, 0, 1, 0, 1, 0, 0, 0, 0, 1, 0, 1, 0, 0, 0, 0, 0, 1, 0, 0,\n",
       "        0, 1, 0, 0, 0, 0, 1, 0, 0, 1, 0, 1, 0, 1, 0, 0, 0, 1, 0, 0, 0, 0,\n",
       "        1, 0, 0, 1, 0],\n",
       "       [0, 1, 0, 0, 0, 1, 0, 1, 0, 0, 0, 0, 0, 0, 0, 0, 0, 0, 0, 0, 0, 0,\n",
       "        0, 0, 0, 0, 0, 0, 0, 0, 0, 0, 0, 0, 0, 0, 0, 0, 0, 1, 0, 0, 0, 0,\n",
       "        0, 0, 0, 1, 0, 1, 0, 1, 0, 0, 0, 0, 1, 0, 0, 1, 0, 0, 0, 0, 1, 0,\n",
       "        1, 0, 0, 1, 0, 0, 0, 0, 1, 0, 0, 0, 0, 0, 1, 0, 1, 0, 1, 0, 0, 0,\n",
       "        1, 0, 1, 0, 0, 1, 1, 0, 0, 0, 0, 1, 0, 1, 0, 0, 0, 0, 0, 0, 1, 0,\n",
       "        0, 1, 0, 0, 0, 0, 0, 1, 0, 1, 0, 1, 0, 1, 0, 0, 0, 1, 0, 0, 0, 0,\n",
       "        1, 0, 0, 1, 0],\n",
       "       [1, 0, 0, 0, 1, 0, 0, 0, 1, 0, 0, 0, 0, 0, 0, 0, 0, 0, 0, 0, 0, 0,\n",
       "        0, 0, 0, 0, 0, 0, 0, 0, 0, 0, 0, 0, 0, 0, 0, 0, 0, 0, 1, 0, 0, 0,\n",
       "        0, 0, 0, 1, 1, 0, 0, 0, 1, 0, 0, 0, 1, 0, 0, 1, 0, 0, 0, 0, 1, 0,\n",
       "        0, 1, 0, 1, 0, 0, 0, 0, 1, 0, 0, 0, 0, 0, 1, 0, 1, 1, 0, 0, 0, 0,\n",
       "        0, 1, 1, 0, 0, 1, 1, 0, 0, 0, 0, 0, 1, 1, 0, 0, 0, 0, 0, 1, 0, 0,\n",
       "        0, 1, 0, 0, 0, 0, 0, 1, 0, 1, 0, 1, 0, 1, 0, 0, 0, 1, 0, 0, 0, 0,\n",
       "        1, 0, 0, 1, 0],\n",
       "       [0, 0, 1, 0, 1, 0, 0, 0, 0, 1, 0, 0, 0, 0, 0, 0, 0, 0, 0, 0, 0, 0,\n",
       "        0, 0, 0, 0, 0, 0, 0, 0, 0, 0, 0, 0, 0, 0, 0, 0, 0, 0, 0, 1, 0, 0,\n",
       "        0, 0, 1, 0, 0, 1, 1, 0, 0, 0, 0, 0, 1, 0, 0, 1, 0, 0, 0, 0, 1, 0,\n",
       "        0, 0, 1, 1, 0, 0, 0, 0, 1, 0, 0, 0, 0, 0, 1, 0, 1, 0, 0, 1, 0, 0,\n",
       "        1, 0, 1, 0, 1, 0, 0, 1, 0, 0, 0, 1, 0, 0, 1, 0, 0, 0, 0, 0, 0, 1,\n",
       "        0, 1, 0, 0, 0, 0, 0, 1, 0, 1, 0, 1, 0, 1, 0, 0, 0, 1, 0, 0, 0, 0,\n",
       "        1, 0, 0, 1, 0],\n",
       "       [0, 1, 0, 0, 0, 1, 0, 0, 0, 0, 1, 0, 0, 0, 0, 0, 0, 0, 0, 0, 0, 0,\n",
       "        0, 0, 0, 0, 0, 0, 0, 0, 0, 0, 0, 0, 0, 0, 0, 0, 0, 1, 0, 0, 0, 0,\n",
       "        0, 0, 0, 1, 0, 1, 1, 0, 0, 0, 0, 0, 1, 0, 0, 1, 0, 0, 0, 0, 1, 0,\n",
       "        0, 0, 1, 1, 0, 0, 0, 0, 1, 0, 0, 0, 0, 0, 1, 1, 0, 0, 1, 0, 0, 0,\n",
       "        1, 0, 1, 0, 0, 1, 1, 0, 0, 0, 0, 0, 1, 1, 0, 0, 0, 0, 0, 0, 1, 0,\n",
       "        0, 1, 0, 0, 0, 0, 1, 0, 0, 1, 0, 1, 0, 0, 1, 0, 0, 1, 0, 0, 0, 0,\n",
       "        1, 0, 0, 1, 0]], dtype=int64)"
      ]
     },
     "execution_count": 10,
     "metadata": {},
     "output_type": "execute_result"
    }
   ],
   "source": [
    "transformador_categorico = ColumnTransformer([\n",
    "    (\"transformador_categorico\", OneHotEncoder(handle_unknown=\"impute\"), col_categoricas)\n",
    "])\n",
    "\n",
    "pipeline_categorico = Pipeline([\n",
    "    (\"transformador_categorico\", transformador_categorico)\n",
    "])\n",
    "\n",
    "pipeline_categorico.fit_transform(consumidores)[:5]"
   ]
  },
  {
   "cell_type": "code",
   "execution_count": 11,
   "metadata": {},
   "outputs": [
    {
     "data": {
      "text/html": [
       "<style>#sk-container-id-2 {color: black;}#sk-container-id-2 pre{padding: 0;}#sk-container-id-2 div.sk-toggleable {background-color: white;}#sk-container-id-2 label.sk-toggleable__label {cursor: pointer;display: block;width: 100%;margin-bottom: 0;padding: 0.3em;box-sizing: border-box;text-align: center;}#sk-container-id-2 label.sk-toggleable__label-arrow:before {content: \"▸\";float: left;margin-right: 0.25em;color: #696969;}#sk-container-id-2 label.sk-toggleable__label-arrow:hover:before {color: black;}#sk-container-id-2 div.sk-estimator:hover label.sk-toggleable__label-arrow:before {color: black;}#sk-container-id-2 div.sk-toggleable__content {max-height: 0;max-width: 0;overflow: hidden;text-align: left;background-color: #f0f8ff;}#sk-container-id-2 div.sk-toggleable__content pre {margin: 0.2em;color: black;border-radius: 0.25em;background-color: #f0f8ff;}#sk-container-id-2 input.sk-toggleable__control:checked~div.sk-toggleable__content {max-height: 200px;max-width: 100%;overflow: auto;}#sk-container-id-2 input.sk-toggleable__control:checked~label.sk-toggleable__label-arrow:before {content: \"▾\";}#sk-container-id-2 div.sk-estimator input.sk-toggleable__control:checked~label.sk-toggleable__label {background-color: #d4ebff;}#sk-container-id-2 div.sk-label input.sk-toggleable__control:checked~label.sk-toggleable__label {background-color: #d4ebff;}#sk-container-id-2 input.sk-hidden--visually {border: 0;clip: rect(1px 1px 1px 1px);clip: rect(1px, 1px, 1px, 1px);height: 1px;margin: -1px;overflow: hidden;padding: 0;position: absolute;width: 1px;}#sk-container-id-2 div.sk-estimator {font-family: monospace;background-color: #f0f8ff;border: 1px dotted black;border-radius: 0.25em;box-sizing: border-box;margin-bottom: 0.5em;}#sk-container-id-2 div.sk-estimator:hover {background-color: #d4ebff;}#sk-container-id-2 div.sk-parallel-item::after {content: \"\";width: 100%;border-bottom: 1px solid gray;flex-grow: 1;}#sk-container-id-2 div.sk-label:hover label.sk-toggleable__label {background-color: #d4ebff;}#sk-container-id-2 div.sk-serial::before {content: \"\";position: absolute;border-left: 1px solid gray;box-sizing: border-box;top: 0;bottom: 0;left: 50%;z-index: 0;}#sk-container-id-2 div.sk-serial {display: flex;flex-direction: column;align-items: center;background-color: white;padding-right: 0.2em;padding-left: 0.2em;position: relative;}#sk-container-id-2 div.sk-item {position: relative;z-index: 1;}#sk-container-id-2 div.sk-parallel {display: flex;align-items: stretch;justify-content: center;background-color: white;position: relative;}#sk-container-id-2 div.sk-item::before, #sk-container-id-2 div.sk-parallel-item::before {content: \"\";position: absolute;border-left: 1px solid gray;box-sizing: border-box;top: 0;bottom: 0;left: 50%;z-index: -1;}#sk-container-id-2 div.sk-parallel-item {display: flex;flex-direction: column;z-index: 1;position: relative;background-color: white;}#sk-container-id-2 div.sk-parallel-item:first-child::after {align-self: flex-end;width: 50%;}#sk-container-id-2 div.sk-parallel-item:last-child::after {align-self: flex-start;width: 50%;}#sk-container-id-2 div.sk-parallel-item:only-child::after {width: 0;}#sk-container-id-2 div.sk-dashed-wrapped {border: 1px dashed gray;margin: 0 0.4em 0.5em 0.4em;box-sizing: border-box;padding-bottom: 0.4em;background-color: white;}#sk-container-id-2 div.sk-label label {font-family: monospace;font-weight: bold;display: inline-block;line-height: 1.2em;}#sk-container-id-2 div.sk-label-container {text-align: center;}#sk-container-id-2 div.sk-container {/* jupyter's `normalize.less` sets `[hidden] { display: none; }` but bootstrap.min.css set `[hidden] { display: none !important; }` so we also need the `!important` here to be able to override the default hidden behavior on the sphinx rendered scikit-learn.org. See: https://github.com/scikit-learn/scikit-learn/issues/21755 */display: inline-block !important;position: relative;}#sk-container-id-2 div.sk-text-repr-fallback {display: none;}</style><div id=\"sk-container-id-2\" class=\"sk-top-container\"><div class=\"sk-text-repr-fallback\"><pre>Pipeline(steps=[(&#x27;transformador_categorico&#x27;,\n",
       "                 ColumnTransformer(transformers=[(&#x27;transformador_categorico&#x27;,\n",
       "                                                  OneHotEncoder(handle_unknown=&#x27;impute&#x27;),\n",
       "                                                  [&#x27;g_06_b_posibilidad_conseguir_cocaina_tipo&#x27;,\n",
       "                                                   &#x27;d_01_aporta_dinero_hogar_tipo&#x27;,\n",
       "                                                   &#x27;departamento&#x27;,\n",
       "                                                   &#x27;d2_05_nivel_educativo_tipo&#x27;,\n",
       "                                                   &#x27;d_09_deprimido_tipo&#x27;,\n",
       "                                                   &#x27;per_sexo_tipo&#x27;,\n",
       "                                                   &#x27;d2_03_estado_civil_tipo&#x27;,\n",
       "                                                   &#x27;vivienda_tipo&#x27;,\n",
       "                                                   &#x27;g_08_...\n",
       "                                                   &#x27;d_12_c_presenta_problema_expendio_sp_barrio_tipo&#x27;,\n",
       "                                                   &#x27;d2_01_etnia_tipo&#x27;,\n",
       "                                                   &#x27;g_06_a_posibilidad_conseguir_marihuana_tipo&#x27;,\n",
       "                                                   &#x27;d_11_k_conocimiento_riesgo_cocaina_frecuentemente_tipo&#x27;,\n",
       "                                                   &#x27;g_02_a_num_amigos_consumen_sp_imp_tipo&#x27;,\n",
       "                                                   &#x27;g_03_curiosidad_probar_sp_tipo&#x27;,\n",
       "                                                   &#x27;g_05_posibilidad_probar_sp_tipo&#x27;,\n",
       "                                                   &#x27;situacion_tipo&#x27;,\n",
       "                                                   &#x27;g_08_c_ofrecieron_basuco_imp_tipo&#x27;,\n",
       "                                                   &#x27;g_01_a_num_familiares_consumen_sp_imp_tipo&#x27;, ...])]))])</pre><b>In a Jupyter environment, please rerun this cell to show the HTML representation or trust the notebook. <br />On GitHub, the HTML representation is unable to render, please try loading this page with nbviewer.org.</b></div><div class=\"sk-container\" hidden><div class=\"sk-item sk-dashed-wrapped\"><div class=\"sk-label-container\"><div class=\"sk-label sk-toggleable\"><input class=\"sk-toggleable__control sk-hidden--visually\" id=\"sk-estimator-id-5\" type=\"checkbox\" ><label for=\"sk-estimator-id-5\" class=\"sk-toggleable__label sk-toggleable__label-arrow\">Pipeline</label><div class=\"sk-toggleable__content\"><pre>Pipeline(steps=[(&#x27;transformador_categorico&#x27;,\n",
       "                 ColumnTransformer(transformers=[(&#x27;transformador_categorico&#x27;,\n",
       "                                                  OneHotEncoder(handle_unknown=&#x27;impute&#x27;),\n",
       "                                                  [&#x27;g_06_b_posibilidad_conseguir_cocaina_tipo&#x27;,\n",
       "                                                   &#x27;d_01_aporta_dinero_hogar_tipo&#x27;,\n",
       "                                                   &#x27;departamento&#x27;,\n",
       "                                                   &#x27;d2_05_nivel_educativo_tipo&#x27;,\n",
       "                                                   &#x27;d_09_deprimido_tipo&#x27;,\n",
       "                                                   &#x27;per_sexo_tipo&#x27;,\n",
       "                                                   &#x27;d2_03_estado_civil_tipo&#x27;,\n",
       "                                                   &#x27;vivienda_tipo&#x27;,\n",
       "                                                   &#x27;g_08_...\n",
       "                                                   &#x27;d_12_c_presenta_problema_expendio_sp_barrio_tipo&#x27;,\n",
       "                                                   &#x27;d2_01_etnia_tipo&#x27;,\n",
       "                                                   &#x27;g_06_a_posibilidad_conseguir_marihuana_tipo&#x27;,\n",
       "                                                   &#x27;d_11_k_conocimiento_riesgo_cocaina_frecuentemente_tipo&#x27;,\n",
       "                                                   &#x27;g_02_a_num_amigos_consumen_sp_imp_tipo&#x27;,\n",
       "                                                   &#x27;g_03_curiosidad_probar_sp_tipo&#x27;,\n",
       "                                                   &#x27;g_05_posibilidad_probar_sp_tipo&#x27;,\n",
       "                                                   &#x27;situacion_tipo&#x27;,\n",
       "                                                   &#x27;g_08_c_ofrecieron_basuco_imp_tipo&#x27;,\n",
       "                                                   &#x27;g_01_a_num_familiares_consumen_sp_imp_tipo&#x27;, ...])]))])</pre></div></div></div><div class=\"sk-serial\"><div class=\"sk-item sk-dashed-wrapped\"><div class=\"sk-label-container\"><div class=\"sk-label sk-toggleable\"><input class=\"sk-toggleable__control sk-hidden--visually\" id=\"sk-estimator-id-6\" type=\"checkbox\" ><label for=\"sk-estimator-id-6\" class=\"sk-toggleable__label sk-toggleable__label-arrow\">transformador_categorico: ColumnTransformer</label><div class=\"sk-toggleable__content\"><pre>ColumnTransformer(transformers=[(&#x27;transformador_categorico&#x27;,\n",
       "                                 OneHotEncoder(handle_unknown=&#x27;impute&#x27;),\n",
       "                                 [&#x27;g_06_b_posibilidad_conseguir_cocaina_tipo&#x27;,\n",
       "                                  &#x27;d_01_aporta_dinero_hogar_tipo&#x27;,\n",
       "                                  &#x27;departamento&#x27;, &#x27;d2_05_nivel_educativo_tipo&#x27;,\n",
       "                                  &#x27;d_09_deprimido_tipo&#x27;, &#x27;per_sexo_tipo&#x27;,\n",
       "                                  &#x27;d2_03_estado_civil_tipo&#x27;, &#x27;vivienda_tipo&#x27;,\n",
       "                                  &#x27;g_08_a_ofrecieron_marihuana_imp_tipo&#x27;,\n",
       "                                  &#x27;g_01_famil...\n",
       "                                  &#x27;d_12_c_presenta_problema_expendio_sp_barrio_tipo&#x27;,\n",
       "                                  &#x27;d2_01_etnia_tipo&#x27;,\n",
       "                                  &#x27;g_06_a_posibilidad_conseguir_marihuana_tipo&#x27;,\n",
       "                                  &#x27;d_11_k_conocimiento_riesgo_cocaina_frecuentemente_tipo&#x27;,\n",
       "                                  &#x27;g_02_a_num_amigos_consumen_sp_imp_tipo&#x27;,\n",
       "                                  &#x27;g_03_curiosidad_probar_sp_tipo&#x27;,\n",
       "                                  &#x27;g_05_posibilidad_probar_sp_tipo&#x27;,\n",
       "                                  &#x27;situacion_tipo&#x27;,\n",
       "                                  &#x27;g_08_c_ofrecieron_basuco_imp_tipo&#x27;,\n",
       "                                  &#x27;g_01_a_num_familiares_consumen_sp_imp_tipo&#x27;, ...])])</pre></div></div></div><div class=\"sk-parallel\"><div class=\"sk-parallel-item\"><div class=\"sk-item\"><div class=\"sk-label-container\"><div class=\"sk-label sk-toggleable\"><input class=\"sk-toggleable__control sk-hidden--visually\" id=\"sk-estimator-id-7\" type=\"checkbox\" ><label for=\"sk-estimator-id-7\" class=\"sk-toggleable__label sk-toggleable__label-arrow\">transformador_categorico</label><div class=\"sk-toggleable__content\"><pre>[&#x27;g_06_b_posibilidad_conseguir_cocaina_tipo&#x27;, &#x27;d_01_aporta_dinero_hogar_tipo&#x27;, &#x27;departamento&#x27;, &#x27;d2_05_nivel_educativo_tipo&#x27;, &#x27;d_09_deprimido_tipo&#x27;, &#x27;per_sexo_tipo&#x27;, &#x27;d2_03_estado_civil_tipo&#x27;, &#x27;vivienda_tipo&#x27;, &#x27;g_08_a_ofrecieron_marihuana_imp_tipo&#x27;, &#x27;g_01_familiares_consumen_sp_tipo&#x27;, &#x27;vive_padre_hogar_tipo&#x27;, &#x27;g_08_b_ofrecieron_cocaina_imp_tipo&#x27;, &#x27;d_11_n_conocimiento_riesgo_fumar_basuco_frecuentemente_tipo&#x27;, &#x27;d_12_b_presenta_problema_consumo_sp_barrio_tipo&#x27;, &#x27;g_02_amigos_consumen_sp_tipo&#x27;, &#x27;g_06_c_posibilidad_conseguir_basuco_tipo&#x27;, &#x27;vive_madre_hogar_tipo&#x27;, &#x27;g_07_alguien_ofrecio_comprar_probar_sp_tipo&#x27;, &#x27;d_10_poco_interes_tipo&#x27;, &#x27;d_11_h_conocimiento_riesgo_fumar_marihuana_frecuentemente_tipo&#x27;, &#x27;d_12_c_presenta_problema_expendio_sp_barrio_tipo&#x27;, &#x27;d2_01_etnia_tipo&#x27;, &#x27;g_06_a_posibilidad_conseguir_marihuana_tipo&#x27;, &#x27;d_11_k_conocimiento_riesgo_cocaina_frecuentemente_tipo&#x27;, &#x27;g_02_a_num_amigos_consumen_sp_imp_tipo&#x27;, &#x27;g_03_curiosidad_probar_sp_tipo&#x27;, &#x27;g_05_posibilidad_probar_sp_tipo&#x27;, &#x27;situacion_tipo&#x27;, &#x27;g_08_c_ofrecieron_basuco_imp_tipo&#x27;, &#x27;g_01_a_num_familiares_consumen_sp_imp_tipo&#x27;, &#x27;g_04_probaria_sp_tipo&#x27;]</pre></div></div></div><div class=\"sk-serial\"><div class=\"sk-item\"><div class=\"sk-estimator sk-toggleable\"><input class=\"sk-toggleable__control sk-hidden--visually\" id=\"sk-estimator-id-8\" type=\"checkbox\" ><label for=\"sk-estimator-id-8\" class=\"sk-toggleable__label sk-toggleable__label-arrow\">OneHotEncoder</label><div class=\"sk-toggleable__content\"><pre>OneHotEncoder(handle_unknown=&#x27;impute&#x27;)</pre></div></div></div></div></div></div></div></div></div></div></div></div>"
      ],
      "text/plain": [
       "Pipeline(steps=[('transformador_categorico',\n",
       "                 ColumnTransformer(transformers=[('transformador_categorico',\n",
       "                                                  OneHotEncoder(handle_unknown='impute'),\n",
       "                                                  ['g_06_b_posibilidad_conseguir_cocaina_tipo',\n",
       "                                                   'd_01_aporta_dinero_hogar_tipo',\n",
       "                                                   'departamento',\n",
       "                                                   'd2_05_nivel_educativo_tipo',\n",
       "                                                   'd_09_deprimido_tipo',\n",
       "                                                   'per_sexo_tipo',\n",
       "                                                   'd2_03_estado_civil_tipo',\n",
       "                                                   'vivienda_tipo',\n",
       "                                                   'g_08_...\n",
       "                                                   'd_12_c_presenta_problema_expendio_sp_barrio_tipo',\n",
       "                                                   'd2_01_etnia_tipo',\n",
       "                                                   'g_06_a_posibilidad_conseguir_marihuana_tipo',\n",
       "                                                   'd_11_k_conocimiento_riesgo_cocaina_frecuentemente_tipo',\n",
       "                                                   'g_02_a_num_amigos_consumen_sp_imp_tipo',\n",
       "                                                   'g_03_curiosidad_probar_sp_tipo',\n",
       "                                                   'g_05_posibilidad_probar_sp_tipo',\n",
       "                                                   'situacion_tipo',\n",
       "                                                   'g_08_c_ofrecieron_basuco_imp_tipo',\n",
       "                                                   'g_01_a_num_familiares_consumen_sp_imp_tipo', ...])]))])"
      ]
     },
     "execution_count": 11,
     "metadata": {},
     "output_type": "execute_result"
    }
   ],
   "source": [
    "pipeline_categorico"
   ]
  },
  {
   "cell_type": "markdown",
   "metadata": {},
   "source": [
    "`category_encoders.OrdinalEncoders` requiere un mapeado específico para cada columna, indicando el número por el que queremos reemplazar cada nivel de cada variable ordinal. Si no especificamos un mapa, asume que el orden es aleatorio."
   ]
  },
  {
   "cell_type": "code",
   "execution_count": 12,
   "metadata": {
    "scrolled": true
   },
   "outputs": [],
   "source": [
    "niveles_ordinales = []\n",
    "for col, levels in dict_var_ordinales.items():\n",
    "    niveles_ordinales.append({\"col\": col, \n",
    "                              \"mapping\": dict(zip(levels, range(len(levels))))})"
   ]
  },
  {
   "cell_type": "code",
   "execution_count": 13,
   "metadata": {
    "scrolled": true
   },
   "outputs": [
    {
     "data": {
      "text/plain": [
       "array([[1, 0, 1, 0, 0, 0],\n",
       "       [2, 0, 2, 0, 0, 0],\n",
       "       [2, 0, 3, 0, 0, 0],\n",
       "       [2, 2, 3, 0, 0, 0],\n",
       "       [1, 0, 3, 0, 0, 0]])"
      ]
     },
     "execution_count": 13,
     "metadata": {},
     "output_type": "execute_result"
    }
   ],
   "source": [
    "transformador_ordinal = ColumnTransformer([\n",
    "    (\"transformador_ordinal\", OrdinalEncoder(mapping=niveles_ordinales), col_ordinales)\n",
    "])\n",
    "\n",
    "pipeline_ordinal = Pipeline([\n",
    "    (\"transformador_ordinal\", transformador_ordinal)\n",
    "])\n",
    "pipeline_ordinal.fit_transform(consumidores)[:5]"
   ]
  },
  {
   "cell_type": "markdown",
   "metadata": {},
   "source": [
    "Ya tenemos una manera de, dado un conjunto de datos, separarlos y aplicar distintas transformaciones a cada variable. Nos falta una manera de, una vez se han transformado, reunirlas de nuevo."
   ]
  },
  {
   "cell_type": "markdown",
   "metadata": {},
   "source": [
    "Para ello podemos usar `FeatureUnion`, que simplemente toma un conjunto de pasos de un pipeline y los une."
   ]
  },
  {
   "cell_type": "code",
   "execution_count": 14,
   "metadata": {},
   "outputs": [],
   "source": [
    "pipeline_procesado = FeatureUnion([\n",
    "    ('variables_numericas', pipeline_numerico),\n",
    "    ('variables_ordinales', pipeline_ordinal),\n",
    "    ('variables_categoricas', pipeline_categorico),\n",
    "])"
   ]
  },
  {
   "cell_type": "code",
   "execution_count": 15,
   "metadata": {},
   "outputs": [
    {
     "data": {
      "text/html": [
       "<style>#sk-container-id-3 {color: black;}#sk-container-id-3 pre{padding: 0;}#sk-container-id-3 div.sk-toggleable {background-color: white;}#sk-container-id-3 label.sk-toggleable__label {cursor: pointer;display: block;width: 100%;margin-bottom: 0;padding: 0.3em;box-sizing: border-box;text-align: center;}#sk-container-id-3 label.sk-toggleable__label-arrow:before {content: \"▸\";float: left;margin-right: 0.25em;color: #696969;}#sk-container-id-3 label.sk-toggleable__label-arrow:hover:before {color: black;}#sk-container-id-3 div.sk-estimator:hover label.sk-toggleable__label-arrow:before {color: black;}#sk-container-id-3 div.sk-toggleable__content {max-height: 0;max-width: 0;overflow: hidden;text-align: left;background-color: #f0f8ff;}#sk-container-id-3 div.sk-toggleable__content pre {margin: 0.2em;color: black;border-radius: 0.25em;background-color: #f0f8ff;}#sk-container-id-3 input.sk-toggleable__control:checked~div.sk-toggleable__content {max-height: 200px;max-width: 100%;overflow: auto;}#sk-container-id-3 input.sk-toggleable__control:checked~label.sk-toggleable__label-arrow:before {content: \"▾\";}#sk-container-id-3 div.sk-estimator input.sk-toggleable__control:checked~label.sk-toggleable__label {background-color: #d4ebff;}#sk-container-id-3 div.sk-label input.sk-toggleable__control:checked~label.sk-toggleable__label {background-color: #d4ebff;}#sk-container-id-3 input.sk-hidden--visually {border: 0;clip: rect(1px 1px 1px 1px);clip: rect(1px, 1px, 1px, 1px);height: 1px;margin: -1px;overflow: hidden;padding: 0;position: absolute;width: 1px;}#sk-container-id-3 div.sk-estimator {font-family: monospace;background-color: #f0f8ff;border: 1px dotted black;border-radius: 0.25em;box-sizing: border-box;margin-bottom: 0.5em;}#sk-container-id-3 div.sk-estimator:hover {background-color: #d4ebff;}#sk-container-id-3 div.sk-parallel-item::after {content: \"\";width: 100%;border-bottom: 1px solid gray;flex-grow: 1;}#sk-container-id-3 div.sk-label:hover label.sk-toggleable__label {background-color: #d4ebff;}#sk-container-id-3 div.sk-serial::before {content: \"\";position: absolute;border-left: 1px solid gray;box-sizing: border-box;top: 0;bottom: 0;left: 50%;z-index: 0;}#sk-container-id-3 div.sk-serial {display: flex;flex-direction: column;align-items: center;background-color: white;padding-right: 0.2em;padding-left: 0.2em;position: relative;}#sk-container-id-3 div.sk-item {position: relative;z-index: 1;}#sk-container-id-3 div.sk-parallel {display: flex;align-items: stretch;justify-content: center;background-color: white;position: relative;}#sk-container-id-3 div.sk-item::before, #sk-container-id-3 div.sk-parallel-item::before {content: \"\";position: absolute;border-left: 1px solid gray;box-sizing: border-box;top: 0;bottom: 0;left: 50%;z-index: -1;}#sk-container-id-3 div.sk-parallel-item {display: flex;flex-direction: column;z-index: 1;position: relative;background-color: white;}#sk-container-id-3 div.sk-parallel-item:first-child::after {align-self: flex-end;width: 50%;}#sk-container-id-3 div.sk-parallel-item:last-child::after {align-self: flex-start;width: 50%;}#sk-container-id-3 div.sk-parallel-item:only-child::after {width: 0;}#sk-container-id-3 div.sk-dashed-wrapped {border: 1px dashed gray;margin: 0 0.4em 0.5em 0.4em;box-sizing: border-box;padding-bottom: 0.4em;background-color: white;}#sk-container-id-3 div.sk-label label {font-family: monospace;font-weight: bold;display: inline-block;line-height: 1.2em;}#sk-container-id-3 div.sk-label-container {text-align: center;}#sk-container-id-3 div.sk-container {/* jupyter's `normalize.less` sets `[hidden] { display: none; }` but bootstrap.min.css set `[hidden] { display: none !important; }` so we also need the `!important` here to be able to override the default hidden behavior on the sphinx rendered scikit-learn.org. See: https://github.com/scikit-learn/scikit-learn/issues/21755 */display: inline-block !important;position: relative;}#sk-container-id-3 div.sk-text-repr-fallback {display: none;}</style><div id=\"sk-container-id-3\" class=\"sk-top-container\"><div class=\"sk-text-repr-fallback\"><pre>FeatureUnion(transformer_list=[(&#x27;variables_numericas&#x27;,\n",
       "                                ColumnTransformer(transformers=[(&#x27;transformador_numerico&#x27;,\n",
       "                                                                 Pipeline(steps=[(&#x27;imputador_numerico&#x27;,\n",
       "                                                                                  SimpleImputer()),\n",
       "                                                                                 (&#x27;escalador_numerico&#x27;,\n",
       "                                                                                  MinMaxScaler())]),\n",
       "                                                                 Index([&#x27;residentes_hogar&#x27;, &#x27;d2_04_num_hijos&#x27;], dtype=&#x27;object&#x27;))])),\n",
       "                               (&#x27;variables_ordinales&#x27;,\n",
       "                                Pipeline(steps=[(&#x27;transformador_ordinal&#x27;,\n",
       "                                                 ColumnTransfor...\n",
       "                                                                                   &#x27;d_12_c_presenta_problema_expendio_sp_barrio_tipo&#x27;,\n",
       "                                                                                   &#x27;d2_01_etnia_tipo&#x27;,\n",
       "                                                                                   &#x27;g_06_a_posibilidad_conseguir_marihuana_tipo&#x27;,\n",
       "                                                                                   &#x27;d_11_k_conocimiento_riesgo_cocaina_frecuentemente_tipo&#x27;,\n",
       "                                                                                   &#x27;g_02_a_num_amigos_consumen_sp_imp_tipo&#x27;,\n",
       "                                                                                   &#x27;g_03_curiosidad_probar_sp_tipo&#x27;,\n",
       "                                                                                   &#x27;g_05_posibilidad_probar_sp_tipo&#x27;,\n",
       "                                                                                   &#x27;situacion_tipo&#x27;,\n",
       "                                                                                   &#x27;g_08_c_ofrecieron_basuco_imp_tipo&#x27;,\n",
       "                                                                                   &#x27;g_01_a_num_familiares_consumen_sp_imp_tipo&#x27;, ...])]))]))])</pre><b>In a Jupyter environment, please rerun this cell to show the HTML representation or trust the notebook. <br />On GitHub, the HTML representation is unable to render, please try loading this page with nbviewer.org.</b></div><div class=\"sk-container\" hidden><div class=\"sk-item sk-dashed-wrapped\"><div class=\"sk-label-container\"><div class=\"sk-label sk-toggleable\"><input class=\"sk-toggleable__control sk-hidden--visually\" id=\"sk-estimator-id-9\" type=\"checkbox\" ><label for=\"sk-estimator-id-9\" class=\"sk-toggleable__label sk-toggleable__label-arrow\">FeatureUnion</label><div class=\"sk-toggleable__content\"><pre>FeatureUnion(transformer_list=[(&#x27;variables_numericas&#x27;,\n",
       "                                ColumnTransformer(transformers=[(&#x27;transformador_numerico&#x27;,\n",
       "                                                                 Pipeline(steps=[(&#x27;imputador_numerico&#x27;,\n",
       "                                                                                  SimpleImputer()),\n",
       "                                                                                 (&#x27;escalador_numerico&#x27;,\n",
       "                                                                                  MinMaxScaler())]),\n",
       "                                                                 Index([&#x27;residentes_hogar&#x27;, &#x27;d2_04_num_hijos&#x27;], dtype=&#x27;object&#x27;))])),\n",
       "                               (&#x27;variables_ordinales&#x27;,\n",
       "                                Pipeline(steps=[(&#x27;transformador_ordinal&#x27;,\n",
       "                                                 ColumnTransfor...\n",
       "                                                                                   &#x27;d_12_c_presenta_problema_expendio_sp_barrio_tipo&#x27;,\n",
       "                                                                                   &#x27;d2_01_etnia_tipo&#x27;,\n",
       "                                                                                   &#x27;g_06_a_posibilidad_conseguir_marihuana_tipo&#x27;,\n",
       "                                                                                   &#x27;d_11_k_conocimiento_riesgo_cocaina_frecuentemente_tipo&#x27;,\n",
       "                                                                                   &#x27;g_02_a_num_amigos_consumen_sp_imp_tipo&#x27;,\n",
       "                                                                                   &#x27;g_03_curiosidad_probar_sp_tipo&#x27;,\n",
       "                                                                                   &#x27;g_05_posibilidad_probar_sp_tipo&#x27;,\n",
       "                                                                                   &#x27;situacion_tipo&#x27;,\n",
       "                                                                                   &#x27;g_08_c_ofrecieron_basuco_imp_tipo&#x27;,\n",
       "                                                                                   &#x27;g_01_a_num_familiares_consumen_sp_imp_tipo&#x27;, ...])]))]))])</pre></div></div></div><div class=\"sk-parallel\"><div class=\"sk-parallel-item\"><div class=\"sk-item\"><div class=\"sk-label-container\"><div class=\"sk-label sk-toggleable\"><label>variables_numericas</label></div></div><div class=\"sk-serial\"><div class=\"sk-item sk-dashed-wrapped\"><div class=\"sk-parallel\"><div class=\"sk-parallel-item\"><div class=\"sk-item\"><div class=\"sk-label-container\"><div class=\"sk-label sk-toggleable\"><input class=\"sk-toggleable__control sk-hidden--visually\" id=\"sk-estimator-id-10\" type=\"checkbox\" ><label for=\"sk-estimator-id-10\" class=\"sk-toggleable__label sk-toggleable__label-arrow\">transformador_numerico</label><div class=\"sk-toggleable__content\"><pre>Index([&#x27;residentes_hogar&#x27;, &#x27;d2_04_num_hijos&#x27;], dtype=&#x27;object&#x27;)</pre></div></div></div><div class=\"sk-serial\"><div class=\"sk-item\"><div class=\"sk-serial\"><div class=\"sk-item\"><div class=\"sk-estimator sk-toggleable\"><input class=\"sk-toggleable__control sk-hidden--visually\" id=\"sk-estimator-id-11\" type=\"checkbox\" ><label for=\"sk-estimator-id-11\" class=\"sk-toggleable__label sk-toggleable__label-arrow\">SimpleImputer</label><div class=\"sk-toggleable__content\"><pre>SimpleImputer()</pre></div></div></div><div class=\"sk-item\"><div class=\"sk-estimator sk-toggleable\"><input class=\"sk-toggleable__control sk-hidden--visually\" id=\"sk-estimator-id-12\" type=\"checkbox\" ><label for=\"sk-estimator-id-12\" class=\"sk-toggleable__label sk-toggleable__label-arrow\">MinMaxScaler</label><div class=\"sk-toggleable__content\"><pre>MinMaxScaler()</pre></div></div></div></div></div></div></div></div></div></div></div></div></div><div class=\"sk-parallel-item\"><div class=\"sk-item\"><div class=\"sk-label-container\"><div class=\"sk-label sk-toggleable\"><label>variables_ordinales</label></div></div><div class=\"sk-serial\"><div class=\"sk-item\"><div class=\"sk-serial\"><div class=\"sk-item sk-dashed-wrapped\"><div class=\"sk-label-container\"><div class=\"sk-label sk-toggleable\"><input class=\"sk-toggleable__control sk-hidden--visually\" id=\"sk-estimator-id-13\" type=\"checkbox\" ><label for=\"sk-estimator-id-13\" class=\"sk-toggleable__label sk-toggleable__label-arrow\">transformador_ordinal: ColumnTransformer</label><div class=\"sk-toggleable__content\"><pre>ColumnTransformer(transformers=[(&#x27;transformador_ordinal&#x27;,\n",
       "                                 OrdinalEncoder(mapping=[{&#x27;col&#x27;: &#x27;per_edad_tipo&#x27;,\n",
       "                                                          &#x27;data_type&#x27;: dtype(&#x27;O&#x27;),\n",
       "                                                          &#x27;mapping&#x27;: Adolescente      0\n",
       "Joven            1\n",
       "Adulto           2\n",
       "Persona mayor    3\n",
       "dtype: int64},\n",
       "                                                         {&#x27;col&#x27;: &#x27;estrato_tipo&#x27;,\n",
       "                                                          &#x27;data_type&#x27;: dtype(&#x27;O&#x27;),\n",
       "                                                          &#x27;mapping&#x27;: Estrato bajo     0\n",
       "Estrato medio    1\n",
       "Estrato alto     2\n",
       "dtype: int64},\n",
       "                                                         {&#x27;col&#x27;: &#x27;d_08_estado_salud_tipo&#x27;,\n",
       "                                                          &#x27;data_type&#x27;: dtype(&#x27;O&#x27;),\n",
       "                                                          &#x27;m...\n",
       "                                                         {&#x27;col&#x27;: &#x27;frecuencia_consumo_basuco_tipo&#x27;,\n",
       "                                                          &#x27;data_type&#x27;: dtype(&#x27;O&#x27;),\n",
       "                                                          &#x27;mapping&#x27;: Nunca                                         0\n",
       "Alguna vez en su vida                         1\n",
       "Una vez en el año                             2\n",
       "Algunas veces durante los últimos 12 meses    3\n",
       "Algunas veces mensualmente                    4\n",
       "Algunas veces semanalmente                    5\n",
       "Diariamente                                   6\n",
       "dtype: int64}]),\n",
       "                                 [&#x27;per_edad_tipo&#x27;, &#x27;estrato_tipo&#x27;,\n",
       "                                  &#x27;d_08_estado_salud_tipo&#x27;,\n",
       "                                  &#x27;frecuencia_consumo_marihuana_tipo&#x27;,\n",
       "                                  &#x27;frecuencia_consumo_cocaina_tipo&#x27;,\n",
       "                                  &#x27;frecuencia_consumo_basuco_tipo&#x27;])])</pre></div></div></div><div class=\"sk-parallel\"><div class=\"sk-parallel-item\"><div class=\"sk-item\"><div class=\"sk-label-container\"><div class=\"sk-label sk-toggleable\"><input class=\"sk-toggleable__control sk-hidden--visually\" id=\"sk-estimator-id-14\" type=\"checkbox\" ><label for=\"sk-estimator-id-14\" class=\"sk-toggleable__label sk-toggleable__label-arrow\">transformador_ordinal</label><div class=\"sk-toggleable__content\"><pre>[&#x27;per_edad_tipo&#x27;, &#x27;estrato_tipo&#x27;, &#x27;d_08_estado_salud_tipo&#x27;, &#x27;frecuencia_consumo_marihuana_tipo&#x27;, &#x27;frecuencia_consumo_cocaina_tipo&#x27;, &#x27;frecuencia_consumo_basuco_tipo&#x27;]</pre></div></div></div><div class=\"sk-serial\"><div class=\"sk-item\"><div class=\"sk-estimator sk-toggleable\"><input class=\"sk-toggleable__control sk-hidden--visually\" id=\"sk-estimator-id-15\" type=\"checkbox\" ><label for=\"sk-estimator-id-15\" class=\"sk-toggleable__label sk-toggleable__label-arrow\">OrdinalEncoder</label><div class=\"sk-toggleable__content\"><pre>OrdinalEncoder(mapping=[{&#x27;col&#x27;: &#x27;per_edad_tipo&#x27;, &#x27;data_type&#x27;: dtype(&#x27;O&#x27;),\n",
       "                         &#x27;mapping&#x27;: Adolescente      0\n",
       "Joven            1\n",
       "Adulto           2\n",
       "Persona mayor    3\n",
       "dtype: int64},\n",
       "                        {&#x27;col&#x27;: &#x27;estrato_tipo&#x27;, &#x27;data_type&#x27;: dtype(&#x27;O&#x27;),\n",
       "                         &#x27;mapping&#x27;: Estrato bajo     0\n",
       "Estrato medio    1\n",
       "Estrato alto     2\n",
       "dtype: int64},\n",
       "                        {&#x27;col&#x27;: &#x27;d_08_estado_salud_tipo&#x27;,\n",
       "                         &#x27;data_type&#x27;: dtype(&#x27;O&#x27;),\n",
       "                         &#x27;mapping&#x27;: d_08_Muy_malo     0\n",
       "d_08_Malo         1\n",
       "d_08_Regular      2\n",
       "d_08_Bueno        3\n",
       "d...\n",
       "Una vez en el año                             2\n",
       "Algunas veces durante los últimos 12 meses    3\n",
       "Algunas veces mensualmente                    4\n",
       "Algunas veces semanalmente                    5\n",
       "Diariamente                                   6\n",
       "dtype: int64},\n",
       "                        {&#x27;col&#x27;: &#x27;frecuencia_consumo_basuco_tipo&#x27;,\n",
       "                         &#x27;data_type&#x27;: dtype(&#x27;O&#x27;),\n",
       "                         &#x27;mapping&#x27;: Nunca                                         0\n",
       "Alguna vez en su vida                         1\n",
       "Una vez en el año                             2\n",
       "Algunas veces durante los últimos 12 meses    3\n",
       "Algunas veces mensualmente                    4\n",
       "Algunas veces semanalmente                    5\n",
       "Diariamente                                   6\n",
       "dtype: int64}])</pre></div></div></div></div></div></div></div></div></div></div></div></div></div><div class=\"sk-parallel-item\"><div class=\"sk-item\"><div class=\"sk-label-container\"><div class=\"sk-label sk-toggleable\"><label>variables_categoricas</label></div></div><div class=\"sk-serial\"><div class=\"sk-item\"><div class=\"sk-serial\"><div class=\"sk-item sk-dashed-wrapped\"><div class=\"sk-label-container\"><div class=\"sk-label sk-toggleable\"><input class=\"sk-toggleable__control sk-hidden--visually\" id=\"sk-estimator-id-16\" type=\"checkbox\" ><label for=\"sk-estimator-id-16\" class=\"sk-toggleable__label sk-toggleable__label-arrow\">transformador_categorico: ColumnTransformer</label><div class=\"sk-toggleable__content\"><pre>ColumnTransformer(transformers=[(&#x27;transformador_categorico&#x27;,\n",
       "                                 OneHotEncoder(handle_unknown=&#x27;impute&#x27;),\n",
       "                                 [&#x27;g_06_b_posibilidad_conseguir_cocaina_tipo&#x27;,\n",
       "                                  &#x27;d_01_aporta_dinero_hogar_tipo&#x27;,\n",
       "                                  &#x27;departamento&#x27;, &#x27;d2_05_nivel_educativo_tipo&#x27;,\n",
       "                                  &#x27;d_09_deprimido_tipo&#x27;, &#x27;per_sexo_tipo&#x27;,\n",
       "                                  &#x27;d2_03_estado_civil_tipo&#x27;, &#x27;vivienda_tipo&#x27;,\n",
       "                                  &#x27;g_08_a_ofrecieron_marihuana_imp_tipo&#x27;,\n",
       "                                  &#x27;g_01_famil...\n",
       "                                  &#x27;d_12_c_presenta_problema_expendio_sp_barrio_tipo&#x27;,\n",
       "                                  &#x27;d2_01_etnia_tipo&#x27;,\n",
       "                                  &#x27;g_06_a_posibilidad_conseguir_marihuana_tipo&#x27;,\n",
       "                                  &#x27;d_11_k_conocimiento_riesgo_cocaina_frecuentemente_tipo&#x27;,\n",
       "                                  &#x27;g_02_a_num_amigos_consumen_sp_imp_tipo&#x27;,\n",
       "                                  &#x27;g_03_curiosidad_probar_sp_tipo&#x27;,\n",
       "                                  &#x27;g_05_posibilidad_probar_sp_tipo&#x27;,\n",
       "                                  &#x27;situacion_tipo&#x27;,\n",
       "                                  &#x27;g_08_c_ofrecieron_basuco_imp_tipo&#x27;,\n",
       "                                  &#x27;g_01_a_num_familiares_consumen_sp_imp_tipo&#x27;, ...])])</pre></div></div></div><div class=\"sk-parallel\"><div class=\"sk-parallel-item\"><div class=\"sk-item\"><div class=\"sk-label-container\"><div class=\"sk-label sk-toggleable\"><input class=\"sk-toggleable__control sk-hidden--visually\" id=\"sk-estimator-id-17\" type=\"checkbox\" ><label for=\"sk-estimator-id-17\" class=\"sk-toggleable__label sk-toggleable__label-arrow\">transformador_categorico</label><div class=\"sk-toggleable__content\"><pre>[&#x27;g_06_b_posibilidad_conseguir_cocaina_tipo&#x27;, &#x27;d_01_aporta_dinero_hogar_tipo&#x27;, &#x27;departamento&#x27;, &#x27;d2_05_nivel_educativo_tipo&#x27;, &#x27;d_09_deprimido_tipo&#x27;, &#x27;per_sexo_tipo&#x27;, &#x27;d2_03_estado_civil_tipo&#x27;, &#x27;vivienda_tipo&#x27;, &#x27;g_08_a_ofrecieron_marihuana_imp_tipo&#x27;, &#x27;g_01_familiares_consumen_sp_tipo&#x27;, &#x27;vive_padre_hogar_tipo&#x27;, &#x27;g_08_b_ofrecieron_cocaina_imp_tipo&#x27;, &#x27;d_11_n_conocimiento_riesgo_fumar_basuco_frecuentemente_tipo&#x27;, &#x27;d_12_b_presenta_problema_consumo_sp_barrio_tipo&#x27;, &#x27;g_02_amigos_consumen_sp_tipo&#x27;, &#x27;g_06_c_posibilidad_conseguir_basuco_tipo&#x27;, &#x27;vive_madre_hogar_tipo&#x27;, &#x27;g_07_alguien_ofrecio_comprar_probar_sp_tipo&#x27;, &#x27;d_10_poco_interes_tipo&#x27;, &#x27;d_11_h_conocimiento_riesgo_fumar_marihuana_frecuentemente_tipo&#x27;, &#x27;d_12_c_presenta_problema_expendio_sp_barrio_tipo&#x27;, &#x27;d2_01_etnia_tipo&#x27;, &#x27;g_06_a_posibilidad_conseguir_marihuana_tipo&#x27;, &#x27;d_11_k_conocimiento_riesgo_cocaina_frecuentemente_tipo&#x27;, &#x27;g_02_a_num_amigos_consumen_sp_imp_tipo&#x27;, &#x27;g_03_curiosidad_probar_sp_tipo&#x27;, &#x27;g_05_posibilidad_probar_sp_tipo&#x27;, &#x27;situacion_tipo&#x27;, &#x27;g_08_c_ofrecieron_basuco_imp_tipo&#x27;, &#x27;g_01_a_num_familiares_consumen_sp_imp_tipo&#x27;, &#x27;g_04_probaria_sp_tipo&#x27;]</pre></div></div></div><div class=\"sk-serial\"><div class=\"sk-item\"><div class=\"sk-estimator sk-toggleable\"><input class=\"sk-toggleable__control sk-hidden--visually\" id=\"sk-estimator-id-18\" type=\"checkbox\" ><label for=\"sk-estimator-id-18\" class=\"sk-toggleable__label sk-toggleable__label-arrow\">OneHotEncoder</label><div class=\"sk-toggleable__content\"><pre>OneHotEncoder(handle_unknown=&#x27;impute&#x27;)</pre></div></div></div></div></div></div></div></div></div></div></div></div></div></div></div></div></div>"
      ],
      "text/plain": [
       "FeatureUnion(transformer_list=[('variables_numericas',\n",
       "                                ColumnTransformer(transformers=[('transformador_numerico',\n",
       "                                                                 Pipeline(steps=[('imputador_numerico',\n",
       "                                                                                  SimpleImputer()),\n",
       "                                                                                 ('escalador_numerico',\n",
       "                                                                                  MinMaxScaler())]),\n",
       "                                                                 Index(['residentes_hogar', 'd2_04_num_hijos'], dtype='object'))])),\n",
       "                               ('variables_ordinales',\n",
       "                                Pipeline(steps=[('transformador_ordinal',\n",
       "                                                 ColumnTransfor...\n",
       "                                                                                   'd_12_c_presenta_problema_expendio_sp_barrio_tipo',\n",
       "                                                                                   'd2_01_etnia_tipo',\n",
       "                                                                                   'g_06_a_posibilidad_conseguir_marihuana_tipo',\n",
       "                                                                                   'd_11_k_conocimiento_riesgo_cocaina_frecuentemente_tipo',\n",
       "                                                                                   'g_02_a_num_amigos_consumen_sp_imp_tipo',\n",
       "                                                                                   'g_03_curiosidad_probar_sp_tipo',\n",
       "                                                                                   'g_05_posibilidad_probar_sp_tipo',\n",
       "                                                                                   'situacion_tipo',\n",
       "                                                                                   'g_08_c_ofrecieron_basuco_imp_tipo',\n",
       "                                                                                   'g_01_a_num_familiares_consumen_sp_imp_tipo', ...])]))]))])"
      ]
     },
     "execution_count": 15,
     "metadata": {},
     "output_type": "execute_result"
    }
   ],
   "source": [
    "pipeline_procesado"
   ]
  },
  {
   "cell_type": "code",
   "execution_count": 16,
   "metadata": {},
   "outputs": [
    {
     "data": {
      "text/plain": [
       "(10000, 145)"
      ]
     },
     "execution_count": 16,
     "metadata": {},
     "output_type": "execute_result"
    }
   ],
   "source": [
    "consumidores_procesado = pipeline_procesado.fit_transform(consumidores)\n",
    "consumidores_procesado.shape"
   ]
  },
  {
   "cell_type": "markdown",
   "metadata": {},
   "source": [
    "Finalmente, necesitamos añadir un estimador al final para predecir en base a los datos transformados, pero primero se separa los datos en datos de entrenamiento y datos de test"
   ]
  },
  {
   "cell_type": "code",
   "execution_count": 17,
   "metadata": {},
   "outputs": [],
   "source": [
    "X_train, X_test, y_train, y_test = train_test_split(\n",
    "     consumidores[variables_independientes], consumidores[\"CatRiesgo\"],\n",
    "     test_size=0.20, random_state=42\n",
    ")"
   ]
  },
  {
   "cell_type": "code",
   "execution_count": 18,
   "metadata": {},
   "outputs": [],
   "source": [
    "estimador = LogisticRegression(max_iter=1000)"
   ]
  },
  {
   "cell_type": "markdown",
   "metadata": {},
   "source": [
    "Se debe realizar la separacion de datos en datos de entrenamiento y datos de test y ademas se debe establecer el estimador a usar en el modelo"
   ]
  },
  {
   "cell_type": "code",
   "execution_count": 19,
   "metadata": {},
   "outputs": [],
   "source": [
    "pipeline_estimador = Pipeline([\n",
    "    ('procesador', pipeline_procesado),\n",
    "    ('estimador', estimador)\n",
    "])"
   ]
  },
  {
   "cell_type": "markdown",
   "metadata": {},
   "source": [
    "Para el fit se pasan los datos que se obtienen de entrenamiento y para el predict los datos de test"
   ]
  },
  {
   "cell_type": "code",
   "execution_count": 20,
   "metadata": {},
   "outputs": [
    {
     "data": {
      "text/html": [
       "<style>#sk-container-id-4 {color: black;}#sk-container-id-4 pre{padding: 0;}#sk-container-id-4 div.sk-toggleable {background-color: white;}#sk-container-id-4 label.sk-toggleable__label {cursor: pointer;display: block;width: 100%;margin-bottom: 0;padding: 0.3em;box-sizing: border-box;text-align: center;}#sk-container-id-4 label.sk-toggleable__label-arrow:before {content: \"▸\";float: left;margin-right: 0.25em;color: #696969;}#sk-container-id-4 label.sk-toggleable__label-arrow:hover:before {color: black;}#sk-container-id-4 div.sk-estimator:hover label.sk-toggleable__label-arrow:before {color: black;}#sk-container-id-4 div.sk-toggleable__content {max-height: 0;max-width: 0;overflow: hidden;text-align: left;background-color: #f0f8ff;}#sk-container-id-4 div.sk-toggleable__content pre {margin: 0.2em;color: black;border-radius: 0.25em;background-color: #f0f8ff;}#sk-container-id-4 input.sk-toggleable__control:checked~div.sk-toggleable__content {max-height: 200px;max-width: 100%;overflow: auto;}#sk-container-id-4 input.sk-toggleable__control:checked~label.sk-toggleable__label-arrow:before {content: \"▾\";}#sk-container-id-4 div.sk-estimator input.sk-toggleable__control:checked~label.sk-toggleable__label {background-color: #d4ebff;}#sk-container-id-4 div.sk-label input.sk-toggleable__control:checked~label.sk-toggleable__label {background-color: #d4ebff;}#sk-container-id-4 input.sk-hidden--visually {border: 0;clip: rect(1px 1px 1px 1px);clip: rect(1px, 1px, 1px, 1px);height: 1px;margin: -1px;overflow: hidden;padding: 0;position: absolute;width: 1px;}#sk-container-id-4 div.sk-estimator {font-family: monospace;background-color: #f0f8ff;border: 1px dotted black;border-radius: 0.25em;box-sizing: border-box;margin-bottom: 0.5em;}#sk-container-id-4 div.sk-estimator:hover {background-color: #d4ebff;}#sk-container-id-4 div.sk-parallel-item::after {content: \"\";width: 100%;border-bottom: 1px solid gray;flex-grow: 1;}#sk-container-id-4 div.sk-label:hover label.sk-toggleable__label {background-color: #d4ebff;}#sk-container-id-4 div.sk-serial::before {content: \"\";position: absolute;border-left: 1px solid gray;box-sizing: border-box;top: 0;bottom: 0;left: 50%;z-index: 0;}#sk-container-id-4 div.sk-serial {display: flex;flex-direction: column;align-items: center;background-color: white;padding-right: 0.2em;padding-left: 0.2em;position: relative;}#sk-container-id-4 div.sk-item {position: relative;z-index: 1;}#sk-container-id-4 div.sk-parallel {display: flex;align-items: stretch;justify-content: center;background-color: white;position: relative;}#sk-container-id-4 div.sk-item::before, #sk-container-id-4 div.sk-parallel-item::before {content: \"\";position: absolute;border-left: 1px solid gray;box-sizing: border-box;top: 0;bottom: 0;left: 50%;z-index: -1;}#sk-container-id-4 div.sk-parallel-item {display: flex;flex-direction: column;z-index: 1;position: relative;background-color: white;}#sk-container-id-4 div.sk-parallel-item:first-child::after {align-self: flex-end;width: 50%;}#sk-container-id-4 div.sk-parallel-item:last-child::after {align-self: flex-start;width: 50%;}#sk-container-id-4 div.sk-parallel-item:only-child::after {width: 0;}#sk-container-id-4 div.sk-dashed-wrapped {border: 1px dashed gray;margin: 0 0.4em 0.5em 0.4em;box-sizing: border-box;padding-bottom: 0.4em;background-color: white;}#sk-container-id-4 div.sk-label label {font-family: monospace;font-weight: bold;display: inline-block;line-height: 1.2em;}#sk-container-id-4 div.sk-label-container {text-align: center;}#sk-container-id-4 div.sk-container {/* jupyter's `normalize.less` sets `[hidden] { display: none; }` but bootstrap.min.css set `[hidden] { display: none !important; }` so we also need the `!important` here to be able to override the default hidden behavior on the sphinx rendered scikit-learn.org. See: https://github.com/scikit-learn/scikit-learn/issues/21755 */display: inline-block !important;position: relative;}#sk-container-id-4 div.sk-text-repr-fallback {display: none;}</style><div id=\"sk-container-id-4\" class=\"sk-top-container\"><div class=\"sk-text-repr-fallback\"><pre>Pipeline(steps=[(&#x27;procesador&#x27;,\n",
       "                 FeatureUnion(transformer_list=[(&#x27;variables_numericas&#x27;,\n",
       "                                                 ColumnTransformer(transformers=[(&#x27;transformador_numerico&#x27;,\n",
       "                                                                                  Pipeline(steps=[(&#x27;imputador_numerico&#x27;,\n",
       "                                                                                                   SimpleImputer()),\n",
       "                                                                                                  (&#x27;escalador_numerico&#x27;,\n",
       "                                                                                                   MinMaxScaler())]),\n",
       "                                                                                  Index([&#x27;residentes_hogar&#x27;, &#x27;d2_04_num_hijos&#x27;], dtype=&#x27;object&#x27;))])),\n",
       "                                                (&#x27;variables_ordinales&#x27;,\n",
       "                                                 Pipeline(steps=[(&#x27;transfo...\n",
       "                                                                                                    &#x27;g_06_a_posibilidad_conseguir_marihuana_tipo&#x27;,\n",
       "                                                                                                    &#x27;d_11_k_conocimiento_riesgo_cocaina_frecuentemente_tipo&#x27;,\n",
       "                                                                                                    &#x27;g_02_a_num_amigos_consumen_sp_imp_tipo&#x27;,\n",
       "                                                                                                    &#x27;g_03_curiosidad_probar_sp_tipo&#x27;,\n",
       "                                                                                                    &#x27;g_05_posibilidad_probar_sp_tipo&#x27;,\n",
       "                                                                                                    &#x27;situacion_tipo&#x27;,\n",
       "                                                                                                    &#x27;g_08_c_ofrecieron_basuco_imp_tipo&#x27;,\n",
       "                                                                                                    &#x27;g_01_a_num_familiares_consumen_sp_imp_tipo&#x27;, ...])]))]))])),\n",
       "                (&#x27;estimador&#x27;, LogisticRegression(max_iter=1000))])</pre><b>In a Jupyter environment, please rerun this cell to show the HTML representation or trust the notebook. <br />On GitHub, the HTML representation is unable to render, please try loading this page with nbviewer.org.</b></div><div class=\"sk-container\" hidden><div class=\"sk-item sk-dashed-wrapped\"><div class=\"sk-label-container\"><div class=\"sk-label sk-toggleable\"><input class=\"sk-toggleable__control sk-hidden--visually\" id=\"sk-estimator-id-19\" type=\"checkbox\" ><label for=\"sk-estimator-id-19\" class=\"sk-toggleable__label sk-toggleable__label-arrow\">Pipeline</label><div class=\"sk-toggleable__content\"><pre>Pipeline(steps=[(&#x27;procesador&#x27;,\n",
       "                 FeatureUnion(transformer_list=[(&#x27;variables_numericas&#x27;,\n",
       "                                                 ColumnTransformer(transformers=[(&#x27;transformador_numerico&#x27;,\n",
       "                                                                                  Pipeline(steps=[(&#x27;imputador_numerico&#x27;,\n",
       "                                                                                                   SimpleImputer()),\n",
       "                                                                                                  (&#x27;escalador_numerico&#x27;,\n",
       "                                                                                                   MinMaxScaler())]),\n",
       "                                                                                  Index([&#x27;residentes_hogar&#x27;, &#x27;d2_04_num_hijos&#x27;], dtype=&#x27;object&#x27;))])),\n",
       "                                                (&#x27;variables_ordinales&#x27;,\n",
       "                                                 Pipeline(steps=[(&#x27;transfo...\n",
       "                                                                                                    &#x27;g_06_a_posibilidad_conseguir_marihuana_tipo&#x27;,\n",
       "                                                                                                    &#x27;d_11_k_conocimiento_riesgo_cocaina_frecuentemente_tipo&#x27;,\n",
       "                                                                                                    &#x27;g_02_a_num_amigos_consumen_sp_imp_tipo&#x27;,\n",
       "                                                                                                    &#x27;g_03_curiosidad_probar_sp_tipo&#x27;,\n",
       "                                                                                                    &#x27;g_05_posibilidad_probar_sp_tipo&#x27;,\n",
       "                                                                                                    &#x27;situacion_tipo&#x27;,\n",
       "                                                                                                    &#x27;g_08_c_ofrecieron_basuco_imp_tipo&#x27;,\n",
       "                                                                                                    &#x27;g_01_a_num_familiares_consumen_sp_imp_tipo&#x27;, ...])]))]))])),\n",
       "                (&#x27;estimador&#x27;, LogisticRegression(max_iter=1000))])</pre></div></div></div><div class=\"sk-serial\"><div class=\"sk-item sk-dashed-wrapped\"><div class=\"sk-label-container\"><div class=\"sk-label sk-toggleable\"><input class=\"sk-toggleable__control sk-hidden--visually\" id=\"sk-estimator-id-20\" type=\"checkbox\" ><label for=\"sk-estimator-id-20\" class=\"sk-toggleable__label sk-toggleable__label-arrow\">procesador: FeatureUnion</label><div class=\"sk-toggleable__content\"><pre>FeatureUnion(transformer_list=[(&#x27;variables_numericas&#x27;,\n",
       "                                ColumnTransformer(transformers=[(&#x27;transformador_numerico&#x27;,\n",
       "                                                                 Pipeline(steps=[(&#x27;imputador_numerico&#x27;,\n",
       "                                                                                  SimpleImputer()),\n",
       "                                                                                 (&#x27;escalador_numerico&#x27;,\n",
       "                                                                                  MinMaxScaler())]),\n",
       "                                                                 Index([&#x27;residentes_hogar&#x27;, &#x27;d2_04_num_hijos&#x27;], dtype=&#x27;object&#x27;))])),\n",
       "                               (&#x27;variables_ordinales&#x27;,\n",
       "                                Pipeline(steps=[(&#x27;transformador_ordinal&#x27;,\n",
       "                                                 ColumnTransfor...\n",
       "                                                                                   &#x27;d_12_c_presenta_problema_expendio_sp_barrio_tipo&#x27;,\n",
       "                                                                                   &#x27;d2_01_etnia_tipo&#x27;,\n",
       "                                                                                   &#x27;g_06_a_posibilidad_conseguir_marihuana_tipo&#x27;,\n",
       "                                                                                   &#x27;d_11_k_conocimiento_riesgo_cocaina_frecuentemente_tipo&#x27;,\n",
       "                                                                                   &#x27;g_02_a_num_amigos_consumen_sp_imp_tipo&#x27;,\n",
       "                                                                                   &#x27;g_03_curiosidad_probar_sp_tipo&#x27;,\n",
       "                                                                                   &#x27;g_05_posibilidad_probar_sp_tipo&#x27;,\n",
       "                                                                                   &#x27;situacion_tipo&#x27;,\n",
       "                                                                                   &#x27;g_08_c_ofrecieron_basuco_imp_tipo&#x27;,\n",
       "                                                                                   &#x27;g_01_a_num_familiares_consumen_sp_imp_tipo&#x27;, ...])]))]))])</pre></div></div></div><div class=\"sk-parallel\"><div class=\"sk-parallel-item\"><div class=\"sk-item\"><div class=\"sk-label-container\"><div class=\"sk-label sk-toggleable\"><label>variables_numericas</label></div></div><div class=\"sk-serial\"><div class=\"sk-item sk-dashed-wrapped\"><div class=\"sk-parallel\"><div class=\"sk-parallel-item\"><div class=\"sk-item\"><div class=\"sk-label-container\"><div class=\"sk-label sk-toggleable\"><input class=\"sk-toggleable__control sk-hidden--visually\" id=\"sk-estimator-id-21\" type=\"checkbox\" ><label for=\"sk-estimator-id-21\" class=\"sk-toggleable__label sk-toggleable__label-arrow\">transformador_numerico</label><div class=\"sk-toggleable__content\"><pre>Index([&#x27;residentes_hogar&#x27;, &#x27;d2_04_num_hijos&#x27;], dtype=&#x27;object&#x27;)</pre></div></div></div><div class=\"sk-serial\"><div class=\"sk-item\"><div class=\"sk-serial\"><div class=\"sk-item\"><div class=\"sk-estimator sk-toggleable\"><input class=\"sk-toggleable__control sk-hidden--visually\" id=\"sk-estimator-id-22\" type=\"checkbox\" ><label for=\"sk-estimator-id-22\" class=\"sk-toggleable__label sk-toggleable__label-arrow\">SimpleImputer</label><div class=\"sk-toggleable__content\"><pre>SimpleImputer()</pre></div></div></div><div class=\"sk-item\"><div class=\"sk-estimator sk-toggleable\"><input class=\"sk-toggleable__control sk-hidden--visually\" id=\"sk-estimator-id-23\" type=\"checkbox\" ><label for=\"sk-estimator-id-23\" class=\"sk-toggleable__label sk-toggleable__label-arrow\">MinMaxScaler</label><div class=\"sk-toggleable__content\"><pre>MinMaxScaler()</pre></div></div></div></div></div></div></div></div></div></div></div></div></div><div class=\"sk-parallel-item\"><div class=\"sk-item\"><div class=\"sk-label-container\"><div class=\"sk-label sk-toggleable\"><label>variables_ordinales</label></div></div><div class=\"sk-serial\"><div class=\"sk-item\"><div class=\"sk-serial\"><div class=\"sk-item sk-dashed-wrapped\"><div class=\"sk-label-container\"><div class=\"sk-label sk-toggleable\"><input class=\"sk-toggleable__control sk-hidden--visually\" id=\"sk-estimator-id-24\" type=\"checkbox\" ><label for=\"sk-estimator-id-24\" class=\"sk-toggleable__label sk-toggleable__label-arrow\">transformador_ordinal: ColumnTransformer</label><div class=\"sk-toggleable__content\"><pre>ColumnTransformer(transformers=[(&#x27;transformador_ordinal&#x27;,\n",
       "                                 OrdinalEncoder(mapping=[{&#x27;col&#x27;: &#x27;per_edad_tipo&#x27;,\n",
       "                                                          &#x27;data_type&#x27;: dtype(&#x27;O&#x27;),\n",
       "                                                          &#x27;mapping&#x27;: Adolescente      0\n",
       "Joven            1\n",
       "Adulto           2\n",
       "Persona mayor    3\n",
       "dtype: int64},\n",
       "                                                         {&#x27;col&#x27;: &#x27;estrato_tipo&#x27;,\n",
       "                                                          &#x27;data_type&#x27;: dtype(&#x27;O&#x27;),\n",
       "                                                          &#x27;mapping&#x27;: Estrato bajo     0\n",
       "Estrato medio    1\n",
       "Estrato alto     2\n",
       "dtype: int64},\n",
       "                                                         {&#x27;col&#x27;: &#x27;d_08_estado_salud_tipo&#x27;,\n",
       "                                                          &#x27;data_type&#x27;: dtype(&#x27;O&#x27;),\n",
       "                                                          &#x27;m...\n",
       "                                                         {&#x27;col&#x27;: &#x27;frecuencia_consumo_basuco_tipo&#x27;,\n",
       "                                                          &#x27;data_type&#x27;: dtype(&#x27;O&#x27;),\n",
       "                                                          &#x27;mapping&#x27;: Nunca                                         0\n",
       "Alguna vez en su vida                         1\n",
       "Una vez en el año                             2\n",
       "Algunas veces durante los últimos 12 meses    3\n",
       "Algunas veces mensualmente                    4\n",
       "Algunas veces semanalmente                    5\n",
       "Diariamente                                   6\n",
       "dtype: int64}]),\n",
       "                                 [&#x27;per_edad_tipo&#x27;, &#x27;estrato_tipo&#x27;,\n",
       "                                  &#x27;d_08_estado_salud_tipo&#x27;,\n",
       "                                  &#x27;frecuencia_consumo_marihuana_tipo&#x27;,\n",
       "                                  &#x27;frecuencia_consumo_cocaina_tipo&#x27;,\n",
       "                                  &#x27;frecuencia_consumo_basuco_tipo&#x27;])])</pre></div></div></div><div class=\"sk-parallel\"><div class=\"sk-parallel-item\"><div class=\"sk-item\"><div class=\"sk-label-container\"><div class=\"sk-label sk-toggleable\"><input class=\"sk-toggleable__control sk-hidden--visually\" id=\"sk-estimator-id-25\" type=\"checkbox\" ><label for=\"sk-estimator-id-25\" class=\"sk-toggleable__label sk-toggleable__label-arrow\">transformador_ordinal</label><div class=\"sk-toggleable__content\"><pre>[&#x27;per_edad_tipo&#x27;, &#x27;estrato_tipo&#x27;, &#x27;d_08_estado_salud_tipo&#x27;, &#x27;frecuencia_consumo_marihuana_tipo&#x27;, &#x27;frecuencia_consumo_cocaina_tipo&#x27;, &#x27;frecuencia_consumo_basuco_tipo&#x27;]</pre></div></div></div><div class=\"sk-serial\"><div class=\"sk-item\"><div class=\"sk-estimator sk-toggleable\"><input class=\"sk-toggleable__control sk-hidden--visually\" id=\"sk-estimator-id-26\" type=\"checkbox\" ><label for=\"sk-estimator-id-26\" class=\"sk-toggleable__label sk-toggleable__label-arrow\">OrdinalEncoder</label><div class=\"sk-toggleable__content\"><pre>OrdinalEncoder(mapping=[{&#x27;col&#x27;: &#x27;per_edad_tipo&#x27;, &#x27;data_type&#x27;: dtype(&#x27;O&#x27;),\n",
       "                         &#x27;mapping&#x27;: Adolescente      0\n",
       "Joven            1\n",
       "Adulto           2\n",
       "Persona mayor    3\n",
       "dtype: int64},\n",
       "                        {&#x27;col&#x27;: &#x27;estrato_tipo&#x27;, &#x27;data_type&#x27;: dtype(&#x27;O&#x27;),\n",
       "                         &#x27;mapping&#x27;: Estrato bajo     0\n",
       "Estrato medio    1\n",
       "Estrato alto     2\n",
       "dtype: int64},\n",
       "                        {&#x27;col&#x27;: &#x27;d_08_estado_salud_tipo&#x27;,\n",
       "                         &#x27;data_type&#x27;: dtype(&#x27;O&#x27;),\n",
       "                         &#x27;mapping&#x27;: d_08_Muy_malo     0\n",
       "d_08_Malo         1\n",
       "d_08_Regular      2\n",
       "d_08_Bueno        3\n",
       "d...\n",
       "Una vez en el año                             2\n",
       "Algunas veces durante los últimos 12 meses    3\n",
       "Algunas veces mensualmente                    4\n",
       "Algunas veces semanalmente                    5\n",
       "Diariamente                                   6\n",
       "dtype: int64},\n",
       "                        {&#x27;col&#x27;: &#x27;frecuencia_consumo_basuco_tipo&#x27;,\n",
       "                         &#x27;data_type&#x27;: dtype(&#x27;O&#x27;),\n",
       "                         &#x27;mapping&#x27;: Nunca                                         0\n",
       "Alguna vez en su vida                         1\n",
       "Una vez en el año                             2\n",
       "Algunas veces durante los últimos 12 meses    3\n",
       "Algunas veces mensualmente                    4\n",
       "Algunas veces semanalmente                    5\n",
       "Diariamente                                   6\n",
       "dtype: int64}])</pre></div></div></div></div></div></div></div></div></div></div></div></div></div><div class=\"sk-parallel-item\"><div class=\"sk-item\"><div class=\"sk-label-container\"><div class=\"sk-label sk-toggleable\"><label>variables_categoricas</label></div></div><div class=\"sk-serial\"><div class=\"sk-item\"><div class=\"sk-serial\"><div class=\"sk-item sk-dashed-wrapped\"><div class=\"sk-label-container\"><div class=\"sk-label sk-toggleable\"><input class=\"sk-toggleable__control sk-hidden--visually\" id=\"sk-estimator-id-27\" type=\"checkbox\" ><label for=\"sk-estimator-id-27\" class=\"sk-toggleable__label sk-toggleable__label-arrow\">transformador_categorico: ColumnTransformer</label><div class=\"sk-toggleable__content\"><pre>ColumnTransformer(transformers=[(&#x27;transformador_categorico&#x27;,\n",
       "                                 OneHotEncoder(handle_unknown=&#x27;impute&#x27;),\n",
       "                                 [&#x27;g_06_b_posibilidad_conseguir_cocaina_tipo&#x27;,\n",
       "                                  &#x27;d_01_aporta_dinero_hogar_tipo&#x27;,\n",
       "                                  &#x27;departamento&#x27;, &#x27;d2_05_nivel_educativo_tipo&#x27;,\n",
       "                                  &#x27;d_09_deprimido_tipo&#x27;, &#x27;per_sexo_tipo&#x27;,\n",
       "                                  &#x27;d2_03_estado_civil_tipo&#x27;, &#x27;vivienda_tipo&#x27;,\n",
       "                                  &#x27;g_08_a_ofrecieron_marihuana_imp_tipo&#x27;,\n",
       "                                  &#x27;g_01_famil...\n",
       "                                  &#x27;d_12_c_presenta_problema_expendio_sp_barrio_tipo&#x27;,\n",
       "                                  &#x27;d2_01_etnia_tipo&#x27;,\n",
       "                                  &#x27;g_06_a_posibilidad_conseguir_marihuana_tipo&#x27;,\n",
       "                                  &#x27;d_11_k_conocimiento_riesgo_cocaina_frecuentemente_tipo&#x27;,\n",
       "                                  &#x27;g_02_a_num_amigos_consumen_sp_imp_tipo&#x27;,\n",
       "                                  &#x27;g_03_curiosidad_probar_sp_tipo&#x27;,\n",
       "                                  &#x27;g_05_posibilidad_probar_sp_tipo&#x27;,\n",
       "                                  &#x27;situacion_tipo&#x27;,\n",
       "                                  &#x27;g_08_c_ofrecieron_basuco_imp_tipo&#x27;,\n",
       "                                  &#x27;g_01_a_num_familiares_consumen_sp_imp_tipo&#x27;, ...])])</pre></div></div></div><div class=\"sk-parallel\"><div class=\"sk-parallel-item\"><div class=\"sk-item\"><div class=\"sk-label-container\"><div class=\"sk-label sk-toggleable\"><input class=\"sk-toggleable__control sk-hidden--visually\" id=\"sk-estimator-id-28\" type=\"checkbox\" ><label for=\"sk-estimator-id-28\" class=\"sk-toggleable__label sk-toggleable__label-arrow\">transformador_categorico</label><div class=\"sk-toggleable__content\"><pre>[&#x27;g_06_b_posibilidad_conseguir_cocaina_tipo&#x27;, &#x27;d_01_aporta_dinero_hogar_tipo&#x27;, &#x27;departamento&#x27;, &#x27;d2_05_nivel_educativo_tipo&#x27;, &#x27;d_09_deprimido_tipo&#x27;, &#x27;per_sexo_tipo&#x27;, &#x27;d2_03_estado_civil_tipo&#x27;, &#x27;vivienda_tipo&#x27;, &#x27;g_08_a_ofrecieron_marihuana_imp_tipo&#x27;, &#x27;g_01_familiares_consumen_sp_tipo&#x27;, &#x27;vive_padre_hogar_tipo&#x27;, &#x27;g_08_b_ofrecieron_cocaina_imp_tipo&#x27;, &#x27;d_11_n_conocimiento_riesgo_fumar_basuco_frecuentemente_tipo&#x27;, &#x27;d_12_b_presenta_problema_consumo_sp_barrio_tipo&#x27;, &#x27;g_02_amigos_consumen_sp_tipo&#x27;, &#x27;g_06_c_posibilidad_conseguir_basuco_tipo&#x27;, &#x27;vive_madre_hogar_tipo&#x27;, &#x27;g_07_alguien_ofrecio_comprar_probar_sp_tipo&#x27;, &#x27;d_10_poco_interes_tipo&#x27;, &#x27;d_11_h_conocimiento_riesgo_fumar_marihuana_frecuentemente_tipo&#x27;, &#x27;d_12_c_presenta_problema_expendio_sp_barrio_tipo&#x27;, &#x27;d2_01_etnia_tipo&#x27;, &#x27;g_06_a_posibilidad_conseguir_marihuana_tipo&#x27;, &#x27;d_11_k_conocimiento_riesgo_cocaina_frecuentemente_tipo&#x27;, &#x27;g_02_a_num_amigos_consumen_sp_imp_tipo&#x27;, &#x27;g_03_curiosidad_probar_sp_tipo&#x27;, &#x27;g_05_posibilidad_probar_sp_tipo&#x27;, &#x27;situacion_tipo&#x27;, &#x27;g_08_c_ofrecieron_basuco_imp_tipo&#x27;, &#x27;g_01_a_num_familiares_consumen_sp_imp_tipo&#x27;, &#x27;g_04_probaria_sp_tipo&#x27;]</pre></div></div></div><div class=\"sk-serial\"><div class=\"sk-item\"><div class=\"sk-estimator sk-toggleable\"><input class=\"sk-toggleable__control sk-hidden--visually\" id=\"sk-estimator-id-29\" type=\"checkbox\" ><label for=\"sk-estimator-id-29\" class=\"sk-toggleable__label sk-toggleable__label-arrow\">OneHotEncoder</label><div class=\"sk-toggleable__content\"><pre>OneHotEncoder(handle_unknown=&#x27;impute&#x27;)</pre></div></div></div></div></div></div></div></div></div></div></div></div></div></div></div><div class=\"sk-item\"><div class=\"sk-estimator sk-toggleable\"><input class=\"sk-toggleable__control sk-hidden--visually\" id=\"sk-estimator-id-30\" type=\"checkbox\" ><label for=\"sk-estimator-id-30\" class=\"sk-toggleable__label sk-toggleable__label-arrow\">LogisticRegression</label><div class=\"sk-toggleable__content\"><pre>LogisticRegression(max_iter=1000)</pre></div></div></div></div></div></div></div>"
      ],
      "text/plain": [
       "Pipeline(steps=[('procesador',\n",
       "                 FeatureUnion(transformer_list=[('variables_numericas',\n",
       "                                                 ColumnTransformer(transformers=[('transformador_numerico',\n",
       "                                                                                  Pipeline(steps=[('imputador_numerico',\n",
       "                                                                                                   SimpleImputer()),\n",
       "                                                                                                  ('escalador_numerico',\n",
       "                                                                                                   MinMaxScaler())]),\n",
       "                                                                                  Index(['residentes_hogar', 'd2_04_num_hijos'], dtype='object'))])),\n",
       "                                                ('variables_ordinales',\n",
       "                                                 Pipeline(steps=[('transfo...\n",
       "                                                                                                    'g_06_a_posibilidad_conseguir_marihuana_tipo',\n",
       "                                                                                                    'd_11_k_conocimiento_riesgo_cocaina_frecuentemente_tipo',\n",
       "                                                                                                    'g_02_a_num_amigos_consumen_sp_imp_tipo',\n",
       "                                                                                                    'g_03_curiosidad_probar_sp_tipo',\n",
       "                                                                                                    'g_05_posibilidad_probar_sp_tipo',\n",
       "                                                                                                    'situacion_tipo',\n",
       "                                                                                                    'g_08_c_ofrecieron_basuco_imp_tipo',\n",
       "                                                                                                    'g_01_a_num_familiares_consumen_sp_imp_tipo', ...])]))]))])),\n",
       "                ('estimador', LogisticRegression(max_iter=1000))])"
      ]
     },
     "execution_count": 20,
     "metadata": {},
     "output_type": "execute_result"
    }
   ],
   "source": [
    "pipeline_estimador.fit(X_train, y_train)"
   ]
  },
  {
   "cell_type": "code",
   "execution_count": 21,
   "metadata": {},
   "outputs": [],
   "source": [
    "predicciones = pipeline_estimador.predict(X_test)"
   ]
  },
  {
   "cell_type": "code",
   "execution_count": 22,
   "metadata": {},
   "outputs": [
    {
     "data": {
      "text/plain": [
       "array([0, 2, 0, ..., 2, 0, 4], dtype=int64)"
      ]
     },
     "execution_count": 22,
     "metadata": {},
     "output_type": "execute_result"
    }
   ],
   "source": [
    "predicciones"
   ]
  },
  {
   "cell_type": "markdown",
   "metadata": {},
   "source": [
    "Se evalua el modelo segun lo obtenido"
   ]
  },
  {
   "cell_type": "markdown",
   "metadata": {},
   "source": [
    "El beneficio de los pipelines, no solo es tener codigo mas legible y poder gestionar de forma ordenada todo el ciclo de vida del modelado, sino que los pipelines tienen todos los beneficios de los objetos de scikitlearn, por ejemplo, podemos usar validacion cruzada directamente con el pipeline."
   ]
  },
  {
   "cell_type": "code",
   "execution_count": 23,
   "metadata": {},
   "outputs": [],
   "source": [
    "resultados = {}\n",
    "\n",
    "def exactitud_multietiqueta(estimador, X, y):\n",
    "    preds = estimador.predict(X)\n",
    "    return metrics.accuracy_score(y, preds)\n",
    "\n",
    "def precision_multietiqueta(estimador, X, y):\n",
    "    preds = estimador.predict(X)\n",
    "    return metrics.precision_score(y, preds, average=\"weighted\")\n",
    "\n",
    "def exhaustividad_multietiqueta(estimador, X, y):\n",
    "    preds = estimador.predict(X)\n",
    "    return metrics.recall_score(y, preds, average=\"weighted\")\n",
    "\n",
    "def f1_multietiqueta(estimador, X, y):\n",
    "    preds = estimador.predict(X)\n",
    "    return metrics.f1_score(y, preds, average=\"weighted\")"
   ]
  },
  {
   "cell_type": "code",
   "execution_count": 24,
   "metadata": {},
   "outputs": [],
   "source": [
    "def evaluar_modelo(prmPipeline,X, y, semillas):\n",
    "    restultados_estimador = {}\n",
    "    restultados_estimador[\"exactitud\"] = cross_validate(prmPipeline, X, y,\n",
    "                                           scoring=exactitud_multietiqueta, n_jobs=-1, cv=semillas, return_train_score=True)\n",
    "    \n",
    "    restultados_estimador[\"precision\"] = cross_validate(prmPipeline, X, y,\n",
    "                                           scoring=precision_multietiqueta, n_jobs=-1, cv=semillas, return_train_score=True)\n",
    "    \n",
    "    restultados_estimador[\"exhaustividad\"] = cross_validate(prmPipeline, X, y,\n",
    "                                           scoring=exhaustividad_multietiqueta, n_jobs=-1, cv=semillas, return_train_score=True)\n",
    "    \n",
    "    restultados_estimador[\"f1_score\"] = cross_validate(prmPipeline, X, y,\n",
    "                                           scoring=f1_multietiqueta, n_jobs=-1, cv=semillas, return_train_score=True)\n",
    "    return restultados_estimador"
   ]
  },
  {
   "cell_type": "code",
   "execution_count": 25,
   "metadata": {},
   "outputs": [],
   "source": [
    "#Funcion para poder visuallizar los resultados de las metricas\n",
    "def ver_resultados():\n",
    "    df_res = pd.DataFrame()\n",
    "    for modelo, metricas in resultados.items():\n",
    "        for metrica, valores in metricas.items():\n",
    "            for medida, arreglo in valores.items():\n",
    "                # Calcula la media de cada array y agrega una nueva fila al DataFrame\n",
    "                df_res.loc[f\"{modelo}_{metrica}\", medida] = np.mean(arreglo)\n",
    "                \n",
    "    return df_res"
   ]
  },
  {
   "cell_type": "code",
   "execution_count": 26,
   "metadata": {},
   "outputs": [],
   "source": [
    "estimador_agregado = pipeline_estimador.named_steps['estimador']\n",
    "resultados[\"rl\"] = evaluar_modelo(estimador_agregado, consumidores_procesado, consumidores.CatRiesgo, 50)"
   ]
  },
  {
   "cell_type": "code",
   "execution_count": 27,
   "metadata": {},
   "outputs": [
    {
     "data": {
      "text/html": [
       "<div>\n",
       "<style scoped>\n",
       "    .dataframe tbody tr th:only-of-type {\n",
       "        vertical-align: middle;\n",
       "    }\n",
       "\n",
       "    .dataframe tbody tr th {\n",
       "        vertical-align: top;\n",
       "    }\n",
       "\n",
       "    .dataframe thead th {\n",
       "        text-align: right;\n",
       "    }\n",
       "</style>\n",
       "<table border=\"1\" class=\"dataframe\">\n",
       "  <thead>\n",
       "    <tr style=\"text-align: right;\">\n",
       "      <th></th>\n",
       "      <th>fit_time</th>\n",
       "      <th>score_time</th>\n",
       "      <th>test_score</th>\n",
       "      <th>train_score</th>\n",
       "    </tr>\n",
       "  </thead>\n",
       "  <tbody>\n",
       "    <tr>\n",
       "      <th>rl_exactitud</th>\n",
       "      <td>15.387092</td>\n",
       "      <td>0.003069</td>\n",
       "      <td>0.980400</td>\n",
       "      <td>0.992371</td>\n",
       "    </tr>\n",
       "    <tr>\n",
       "      <th>rl_precision</th>\n",
       "      <td>16.374441</td>\n",
       "      <td>0.007685</td>\n",
       "      <td>0.981103</td>\n",
       "      <td>0.992362</td>\n",
       "    </tr>\n",
       "    <tr>\n",
       "      <th>rl_exhaustividad</th>\n",
       "      <td>15.148281</td>\n",
       "      <td>0.005717</td>\n",
       "      <td>0.980400</td>\n",
       "      <td>0.992371</td>\n",
       "    </tr>\n",
       "    <tr>\n",
       "      <th>rl_f1_score</th>\n",
       "      <td>15.336131</td>\n",
       "      <td>0.005786</td>\n",
       "      <td>0.980343</td>\n",
       "      <td>0.992362</td>\n",
       "    </tr>\n",
       "  </tbody>\n",
       "</table>\n",
       "</div>"
      ],
      "text/plain": [
       "                   fit_time  score_time  test_score  train_score\n",
       "rl_exactitud      15.387092    0.003069    0.980400     0.992371\n",
       "rl_precision      16.374441    0.007685    0.981103     0.992362\n",
       "rl_exhaustividad  15.148281    0.005717    0.980400     0.992371\n",
       "rl_f1_score       15.336131    0.005786    0.980343     0.992362"
      ]
     },
     "execution_count": 27,
     "metadata": {},
     "output_type": "execute_result"
    }
   ],
   "source": [
    "ver_resultados()"
   ]
  },
  {
   "cell_type": "markdown",
   "metadata": {
    "collapsed": true
   },
   "source": [
    "### Optimizacion de hiperparametros"
   ]
  },
  {
   "cell_type": "code",
   "execution_count": 28,
   "metadata": {},
   "outputs": [],
   "source": [
    "from sklearn.model_selection import RandomizedSearchCV\n",
    "from scipy.stats import randint as sp_randint\n",
    "from scipy.stats import uniform, loguniform"
   ]
  },
  {
   "cell_type": "code",
   "execution_count": 29,
   "metadata": {},
   "outputs": [],
   "source": [
    "param_dist_random = {\n",
    "    'C': loguniform(0.01, 100),\n",
    "    'penalty': ['l1', 'l2'],\n",
    "    'solver': ['newton-cg', 'lbfgs', 'liblinear', 'sag', 'saga'],\n",
    "    'max_iter': [1000, 2000, 3000]\n",
    "}"
   ]
  },
  {
   "cell_type": "code",
   "execution_count": 30,
   "metadata": {},
   "outputs": [],
   "source": [
    "busqueda_random = RandomizedSearchCV(estimator=estimador, \n",
    "                   param_distributions=param_dist_random,\n",
    "                   scoring=\"accuracy\", n_jobs=-1, n_iter=100)"
   ]
  },
  {
   "cell_type": "code",
   "execution_count": 31,
   "metadata": {},
   "outputs": [],
   "source": [
    "pipeline_estimador_op = Pipeline([\n",
    "    ('procesador', pipeline_procesado),\n",
    "    ('estimador', busqueda_random)\n",
    "])"
   ]
  },
  {
   "cell_type": "code",
   "execution_count": null,
   "metadata": {},
   "outputs": [],
   "source": [
    "pipeline_estimador_op.fit(X_train, y_train)"
   ]
  },
  {
   "cell_type": "code",
   "execution_count": null,
   "metadata": {},
   "outputs": [],
   "source": [
    "pipeline_estimador_op.predict(X_test)"
   ]
  },
  {
   "cell_type": "code",
   "execution_count": null,
   "metadata": {},
   "outputs": [],
   "source": [
    "print(busqueda_random.best_score_)\n",
    "print(busqueda_random.best_estimator_)"
   ]
  },
  {
   "cell_type": "code",
   "execution_count": null,
   "metadata": {},
   "outputs": [],
   "source": [
    "pipeline_estimador_op_best = Pipeline([\n",
    "    ('procesador', pipeline_procesado),\n",
    "    ('estimador', busqueda_random.best_estimator_)\n",
    "])"
   ]
  },
  {
   "cell_type": "code",
   "execution_count": null,
   "metadata": {},
   "outputs": [],
   "source": [
    "pipeline_estimador_op_best.fit(X_train, y_train)"
   ]
  },
  {
   "cell_type": "code",
   "execution_count": null,
   "metadata": {},
   "outputs": [],
   "source": [
    "pipeline_estimador_op_best.predict(X_test)"
   ]
  },
  {
   "cell_type": "code",
   "execution_count": null,
   "metadata": {},
   "outputs": [],
   "source": [
    "estimador_best = pipeline_estimador_op_best.named_steps['estimador']\n",
    "resultados[\"rl_best\"] = evaluar_modelo(estimador_best, consumidores_procesado, consumidores.CatRiesgo, 50)\n",
    "ver_resultados()"
   ]
  },
  {
   "cell_type": "markdown",
   "metadata": {},
   "source": [
    "### Segunda optimizacion"
   ]
  },
  {
   "cell_type": "code",
   "execution_count": null,
   "metadata": {},
   "outputs": [],
   "source": [
    "param_dist_random2 = {\n",
    "    'C': loguniform(0.01, 100),\n",
    "    'penalty': ['l1', 'l2'],\n",
    "    'solver': ['liblinear', 'saga'],\n",
    "    'max_iter': [1000, 2000, 5000],\n",
    "    'dual': [False, True],\n",
    "    'fit_intercept': [True, False]\n",
    "}"
   ]
  },
  {
   "cell_type": "code",
   "execution_count": null,
   "metadata": {},
   "outputs": [],
   "source": [
    "busqueda_random2 = RandomizedSearchCV(estimator=estimador, \n",
    "                    param_distributions=param_dist_random2,\n",
    "                   scoring=\"accuracy\", n_jobs=-1, n_iter=100)"
   ]
  },
  {
   "cell_type": "code",
   "execution_count": null,
   "metadata": {},
   "outputs": [],
   "source": [
    "pipeline_estimador_op2 = Pipeline([\n",
    "    ('procesador', pipeline_procesado),\n",
    "    ('estimador', busqueda_random2)\n",
    "])"
   ]
  },
  {
   "cell_type": "code",
   "execution_count": null,
   "metadata": {
    "scrolled": true
   },
   "outputs": [],
   "source": [
    "pipeline_estimador_op2.fit(X_train, y_train)"
   ]
  },
  {
   "cell_type": "code",
   "execution_count": null,
   "metadata": {},
   "outputs": [],
   "source": [
    "pipeline_estimador_op2.predict(X_test)"
   ]
  },
  {
   "cell_type": "code",
   "execution_count": null,
   "metadata": {},
   "outputs": [],
   "source": [
    "print(busqueda_random2.best_score_)\n",
    "print(busqueda_random2.best_estimator_)"
   ]
  },
  {
   "cell_type": "code",
   "execution_count": null,
   "metadata": {},
   "outputs": [],
   "source": [
    "pipeline_estimador_op_best2 = Pipeline([\n",
    "    ('procesador', pipeline_procesado),\n",
    "    ('estimador', busqueda_random2.best_estimator_)\n",
    "])"
   ]
  },
  {
   "cell_type": "code",
   "execution_count": null,
   "metadata": {},
   "outputs": [],
   "source": [
    "pipeline_estimador_op_best2.fit(X_train, y_train)"
   ]
  },
  {
   "cell_type": "code",
   "execution_count": null,
   "metadata": {},
   "outputs": [],
   "source": [
    "pipeline_estimador_op_best2.predict(X_test)"
   ]
  },
  {
   "cell_type": "code",
   "execution_count": null,
   "metadata": {},
   "outputs": [],
   "source": [
    "estimador_best2 = pipeline_estimador_op_best2.named_steps['estimador']\n",
    "resultados[\"rl_best_2\"] = evaluar_modelo(estimador_best2, consumidores_procesado, consumidores.CatRiesgo, 50)\n",
    "ver_resultados()"
   ]
  },
  {
   "cell_type": "markdown",
   "metadata": {},
   "source": [
    "### Tercera optimizacion"
   ]
  },
  {
   "cell_type": "code",
   "execution_count": null,
   "metadata": {},
   "outputs": [],
   "source": [
    "param_dist_random3 = {\n",
    "    'C': loguniform(0.01, 100),\n",
    "    'penalty': ['l1'],\n",
    "    'solver': ['saga'],\n",
    "    'max_iter': [1000, 2000, 5000, 7000],\n",
    "    'dual': [False],\n",
    "    'fit_intercept': [True, False],\n",
    "    'class_weight': [None, 'balanced'],\n",
    "    'tol': [1e-4, 1e-3, 1e-2],\n",
    "    'l1_ratio': [0.1, 0.5, 0.9]\n",
    "}"
   ]
  },
  {
   "cell_type": "code",
   "execution_count": null,
   "metadata": {},
   "outputs": [],
   "source": [
    "busqueda_random3 = RandomizedSearchCV(estimator=estimador, \n",
    "                    param_distributions=param_dist_random3,\n",
    "                   scoring=\"accuracy\", n_jobs=-1, n_iter=100)"
   ]
  },
  {
   "cell_type": "code",
   "execution_count": null,
   "metadata": {},
   "outputs": [],
   "source": [
    "pipeline_estimador_op3 = Pipeline([\n",
    "    ('procesador', pipeline_procesado),\n",
    "    ('estimador', busqueda_random3)\n",
    "])"
   ]
  },
  {
   "cell_type": "code",
   "execution_count": null,
   "metadata": {},
   "outputs": [],
   "source": [
    "pipeline_estimador_op3.fit(X_train, y_train)"
   ]
  },
  {
   "cell_type": "code",
   "execution_count": null,
   "metadata": {},
   "outputs": [],
   "source": [
    "pipeline_estimador_op3.predict(X_test)"
   ]
  },
  {
   "cell_type": "code",
   "execution_count": null,
   "metadata": {},
   "outputs": [],
   "source": [
    "print(busqueda_random3.best_score_)\n",
    "print(busqueda_random3.best_estimator_)"
   ]
  },
  {
   "cell_type": "code",
   "execution_count": null,
   "metadata": {},
   "outputs": [],
   "source": [
    "pipeline_estimador_op_best3 = Pipeline([\n",
    "    ('procesador', pipeline_procesado),\n",
    "    ('estimador', busqueda_random3.best_estimator_)\n",
    "])"
   ]
  },
  {
   "cell_type": "code",
   "execution_count": null,
   "metadata": {},
   "outputs": [],
   "source": [
    "pipeline_estimador_op_best3.fit(X_train, y_train)"
   ]
  },
  {
   "cell_type": "code",
   "execution_count": null,
   "metadata": {},
   "outputs": [],
   "source": [
    "pipeline_estimador_op_best3.predict(X_test)"
   ]
  },
  {
   "cell_type": "code",
   "execution_count": null,
   "metadata": {},
   "outputs": [],
   "source": [
    "estimador_best3 = pipeline_estimador_op_best3.named_steps['estimador']\n",
    "resultados[\"rl_best_3\"] = evaluar_modelo(estimador_best3, consumidores_procesado, consumidores.CatRiesgo, 50)\n",
    "ver_resultados()"
   ]
  },
  {
   "cell_type": "markdown",
   "metadata": {},
   "source": [
    "### Cuarta optimizacion"
   ]
  },
  {
   "cell_type": "code",
   "execution_count": null,
   "metadata": {},
   "outputs": [],
   "source": [
    "param_dist_random4 = {\n",
    "    'C': loguniform(0.01, 100),\n",
    "    'penalty': ['l1'],\n",
    "    'solver': ['saga'],\n",
    "    'max_iter': [1000, 2000, 5000, 7000, 9000],\n",
    "    'dual': [False],\n",
    "    'fit_intercept': [True, False],\n",
    "    'class_weight': [None, 'balanced'],\n",
    "    'tol': [1e-4, 1e-3, 1e-2]\n",
    "}"
   ]
  },
  {
   "cell_type": "code",
   "execution_count": null,
   "metadata": {},
   "outputs": [],
   "source": [
    "busqueda_random4 = RandomizedSearchCV(estimator=estimador, \n",
    "                    param_distributions=param_dist_random4,\n",
    "                   scoring=\"accuracy\", n_jobs=-1, n_iter=100)"
   ]
  },
  {
   "cell_type": "code",
   "execution_count": null,
   "metadata": {},
   "outputs": [],
   "source": [
    "pipeline_estimador_op4 = Pipeline([\n",
    "    ('procesador', pipeline_procesado),\n",
    "    ('estimador', busqueda_random4)\n",
    "])"
   ]
  },
  {
   "cell_type": "code",
   "execution_count": null,
   "metadata": {},
   "outputs": [],
   "source": [
    "pipeline_estimador_op4.fit(X_train, y_train)"
   ]
  },
  {
   "cell_type": "code",
   "execution_count": null,
   "metadata": {},
   "outputs": [],
   "source": [
    "pipeline_estimador_op4.predict(X_test)"
   ]
  },
  {
   "cell_type": "code",
   "execution_count": null,
   "metadata": {},
   "outputs": [],
   "source": [
    "print(busqueda_random4.best_score_)\n",
    "print(busqueda_random4.best_estimator_)"
   ]
  },
  {
   "cell_type": "code",
   "execution_count": null,
   "metadata": {},
   "outputs": [],
   "source": [
    "pipeline_estimador_op_best4 = Pipeline([\n",
    "    ('procesador', pipeline_procesado),\n",
    "    ('estimador', busqueda_random4.best_estimator_)\n",
    "])"
   ]
  },
  {
   "cell_type": "code",
   "execution_count": null,
   "metadata": {},
   "outputs": [],
   "source": [
    "pipeline_estimador_op_best4.fit(X_train, y_train)"
   ]
  },
  {
   "cell_type": "code",
   "execution_count": null,
   "metadata": {},
   "outputs": [],
   "source": [
    "pipeline_estimador_op_best4.predict(X_test)"
   ]
  },
  {
   "cell_type": "code",
   "execution_count": null,
   "metadata": {},
   "outputs": [],
   "source": [
    "estimador_best4 = pipeline_estimador_op_best4.named_steps['estimador']\n",
    "resultados[\"rl_best_4\"] = evaluar_modelo(estimador_best4, consumidores_procesado, consumidores.CatRiesgo, 50)\n",
    "ver_resultados()"
   ]
  },
  {
   "cell_type": "markdown",
   "metadata": {},
   "source": [
    "### Exportar con joblib el mejor pipeline obtenido\n",
    "\n",
    "Tenemos que exportar 3 cosas para poder recrear el Pipeline:\n",
    "\n",
    "**1. El pipeline entrenado.**\n",
    "\n",
    "Podemos usar la libreria de scikit-learn `joblib` para guardar nuestro pipeline al disco duro. Joblib es una libreria basada en pickle que sirve para guardar objetos de python al disco duro, pero que está optimizado para scikit-learn."
   ]
  },
  {
   "cell_type": "code",
   "execution_count": 28,
   "metadata": {},
   "outputs": [],
   "source": [
    "import joblib"
   ]
  },
  {
   "cell_type": "code",
   "execution_count": 72,
   "metadata": {},
   "outputs": [
    {
     "data": {
      "text/plain": [
       "['pipeline_rl_best.pkl']"
      ]
     },
     "execution_count": 72,
     "metadata": {},
     "output_type": "execute_result"
    }
   ],
   "source": [
    "joblib.dump(pipeline_estimador_op_best3, 'pipeline_rl_best.pkl')"
   ]
  },
  {
   "cell_type": "code",
   "execution_count": 29,
   "metadata": {},
   "outputs": [],
   "source": [
    "clf = joblib.load('C:/Users/Danny/Desktop/Analisis_Modelo/Alisis Danny/4 - Pipelines/Modelo RL/pipeline_rl_best.pkl')"
   ]
  },
  {
   "cell_type": "code",
   "execution_count": 35,
   "metadata": {},
   "outputs": [],
   "source": [
    "array_predicciones = clf.predict(X_test)"
   ]
  },
  {
   "cell_type": "code",
   "execution_count": 36,
   "metadata": {},
   "outputs": [
    {
     "data": {
      "text/plain": [
       "array([0, 2, 0, ..., 2, 0, 4], dtype=int64)"
      ]
     },
     "execution_count": 36,
     "metadata": {},
     "output_type": "execute_result"
    }
   ],
   "source": [
    "array_predicciones"
   ]
  },
  {
   "cell_type": "code",
   "execution_count": 38,
   "metadata": {},
   "outputs": [],
   "source": [
    "from collections import Counter\n",
    "conteo = Counter(array_predicciones)"
   ]
  },
  {
   "cell_type": "code",
   "execution_count": 39,
   "metadata": {},
   "outputs": [
    {
     "data": {
      "text/plain": [
       "Counter({0: 865, 2: 480, 1: 480, 3: 99, 4: 76})"
      ]
     },
     "execution_count": 39,
     "metadata": {},
     "output_type": "execute_result"
    }
   ],
   "source": [
    "conteo"
   ]
  },
  {
   "cell_type": "code",
   "execution_count": 41,
   "metadata": {},
   "outputs": [
    {
     "data": {
      "text/plain": [
       "0    864\n",
       "1    477\n",
       "2    475\n",
       "3    114\n",
       "4     70\n",
       "Name: CatRiesgo, dtype: int64"
      ]
     },
     "execution_count": 41,
     "metadata": {},
     "output_type": "execute_result"
    }
   ],
   "source": [
    "y_test.value_counts()"
   ]
  },
  {
   "cell_type": "markdown",
   "metadata": {},
   "source": [
    "**2. Los nombres de las columnas**\n",
    "\n",
    "Necesitamos saber las columnas que espera el pipeline para poder saber cómo tenemos que formatear los datos en el futuro de forma que los reconozca."
   ]
  },
  {
   "cell_type": "code",
   "execution_count": 83,
   "metadata": {},
   "outputs": [],
   "source": [
    "import json\n",
    "with open('columnas_consumidores.json', 'w') as fname:\n",
    "    consumidores_columnas = consumidores.columns.tolist()\n",
    "    json.dump(consumidores_columnas, fname)"
   ]
  },
  {
   "cell_type": "markdown",
   "metadata": {},
   "source": [
    "**3. Los tipos de datos de cada variable**\n",
    "\n",
    "Necesitamos que las variables de las nuevas observaciones estén en el mismo formato que espera el pipeline."
   ]
  },
  {
   "cell_type": "code",
   "execution_count": 84,
   "metadata": {},
   "outputs": [
    {
     "data": {
      "text/plain": [
       "['dtypes_consumidores.pkl']"
      ]
     },
     "execution_count": 84,
     "metadata": {},
     "output_type": "execute_result"
    }
   ],
   "source": [
    "consumidores_dtypes = consumidores.dtypes\n",
    "consumidores_dtypes = {col: consumidores[col].dtype for col in consumidores.columns}\n",
    "joblib.dump(consumidores_dtypes, 'dtypes_consumidores.pkl')"
   ]
  },
  {
   "cell_type": "code",
   "execution_count": null,
   "metadata": {},
   "outputs": [],
   "source": []
  }
 ],
 "metadata": {
  "kernelspec": {
   "display_name": "Python 3 (ipykernel)",
   "language": "python",
   "name": "python3"
  },
  "language_info": {
   "codemirror_mode": {
    "name": "ipython",
    "version": 3
   },
   "file_extension": ".py",
   "mimetype": "text/x-python",
   "name": "python",
   "nbconvert_exporter": "python",
   "pygments_lexer": "ipython3",
   "version": "3.10.11"
  }
 },
 "nbformat": 4,
 "nbformat_minor": 2
}
