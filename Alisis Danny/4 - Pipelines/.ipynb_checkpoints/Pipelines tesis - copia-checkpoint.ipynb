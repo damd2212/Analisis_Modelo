{
 "cells": [
  {
   "cell_type": "code",
   "execution_count": 1,
   "metadata": {},
   "outputs": [
    {
     "name": "stdout",
     "output_type": "stream",
     "text": [
      "Last updated: 2023-09-01T15:05:24.046092-05:00\n",
      "\n",
      "Python implementation: CPython\n",
      "Python version       : 3.10.11\n",
      "IPython version      : 8.13.2\n",
      "\n",
      "Compiler    : MSC v.1916 64 bit (AMD64)\n",
      "OS          : Windows\n",
      "Release     : 10\n",
      "Machine     : AMD64\n",
      "Processor   : Intel64 Family 6 Model 158 Stepping 10, GenuineIntel\n",
      "CPU cores   : 8\n",
      "Architecture: 64bit\n",
      "\n"
     ]
    }
   ],
   "source": [
    "%load_ext watermark\n",
    "%watermark"
   ]
  },
  {
   "cell_type": "code",
   "execution_count": 2,
   "metadata": {},
   "outputs": [],
   "source": [
    "from IPython.display import Image\n",
    "import pandas as pd\n",
    "import numpy as np"
   ]
  },
  {
   "cell_type": "code",
   "execution_count": 3,
   "metadata": {},
   "outputs": [],
   "source": [
    "datos = pd.read_csv(\"C:/Users/Danny/Desktop/Analisis tesis/Pipelines/data/consumidores_categorizado_procesado.csv\")"
   ]
  },
  {
   "cell_type": "code",
   "execution_count": 4,
   "metadata": {},
   "outputs": [
    {
     "data": {
      "text/html": [
       "<div>\n",
       "<style scoped>\n",
       "    .dataframe tbody tr th:only-of-type {\n",
       "        vertical-align: middle;\n",
       "    }\n",
       "\n",
       "    .dataframe tbody tr th {\n",
       "        vertical-align: top;\n",
       "    }\n",
       "\n",
       "    .dataframe thead th {\n",
       "        text-align: right;\n",
       "    }\n",
       "</style>\n",
       "<table border=\"1\" class=\"dataframe\">\n",
       "  <thead>\n",
       "    <tr style=\"text-align: right;\">\n",
       "      <th></th>\n",
       "      <th>departamento</th>\n",
       "      <th>residentes_hogar</th>\n",
       "      <th>d2_04_num_hijos</th>\n",
       "      <th>per_edad_tipo</th>\n",
       "      <th>estrato_tipo</th>\n",
       "      <th>situacion_tipo</th>\n",
       "      <th>frecuencia_consumo_marihuana_tipo</th>\n",
       "      <th>frecuencia_consumo_cocaina_tipo</th>\n",
       "      <th>frecuencia_consumo_basuco_tipo</th>\n",
       "      <th>per_sexo_tipo</th>\n",
       "      <th>...</th>\n",
       "      <th>g_05_posibilidad_probar_sp_tipo</th>\n",
       "      <th>g_06_a_posibilidad_conseguir_marihuana_tipo</th>\n",
       "      <th>g_06_b_posibilidad_conseguir_cocaina_tipo</th>\n",
       "      <th>g_06_c_posibilidad_conseguir_basuco_tipo</th>\n",
       "      <th>g_07_alguien_ofrecio_comprar_probar_sp_tipo</th>\n",
       "      <th>g_01_a_num_familiares_consumen_sp_imp_tipo</th>\n",
       "      <th>g_02_a_num_amigos_consumen_sp_imp_tipo</th>\n",
       "      <th>g_08_a_ofrecieron_marihuana_imp_tipo</th>\n",
       "      <th>g_08_b_ofrecieron_cocaina_imp_tipo</th>\n",
       "      <th>g_08_c_ofrecieron_basuco_imp_tipo</th>\n",
       "    </tr>\n",
       "  </thead>\n",
       "  <tbody>\n",
       "    <tr>\n",
       "      <th>0</th>\n",
       "      <td>Guaviare</td>\n",
       "      <td>5</td>\n",
       "      <td>0</td>\n",
       "      <td>Joven</td>\n",
       "      <td>Estrato bajo</td>\n",
       "      <td>Trabajando</td>\n",
       "      <td>Nunca</td>\n",
       "      <td>Nunca</td>\n",
       "      <td>Nunca</td>\n",
       "      <td>Hombre</td>\n",
       "      <td>...</td>\n",
       "      <td>g_05_No</td>\n",
       "      <td>g_06_a_No_conoce_facilidad_dificultad</td>\n",
       "      <td>g_06_b_No_conoce_facilidad_dificultad</td>\n",
       "      <td>g_06_c_No_conoce_facilidad_dificultad</td>\n",
       "      <td>g_07_No</td>\n",
       "      <td>g_01_a_No_aplica</td>\n",
       "      <td>g_02_a_Dos_o_mas</td>\n",
       "      <td>g_08_a_No_aplica</td>\n",
       "      <td>g_08_b_No_aplica</td>\n",
       "      <td>g_08_c_No_aplica</td>\n",
       "    </tr>\n",
       "    <tr>\n",
       "      <th>1</th>\n",
       "      <td>Cordoba</td>\n",
       "      <td>4</td>\n",
       "      <td>3</td>\n",
       "      <td>Adulto</td>\n",
       "      <td>Estrato bajo</td>\n",
       "      <td>Trabajando</td>\n",
       "      <td>Nunca</td>\n",
       "      <td>Nunca</td>\n",
       "      <td>Nunca</td>\n",
       "      <td>Mujer</td>\n",
       "      <td>...</td>\n",
       "      <td>g_05_No</td>\n",
       "      <td>g_06_a_Seria_facil</td>\n",
       "      <td>g_06_b_Seria_facil</td>\n",
       "      <td>g_06_c_Seria_facil</td>\n",
       "      <td>g_07_No</td>\n",
       "      <td>g_01_a_No_aplica</td>\n",
       "      <td>g_02_a_No_aplica</td>\n",
       "      <td>g_08_a_No_aplica</td>\n",
       "      <td>g_08_b_No_aplica</td>\n",
       "      <td>g_08_c_No_aplica</td>\n",
       "    </tr>\n",
       "    <tr>\n",
       "      <th>2</th>\n",
       "      <td>Caqueta</td>\n",
       "      <td>4</td>\n",
       "      <td>2</td>\n",
       "      <td>Adulto</td>\n",
       "      <td>Estrato bajo</td>\n",
       "      <td>Trabajando</td>\n",
       "      <td>Nunca</td>\n",
       "      <td>Nunca</td>\n",
       "      <td>Nunca</td>\n",
       "      <td>Hombre</td>\n",
       "      <td>...</td>\n",
       "      <td>g_05_No</td>\n",
       "      <td>g_06_a_No_conoce_facilidad_dificultad</td>\n",
       "      <td>g_06_b_No_conoce_facilidad_dificultad</td>\n",
       "      <td>g_06_c_No_conoce_facilidad_dificultad</td>\n",
       "      <td>g_07_No</td>\n",
       "      <td>g_01_a_No_aplica</td>\n",
       "      <td>g_02_a_No_aplica</td>\n",
       "      <td>g_08_a_No_aplica</td>\n",
       "      <td>g_08_b_No_aplica</td>\n",
       "      <td>g_08_c_No_aplica</td>\n",
       "    </tr>\n",
       "    <tr>\n",
       "      <th>3</th>\n",
       "      <td>Bolivar</td>\n",
       "      <td>6</td>\n",
       "      <td>0</td>\n",
       "      <td>Adulto</td>\n",
       "      <td>Estrato alto</td>\n",
       "      <td>Trabajando</td>\n",
       "      <td>Nunca</td>\n",
       "      <td>Nunca</td>\n",
       "      <td>Nunca</td>\n",
       "      <td>Mujer</td>\n",
       "      <td>...</td>\n",
       "      <td>g_05_No</td>\n",
       "      <td>g_06_a_No_podria_conseguir</td>\n",
       "      <td>g_06_b_No_podria_conseguir</td>\n",
       "      <td>g_06_c_No_podria_conseguir</td>\n",
       "      <td>g_07_No</td>\n",
       "      <td>g_01_a_No_aplica</td>\n",
       "      <td>g_02_a_No_aplica</td>\n",
       "      <td>g_08_a_No_aplica</td>\n",
       "      <td>g_08_b_No_aplica</td>\n",
       "      <td>g_08_c_No_aplica</td>\n",
       "    </tr>\n",
       "    <tr>\n",
       "      <th>4</th>\n",
       "      <td>Tolima</td>\n",
       "      <td>4</td>\n",
       "      <td>1</td>\n",
       "      <td>Joven</td>\n",
       "      <td>Estrato bajo</td>\n",
       "      <td>Buscando trabajo</td>\n",
       "      <td>Nunca</td>\n",
       "      <td>Nunca</td>\n",
       "      <td>Nunca</td>\n",
       "      <td>Mujer</td>\n",
       "      <td>...</td>\n",
       "      <td>g_05_No</td>\n",
       "      <td>g_06_a_Seria_facil</td>\n",
       "      <td>g_06_b_Seria_facil</td>\n",
       "      <td>g_06_c_Seria_facil</td>\n",
       "      <td>g_07_No</td>\n",
       "      <td>g_01_a_No_aplica</td>\n",
       "      <td>g_02_a_Dos_o_mas</td>\n",
       "      <td>g_08_a_No_aplica</td>\n",
       "      <td>g_08_b_No_aplica</td>\n",
       "      <td>g_08_c_No_aplica</td>\n",
       "    </tr>\n",
       "  </tbody>\n",
       "</table>\n",
       "<p>5 rows × 39 columns</p>\n",
       "</div>"
      ],
      "text/plain": [
       "  departamento  residentes_hogar  d2_04_num_hijos per_edad_tipo  estrato_tipo  \\\n",
       "0     Guaviare                 5                0         Joven  Estrato bajo   \n",
       "1      Cordoba                 4                3        Adulto  Estrato bajo   \n",
       "2      Caqueta                 4                2        Adulto  Estrato bajo   \n",
       "3      Bolivar                 6                0        Adulto  Estrato alto   \n",
       "4       Tolima                 4                1         Joven  Estrato bajo   \n",
       "\n",
       "     situacion_tipo frecuencia_consumo_marihuana_tipo  \\\n",
       "0        Trabajando                             Nunca   \n",
       "1        Trabajando                             Nunca   \n",
       "2        Trabajando                             Nunca   \n",
       "3        Trabajando                             Nunca   \n",
       "4  Buscando trabajo                             Nunca   \n",
       "\n",
       "  frecuencia_consumo_cocaina_tipo frecuencia_consumo_basuco_tipo  \\\n",
       "0                           Nunca                          Nunca   \n",
       "1                           Nunca                          Nunca   \n",
       "2                           Nunca                          Nunca   \n",
       "3                           Nunca                          Nunca   \n",
       "4                           Nunca                          Nunca   \n",
       "\n",
       "  per_sexo_tipo  ... g_05_posibilidad_probar_sp_tipo  \\\n",
       "0        Hombre  ...                         g_05_No   \n",
       "1         Mujer  ...                         g_05_No   \n",
       "2        Hombre  ...                         g_05_No   \n",
       "3         Mujer  ...                         g_05_No   \n",
       "4         Mujer  ...                         g_05_No   \n",
       "\n",
       "  g_06_a_posibilidad_conseguir_marihuana_tipo  \\\n",
       "0       g_06_a_No_conoce_facilidad_dificultad   \n",
       "1                          g_06_a_Seria_facil   \n",
       "2       g_06_a_No_conoce_facilidad_dificultad   \n",
       "3                  g_06_a_No_podria_conseguir   \n",
       "4                          g_06_a_Seria_facil   \n",
       "\n",
       "  g_06_b_posibilidad_conseguir_cocaina_tipo  \\\n",
       "0     g_06_b_No_conoce_facilidad_dificultad   \n",
       "1                        g_06_b_Seria_facil   \n",
       "2     g_06_b_No_conoce_facilidad_dificultad   \n",
       "3                g_06_b_No_podria_conseguir   \n",
       "4                        g_06_b_Seria_facil   \n",
       "\n",
       "  g_06_c_posibilidad_conseguir_basuco_tipo  \\\n",
       "0    g_06_c_No_conoce_facilidad_dificultad   \n",
       "1                       g_06_c_Seria_facil   \n",
       "2    g_06_c_No_conoce_facilidad_dificultad   \n",
       "3               g_06_c_No_podria_conseguir   \n",
       "4                       g_06_c_Seria_facil   \n",
       "\n",
       "  g_07_alguien_ofrecio_comprar_probar_sp_tipo  \\\n",
       "0                                     g_07_No   \n",
       "1                                     g_07_No   \n",
       "2                                     g_07_No   \n",
       "3                                     g_07_No   \n",
       "4                                     g_07_No   \n",
       "\n",
       "  g_01_a_num_familiares_consumen_sp_imp_tipo  \\\n",
       "0                           g_01_a_No_aplica   \n",
       "1                           g_01_a_No_aplica   \n",
       "2                           g_01_a_No_aplica   \n",
       "3                           g_01_a_No_aplica   \n",
       "4                           g_01_a_No_aplica   \n",
       "\n",
       "  g_02_a_num_amigos_consumen_sp_imp_tipo g_08_a_ofrecieron_marihuana_imp_tipo  \\\n",
       "0                       g_02_a_Dos_o_mas                     g_08_a_No_aplica   \n",
       "1                       g_02_a_No_aplica                     g_08_a_No_aplica   \n",
       "2                       g_02_a_No_aplica                     g_08_a_No_aplica   \n",
       "3                       g_02_a_No_aplica                     g_08_a_No_aplica   \n",
       "4                       g_02_a_Dos_o_mas                     g_08_a_No_aplica   \n",
       "\n",
       "  g_08_b_ofrecieron_cocaina_imp_tipo g_08_c_ofrecieron_basuco_imp_tipo  \n",
       "0                   g_08_b_No_aplica                  g_08_c_No_aplica  \n",
       "1                   g_08_b_No_aplica                  g_08_c_No_aplica  \n",
       "2                   g_08_b_No_aplica                  g_08_c_No_aplica  \n",
       "3                   g_08_b_No_aplica                  g_08_c_No_aplica  \n",
       "4                   g_08_b_No_aplica                  g_08_c_No_aplica  \n",
       "\n",
       "[5 rows x 39 columns]"
      ]
     },
     "execution_count": 4,
     "metadata": {},
     "output_type": "execute_result"
    }
   ],
   "source": [
    "datos.head()"
   ]
  },
  {
   "cell_type": "code",
   "execution_count": 5,
   "metadata": {},
   "outputs": [],
   "source": [
    "#columnas = datos.columns\n",
    "#columnas"
   ]
  },
  {
   "cell_type": "code",
   "execution_count": 6,
   "metadata": {},
   "outputs": [],
   "source": [
    "from sklearn import preprocessing, feature_extraction"
   ]
  },
  {
   "cell_type": "markdown",
   "metadata": {},
   "source": [
    "Como vimos en un apartado anterior, en este ejemplo vamos a modificar cada variable en función de su tipo. Al conjunto de pasos que siguen los datos se le llama comúnmente **Pipelines** (literalmente, sistemas de tuberias)."
   ]
  },
  {
   "cell_type": "code",
   "execution_count": 7,
   "metadata": {
    "scrolled": true
   },
   "outputs": [
    {
     "name": "stdout",
     "output_type": "stream",
     "text": [
      "<class 'pandas.core.frame.DataFrame'>\n",
      "RangeIndex: 10000 entries, 0 to 9999\n",
      "Data columns (total 39 columns):\n",
      " #   Column                                                          Non-Null Count  Dtype \n",
      "---  ------                                                          --------------  ----- \n",
      " 0   departamento                                                    10000 non-null  object\n",
      " 1   residentes_hogar                                                10000 non-null  int64 \n",
      " 2   d2_04_num_hijos                                                 10000 non-null  int64 \n",
      " 3   per_edad_tipo                                                   10000 non-null  object\n",
      " 4   estrato_tipo                                                    10000 non-null  object\n",
      " 5   situacion_tipo                                                  10000 non-null  object\n",
      " 6   frecuencia_consumo_marihuana_tipo                               10000 non-null  object\n",
      " 7   frecuencia_consumo_cocaina_tipo                                 10000 non-null  object\n",
      " 8   frecuencia_consumo_basuco_tipo                                  10000 non-null  object\n",
      " 9   per_sexo_tipo                                                   10000 non-null  object\n",
      " 10  vive_padre_hogar_tipo                                           10000 non-null  object\n",
      " 11  vive_madre_hogar_tipo                                           10000 non-null  object\n",
      " 12  vivienda_tipo                                                   10000 non-null  object\n",
      " 13  d_01_aporta_dinero_hogar_tipo                                   10000 non-null  object\n",
      " 14  d_08_estado_salud_tipo                                          10000 non-null  object\n",
      " 15  d_09_deprimido_tipo                                             10000 non-null  object\n",
      " 16  d_10_poco_interes_tipo                                          10000 non-null  object\n",
      " 17  d_11_h_conocimiento_riesgo_fumar_marihuana_frecuentemente_tipo  10000 non-null  object\n",
      " 18  d_11_k_conocimiento_riesgo_cocaina_frecuentemente_tipo          10000 non-null  object\n",
      " 19  d_11_n_conocimiento_riesgo_fumar_basuco_frecuentemente_tipo     10000 non-null  object\n",
      " 20  d_12_b_presenta_problema_consumo_sp_barrio_tipo                 10000 non-null  object\n",
      " 21  d_12_c_presenta_problema_expendio_sp_barrio_tipo                10000 non-null  object\n",
      " 22  d2_01_etnia_tipo                                                10000 non-null  object\n",
      " 23  d2_03_estado_civil_tipo                                         10000 non-null  object\n",
      " 24  d2_05_nivel_educativo_tipo                                      7809 non-null   object\n",
      " 25  g_01_familiares_consumen_sp_tipo                                10000 non-null  object\n",
      " 26  g_02_amigos_consumen_sp_tipo                                    10000 non-null  object\n",
      " 27  g_03_curiosidad_probar_sp_tipo                                  10000 non-null  object\n",
      " 28  g_04_probaria_sp_tipo                                           10000 non-null  object\n",
      " 29  g_05_posibilidad_probar_sp_tipo                                 10000 non-null  object\n",
      " 30  g_06_a_posibilidad_conseguir_marihuana_tipo                     10000 non-null  object\n",
      " 31  g_06_b_posibilidad_conseguir_cocaina_tipo                       10000 non-null  object\n",
      " 32  g_06_c_posibilidad_conseguir_basuco_tipo                        10000 non-null  object\n",
      " 33  g_07_alguien_ofrecio_comprar_probar_sp_tipo                     10000 non-null  object\n",
      " 34  g_01_a_num_familiares_consumen_sp_imp_tipo                      10000 non-null  object\n",
      " 35  g_02_a_num_amigos_consumen_sp_imp_tipo                          10000 non-null  object\n",
      " 36  g_08_a_ofrecieron_marihuana_imp_tipo                            10000 non-null  object\n",
      " 37  g_08_b_ofrecieron_cocaina_imp_tipo                              10000 non-null  object\n",
      " 38  g_08_c_ofrecieron_basuco_imp_tipo                               10000 non-null  object\n",
      "dtypes: int64(2), object(37)\n",
      "memory usage: 3.0+ MB\n"
     ]
    }
   ],
   "source": [
    "datos.info(verbose=True)"
   ]
  },
  {
   "cell_type": "markdown",
   "metadata": {},
   "source": [
    "**INCISO**\n",
    "\n",
    "vamos a modificar dos transformadores de scikitlearn para que sean compatibles con pipelines. Este paso es necesario en la version actual de scikit-learn, pero seguramente será arreglado en el futuro"
   ]
  },
  {
   "cell_type": "markdown",
   "metadata": {},
   "source": [
    "class BinarizadorMultipleCategorico(preprocessing.MultiLabelBinarizer):\n",
    "    def fit(self, X, y=None):\n",
    "        super(BinarizadorMultipleCategorico, self).fit(X)\n",
    "        \n",
    "    def transform(self, X, y=None):\n",
    "        return super(BinarizadorMultipleCategorico, self).transform(X)\n",
    "\n",
    "    def fit_transform(self, X, y=None):\n",
    "        return super(BinarizadorMultipleCategorico, self).fit(X).transform(X)\n",
    "    \n",
    "    \n",
    "class CodificadorCategorico(preprocessing.LabelEncoder):\n",
    "    def fit(self, X, y=None):\n",
    "        super(CodificadorCategorico, self).fit(X)\n",
    "        \n",
    "    def transform(self, X, y=None):\n",
    "        return super(CodificadorCategorico, self).transform(X)\n",
    "\n",
    "    def fit_transform(self, X, y=None):\n",
    "        return super(CodificadorCategorico, self).fit(X).transform(X)"
   ]
  },
  {
   "cell_type": "markdown",
   "metadata": {},
   "source": [
    "En primer lugar vamos a definir los transformadores de forma similar a como hicimos la última vez, solo que en vez de usar `OneHotEncoder` vamos a usar nuestra version de sklearn `LabelBinarizer` que hace la codificación one hot directamente sobre una variable categórica."
   ]
  },
  {
   "cell_type": "code",
   "execution_count": null,
   "metadata": {},
   "outputs": [],
   "source": [
    "#from sklearn.tree import \n",
    "from sklearn.impute import SimpleImputer\n",
    "\n",
    "#imputer = SimpleImputer(missing_values=np.nan, strategy='mean')\n",
    "\n",
    "col_numericas =  ['d2_04_num_hijos','residentes_hogar']\n",
    "col_categorica = ['departamento','situacion_tipo','per_sexo_tipo','vive_padre_hogar_tipo','vive_madre_hogar_tipo','vivienda_tipo','d_01_aporta_dinero_hogar_tipo','d_09_deprimido_tipo','d_10_poco_interes_tipo','d_11_h_conocimiento_riesgo_fumar_marihuana_frecuentemente_tipo','d_11_k_conocimiento_riesgo_cocaina_frecuentemente_tipo','d_11_n_conocimiento_riesgo_fumar_basuco_frecuentemente_tipo','d_12_b_presenta_problema_consumo_sp_barrio_tipo','d_12_c_presenta_problema_expendio_sp_barrio_tipo','d2_01_etnia_tipo','d2_03_estado_civil_tipo','d2_05_nivel_educativo_tipo','g_01_familiares_consumen_sp_tipo','g_02_amigos_consumen_sp_tipo','g_03_curiosidad_probar_sp_tipo','g_04_probaria_sp_tipo','g_05_posibilidad_probar_sp_tipo','g_06_a_posibilidad_conseguir_marihuana_tipo','g_06_b_posibilidad_conseguir_cocaina_tipo','g_06_c_posibilidad_conseguir_basuco_tipo','g_07_alguien_ofrecio_comprar_probar_sp_tipo','g_01_a_num_familiares_consumen_sp_imp_tipo','g_02_a_num_amigos_consumen_sp_imp_tipo','g_08_a_ofrecieron_marihuana_imp_tipo','g_08_b_ofrecieron_cocaina_imp_tipo','g_08_c_ofrecieron_basuco_imp_tipo']\n",
    "col_ordinal = ['per_edad_tipo','estrato_tipo','d_08_estado_salud_tipo','frecuencia_consumo_marihuana_tipo','frecuencia_consumo_cocaina_tipo','frecuencia_consumo_basuco_tipo']\n",
    "\n",
    "imputador = SimpleImputer()\n",
    "escalador = preprocessing.MinMaxScaler()\n",
    "\n",
    "transformador_ordinal = CodificadorCategorico()\n",
    "transformador_categorico = BinarizadorMultipleCategorico()\n",
    "\n",
    "#estimador = LogisticRegression()"
   ]
  },
  {
   "cell_type": "code",
   "execution_count": 8,
   "metadata": {},
   "outputs": [],
   "source": [
    "col_numericas =  ['d2_04_num_hijos','residentes_hogar']\n",
    "col_categoricas = ['departamento','situacion_tipo','per_sexo_tipo','vive_padre_hogar_tipo','vive_madre_hogar_tipo','vivienda_tipo','d_01_aporta_dinero_hogar_tipo','d_09_deprimido_tipo','d_10_poco_interes_tipo','d_11_h_conocimiento_riesgo_fumar_marihuana_frecuentemente_tipo','d_11_k_conocimiento_riesgo_cocaina_frecuentemente_tipo','d_11_n_conocimiento_riesgo_fumar_basuco_frecuentemente_tipo','d_12_b_presenta_problema_consumo_sp_barrio_tipo','d_12_c_presenta_problema_expendio_sp_barrio_tipo','d2_01_etnia_tipo','d2_03_estado_civil_tipo','d2_05_nivel_educativo_tipo','g_01_familiares_consumen_sp_tipo','g_02_amigos_consumen_sp_tipo','g_03_curiosidad_probar_sp_tipo','g_04_probaria_sp_tipo','g_05_posibilidad_probar_sp_tipo','g_06_a_posibilidad_conseguir_marihuana_tipo','g_06_b_posibilidad_conseguir_cocaina_tipo','g_06_c_posibilidad_conseguir_basuco_tipo','g_07_alguien_ofrecio_comprar_probar_sp_tipo','g_01_a_num_familiares_consumen_sp_imp_tipo','g_02_a_num_amigos_consumen_sp_imp_tipo','g_08_a_ofrecieron_marihuana_imp_tipo','g_08_b_ofrecieron_cocaina_imp_tipo','g_08_c_ofrecieron_basuco_imp_tipo']\n",
    "#col_ordinal = ['per_edad_tipo','estrato_tipo','d_08_estado_salud_tipo','frecuencia_consumo_marihuana_tipo','frecuencia_consumo_cocaina_tipo','frecuencia_consumo_basuco_tipo']\n",
    "\n",
    "dict_var_ordinales = {\n",
    "    \"per_edad_tipo\": [\"Adolescente\", \"Joven\", \"Adulto\", \"Persona mayor\"],\n",
    "    \"estrato_tipo\":[\"Estrato bajo\", \"Estrato medio\", \"Estrato alto\"],\n",
    "    \"d_08_estado_salud_tipo\":[\"d_08_Muy_malo\",\"d_08_Malo\",\"d_08_Regular\",\"d_08_Bueno\",\"d_08_Muy_bueno\"]    \n",
    "}\n",
    "\n",
    "#dict_var_ordinales = {\n",
    "#    \"per_edad_tipo\": [\"Adolescente\", \"Joven\", \"Adulto\", \"Persona mayor\"],\n",
    "#    \"estrato_tipo\":[\"Estrato bajo\", \"Estrato medio\", \"Estrato alto\"],\n",
    "#    \"d_08_estado_salud_tipo\":[\"d_08_Muy_malo\",\"d_08_Malo\",\"d_08_Regular\",\"d_08_Bueno\",\"d_08_Muy_bueno\"],\n",
    "#   \"frecuencia_consumo_marihuana_tipo\":[\"Nunca\", \"Alguna vez en su vida\", \"Una vez en el año\", \"Algunas veces durante los últimos 12 meses\", \"Algunas veces mensualmente\", \"Algunas veces semanalmente\", \"Diariamente\"],\n",
    "#    \"frecuencia_consumo_cocaina_tipo\":[\"Nunca\", \"Alguna vez en su vida\", \"Una vez en el año\", \"Algunas veces durante los últimos 12 meses\", \"Algunas veces mensualmente\", \"Algunas veces semanalmente\", \"Diariamente\"],\n",
    "#    \"frecuencia_consumo_basuco_tipo\":[\"Nunca\", \"Alguna vez en su vida\", \"Una vez en el año\", \"Algunas veces durante los últimos 12 meses\", \"Algunas veces mensualmente\", \"Algunas veces semanalmente\", \"Diariamente\"],\n",
    "#}\n",
    "\n",
    "col_ordinales = list(dict_var_ordinales.keys())\n",
    "datos_ordinales = datos[col_ordinales]\n",
    "datos_categoricos = datos[col_categoricas]"
   ]
  },
  {
   "cell_type": "code",
   "execution_count": 11,
   "metadata": {},
   "outputs": [],
   "source": [
    "from sklearn.base import BaseEstimator, TransformerMixin\n",
    "from sklearn.preprocessing import StandardScaler\n",
    "from sklearn.impute import SimpleImputer\n",
    "from sklearn.pipeline import Pipeline, FeatureUnion\n",
    "import category_encoders"
   ]
  },
  {
   "cell_type": "code",
   "execution_count": 12,
   "metadata": {},
   "outputs": [],
   "source": [
    "class ColumnExtractor(BaseEstimator, TransformerMixin):\n",
    "    def __init__(self, columns, output_type=\"matrix\"):\n",
    "        self.columns = columns\n",
    "        self.output_type = output_type\n",
    "\n",
    "    def transform(self, X, **transform_params):\n",
    "        if isinstance(X, list):\n",
    "            X = pd.DataFrame.from_dict(X)\n",
    "        if self.output_type == \"matrix\":\n",
    "            return X[self.columns].to_numpy()\n",
    "        elif self.output_type == \"dataframe\":\n",
    "            return X[self.columns]\n",
    "        raise Exception(\"output_type tiene que ser matrix o dataframe\")\n",
    "        \n",
    "    def fit(self, X, y=None, **fit_params):\n",
    "        return self"
   ]
  },
  {
   "cell_type": "markdown",
   "metadata": {},
   "source": [
    "Vemos que con el Binarizador transformamos como:"
   ]
  },
  {
   "cell_type": "code",
   "execution_count": 17,
   "metadata": {},
   "outputs": [
    {
     "data": {
      "text/plain": [
       "array(['d_08_Malo', 'd_08_Regular', 'd_08_Bueno', 'd_08_Muy_bueno',\n",
       "       'd_08_Muy_malo'], dtype=object)"
      ]
     },
     "execution_count": 17,
     "metadata": {},
     "output_type": "execute_result"
    }
   ],
   "source": [
    "datos.d_08_estado_salud_tipo.unique()"
   ]
  },
  {
   "cell_type": "code",
   "execution_count": 11,
   "metadata": {
    "scrolled": true
   },
   "outputs": [
    {
     "data": {
      "text/html": [
       "<div>\n",
       "<style scoped>\n",
       "    .dataframe tbody tr th:only-of-type {\n",
       "        vertical-align: middle;\n",
       "    }\n",
       "\n",
       "    .dataframe tbody tr th {\n",
       "        vertical-align: top;\n",
       "    }\n",
       "\n",
       "    .dataframe thead th {\n",
       "        text-align: right;\n",
       "    }\n",
       "</style>\n",
       "<table border=\"1\" class=\"dataframe\">\n",
       "  <thead>\n",
       "    <tr style=\"text-align: right;\">\n",
       "      <th></th>\n",
       "      <th>departamento</th>\n",
       "      <th>situacion_tipo</th>\n",
       "      <th>frecuencia_consumo_marihuana_tipo</th>\n",
       "      <th>frecuencia_consumo_cocaina_tipo</th>\n",
       "      <th>frecuencia_consumo_basuco_tipo</th>\n",
       "      <th>per_sexo_tipo</th>\n",
       "      <th>vive_padre_hogar_tipo</th>\n",
       "      <th>vive_madre_hogar_tipo</th>\n",
       "      <th>vivienda_tipo</th>\n",
       "      <th>d_01_aporta_dinero_hogar_tipo</th>\n",
       "      <th>...</th>\n",
       "      <th>g_05_posibilidad_probar_sp_tipo</th>\n",
       "      <th>g_06_a_posibilidad_conseguir_marihuana_tipo</th>\n",
       "      <th>g_06_b_posibilidad_conseguir_cocaina_tipo</th>\n",
       "      <th>g_06_c_posibilidad_conseguir_basuco_tipo</th>\n",
       "      <th>g_07_alguien_ofrecio_comprar_probar_sp_tipo</th>\n",
       "      <th>g_01_a_num_familiares_consumen_sp_imp_tipo</th>\n",
       "      <th>g_02_a_num_amigos_consumen_sp_imp_tipo</th>\n",
       "      <th>g_08_a_ofrecieron_marihuana_imp_tipo</th>\n",
       "      <th>g_08_b_ofrecieron_cocaina_imp_tipo</th>\n",
       "      <th>g_08_c_ofrecieron_basuco_imp_tipo</th>\n",
       "    </tr>\n",
       "  </thead>\n",
       "  <tbody>\n",
       "    <tr>\n",
       "      <th>0</th>\n",
       "      <td>Guaviare</td>\n",
       "      <td>Trabajando</td>\n",
       "      <td>Nunca</td>\n",
       "      <td>Nunca</td>\n",
       "      <td>Nunca</td>\n",
       "      <td>Hombre</td>\n",
       "      <td>vive_padre_hogar_No</td>\n",
       "      <td>vive_madre_hogar_No</td>\n",
       "      <td>Apartamento</td>\n",
       "      <td>d_01_Si</td>\n",
       "      <td>...</td>\n",
       "      <td>g_05_No</td>\n",
       "      <td>g_06_a_No_conoce_facilidad_dificultad</td>\n",
       "      <td>g_06_b_No_conoce_facilidad_dificultad</td>\n",
       "      <td>g_06_c_No_conoce_facilidad_dificultad</td>\n",
       "      <td>g_07_No</td>\n",
       "      <td>g_01_a_No_aplica</td>\n",
       "      <td>g_02_a_Dos_o_mas</td>\n",
       "      <td>g_08_a_No_aplica</td>\n",
       "      <td>g_08_b_No_aplica</td>\n",
       "      <td>g_08_c_No_aplica</td>\n",
       "    </tr>\n",
       "    <tr>\n",
       "      <th>1</th>\n",
       "      <td>Cordoba</td>\n",
       "      <td>Trabajando</td>\n",
       "      <td>Nunca</td>\n",
       "      <td>Nunca</td>\n",
       "      <td>Nunca</td>\n",
       "      <td>Mujer</td>\n",
       "      <td>vive_padre_hogar_No</td>\n",
       "      <td>vive_madre_hogar_Si</td>\n",
       "      <td>Casa</td>\n",
       "      <td>d_01_No</td>\n",
       "      <td>...</td>\n",
       "      <td>g_05_No</td>\n",
       "      <td>g_06_a_Seria_facil</td>\n",
       "      <td>g_06_b_Seria_facil</td>\n",
       "      <td>g_06_c_Seria_facil</td>\n",
       "      <td>g_07_No</td>\n",
       "      <td>g_01_a_No_aplica</td>\n",
       "      <td>g_02_a_No_aplica</td>\n",
       "      <td>g_08_a_No_aplica</td>\n",
       "      <td>g_08_b_No_aplica</td>\n",
       "      <td>g_08_c_No_aplica</td>\n",
       "    </tr>\n",
       "    <tr>\n",
       "      <th>2</th>\n",
       "      <td>Caqueta</td>\n",
       "      <td>Trabajando</td>\n",
       "      <td>Nunca</td>\n",
       "      <td>Nunca</td>\n",
       "      <td>Nunca</td>\n",
       "      <td>Hombre</td>\n",
       "      <td>vive_padre_hogar_Fallecido</td>\n",
       "      <td>vive_madre_hogar_Fallecida</td>\n",
       "      <td>Casa</td>\n",
       "      <td>d_01_Si</td>\n",
       "      <td>...</td>\n",
       "      <td>g_05_No</td>\n",
       "      <td>g_06_a_No_conoce_facilidad_dificultad</td>\n",
       "      <td>g_06_b_No_conoce_facilidad_dificultad</td>\n",
       "      <td>g_06_c_No_conoce_facilidad_dificultad</td>\n",
       "      <td>g_07_No</td>\n",
       "      <td>g_01_a_No_aplica</td>\n",
       "      <td>g_02_a_No_aplica</td>\n",
       "      <td>g_08_a_No_aplica</td>\n",
       "      <td>g_08_b_No_aplica</td>\n",
       "      <td>g_08_c_No_aplica</td>\n",
       "    </tr>\n",
       "    <tr>\n",
       "      <th>3</th>\n",
       "      <td>Bolivar</td>\n",
       "      <td>Trabajando</td>\n",
       "      <td>Nunca</td>\n",
       "      <td>Nunca</td>\n",
       "      <td>Nunca</td>\n",
       "      <td>Mujer</td>\n",
       "      <td>vive_padre_hogar_Si</td>\n",
       "      <td>vive_madre_hogar_Si</td>\n",
       "      <td>Casa</td>\n",
       "      <td>d_01_Si</td>\n",
       "      <td>...</td>\n",
       "      <td>g_05_No</td>\n",
       "      <td>g_06_a_No_podria_conseguir</td>\n",
       "      <td>g_06_b_No_podria_conseguir</td>\n",
       "      <td>g_06_c_No_podria_conseguir</td>\n",
       "      <td>g_07_No</td>\n",
       "      <td>g_01_a_No_aplica</td>\n",
       "      <td>g_02_a_No_aplica</td>\n",
       "      <td>g_08_a_No_aplica</td>\n",
       "      <td>g_08_b_No_aplica</td>\n",
       "      <td>g_08_c_No_aplica</td>\n",
       "    </tr>\n",
       "    <tr>\n",
       "      <th>4</th>\n",
       "      <td>Tolima</td>\n",
       "      <td>Buscando trabajo</td>\n",
       "      <td>Nunca</td>\n",
       "      <td>Nunca</td>\n",
       "      <td>Nunca</td>\n",
       "      <td>Mujer</td>\n",
       "      <td>vive_padre_hogar_Si</td>\n",
       "      <td>vive_madre_hogar_Si</td>\n",
       "      <td>Casa</td>\n",
       "      <td>d_01_No</td>\n",
       "      <td>...</td>\n",
       "      <td>g_05_No</td>\n",
       "      <td>g_06_a_Seria_facil</td>\n",
       "      <td>g_06_b_Seria_facil</td>\n",
       "      <td>g_06_c_Seria_facil</td>\n",
       "      <td>g_07_No</td>\n",
       "      <td>g_01_a_No_aplica</td>\n",
       "      <td>g_02_a_Dos_o_mas</td>\n",
       "      <td>g_08_a_No_aplica</td>\n",
       "      <td>g_08_b_No_aplica</td>\n",
       "      <td>g_08_c_No_aplica</td>\n",
       "    </tr>\n",
       "    <tr>\n",
       "      <th>...</th>\n",
       "      <td>...</td>\n",
       "      <td>...</td>\n",
       "      <td>...</td>\n",
       "      <td>...</td>\n",
       "      <td>...</td>\n",
       "      <td>...</td>\n",
       "      <td>...</td>\n",
       "      <td>...</td>\n",
       "      <td>...</td>\n",
       "      <td>...</td>\n",
       "      <td>...</td>\n",
       "      <td>...</td>\n",
       "      <td>...</td>\n",
       "      <td>...</td>\n",
       "      <td>...</td>\n",
       "      <td>...</td>\n",
       "      <td>...</td>\n",
       "      <td>...</td>\n",
       "      <td>...</td>\n",
       "      <td>...</td>\n",
       "      <td>...</td>\n",
       "    </tr>\n",
       "    <tr>\n",
       "      <th>9995</th>\n",
       "      <td>Bolivar</td>\n",
       "      <td>Otros</td>\n",
       "      <td>Nunca</td>\n",
       "      <td>Nunca</td>\n",
       "      <td>Nunca</td>\n",
       "      <td>Hombre</td>\n",
       "      <td>vive_padre_hogar_Si</td>\n",
       "      <td>vive_madre_hogar_Si</td>\n",
       "      <td>Casa</td>\n",
       "      <td>d_01_Si</td>\n",
       "      <td>...</td>\n",
       "      <td>g_05_No</td>\n",
       "      <td>g_06_a_Seria_dificil</td>\n",
       "      <td>g_06_b_No_conoce_facilidad_dificultad</td>\n",
       "      <td>g_06_c_No_conoce_facilidad_dificultad</td>\n",
       "      <td>g_07_No</td>\n",
       "      <td>g_01_a_No_aplica</td>\n",
       "      <td>g_02_a_No_aplica</td>\n",
       "      <td>g_08_a_No_aplica</td>\n",
       "      <td>g_08_b_No_aplica</td>\n",
       "      <td>g_08_c_No_aplica</td>\n",
       "    </tr>\n",
       "    <tr>\n",
       "      <th>9996</th>\n",
       "      <td>Tolima</td>\n",
       "      <td>Buscando trabajo</td>\n",
       "      <td>Nunca</td>\n",
       "      <td>Nunca</td>\n",
       "      <td>Nunca</td>\n",
       "      <td>Hombre</td>\n",
       "      <td>vive_padre_hogar_Fallecido</td>\n",
       "      <td>vive_madre_hogar_No</td>\n",
       "      <td>Casa</td>\n",
       "      <td>d_01_Si</td>\n",
       "      <td>...</td>\n",
       "      <td>g_05_No</td>\n",
       "      <td>g_06_a_Seria_facil</td>\n",
       "      <td>g_06_b_Seria_facil</td>\n",
       "      <td>g_06_c_Seria_facil</td>\n",
       "      <td>g_07_No</td>\n",
       "      <td>g_01_a_No_aplica</td>\n",
       "      <td>g_02_a_No_aplica</td>\n",
       "      <td>g_08_a_No_aplica</td>\n",
       "      <td>g_08_b_No_aplica</td>\n",
       "      <td>g_08_c_No_aplica</td>\n",
       "    </tr>\n",
       "    <tr>\n",
       "      <th>9997</th>\n",
       "      <td>Valle</td>\n",
       "      <td>Trabajando</td>\n",
       "      <td>Nunca</td>\n",
       "      <td>Nunca</td>\n",
       "      <td>Nunca</td>\n",
       "      <td>Mujer</td>\n",
       "      <td>vive_padre_hogar_Fallecido</td>\n",
       "      <td>vive_madre_hogar_Si</td>\n",
       "      <td>Casa</td>\n",
       "      <td>d_01_Si</td>\n",
       "      <td>...</td>\n",
       "      <td>g_05_No</td>\n",
       "      <td>g_06_a_Seria_facil</td>\n",
       "      <td>g_06_b_Seria_facil</td>\n",
       "      <td>g_06_c_Seria_facil</td>\n",
       "      <td>g_07_No</td>\n",
       "      <td>g_01_a_No_aplica</td>\n",
       "      <td>g_02_a_No_aplica</td>\n",
       "      <td>g_08_a_No_aplica</td>\n",
       "      <td>g_08_b_No_aplica</td>\n",
       "      <td>g_08_c_No_aplica</td>\n",
       "    </tr>\n",
       "    <tr>\n",
       "      <th>9998</th>\n",
       "      <td>Huila</td>\n",
       "      <td>Otros</td>\n",
       "      <td>Nunca</td>\n",
       "      <td>Nunca</td>\n",
       "      <td>Nunca</td>\n",
       "      <td>Mujer</td>\n",
       "      <td>vive_padre_hogar_No</td>\n",
       "      <td>vive_madre_hogar_No</td>\n",
       "      <td>Casa</td>\n",
       "      <td>d_01_No</td>\n",
       "      <td>...</td>\n",
       "      <td>g_05_No</td>\n",
       "      <td>g_06_a_No_conoce_facilidad_dificultad</td>\n",
       "      <td>g_06_b_No_conoce_facilidad_dificultad</td>\n",
       "      <td>g_06_c_No_conoce_facilidad_dificultad</td>\n",
       "      <td>g_07_No</td>\n",
       "      <td>g_01_a_No_aplica</td>\n",
       "      <td>g_02_a_No_aplica</td>\n",
       "      <td>g_08_a_No_aplica</td>\n",
       "      <td>g_08_b_No_aplica</td>\n",
       "      <td>g_08_c_No_aplica</td>\n",
       "    </tr>\n",
       "    <tr>\n",
       "      <th>9999</th>\n",
       "      <td>Cesar</td>\n",
       "      <td>Estudiando</td>\n",
       "      <td>Nunca</td>\n",
       "      <td>Nunca</td>\n",
       "      <td>Nunca</td>\n",
       "      <td>Hombre</td>\n",
       "      <td>vive_padre_hogar_Si</td>\n",
       "      <td>vive_madre_hogar_Si</td>\n",
       "      <td>Apartamento</td>\n",
       "      <td>d_01_No</td>\n",
       "      <td>...</td>\n",
       "      <td>g_05_No</td>\n",
       "      <td>g_06_a_No_conoce_facilidad_dificultad</td>\n",
       "      <td>g_06_b_No_conoce_facilidad_dificultad</td>\n",
       "      <td>g_06_c_No_conoce_facilidad_dificultad</td>\n",
       "      <td>g_07_No</td>\n",
       "      <td>g_01_a_No_aplica</td>\n",
       "      <td>g_02_a_No_aplica</td>\n",
       "      <td>g_08_a_No_aplica</td>\n",
       "      <td>g_08_b_No_aplica</td>\n",
       "      <td>g_08_c_No_aplica</td>\n",
       "    </tr>\n",
       "  </tbody>\n",
       "</table>\n",
       "<p>10000 rows × 34 columns</p>\n",
       "</div>"
      ],
      "text/plain": [
       "     departamento    situacion_tipo frecuencia_consumo_marihuana_tipo  \\\n",
       "0        Guaviare        Trabajando                             Nunca   \n",
       "1         Cordoba        Trabajando                             Nunca   \n",
       "2         Caqueta        Trabajando                             Nunca   \n",
       "3         Bolivar        Trabajando                             Nunca   \n",
       "4          Tolima  Buscando trabajo                             Nunca   \n",
       "...           ...               ...                               ...   \n",
       "9995      Bolivar             Otros                             Nunca   \n",
       "9996       Tolima  Buscando trabajo                             Nunca   \n",
       "9997        Valle        Trabajando                             Nunca   \n",
       "9998        Huila             Otros                             Nunca   \n",
       "9999        Cesar        Estudiando                             Nunca   \n",
       "\n",
       "     frecuencia_consumo_cocaina_tipo frecuencia_consumo_basuco_tipo  \\\n",
       "0                              Nunca                          Nunca   \n",
       "1                              Nunca                          Nunca   \n",
       "2                              Nunca                          Nunca   \n",
       "3                              Nunca                          Nunca   \n",
       "4                              Nunca                          Nunca   \n",
       "...                              ...                            ...   \n",
       "9995                           Nunca                          Nunca   \n",
       "9996                           Nunca                          Nunca   \n",
       "9997                           Nunca                          Nunca   \n",
       "9998                           Nunca                          Nunca   \n",
       "9999                           Nunca                          Nunca   \n",
       "\n",
       "     per_sexo_tipo       vive_padre_hogar_tipo       vive_madre_hogar_tipo  \\\n",
       "0           Hombre         vive_padre_hogar_No         vive_madre_hogar_No   \n",
       "1            Mujer         vive_padre_hogar_No         vive_madre_hogar_Si   \n",
       "2           Hombre  vive_padre_hogar_Fallecido  vive_madre_hogar_Fallecida   \n",
       "3            Mujer         vive_padre_hogar_Si         vive_madre_hogar_Si   \n",
       "4            Mujer         vive_padre_hogar_Si         vive_madre_hogar_Si   \n",
       "...            ...                         ...                         ...   \n",
       "9995        Hombre         vive_padre_hogar_Si         vive_madre_hogar_Si   \n",
       "9996        Hombre  vive_padre_hogar_Fallecido         vive_madre_hogar_No   \n",
       "9997         Mujer  vive_padre_hogar_Fallecido         vive_madre_hogar_Si   \n",
       "9998         Mujer         vive_padre_hogar_No         vive_madre_hogar_No   \n",
       "9999        Hombre         vive_padre_hogar_Si         vive_madre_hogar_Si   \n",
       "\n",
       "     vivienda_tipo d_01_aporta_dinero_hogar_tipo  ...  \\\n",
       "0      Apartamento                       d_01_Si  ...   \n",
       "1             Casa                       d_01_No  ...   \n",
       "2             Casa                       d_01_Si  ...   \n",
       "3             Casa                       d_01_Si  ...   \n",
       "4             Casa                       d_01_No  ...   \n",
       "...            ...                           ...  ...   \n",
       "9995          Casa                       d_01_Si  ...   \n",
       "9996          Casa                       d_01_Si  ...   \n",
       "9997          Casa                       d_01_Si  ...   \n",
       "9998          Casa                       d_01_No  ...   \n",
       "9999   Apartamento                       d_01_No  ...   \n",
       "\n",
       "     g_05_posibilidad_probar_sp_tipo  \\\n",
       "0                            g_05_No   \n",
       "1                            g_05_No   \n",
       "2                            g_05_No   \n",
       "3                            g_05_No   \n",
       "4                            g_05_No   \n",
       "...                              ...   \n",
       "9995                         g_05_No   \n",
       "9996                         g_05_No   \n",
       "9997                         g_05_No   \n",
       "9998                         g_05_No   \n",
       "9999                         g_05_No   \n",
       "\n",
       "     g_06_a_posibilidad_conseguir_marihuana_tipo  \\\n",
       "0          g_06_a_No_conoce_facilidad_dificultad   \n",
       "1                             g_06_a_Seria_facil   \n",
       "2          g_06_a_No_conoce_facilidad_dificultad   \n",
       "3                     g_06_a_No_podria_conseguir   \n",
       "4                             g_06_a_Seria_facil   \n",
       "...                                          ...   \n",
       "9995                        g_06_a_Seria_dificil   \n",
       "9996                          g_06_a_Seria_facil   \n",
       "9997                          g_06_a_Seria_facil   \n",
       "9998       g_06_a_No_conoce_facilidad_dificultad   \n",
       "9999       g_06_a_No_conoce_facilidad_dificultad   \n",
       "\n",
       "     g_06_b_posibilidad_conseguir_cocaina_tipo  \\\n",
       "0        g_06_b_No_conoce_facilidad_dificultad   \n",
       "1                           g_06_b_Seria_facil   \n",
       "2        g_06_b_No_conoce_facilidad_dificultad   \n",
       "3                   g_06_b_No_podria_conseguir   \n",
       "4                           g_06_b_Seria_facil   \n",
       "...                                        ...   \n",
       "9995     g_06_b_No_conoce_facilidad_dificultad   \n",
       "9996                        g_06_b_Seria_facil   \n",
       "9997                        g_06_b_Seria_facil   \n",
       "9998     g_06_b_No_conoce_facilidad_dificultad   \n",
       "9999     g_06_b_No_conoce_facilidad_dificultad   \n",
       "\n",
       "     g_06_c_posibilidad_conseguir_basuco_tipo  \\\n",
       "0       g_06_c_No_conoce_facilidad_dificultad   \n",
       "1                          g_06_c_Seria_facil   \n",
       "2       g_06_c_No_conoce_facilidad_dificultad   \n",
       "3                  g_06_c_No_podria_conseguir   \n",
       "4                          g_06_c_Seria_facil   \n",
       "...                                       ...   \n",
       "9995    g_06_c_No_conoce_facilidad_dificultad   \n",
       "9996                       g_06_c_Seria_facil   \n",
       "9997                       g_06_c_Seria_facil   \n",
       "9998    g_06_c_No_conoce_facilidad_dificultad   \n",
       "9999    g_06_c_No_conoce_facilidad_dificultad   \n",
       "\n",
       "     g_07_alguien_ofrecio_comprar_probar_sp_tipo  \\\n",
       "0                                        g_07_No   \n",
       "1                                        g_07_No   \n",
       "2                                        g_07_No   \n",
       "3                                        g_07_No   \n",
       "4                                        g_07_No   \n",
       "...                                          ...   \n",
       "9995                                     g_07_No   \n",
       "9996                                     g_07_No   \n",
       "9997                                     g_07_No   \n",
       "9998                                     g_07_No   \n",
       "9999                                     g_07_No   \n",
       "\n",
       "     g_01_a_num_familiares_consumen_sp_imp_tipo  \\\n",
       "0                              g_01_a_No_aplica   \n",
       "1                              g_01_a_No_aplica   \n",
       "2                              g_01_a_No_aplica   \n",
       "3                              g_01_a_No_aplica   \n",
       "4                              g_01_a_No_aplica   \n",
       "...                                         ...   \n",
       "9995                           g_01_a_No_aplica   \n",
       "9996                           g_01_a_No_aplica   \n",
       "9997                           g_01_a_No_aplica   \n",
       "9998                           g_01_a_No_aplica   \n",
       "9999                           g_01_a_No_aplica   \n",
       "\n",
       "     g_02_a_num_amigos_consumen_sp_imp_tipo  \\\n",
       "0                          g_02_a_Dos_o_mas   \n",
       "1                          g_02_a_No_aplica   \n",
       "2                          g_02_a_No_aplica   \n",
       "3                          g_02_a_No_aplica   \n",
       "4                          g_02_a_Dos_o_mas   \n",
       "...                                     ...   \n",
       "9995                       g_02_a_No_aplica   \n",
       "9996                       g_02_a_No_aplica   \n",
       "9997                       g_02_a_No_aplica   \n",
       "9998                       g_02_a_No_aplica   \n",
       "9999                       g_02_a_No_aplica   \n",
       "\n",
       "     g_08_a_ofrecieron_marihuana_imp_tipo g_08_b_ofrecieron_cocaina_imp_tipo  \\\n",
       "0                        g_08_a_No_aplica                   g_08_b_No_aplica   \n",
       "1                        g_08_a_No_aplica                   g_08_b_No_aplica   \n",
       "2                        g_08_a_No_aplica                   g_08_b_No_aplica   \n",
       "3                        g_08_a_No_aplica                   g_08_b_No_aplica   \n",
       "4                        g_08_a_No_aplica                   g_08_b_No_aplica   \n",
       "...                                   ...                                ...   \n",
       "9995                     g_08_a_No_aplica                   g_08_b_No_aplica   \n",
       "9996                     g_08_a_No_aplica                   g_08_b_No_aplica   \n",
       "9997                     g_08_a_No_aplica                   g_08_b_No_aplica   \n",
       "9998                     g_08_a_No_aplica                   g_08_b_No_aplica   \n",
       "9999                     g_08_a_No_aplica                   g_08_b_No_aplica   \n",
       "\n",
       "     g_08_c_ofrecieron_basuco_imp_tipo  \n",
       "0                     g_08_c_No_aplica  \n",
       "1                     g_08_c_No_aplica  \n",
       "2                     g_08_c_No_aplica  \n",
       "3                     g_08_c_No_aplica  \n",
       "4                     g_08_c_No_aplica  \n",
       "...                                ...  \n",
       "9995                  g_08_c_No_aplica  \n",
       "9996                  g_08_c_No_aplica  \n",
       "9997                  g_08_c_No_aplica  \n",
       "9998                  g_08_c_No_aplica  \n",
       "9999                  g_08_c_No_aplica  \n",
       "\n",
       "[10000 rows x 34 columns]"
      ]
     },
     "execution_count": 11,
     "metadata": {},
     "output_type": "execute_result"
    }
   ],
   "source": [
    "datos[col_categorica]"
   ]
  },
  {
   "cell_type": "code",
   "execution_count": 12,
   "metadata": {},
   "outputs": [
    {
     "data": {
      "text/plain": [
       "array([[0, 0, 0, ..., 0, 0, 0],\n",
       "       [0, 0, 0, ..., 1, 0, 0],\n",
       "       [0, 0, 0, ..., 1, 0, 0],\n",
       "       ...,\n",
       "       [1, 0, 0, ..., 1, 0, 0],\n",
       "       [1, 0, 0, ..., 0, 0, 0],\n",
       "       [1, 0, 0, ..., 1, 0, 0]])"
      ]
     },
     "execution_count": 12,
     "metadata": {},
     "output_type": "execute_result"
    }
   ],
   "source": [
    "transformador_categorico.fit_transform(datos[col_categorica])"
   ]
  },
  {
   "cell_type": "code",
   "execution_count": 13,
   "metadata": {},
   "outputs": [],
   "source": [
    "from sklearn.linear_model import LogisticRegression"
   ]
  },
  {
   "cell_type": "code",
   "execution_count": 14,
   "metadata": {},
   "outputs": [],
   "source": [
    "from sklearn.pipeline import Pipeline"
   ]
  },
  {
   "cell_type": "markdown",
   "metadata": {},
   "source": [
    "Un pipeline de sklearn se define como una secuencia de pasos. Cada paso se define con una tupla de forma `[nombre del paso, transformador]`\n",
    "\n",
    "Por ejemplo, si queremos crear un pipeline que procese las variables numéricas, primero imputándolas y después estandarizandolas, podriamos crear un pipeline como:"
   ]
  },
  {
   "cell_type": "code",
   "execution_count": 15,
   "metadata": {},
   "outputs": [],
   "source": [
    "transformador_numerico = Pipeline(\n",
    "     [('imputador', imputador), ('escalador', escalador)]\n",
    ")"
   ]
  },
  {
   "cell_type": "code",
   "execution_count": 16,
   "metadata": {},
   "outputs": [
    {
     "data": {
      "text/html": [
       "<style>#sk-container-id-1 {color: black;}#sk-container-id-1 pre{padding: 0;}#sk-container-id-1 div.sk-toggleable {background-color: white;}#sk-container-id-1 label.sk-toggleable__label {cursor: pointer;display: block;width: 100%;margin-bottom: 0;padding: 0.3em;box-sizing: border-box;text-align: center;}#sk-container-id-1 label.sk-toggleable__label-arrow:before {content: \"▸\";float: left;margin-right: 0.25em;color: #696969;}#sk-container-id-1 label.sk-toggleable__label-arrow:hover:before {color: black;}#sk-container-id-1 div.sk-estimator:hover label.sk-toggleable__label-arrow:before {color: black;}#sk-container-id-1 div.sk-toggleable__content {max-height: 0;max-width: 0;overflow: hidden;text-align: left;background-color: #f0f8ff;}#sk-container-id-1 div.sk-toggleable__content pre {margin: 0.2em;color: black;border-radius: 0.25em;background-color: #f0f8ff;}#sk-container-id-1 input.sk-toggleable__control:checked~div.sk-toggleable__content {max-height: 200px;max-width: 100%;overflow: auto;}#sk-container-id-1 input.sk-toggleable__control:checked~label.sk-toggleable__label-arrow:before {content: \"▾\";}#sk-container-id-1 div.sk-estimator input.sk-toggleable__control:checked~label.sk-toggleable__label {background-color: #d4ebff;}#sk-container-id-1 div.sk-label input.sk-toggleable__control:checked~label.sk-toggleable__label {background-color: #d4ebff;}#sk-container-id-1 input.sk-hidden--visually {border: 0;clip: rect(1px 1px 1px 1px);clip: rect(1px, 1px, 1px, 1px);height: 1px;margin: -1px;overflow: hidden;padding: 0;position: absolute;width: 1px;}#sk-container-id-1 div.sk-estimator {font-family: monospace;background-color: #f0f8ff;border: 1px dotted black;border-radius: 0.25em;box-sizing: border-box;margin-bottom: 0.5em;}#sk-container-id-1 div.sk-estimator:hover {background-color: #d4ebff;}#sk-container-id-1 div.sk-parallel-item::after {content: \"\";width: 100%;border-bottom: 1px solid gray;flex-grow: 1;}#sk-container-id-1 div.sk-label:hover label.sk-toggleable__label {background-color: #d4ebff;}#sk-container-id-1 div.sk-serial::before {content: \"\";position: absolute;border-left: 1px solid gray;box-sizing: border-box;top: 0;bottom: 0;left: 50%;z-index: 0;}#sk-container-id-1 div.sk-serial {display: flex;flex-direction: column;align-items: center;background-color: white;padding-right: 0.2em;padding-left: 0.2em;position: relative;}#sk-container-id-1 div.sk-item {position: relative;z-index: 1;}#sk-container-id-1 div.sk-parallel {display: flex;align-items: stretch;justify-content: center;background-color: white;position: relative;}#sk-container-id-1 div.sk-item::before, #sk-container-id-1 div.sk-parallel-item::before {content: \"\";position: absolute;border-left: 1px solid gray;box-sizing: border-box;top: 0;bottom: 0;left: 50%;z-index: -1;}#sk-container-id-1 div.sk-parallel-item {display: flex;flex-direction: column;z-index: 1;position: relative;background-color: white;}#sk-container-id-1 div.sk-parallel-item:first-child::after {align-self: flex-end;width: 50%;}#sk-container-id-1 div.sk-parallel-item:last-child::after {align-self: flex-start;width: 50%;}#sk-container-id-1 div.sk-parallel-item:only-child::after {width: 0;}#sk-container-id-1 div.sk-dashed-wrapped {border: 1px dashed gray;margin: 0 0.4em 0.5em 0.4em;box-sizing: border-box;padding-bottom: 0.4em;background-color: white;}#sk-container-id-1 div.sk-label label {font-family: monospace;font-weight: bold;display: inline-block;line-height: 1.2em;}#sk-container-id-1 div.sk-label-container {text-align: center;}#sk-container-id-1 div.sk-container {/* jupyter's `normalize.less` sets `[hidden] { display: none; }` but bootstrap.min.css set `[hidden] { display: none !important; }` so we also need the `!important` here to be able to override the default hidden behavior on the sphinx rendered scikit-learn.org. See: https://github.com/scikit-learn/scikit-learn/issues/21755 */display: inline-block !important;position: relative;}#sk-container-id-1 div.sk-text-repr-fallback {display: none;}</style><div id=\"sk-container-id-1\" class=\"sk-top-container\"><div class=\"sk-text-repr-fallback\"><pre>Pipeline(steps=[(&#x27;imputador&#x27;, SimpleImputer()), (&#x27;escalador&#x27;, MinMaxScaler())])</pre><b>In a Jupyter environment, please rerun this cell to show the HTML representation or trust the notebook. <br />On GitHub, the HTML representation is unable to render, please try loading this page with nbviewer.org.</b></div><div class=\"sk-container\" hidden><div class=\"sk-item sk-dashed-wrapped\"><div class=\"sk-label-container\"><div class=\"sk-label sk-toggleable\"><input class=\"sk-toggleable__control sk-hidden--visually\" id=\"sk-estimator-id-1\" type=\"checkbox\" ><label for=\"sk-estimator-id-1\" class=\"sk-toggleable__label sk-toggleable__label-arrow\">Pipeline</label><div class=\"sk-toggleable__content\"><pre>Pipeline(steps=[(&#x27;imputador&#x27;, SimpleImputer()), (&#x27;escalador&#x27;, MinMaxScaler())])</pre></div></div></div><div class=\"sk-serial\"><div class=\"sk-item\"><div class=\"sk-estimator sk-toggleable\"><input class=\"sk-toggleable__control sk-hidden--visually\" id=\"sk-estimator-id-2\" type=\"checkbox\" ><label for=\"sk-estimator-id-2\" class=\"sk-toggleable__label sk-toggleable__label-arrow\">SimpleImputer</label><div class=\"sk-toggleable__content\"><pre>SimpleImputer()</pre></div></div></div><div class=\"sk-item\"><div class=\"sk-estimator sk-toggleable\"><input class=\"sk-toggleable__control sk-hidden--visually\" id=\"sk-estimator-id-3\" type=\"checkbox\" ><label for=\"sk-estimator-id-3\" class=\"sk-toggleable__label sk-toggleable__label-arrow\">MinMaxScaler</label><div class=\"sk-toggleable__content\"><pre>MinMaxScaler()</pre></div></div></div></div></div></div></div>"
      ],
      "text/plain": [
       "Pipeline(steps=[('imputador', SimpleImputer()), ('escalador', MinMaxScaler())])"
      ]
     },
     "execution_count": 16,
     "metadata": {},
     "output_type": "execute_result"
    }
   ],
   "source": [
    "transformador_numerico"
   ]
  },
  {
   "cell_type": "markdown",
   "metadata": {},
   "source": [
    "Ahora tenemos definidos los pasos que queremos aplicar a cada variable."
   ]
  },
  {
   "cell_type": "code",
   "execution_count": 17,
   "metadata": {},
   "outputs": [
    {
     "data": {
      "text/plain": [
       "array([[0.        , 0.30769231],\n",
       "       [0.25      , 0.23076923],\n",
       "       [0.16666667, 0.23076923],\n",
       "       ...,\n",
       "       [0.25      , 0.23076923],\n",
       "       [0.25      , 0.23076923],\n",
       "       [0.        , 0.23076923]])"
      ]
     },
     "execution_count": 17,
     "metadata": {},
     "output_type": "execute_result"
    }
   ],
   "source": [
    "transformador_numerico.fit_transform(datos[col_numericas])"
   ]
  },
  {
   "cell_type": "markdown",
   "metadata": {},
   "source": [
    "Pero seguimos teniendo el mismo problema de siempre, como podemos aplicar determinados transformadores a determinadas variables?\n",
    "\n",
    "Bien, para los casos en los que tenemos un dataframe de Pandas, una opcion es crear un transformador customizado que simplemente selecciones columnas de un dataframe."
   ]
  },
  {
   "cell_type": "markdown",
   "metadata": {},
   "source": [
    "En `scikit-learn` podemos crear nuestros propios transformadores creando una clase que herede de `TransformerMixin` y que tenga el mètodo `transform`."
   ]
  },
  {
   "cell_type": "code",
   "execution_count": 18,
   "metadata": {},
   "outputs": [],
   "source": [
    "from sklearn.base import TransformerMixin\n",
    "\n",
    "class TransformadorBase(TransformerMixin):\n",
    "    def __init__(self):\n",
    "        pass\n",
    "\n",
    "    def fit(self, X, y=None):\n",
    "        return self\n",
    "\n",
    "    def transform(self, X):\n",
    "        return X"
   ]
  },
  {
   "cell_type": "markdown",
   "metadata": {},
   "source": [
    "Vamos a crear dos transformadores, un `DenseTransformer` que convierte una matriz `sparse` en un array (tomado de [mlxtend](http://rasbt.github.io/mlxtend/), y `ColumnExtractor` que devuelve una selección de columnas. "
   ]
  },
  {
   "cell_type": "code",
   "execution_count": 19,
   "metadata": {},
   "outputs": [],
   "source": [
    "from sklearn.base import BaseEstimator\n",
    "\n",
    "from scipy.sparse import issparse\n",
    "\n",
    "\n",
    "# http://rasbt.github.io/mlxtend/\n",
    "class DenseTransformer(BaseEstimator):\n",
    "    def __init__(self, return_copy=True):\n",
    "        self.return_copy = return_copy\n",
    "        self.is_fitted = False\n",
    "\n",
    "    def transform(self, X, y=None):\n",
    "        if issparse(X):\n",
    "            return X.toarray()\n",
    "        elif self.return_copy:\n",
    "            return X.copy()\n",
    "        else:\n",
    "            return X\n",
    "\n",
    "    def fit(self, X, y=None):\n",
    "        self.is_fitted = True\n",
    "        return self\n",
    "\n",
    "    def fit_transform(self, X, y=None):\n",
    "        return self.transform(X=X, y=y)\n",
    "\n",
    "class ColumnExtractor(TransformerMixin):\n",
    "\n",
    "    def __init__(self, columns):\n",
    "        self.columns = columns\n",
    "        \n",
    "    def transform(self, X, **transform_params):\n",
    "        return X[self.columns].values\n",
    "        \n",
    "    def fit(self, X, y=None, **fit_params):\n",
    "        return self"
   ]
  },
  {
   "cell_type": "markdown",
   "metadata": {},
   "source": [
    "Por ejemplo si creamos un ColumnExtractor pasandole las columnas numéricas tenemos un transformador que podemos usar en un pipeline y que simplemente selecciona un subgrupo de columnas (devolviendolas como matriz)"
   ]
  },
  {
   "cell_type": "code",
   "execution_count": 20,
   "metadata": {},
   "outputs": [],
   "source": [
    "cext = ColumnExtractor(columns=col_numericas)"
   ]
  },
  {
   "cell_type": "code",
   "execution_count": 21,
   "metadata": {},
   "outputs": [
    {
     "data": {
      "text/plain": [
       "array([[0, 5],\n",
       "       [3, 4],\n",
       "       [2, 4],\n",
       "       ...,\n",
       "       [3, 4],\n",
       "       [3, 4],\n",
       "       [0, 4]], dtype=int64)"
      ]
     },
     "execution_count": 21,
     "metadata": {},
     "output_type": "execute_result"
    }
   ],
   "source": [
    "cext.fit_transform(datos)"
   ]
  },
  {
   "cell_type": "markdown",
   "metadata": {},
   "source": [
    "Creamos ahora los pipelines para cada tipo de variable. En algunos casos he añadido pasos adicionales por dos motivos. El primero, que determinados elementos de sklearn esperan datos ligeramente distintos. En segundo lugar, para conseguir que la salida de cada pipeline tenga la misma forma (un array de arrays)."
   ]
  },
  {
   "cell_type": "code",
   "execution_count": 22,
   "metadata": {},
   "outputs": [
    {
     "data": {
      "text/plain": [
       "array([[0.        , 0.30769231],\n",
       "       [0.25      , 0.23076923],\n",
       "       [0.16666667, 0.23076923],\n",
       "       [0.        , 0.38461538],\n",
       "       [0.08333333, 0.23076923]])"
      ]
     },
     "execution_count": 22,
     "metadata": {},
     "output_type": "execute_result"
    }
   ],
   "source": [
    "pipeline_numerico = Pipeline([\n",
    "    ['selector_numerico', ColumnExtractor(columns=col_numericas)],\n",
    "    ['transformador_numerico', transformador_numerico]\n",
    "])\n",
    "\n",
    "pipeline_numerico.fit_transform(datos)[:5]"
   ]
  },
  {
   "cell_type": "code",
   "execution_count": 23,
   "metadata": {},
   "outputs": [
    {
     "name": "stderr",
     "output_type": "stream",
     "text": [
      "C:\\Users\\Danny\\.conda\\envs\\data\\lib\\site-packages\\sklearn\\preprocessing\\_encoders.py:972: FutureWarning: `sparse` was renamed to `sparse_output` in version 1.2 and will be removed in 1.4. `sparse_output` is ignored unless you leave `sparse` to its default value.\n",
      "  warnings.warn(\n"
     ]
    },
    {
     "data": {
      "text/plain": [
       "array([[0., 0., 0., ..., 1., 0., 0.],\n",
       "       [0., 0., 0., ..., 1., 0., 0.],\n",
       "       [0., 0., 0., ..., 1., 0., 0.],\n",
       "       ...,\n",
       "       [0., 0., 0., ..., 1., 0., 0.],\n",
       "       [0., 0., 0., ..., 1., 0., 0.],\n",
       "       [0., 0., 0., ..., 1., 0., 0.]])"
      ]
     },
     "execution_count": 23,
     "metadata": {},
     "output_type": "execute_result"
    }
   ],
   "source": [
    "from sklearn.preprocessing import OneHotEncoder \n",
    "pipeline_categorico = Pipeline([\n",
    "    ['selector_categorico', ColumnExtractor(columns=col_categorica)],\n",
    "    ['onehot', OneHotEncoder(handle_unknown='ignore', sparse=False)]\n",
    "])\n",
    "\n",
    "pipeline_categorico.fit_transform(datos[col_categorica])"
   ]
  },
  {
   "cell_type": "markdown",
   "metadata": {},
   "source": [
    "En el caso del pipeline ordinal hay que manipular las dimensiones de los arrays dado que trabaja con un vector de dimension 1."
   ]
  },
  {
   "cell_type": "code",
   "execution_count": 24,
   "metadata": {
    "scrolled": true
   },
   "outputs": [
    {
     "data": {
      "text/plain": [
       "array([[1],\n",
       "       [0],\n",
       "       [0],\n",
       "       [0],\n",
       "       [1]])"
      ]
     },
     "execution_count": 24,
     "metadata": {},
     "output_type": "execute_result"
    }
   ],
   "source": [
    "pipeline_ordinal = Pipeline([\n",
    "    ['selector_ordinal', ColumnExtractor(columns=col_ordinal)],\n",
    "    ['transformador_dim1', preprocessing.FunctionTransformer(lambda x: x[:,0], validate=False)],\n",
    "    ['transformador_ordinal', transformador_ordinal],\n",
    "    ['transformador_dim2', preprocessing.FunctionTransformer(lambda x: np.vstack(x[:]), validate=False)],\n",
    "])\n",
    "\n",
    "\n",
    "pipeline_ordinal.fit_transform(datos.head()[col_ordinal])"
   ]
  },
  {
   "cell_type": "markdown",
   "metadata": {},
   "source": [
    "Ya tenemos una manera de, dado un conjunto de datos, separarlos y aplicar distintas transformaciones a cada variable. Nos falta una manera de, una vez se han transformado, reunirlas de nuevo."
   ]
  },
  {
   "cell_type": "markdown",
   "metadata": {},
   "source": [
    "Para ello podemos usar `FeatureUnion`, que simplemente toma un conjunto de pasos de un pipeline y los une."
   ]
  },
  {
   "cell_type": "code",
   "execution_count": 23,
   "metadata": {},
   "outputs": [],
   "source": [
    "from sklearn.pipeline import FeatureUnion"
   ]
  },
  {
   "cell_type": "code",
   "execution_count": 26,
   "metadata": {},
   "outputs": [],
   "source": [
    "pipeline_procesado = FeatureUnion([\n",
    "    ('variables_numericas', pipeline_numerico),\n",
    "    ('variables_ordinales', pipeline_ordinal),\n",
    "    ('variables_categoricas', pipeline_categorico),\n",
    "])"
   ]
  },
  {
   "cell_type": "code",
   "execution_count": 27,
   "metadata": {},
   "outputs": [
    {
     "data": {
      "text/html": [
       "<style>#sk-container-id-2 {color: black;}#sk-container-id-2 pre{padding: 0;}#sk-container-id-2 div.sk-toggleable {background-color: white;}#sk-container-id-2 label.sk-toggleable__label {cursor: pointer;display: block;width: 100%;margin-bottom: 0;padding: 0.3em;box-sizing: border-box;text-align: center;}#sk-container-id-2 label.sk-toggleable__label-arrow:before {content: \"▸\";float: left;margin-right: 0.25em;color: #696969;}#sk-container-id-2 label.sk-toggleable__label-arrow:hover:before {color: black;}#sk-container-id-2 div.sk-estimator:hover label.sk-toggleable__label-arrow:before {color: black;}#sk-container-id-2 div.sk-toggleable__content {max-height: 0;max-width: 0;overflow: hidden;text-align: left;background-color: #f0f8ff;}#sk-container-id-2 div.sk-toggleable__content pre {margin: 0.2em;color: black;border-radius: 0.25em;background-color: #f0f8ff;}#sk-container-id-2 input.sk-toggleable__control:checked~div.sk-toggleable__content {max-height: 200px;max-width: 100%;overflow: auto;}#sk-container-id-2 input.sk-toggleable__control:checked~label.sk-toggleable__label-arrow:before {content: \"▾\";}#sk-container-id-2 div.sk-estimator input.sk-toggleable__control:checked~label.sk-toggleable__label {background-color: #d4ebff;}#sk-container-id-2 div.sk-label input.sk-toggleable__control:checked~label.sk-toggleable__label {background-color: #d4ebff;}#sk-container-id-2 input.sk-hidden--visually {border: 0;clip: rect(1px 1px 1px 1px);clip: rect(1px, 1px, 1px, 1px);height: 1px;margin: -1px;overflow: hidden;padding: 0;position: absolute;width: 1px;}#sk-container-id-2 div.sk-estimator {font-family: monospace;background-color: #f0f8ff;border: 1px dotted black;border-radius: 0.25em;box-sizing: border-box;margin-bottom: 0.5em;}#sk-container-id-2 div.sk-estimator:hover {background-color: #d4ebff;}#sk-container-id-2 div.sk-parallel-item::after {content: \"\";width: 100%;border-bottom: 1px solid gray;flex-grow: 1;}#sk-container-id-2 div.sk-label:hover label.sk-toggleable__label {background-color: #d4ebff;}#sk-container-id-2 div.sk-serial::before {content: \"\";position: absolute;border-left: 1px solid gray;box-sizing: border-box;top: 0;bottom: 0;left: 50%;z-index: 0;}#sk-container-id-2 div.sk-serial {display: flex;flex-direction: column;align-items: center;background-color: white;padding-right: 0.2em;padding-left: 0.2em;position: relative;}#sk-container-id-2 div.sk-item {position: relative;z-index: 1;}#sk-container-id-2 div.sk-parallel {display: flex;align-items: stretch;justify-content: center;background-color: white;position: relative;}#sk-container-id-2 div.sk-item::before, #sk-container-id-2 div.sk-parallel-item::before {content: \"\";position: absolute;border-left: 1px solid gray;box-sizing: border-box;top: 0;bottom: 0;left: 50%;z-index: -1;}#sk-container-id-2 div.sk-parallel-item {display: flex;flex-direction: column;z-index: 1;position: relative;background-color: white;}#sk-container-id-2 div.sk-parallel-item:first-child::after {align-self: flex-end;width: 50%;}#sk-container-id-2 div.sk-parallel-item:last-child::after {align-self: flex-start;width: 50%;}#sk-container-id-2 div.sk-parallel-item:only-child::after {width: 0;}#sk-container-id-2 div.sk-dashed-wrapped {border: 1px dashed gray;margin: 0 0.4em 0.5em 0.4em;box-sizing: border-box;padding-bottom: 0.4em;background-color: white;}#sk-container-id-2 div.sk-label label {font-family: monospace;font-weight: bold;display: inline-block;line-height: 1.2em;}#sk-container-id-2 div.sk-label-container {text-align: center;}#sk-container-id-2 div.sk-container {/* jupyter's `normalize.less` sets `[hidden] { display: none; }` but bootstrap.min.css set `[hidden] { display: none !important; }` so we also need the `!important` here to be able to override the default hidden behavior on the sphinx rendered scikit-learn.org. See: https://github.com/scikit-learn/scikit-learn/issues/21755 */display: inline-block !important;position: relative;}#sk-container-id-2 div.sk-text-repr-fallback {display: none;}</style><div id=\"sk-container-id-2\" class=\"sk-top-container\"><div class=\"sk-text-repr-fallback\"><pre>FeatureUnion(transformer_list=[(&#x27;variables_numericas&#x27;,\n",
       "                                Pipeline(steps=[(&#x27;selector_numerico&#x27;,\n",
       "                                                 &lt;__main__.ColumnExtractor object at 0x0000017E9E04BAF0&gt;),\n",
       "                                                [&#x27;transformador_numerico&#x27;,\n",
       "                                                 Pipeline(steps=[(&#x27;imputador&#x27;,\n",
       "                                                                  SimpleImputer()),\n",
       "                                                                 (&#x27;escalador&#x27;,\n",
       "                                                                  MinMaxScaler())])]])),\n",
       "                               (&#x27;variables_ordinales&#x27;,\n",
       "                                Pipeline(steps=[(&#x27;selector_ordinal&#x27;,\n",
       "                                                 &lt;__main__.ColumnExtractor object at 0x0000...\n",
       "                                                 FunctionTransformer(func=&lt;function &lt;lambda&gt; at 0x0000017E9E03B880&gt;)),\n",
       "                                                (&#x27;transformador_ordinal&#x27;,\n",
       "                                                 CodificadorCategorico()),\n",
       "                                                [&#x27;transformador_dim2&#x27;,\n",
       "                                                 FunctionTransformer(func=&lt;function &lt;lambda&gt; at 0x0000017E9E09AB00&gt;)]])),\n",
       "                               (&#x27;variables_categoricas&#x27;,\n",
       "                                Pipeline(steps=[(&#x27;selector_numerico&#x27;,\n",
       "                                                 &lt;__main__.ColumnExtractor object at 0x0000017E9E04B250&gt;),\n",
       "                                                [&#x27;onehot&#x27;,\n",
       "                                                 OneHotEncoder(handle_unknown=&#x27;ignore&#x27;,\n",
       "                                                               sparse=False,\n",
       "                                                               sparse_output=False)]]))])</pre><b>In a Jupyter environment, please rerun this cell to show the HTML representation or trust the notebook. <br />On GitHub, the HTML representation is unable to render, please try loading this page with nbviewer.org.</b></div><div class=\"sk-container\" hidden><div class=\"sk-item sk-dashed-wrapped\"><div class=\"sk-label-container\"><div class=\"sk-label sk-toggleable\"><input class=\"sk-toggleable__control sk-hidden--visually\" id=\"sk-estimator-id-4\" type=\"checkbox\" ><label for=\"sk-estimator-id-4\" class=\"sk-toggleable__label sk-toggleable__label-arrow\">FeatureUnion</label><div class=\"sk-toggleable__content\"><pre>FeatureUnion(transformer_list=[(&#x27;variables_numericas&#x27;,\n",
       "                                Pipeline(steps=[(&#x27;selector_numerico&#x27;,\n",
       "                                                 &lt;__main__.ColumnExtractor object at 0x0000017E9E04BAF0&gt;),\n",
       "                                                [&#x27;transformador_numerico&#x27;,\n",
       "                                                 Pipeline(steps=[(&#x27;imputador&#x27;,\n",
       "                                                                  SimpleImputer()),\n",
       "                                                                 (&#x27;escalador&#x27;,\n",
       "                                                                  MinMaxScaler())])]])),\n",
       "                               (&#x27;variables_ordinales&#x27;,\n",
       "                                Pipeline(steps=[(&#x27;selector_ordinal&#x27;,\n",
       "                                                 &lt;__main__.ColumnExtractor object at 0x0000...\n",
       "                                                 FunctionTransformer(func=&lt;function &lt;lambda&gt; at 0x0000017E9E03B880&gt;)),\n",
       "                                                (&#x27;transformador_ordinal&#x27;,\n",
       "                                                 CodificadorCategorico()),\n",
       "                                                [&#x27;transformador_dim2&#x27;,\n",
       "                                                 FunctionTransformer(func=&lt;function &lt;lambda&gt; at 0x0000017E9E09AB00&gt;)]])),\n",
       "                               (&#x27;variables_categoricas&#x27;,\n",
       "                                Pipeline(steps=[(&#x27;selector_numerico&#x27;,\n",
       "                                                 &lt;__main__.ColumnExtractor object at 0x0000017E9E04B250&gt;),\n",
       "                                                [&#x27;onehot&#x27;,\n",
       "                                                 OneHotEncoder(handle_unknown=&#x27;ignore&#x27;,\n",
       "                                                               sparse=False,\n",
       "                                                               sparse_output=False)]]))])</pre></div></div></div><div class=\"sk-parallel\"><div class=\"sk-parallel-item\"><div class=\"sk-item\"><div class=\"sk-label-container\"><div class=\"sk-label sk-toggleable\"><label>variables_numericas</label></div></div><div class=\"sk-serial\"><div class=\"sk-item\"><div class=\"sk-serial\"><div class=\"sk-item\"><div class=\"sk-estimator sk-toggleable\"><input class=\"sk-toggleable__control sk-hidden--visually\" id=\"sk-estimator-id-5\" type=\"checkbox\" ><label for=\"sk-estimator-id-5\" class=\"sk-toggleable__label sk-toggleable__label-arrow\">ColumnExtractor</label><div class=\"sk-toggleable__content\"><pre>&lt;__main__.ColumnExtractor object at 0x0000017E9E04BAF0&gt;</pre></div></div></div><div class=\"sk-item\"><div class=\"sk-label-container\"><div class=\"sk-label sk-toggleable\"><input class=\"sk-toggleable__control sk-hidden--visually\" id=\"sk-estimator-id-6\" type=\"checkbox\" ><label for=\"sk-estimator-id-6\" class=\"sk-toggleable__label sk-toggleable__label-arrow\">transformador_numerico: Pipeline</label><div class=\"sk-toggleable__content\"><pre>Pipeline(steps=[(&#x27;imputador&#x27;, SimpleImputer()), (&#x27;escalador&#x27;, MinMaxScaler())])</pre></div></div></div><div class=\"sk-serial\"><div class=\"sk-item\"><div class=\"sk-estimator sk-toggleable\"><input class=\"sk-toggleable__control sk-hidden--visually\" id=\"sk-estimator-id-7\" type=\"checkbox\" ><label for=\"sk-estimator-id-7\" class=\"sk-toggleable__label sk-toggleable__label-arrow\">SimpleImputer</label><div class=\"sk-toggleable__content\"><pre>SimpleImputer()</pre></div></div></div><div class=\"sk-item\"><div class=\"sk-estimator sk-toggleable\"><input class=\"sk-toggleable__control sk-hidden--visually\" id=\"sk-estimator-id-8\" type=\"checkbox\" ><label for=\"sk-estimator-id-8\" class=\"sk-toggleable__label sk-toggleable__label-arrow\">MinMaxScaler</label><div class=\"sk-toggleable__content\"><pre>MinMaxScaler()</pre></div></div></div></div></div></div></div></div></div></div><div class=\"sk-parallel-item\"><div class=\"sk-item\"><div class=\"sk-label-container\"><div class=\"sk-label sk-toggleable\"><label>variables_ordinales</label></div></div><div class=\"sk-serial\"><div class=\"sk-item\"><div class=\"sk-serial\"><div class=\"sk-item\"><div class=\"sk-estimator sk-toggleable\"><input class=\"sk-toggleable__control sk-hidden--visually\" id=\"sk-estimator-id-9\" type=\"checkbox\" ><label for=\"sk-estimator-id-9\" class=\"sk-toggleable__label sk-toggleable__label-arrow\">ColumnExtractor</label><div class=\"sk-toggleable__content\"><pre>&lt;__main__.ColumnExtractor object at 0x0000017E9E04A680&gt;</pre></div></div></div><div class=\"sk-item\"><div class=\"sk-estimator sk-toggleable\"><input class=\"sk-toggleable__control sk-hidden--visually\" id=\"sk-estimator-id-10\" type=\"checkbox\" ><label for=\"sk-estimator-id-10\" class=\"sk-toggleable__label sk-toggleable__label-arrow\">FunctionTransformer</label><div class=\"sk-toggleable__content\"><pre>FunctionTransformer(func=&lt;function &lt;lambda&gt; at 0x0000017E9E03B880&gt;)</pre></div></div></div><div class=\"sk-item\"><div class=\"sk-estimator sk-toggleable\"><input class=\"sk-toggleable__control sk-hidden--visually\" id=\"sk-estimator-id-11\" type=\"checkbox\" ><label for=\"sk-estimator-id-11\" class=\"sk-toggleable__label sk-toggleable__label-arrow\">CodificadorCategorico</label><div class=\"sk-toggleable__content\"><pre>CodificadorCategorico()</pre></div></div></div><div class=\"sk-item\"><div class=\"sk-estimator sk-toggleable\"><input class=\"sk-toggleable__control sk-hidden--visually\" id=\"sk-estimator-id-12\" type=\"checkbox\" ><label for=\"sk-estimator-id-12\" class=\"sk-toggleable__label sk-toggleable__label-arrow\">FunctionTransformer</label><div class=\"sk-toggleable__content\"><pre>FunctionTransformer(func=&lt;function &lt;lambda&gt; at 0x0000017E9E09AB00&gt;)</pre></div></div></div></div></div></div></div></div><div class=\"sk-parallel-item\"><div class=\"sk-item\"><div class=\"sk-label-container\"><div class=\"sk-label sk-toggleable\"><label>variables_categoricas</label></div></div><div class=\"sk-serial\"><div class=\"sk-item\"><div class=\"sk-serial\"><div class=\"sk-item\"><div class=\"sk-estimator sk-toggleable\"><input class=\"sk-toggleable__control sk-hidden--visually\" id=\"sk-estimator-id-13\" type=\"checkbox\" ><label for=\"sk-estimator-id-13\" class=\"sk-toggleable__label sk-toggleable__label-arrow\">ColumnExtractor</label><div class=\"sk-toggleable__content\"><pre>&lt;__main__.ColumnExtractor object at 0x0000017E9E04B250&gt;</pre></div></div></div><div class=\"sk-item\"><div class=\"sk-estimator sk-toggleable\"><input class=\"sk-toggleable__control sk-hidden--visually\" id=\"sk-estimator-id-14\" type=\"checkbox\" ><label for=\"sk-estimator-id-14\" class=\"sk-toggleable__label sk-toggleable__label-arrow\">OneHotEncoder</label><div class=\"sk-toggleable__content\"><pre>OneHotEncoder(handle_unknown=&#x27;ignore&#x27;, sparse=False, sparse_output=False)</pre></div></div></div></div></div></div></div></div></div></div></div></div>"
      ],
      "text/plain": [
       "FeatureUnion(transformer_list=[('variables_numericas',\n",
       "                                Pipeline(steps=[('selector_numerico',\n",
       "                                                 <__main__.ColumnExtractor object at 0x0000017E9E04BAF0>),\n",
       "                                                ['transformador_numerico',\n",
       "                                                 Pipeline(steps=[('imputador',\n",
       "                                                                  SimpleImputer()),\n",
       "                                                                 ('escalador',\n",
       "                                                                  MinMaxScaler())])]])),\n",
       "                               ('variables_ordinales',\n",
       "                                Pipeline(steps=[('selector_ordinal',\n",
       "                                                 <__main__.ColumnExtractor object at 0x0000...\n",
       "                                                 FunctionTransformer(func=<function <lambda> at 0x0000017E9E03B880>)),\n",
       "                                                ('transformador_ordinal',\n",
       "                                                 CodificadorCategorico()),\n",
       "                                                ['transformador_dim2',\n",
       "                                                 FunctionTransformer(func=<function <lambda> at 0x0000017E9E09AB00>)]])),\n",
       "                               ('variables_categoricas',\n",
       "                                Pipeline(steps=[('selector_numerico',\n",
       "                                                 <__main__.ColumnExtractor object at 0x0000017E9E04B250>),\n",
       "                                                ['onehot',\n",
       "                                                 OneHotEncoder(handle_unknown='ignore',\n",
       "                                                               sparse=False,\n",
       "                                                               sparse_output=False)]]))])"
      ]
     },
     "execution_count": 27,
     "metadata": {},
     "output_type": "execute_result"
    }
   ],
   "source": [
    "pipeline_procesado"
   ]
  },
  {
   "cell_type": "code",
   "execution_count": 28,
   "metadata": {},
   "outputs": [
    {
     "name": "stderr",
     "output_type": "stream",
     "text": [
      "C:\\Users\\Danny\\.conda\\envs\\data\\lib\\site-packages\\sklearn\\preprocessing\\_encoders.py:972: FutureWarning: `sparse` was renamed to `sparse_output` in version 1.2 and will be removed in 1.4. `sparse_output` is ignored unless you leave `sparse` to its default value.\n",
      "  warnings.warn(\n"
     ]
    },
    {
     "data": {
      "text/plain": [
       "array([[0.        , 0.30769231, 2.        , ..., 1.        , 0.        ,\n",
       "        0.        ],\n",
       "       [0.25      , 0.23076923, 1.        , ..., 1.        , 0.        ,\n",
       "        0.        ],\n",
       "       [0.16666667, 0.23076923, 1.        , ..., 1.        , 0.        ,\n",
       "        0.        ],\n",
       "       ...,\n",
       "       [0.25      , 0.23076923, 3.        , ..., 1.        , 0.        ,\n",
       "        0.        ],\n",
       "       [0.25      , 0.23076923, 1.        , ..., 1.        , 0.        ,\n",
       "        0.        ],\n",
       "       [0.        , 0.23076923, 0.        , ..., 1.        , 0.        ,\n",
       "        0.        ]])"
      ]
     },
     "execution_count": 28,
     "metadata": {},
     "output_type": "execute_result"
    }
   ],
   "source": [
    "pipeline_procesado.fit_transform(datos)"
   ]
  },
  {
   "cell_type": "markdown",
   "metadata": {},
   "source": [
    "Finalmente, necesitamos añadir un estimador al final para predecir en base a los datos transformados"
   ]
  },
  {
   "cell_type": "code",
   "execution_count": 33,
   "metadata": {},
   "outputs": [],
   "source": [
    "import \n",
    "pipeline_estimador = Pipeline([\n",
    "    ('procesador', pipeline_procesado),\n",
    "    ('estimador', estimador)\n",
    "])"
   ]
  },
  {
   "cell_type": "code",
   "execution_count": 34,
   "metadata": {},
   "outputs": [
    {
     "data": {
      "text/html": [
       "<style>#sk-container-id-3 {color: black;}#sk-container-id-3 pre{padding: 0;}#sk-container-id-3 div.sk-toggleable {background-color: white;}#sk-container-id-3 label.sk-toggleable__label {cursor: pointer;display: block;width: 100%;margin-bottom: 0;padding: 0.3em;box-sizing: border-box;text-align: center;}#sk-container-id-3 label.sk-toggleable__label-arrow:before {content: \"▸\";float: left;margin-right: 0.25em;color: #696969;}#sk-container-id-3 label.sk-toggleable__label-arrow:hover:before {color: black;}#sk-container-id-3 div.sk-estimator:hover label.sk-toggleable__label-arrow:before {color: black;}#sk-container-id-3 div.sk-toggleable__content {max-height: 0;max-width: 0;overflow: hidden;text-align: left;background-color: #f0f8ff;}#sk-container-id-3 div.sk-toggleable__content pre {margin: 0.2em;color: black;border-radius: 0.25em;background-color: #f0f8ff;}#sk-container-id-3 input.sk-toggleable__control:checked~div.sk-toggleable__content {max-height: 200px;max-width: 100%;overflow: auto;}#sk-container-id-3 input.sk-toggleable__control:checked~label.sk-toggleable__label-arrow:before {content: \"▾\";}#sk-container-id-3 div.sk-estimator input.sk-toggleable__control:checked~label.sk-toggleable__label {background-color: #d4ebff;}#sk-container-id-3 div.sk-label input.sk-toggleable__control:checked~label.sk-toggleable__label {background-color: #d4ebff;}#sk-container-id-3 input.sk-hidden--visually {border: 0;clip: rect(1px 1px 1px 1px);clip: rect(1px, 1px, 1px, 1px);height: 1px;margin: -1px;overflow: hidden;padding: 0;position: absolute;width: 1px;}#sk-container-id-3 div.sk-estimator {font-family: monospace;background-color: #f0f8ff;border: 1px dotted black;border-radius: 0.25em;box-sizing: border-box;margin-bottom: 0.5em;}#sk-container-id-3 div.sk-estimator:hover {background-color: #d4ebff;}#sk-container-id-3 div.sk-parallel-item::after {content: \"\";width: 100%;border-bottom: 1px solid gray;flex-grow: 1;}#sk-container-id-3 div.sk-label:hover label.sk-toggleable__label {background-color: #d4ebff;}#sk-container-id-3 div.sk-serial::before {content: \"\";position: absolute;border-left: 1px solid gray;box-sizing: border-box;top: 0;bottom: 0;left: 50%;z-index: 0;}#sk-container-id-3 div.sk-serial {display: flex;flex-direction: column;align-items: center;background-color: white;padding-right: 0.2em;padding-left: 0.2em;position: relative;}#sk-container-id-3 div.sk-item {position: relative;z-index: 1;}#sk-container-id-3 div.sk-parallel {display: flex;align-items: stretch;justify-content: center;background-color: white;position: relative;}#sk-container-id-3 div.sk-item::before, #sk-container-id-3 div.sk-parallel-item::before {content: \"\";position: absolute;border-left: 1px solid gray;box-sizing: border-box;top: 0;bottom: 0;left: 50%;z-index: -1;}#sk-container-id-3 div.sk-parallel-item {display: flex;flex-direction: column;z-index: 1;position: relative;background-color: white;}#sk-container-id-3 div.sk-parallel-item:first-child::after {align-self: flex-end;width: 50%;}#sk-container-id-3 div.sk-parallel-item:last-child::after {align-self: flex-start;width: 50%;}#sk-container-id-3 div.sk-parallel-item:only-child::after {width: 0;}#sk-container-id-3 div.sk-dashed-wrapped {border: 1px dashed gray;margin: 0 0.4em 0.5em 0.4em;box-sizing: border-box;padding-bottom: 0.4em;background-color: white;}#sk-container-id-3 div.sk-label label {font-family: monospace;font-weight: bold;display: inline-block;line-height: 1.2em;}#sk-container-id-3 div.sk-label-container {text-align: center;}#sk-container-id-3 div.sk-container {/* jupyter's `normalize.less` sets `[hidden] { display: none; }` but bootstrap.min.css set `[hidden] { display: none !important; }` so we also need the `!important` here to be able to override the default hidden behavior on the sphinx rendered scikit-learn.org. See: https://github.com/scikit-learn/scikit-learn/issues/21755 */display: inline-block !important;position: relative;}#sk-container-id-3 div.sk-text-repr-fallback {display: none;}</style><div id=\"sk-container-id-3\" class=\"sk-top-container\"><div class=\"sk-text-repr-fallback\"><pre>Pipeline(steps=[(&#x27;procesador&#x27;,\n",
       "                 FeatureUnion(transformer_list=[(&#x27;variables_numericas&#x27;,\n",
       "                                                 Pipeline(steps=[(&#x27;selector_numerico&#x27;,\n",
       "                                                                  &lt;__main__.ColumnExtractor object at 0x000001694EF20EE0&gt;),\n",
       "                                                                 [&#x27;transformador_numerico&#x27;,\n",
       "                                                                  Pipeline(steps=[(&#x27;imputador&#x27;,\n",
       "                                                                                   SimpleImputer()),\n",
       "                                                                                  (&#x27;escalador&#x27;,\n",
       "                                                                                   StandardScaler())])]])),\n",
       "                                                (&#x27;variables_ordinales&#x27;,\n",
       "                                                 Pipeline(steps=[(&#x27;selector_ordinal&#x27;,\n",
       "                                                                  &lt;__main...\n",
       "                                                                  FunctionTransformer(func=&lt;function &lt;lambda&gt; at 0x000001694EFE3130&gt;)),\n",
       "                                                                 (&#x27;transformador_texto&#x27;,\n",
       "                                                                  TfidfVectorizer()),\n",
       "                                                                 [&#x27;texto_array&#x27;,\n",
       "                                                                  DenseTransformer()]])),\n",
       "                                                (&#x27;variables_categoricas&#x27;,\n",
       "                                                 Pipeline(steps=[(&#x27;selector_categorica&#x27;,\n",
       "                                                                  &lt;__main__.ColumnExtractor object at 0x000001694EEDDEA0&gt;),\n",
       "                                                                 [&#x27;transformador_categorico&#x27;,\n",
       "                                                                  BinarizadorCategorico()]]))])),\n",
       "                (&#x27;estimador&#x27;, LogisticRegression())])</pre><b>In a Jupyter environment, please rerun this cell to show the HTML representation or trust the notebook. <br />On GitHub, the HTML representation is unable to render, please try loading this page with nbviewer.org.</b></div><div class=\"sk-container\" hidden><div class=\"sk-item sk-dashed-wrapped\"><div class=\"sk-label-container\"><div class=\"sk-label sk-toggleable\"><input class=\"sk-toggleable__control sk-hidden--visually\" id=\"sk-estimator-id-19\" type=\"checkbox\" ><label for=\"sk-estimator-id-19\" class=\"sk-toggleable__label sk-toggleable__label-arrow\">Pipeline</label><div class=\"sk-toggleable__content\"><pre>Pipeline(steps=[(&#x27;procesador&#x27;,\n",
       "                 FeatureUnion(transformer_list=[(&#x27;variables_numericas&#x27;,\n",
       "                                                 Pipeline(steps=[(&#x27;selector_numerico&#x27;,\n",
       "                                                                  &lt;__main__.ColumnExtractor object at 0x000001694EF20EE0&gt;),\n",
       "                                                                 [&#x27;transformador_numerico&#x27;,\n",
       "                                                                  Pipeline(steps=[(&#x27;imputador&#x27;,\n",
       "                                                                                   SimpleImputer()),\n",
       "                                                                                  (&#x27;escalador&#x27;,\n",
       "                                                                                   StandardScaler())])]])),\n",
       "                                                (&#x27;variables_ordinales&#x27;,\n",
       "                                                 Pipeline(steps=[(&#x27;selector_ordinal&#x27;,\n",
       "                                                                  &lt;__main...\n",
       "                                                                  FunctionTransformer(func=&lt;function &lt;lambda&gt; at 0x000001694EFE3130&gt;)),\n",
       "                                                                 (&#x27;transformador_texto&#x27;,\n",
       "                                                                  TfidfVectorizer()),\n",
       "                                                                 [&#x27;texto_array&#x27;,\n",
       "                                                                  DenseTransformer()]])),\n",
       "                                                (&#x27;variables_categoricas&#x27;,\n",
       "                                                 Pipeline(steps=[(&#x27;selector_categorica&#x27;,\n",
       "                                                                  &lt;__main__.ColumnExtractor object at 0x000001694EEDDEA0&gt;),\n",
       "                                                                 [&#x27;transformador_categorico&#x27;,\n",
       "                                                                  BinarizadorCategorico()]]))])),\n",
       "                (&#x27;estimador&#x27;, LogisticRegression())])</pre></div></div></div><div class=\"sk-serial\"><div class=\"sk-item sk-dashed-wrapped\"><div class=\"sk-label-container\"><div class=\"sk-label sk-toggleable\"><input class=\"sk-toggleable__control sk-hidden--visually\" id=\"sk-estimator-id-20\" type=\"checkbox\" ><label for=\"sk-estimator-id-20\" class=\"sk-toggleable__label sk-toggleable__label-arrow\">procesador: FeatureUnion</label><div class=\"sk-toggleable__content\"><pre>FeatureUnion(transformer_list=[(&#x27;variables_numericas&#x27;,\n",
       "                                Pipeline(steps=[(&#x27;selector_numerico&#x27;,\n",
       "                                                 &lt;__main__.ColumnExtractor object at 0x000001694EF20EE0&gt;),\n",
       "                                                [&#x27;transformador_numerico&#x27;,\n",
       "                                                 Pipeline(steps=[(&#x27;imputador&#x27;,\n",
       "                                                                  SimpleImputer()),\n",
       "                                                                 (&#x27;escalador&#x27;,\n",
       "                                                                  StandardScaler())])]])),\n",
       "                               (&#x27;variables_ordinales&#x27;,\n",
       "                                Pipeline(steps=[(&#x27;selector_ordinal&#x27;,\n",
       "                                                 &lt;__main__.ColumnExtractor object at 0x00...\n",
       "                                                 &lt;__main__.ColumnExtractor object at 0x000001694EF20400&gt;),\n",
       "                                                (&#x27;transformador_dim&#x27;,\n",
       "                                                 FunctionTransformer(func=&lt;function &lt;lambda&gt; at 0x000001694EFE3130&gt;)),\n",
       "                                                (&#x27;transformador_texto&#x27;,\n",
       "                                                 TfidfVectorizer()),\n",
       "                                                [&#x27;texto_array&#x27;,\n",
       "                                                 DenseTransformer()]])),\n",
       "                               (&#x27;variables_categoricas&#x27;,\n",
       "                                Pipeline(steps=[(&#x27;selector_categorica&#x27;,\n",
       "                                                 &lt;__main__.ColumnExtractor object at 0x000001694EEDDEA0&gt;),\n",
       "                                                [&#x27;transformador_categorico&#x27;,\n",
       "                                                 BinarizadorCategorico()]]))])</pre></div></div></div><div class=\"sk-parallel\"><div class=\"sk-parallel-item\"><div class=\"sk-item\"><div class=\"sk-label-container\"><div class=\"sk-label sk-toggleable\"><label>variables_numericas</label></div></div><div class=\"sk-serial\"><div class=\"sk-item\"><div class=\"sk-serial\"><div class=\"sk-item\"><div class=\"sk-estimator sk-toggleable\"><input class=\"sk-toggleable__control sk-hidden--visually\" id=\"sk-estimator-id-21\" type=\"checkbox\" ><label for=\"sk-estimator-id-21\" class=\"sk-toggleable__label sk-toggleable__label-arrow\">ColumnExtractor</label><div class=\"sk-toggleable__content\"><pre>&lt;__main__.ColumnExtractor object at 0x000001694EF20EE0&gt;</pre></div></div></div><div class=\"sk-item\"><div class=\"sk-label-container\"><div class=\"sk-label sk-toggleable\"><input class=\"sk-toggleable__control sk-hidden--visually\" id=\"sk-estimator-id-22\" type=\"checkbox\" ><label for=\"sk-estimator-id-22\" class=\"sk-toggleable__label sk-toggleable__label-arrow\">transformador_numerico: Pipeline</label><div class=\"sk-toggleable__content\"><pre>Pipeline(steps=[(&#x27;imputador&#x27;, SimpleImputer()),\n",
       "                (&#x27;escalador&#x27;, StandardScaler())])</pre></div></div></div><div class=\"sk-serial\"><div class=\"sk-item\"><div class=\"sk-estimator sk-toggleable\"><input class=\"sk-toggleable__control sk-hidden--visually\" id=\"sk-estimator-id-23\" type=\"checkbox\" ><label for=\"sk-estimator-id-23\" class=\"sk-toggleable__label sk-toggleable__label-arrow\">SimpleImputer</label><div class=\"sk-toggleable__content\"><pre>SimpleImputer()</pre></div></div></div><div class=\"sk-item\"><div class=\"sk-estimator sk-toggleable\"><input class=\"sk-toggleable__control sk-hidden--visually\" id=\"sk-estimator-id-24\" type=\"checkbox\" ><label for=\"sk-estimator-id-24\" class=\"sk-toggleable__label sk-toggleable__label-arrow\">StandardScaler</label><div class=\"sk-toggleable__content\"><pre>StandardScaler()</pre></div></div></div></div></div></div></div></div></div></div><div class=\"sk-parallel-item\"><div class=\"sk-item\"><div class=\"sk-label-container\"><div class=\"sk-label sk-toggleable\"><label>variables_ordinales</label></div></div><div class=\"sk-serial\"><div class=\"sk-item\"><div class=\"sk-serial\"><div class=\"sk-item\"><div class=\"sk-estimator sk-toggleable\"><input class=\"sk-toggleable__control sk-hidden--visually\" id=\"sk-estimator-id-25\" type=\"checkbox\" ><label for=\"sk-estimator-id-25\" class=\"sk-toggleable__label sk-toggleable__label-arrow\">ColumnExtractor</label><div class=\"sk-toggleable__content\"><pre>&lt;__main__.ColumnExtractor object at 0x000001694EEDEAA0&gt;</pre></div></div></div><div class=\"sk-item\"><div class=\"sk-estimator sk-toggleable\"><input class=\"sk-toggleable__control sk-hidden--visually\" id=\"sk-estimator-id-26\" type=\"checkbox\" ><label for=\"sk-estimator-id-26\" class=\"sk-toggleable__label sk-toggleable__label-arrow\">FunctionTransformer</label><div class=\"sk-toggleable__content\"><pre>FunctionTransformer(func=&lt;function &lt;lambda&gt; at 0x000001694EC6EE60&gt;)</pre></div></div></div><div class=\"sk-item\"><div class=\"sk-estimator sk-toggleable\"><input class=\"sk-toggleable__control sk-hidden--visually\" id=\"sk-estimator-id-27\" type=\"checkbox\" ><label for=\"sk-estimator-id-27\" class=\"sk-toggleable__label sk-toggleable__label-arrow\">CodificadorCategorico</label><div class=\"sk-toggleable__content\"><pre>CodificadorCategorico()</pre></div></div></div><div class=\"sk-item\"><div class=\"sk-estimator sk-toggleable\"><input class=\"sk-toggleable__control sk-hidden--visually\" id=\"sk-estimator-id-28\" type=\"checkbox\" ><label for=\"sk-estimator-id-28\" class=\"sk-toggleable__label sk-toggleable__label-arrow\">FunctionTransformer</label><div class=\"sk-toggleable__content\"><pre>FunctionTransformer(func=&lt;function &lt;lambda&gt; at 0x000001694EC6EF80&gt;)</pre></div></div></div></div></div></div></div></div><div class=\"sk-parallel-item\"><div class=\"sk-item\"><div class=\"sk-label-container\"><div class=\"sk-label sk-toggleable\"><label>variables_texto</label></div></div><div class=\"sk-serial\"><div class=\"sk-item\"><div class=\"sk-serial\"><div class=\"sk-item\"><div class=\"sk-estimator sk-toggleable\"><input class=\"sk-toggleable__control sk-hidden--visually\" id=\"sk-estimator-id-29\" type=\"checkbox\" ><label for=\"sk-estimator-id-29\" class=\"sk-toggleable__label sk-toggleable__label-arrow\">ColumnExtractor</label><div class=\"sk-toggleable__content\"><pre>&lt;__main__.ColumnExtractor object at 0x000001694EF20400&gt;</pre></div></div></div><div class=\"sk-item\"><div class=\"sk-estimator sk-toggleable\"><input class=\"sk-toggleable__control sk-hidden--visually\" id=\"sk-estimator-id-30\" type=\"checkbox\" ><label for=\"sk-estimator-id-30\" class=\"sk-toggleable__label sk-toggleable__label-arrow\">FunctionTransformer</label><div class=\"sk-toggleable__content\"><pre>FunctionTransformer(func=&lt;function &lt;lambda&gt; at 0x000001694EFE3130&gt;)</pre></div></div></div><div class=\"sk-item\"><div class=\"sk-estimator sk-toggleable\"><input class=\"sk-toggleable__control sk-hidden--visually\" id=\"sk-estimator-id-31\" type=\"checkbox\" ><label for=\"sk-estimator-id-31\" class=\"sk-toggleable__label sk-toggleable__label-arrow\">TfidfVectorizer</label><div class=\"sk-toggleable__content\"><pre>TfidfVectorizer()</pre></div></div></div><div class=\"sk-item\"><div class=\"sk-estimator sk-toggleable\"><input class=\"sk-toggleable__control sk-hidden--visually\" id=\"sk-estimator-id-32\" type=\"checkbox\" ><label for=\"sk-estimator-id-32\" class=\"sk-toggleable__label sk-toggleable__label-arrow\">DenseTransformer</label><div class=\"sk-toggleable__content\"><pre>DenseTransformer()</pre></div></div></div></div></div></div></div></div><div class=\"sk-parallel-item\"><div class=\"sk-item\"><div class=\"sk-label-container\"><div class=\"sk-label sk-toggleable\"><label>variables_categoricas</label></div></div><div class=\"sk-serial\"><div class=\"sk-item\"><div class=\"sk-serial\"><div class=\"sk-item\"><div class=\"sk-estimator sk-toggleable\"><input class=\"sk-toggleable__control sk-hidden--visually\" id=\"sk-estimator-id-33\" type=\"checkbox\" ><label for=\"sk-estimator-id-33\" class=\"sk-toggleable__label sk-toggleable__label-arrow\">ColumnExtractor</label><div class=\"sk-toggleable__content\"><pre>&lt;__main__.ColumnExtractor object at 0x000001694EEDDEA0&gt;</pre></div></div></div><div class=\"sk-item\"><div class=\"sk-estimator sk-toggleable\"><input class=\"sk-toggleable__control sk-hidden--visually\" id=\"sk-estimator-id-34\" type=\"checkbox\" ><label for=\"sk-estimator-id-34\" class=\"sk-toggleable__label sk-toggleable__label-arrow\">BinarizadorCategorico</label><div class=\"sk-toggleable__content\"><pre>BinarizadorCategorico()</pre></div></div></div></div></div></div></div></div></div></div><div class=\"sk-item\"><div class=\"sk-estimator sk-toggleable\"><input class=\"sk-toggleable__control sk-hidden--visually\" id=\"sk-estimator-id-35\" type=\"checkbox\" ><label for=\"sk-estimator-id-35\" class=\"sk-toggleable__label sk-toggleable__label-arrow\">LogisticRegression</label><div class=\"sk-toggleable__content\"><pre>LogisticRegression()</pre></div></div></div></div></div></div></div>"
      ],
      "text/plain": [
       "Pipeline(steps=[('procesador',\n",
       "                 FeatureUnion(transformer_list=[('variables_numericas',\n",
       "                                                 Pipeline(steps=[('selector_numerico',\n",
       "                                                                  <__main__.ColumnExtractor object at 0x000001694EF20EE0>),\n",
       "                                                                 ['transformador_numerico',\n",
       "                                                                  Pipeline(steps=[('imputador',\n",
       "                                                                                   SimpleImputer()),\n",
       "                                                                                  ('escalador',\n",
       "                                                                                   StandardScaler())])]])),\n",
       "                                                ('variables_ordinales',\n",
       "                                                 Pipeline(steps=[('selector_ordinal',\n",
       "                                                                  <__main...\n",
       "                                                                  FunctionTransformer(func=<function <lambda> at 0x000001694EFE3130>)),\n",
       "                                                                 ('transformador_texto',\n",
       "                                                                  TfidfVectorizer()),\n",
       "                                                                 ['texto_array',\n",
       "                                                                  DenseTransformer()]])),\n",
       "                                                ('variables_categoricas',\n",
       "                                                 Pipeline(steps=[('selector_categorica',\n",
       "                                                                  <__main__.ColumnExtractor object at 0x000001694EEDDEA0>),\n",
       "                                                                 ['transformador_categorico',\n",
       "                                                                  BinarizadorCategorico()]]))])),\n",
       "                ('estimador', LogisticRegression())])"
      ]
     },
     "execution_count": 34,
     "metadata": {},
     "output_type": "execute_result"
    }
   ],
   "source": [
    "pipeline_estimador.fit(datos, datos.objetivo)"
   ]
  },
  {
   "cell_type": "code",
   "execution_count": 35,
   "metadata": {},
   "outputs": [
    {
     "data": {
      "text/plain": [
       "array([0, 1, 0, 1, 1], dtype=int64)"
      ]
     },
     "execution_count": 35,
     "metadata": {},
     "output_type": "execute_result"
    }
   ],
   "source": [
    "pipeline_estimador.predict(datos)[:5]"
   ]
  },
  {
   "cell_type": "markdown",
   "metadata": {},
   "source": [
    "El beneficio de los pipelines, no solo es tener codigo mas legible y poder gestionar de forma ordenada todo el ciclo de vida del modelado, sino que los pipelines tienen todos los beneficios de los objetos de scikitlearn, por ejemplo, podemos usar validacion cruzada directamente con el pipeline."
   ]
  },
  {
   "cell_type": "code",
   "execution_count": 74,
   "metadata": {
    "collapsed": true
   },
   "outputs": [],
   "source": [
    "from sklearn.model_selection import cross_val_score"
   ]
  },
  {
   "cell_type": "code",
   "execution_count": 75,
   "metadata": {
    "scrolled": true
   },
   "outputs": [
    {
     "data": {
      "text/plain": [
       "array([ 0.53326733,  0.48934893,  0.52035204,  0.49464946,  0.47535354])"
      ]
     },
     "execution_count": 75,
     "metadata": {},
     "output_type": "execute_result"
    }
   ],
   "source": [
    "cross_val_score(pipeline_estimador, X=datos.drop('objetivo', axis=1), y=datos.objetivo, scoring='roc_auc', cv=5)"
   ]
  },
  {
   "cell_type": "markdown",
   "metadata": {},
   "source": [
    "La forma de usar `Pipeline` junto con `FeatureUnion` es la forma mas comun de usar pipelines. Sin embargo, existe una forma mas simplificada en la que no le asignamos nombres a los elementos."
   ]
  },
  {
   "cell_type": "code",
   "execution_count": 76,
   "metadata": {
    "collapsed": true
   },
   "outputs": [],
   "source": [
    "from sklearn.pipeline import make_pipeline, make_union"
   ]
  },
  {
   "cell_type": "code",
   "execution_count": 77,
   "metadata": {
    "collapsed": true
   },
   "outputs": [],
   "source": [
    "pipeline_simple = make_pipeline(\n",
    "    make_union(\n",
    "       pipeline_numerico,\n",
    "       pipeline_ordinal,\n",
    "       pipeline_texto,\n",
    "       pipeline_categorico,\n",
    "    ),\n",
    "    estimador\n",
    ")"
   ]
  },
  {
   "cell_type": "code",
   "execution_count": 78,
   "metadata": {},
   "outputs": [
    {
     "data": {
      "text/plain": [
       "Pipeline(memory=None,\n",
       "     steps=[('featureunion', FeatureUnion(n_jobs=1,\n",
       "       transformer_list=[('pipeline-1', Pipeline(memory=None,\n",
       "     steps=[('selector_numerico', <__main__.ColumnExtractor object at 0x7f389c7fc860>), ['transformador_numerico', Pipeline(memory=None,\n",
       "     steps=[('imputador', Imputer(axis=0, copy=True, m...ty='l2', random_state=None, solver='liblinear', tol=0.0001,\n",
       "          verbose=0, warm_start=False))])"
      ]
     },
     "execution_count": 78,
     "metadata": {},
     "output_type": "execute_result"
    }
   ],
   "source": [
    "pipeline_simple"
   ]
  },
  {
   "cell_type": "code",
   "execution_count": 79,
   "metadata": {},
   "outputs": [
    {
     "data": {
      "text/plain": [
       "array([ 0.53326733,  0.48934893,  0.52035204,  0.49464946,  0.47535354])"
      ]
     },
     "execution_count": 79,
     "metadata": {},
     "output_type": "execute_result"
    }
   ],
   "source": [
    "cross_val_score(pipeline_simple, X=datos.drop('objetivo', axis=1), y=datos.objetivo, scoring='roc_auc', cv=5)"
   ]
  },
  {
   "cell_type": "markdown",
   "metadata": {},
   "source": [
    "Para aquellos casos en los que los datos que tengamos nos permitan trabajar con DataFrames de pandas (datasets tabulares) podemos usar [sklearn-pandas](https://github.com/pandas-dev/sklearn-pandas) que hace el uso de pipelines de scikit-learn bastante mas sencillo."
   ]
  },
  {
   "cell_type": "code",
   "execution_count": 80,
   "metadata": {},
   "outputs": [
    {
     "name": "stdout",
     "output_type": "stream",
     "text": [
      "Requirement already satisfied: sklearn-pandas in /home/manuel/anaconda3/envs/data/lib/python3.6/site-packages\n",
      "Requirement already satisfied: scipy>=0.14 in /home/manuel/anaconda3/envs/data/lib/python3.6/site-packages (from sklearn-pandas)\n",
      "Requirement already satisfied: numpy>=1.6.1 in /home/manuel/anaconda3/envs/data/lib/python3.6/site-packages (from sklearn-pandas)\n",
      "Requirement already satisfied: scikit-learn>=0.15.0 in /home/manuel/anaconda3/envs/data/lib/python3.6/site-packages (from sklearn-pandas)\n",
      "Requirement already satisfied: pandas>=0.11.0 in /home/manuel/anaconda3/envs/data/lib/python3.6/site-packages (from sklearn-pandas)\n",
      "Requirement already satisfied: python-dateutil>=2 in /home/manuel/anaconda3/envs/data/lib/python3.6/site-packages (from pandas>=0.11.0->sklearn-pandas)\n",
      "Requirement already satisfied: pytz>=2011k in /home/manuel/anaconda3/envs/data/lib/python3.6/site-packages (from pandas>=0.11.0->sklearn-pandas)\n",
      "Requirement already satisfied: six>=1.5 in /home/manuel/anaconda3/envs/data/lib/python3.6/site-packages (from python-dateutil>=2->pandas>=0.11.0->sklearn-pandas)\n"
     ]
    }
   ],
   "source": [
    "!pip install sklearn-pandas"
   ]
  },
  {
   "cell_type": "code",
   "execution_count": 81,
   "metadata": {
    "collapsed": true
   },
   "outputs": [],
   "source": [
    "from sklearn_pandas import DataFrameMapper, cross_val_score as sklearn_pandas_cross_val_score"
   ]
  },
  {
   "cell_type": "code",
   "execution_count": 82,
   "metadata": {},
   "outputs": [
    {
     "data": {
      "text/html": [
       "<div>\n",
       "<style>\n",
       "    .dataframe thead tr:only-child th {\n",
       "        text-align: right;\n",
       "    }\n",
       "\n",
       "    .dataframe thead th {\n",
       "        text-align: left;\n",
       "    }\n",
       "\n",
       "    .dataframe tbody tr th {\n",
       "        vertical-align: top;\n",
       "    }\n",
       "</style>\n",
       "<table border=\"1\" class=\"dataframe\">\n",
       "  <thead>\n",
       "    <tr style=\"text-align: right;\">\n",
       "      <th></th>\n",
       "      <th>col_inexistente1</th>\n",
       "      <th>col2</th>\n",
       "      <th>col3</th>\n",
       "      <th>col_outliers</th>\n",
       "      <th>col_outliers2</th>\n",
       "      <th>col_categorica</th>\n",
       "      <th>col_ordinal</th>\n",
       "      <th>col_texto</th>\n",
       "      <th>objetivo</th>\n",
       "    </tr>\n",
       "  </thead>\n",
       "  <tbody>\n",
       "    <tr>\n",
       "      <th>0</th>\n",
       "      <td>59.0</td>\n",
       "      <td>52.0</td>\n",
       "      <td>2.232832</td>\n",
       "      <td>-50</td>\n",
       "      <td>0.771666</td>\n",
       "      <td>ratón</td>\n",
       "      <td>muy bien</td>\n",
       "      <td>Tenía en su casa una ama que pasaba de los cua...</td>\n",
       "      <td>1</td>\n",
       "    </tr>\n",
       "    <tr>\n",
       "      <th>1</th>\n",
       "      <td>31.0</td>\n",
       "      <td>74.0</td>\n",
       "      <td>0.906147</td>\n",
       "      <td>-5</td>\n",
       "      <td>1.068558</td>\n",
       "      <td>elefante</td>\n",
       "      <td>regular</td>\n",
       "      <td>El resto della concluían sayo de velarte, calz...</td>\n",
       "      <td>0</td>\n",
       "    </tr>\n",
       "    <tr>\n",
       "      <th>2</th>\n",
       "      <td>81.0</td>\n",
       "      <td>28.0</td>\n",
       "      <td>0.626750</td>\n",
       "      <td>-32</td>\n",
       "      <td>0.846396</td>\n",
       "      <td>ratón</td>\n",
       "      <td>muy mal</td>\n",
       "      <td>El resto della concluían sayo de velarte, calz...</td>\n",
       "      <td>0</td>\n",
       "    </tr>\n",
       "    <tr>\n",
       "      <th>3</th>\n",
       "      <td>34.0</td>\n",
       "      <td>16.0</td>\n",
       "      <td>0.816738</td>\n",
       "      <td>-84</td>\n",
       "      <td>0.637381</td>\n",
       "      <td>gato</td>\n",
       "      <td>mal</td>\n",
       "      <td>Una olla de algo más vaca que carnero, salpicó...</td>\n",
       "      <td>0</td>\n",
       "    </tr>\n",
       "    <tr>\n",
       "      <th>4</th>\n",
       "      <td>32.0</td>\n",
       "      <td>28.0</td>\n",
       "      <td>0.571131</td>\n",
       "      <td>65</td>\n",
       "      <td>4.540614</td>\n",
       "      <td>gato</td>\n",
       "      <td>bien</td>\n",
       "      <td>Tenía en su casa una ama que pasaba de los cua...</td>\n",
       "      <td>0</td>\n",
       "    </tr>\n",
       "  </tbody>\n",
       "</table>\n",
       "</div>"
      ],
      "text/plain": [
       "   col_inexistente1  col2      col3  col_outliers  col_outliers2  \\\n",
       "0              59.0  52.0  2.232832           -50       0.771666   \n",
       "1              31.0  74.0  0.906147            -5       1.068558   \n",
       "2              81.0  28.0  0.626750           -32       0.846396   \n",
       "3              34.0  16.0  0.816738           -84       0.637381   \n",
       "4              32.0  28.0  0.571131            65       4.540614   \n",
       "\n",
       "  col_categorica col_ordinal  \\\n",
       "0          ratón    muy bien   \n",
       "1       elefante     regular   \n",
       "2          ratón     muy mal   \n",
       "3           gato         mal   \n",
       "4           gato        bien   \n",
       "\n",
       "                                           col_texto  objetivo  \n",
       "0  Tenía en su casa una ama que pasaba de los cua...         1  \n",
       "1  El resto della concluían sayo de velarte, calz...         0  \n",
       "2  El resto della concluían sayo de velarte, calz...         0  \n",
       "3  Una olla de algo más vaca que carnero, salpicó...         0  \n",
       "4  Tenía en su casa una ama que pasaba de los cua...         0  "
      ]
     },
     "execution_count": 82,
     "metadata": {},
     "output_type": "execute_result"
    }
   ],
   "source": [
    "datos.head()"
   ]
  },
  {
   "cell_type": "code",
   "execution_count": 83,
   "metadata": {
    "collapsed": true
   },
   "outputs": [],
   "source": [
    "mapeador = DataFrameMapper([\n",
    "     (['col_inexistente1'], transformador_numerico),\n",
    "     (['col2'], transformador_numerico),\n",
    "     ([\"col3\"], transformador_numerico),\n",
    "    ([\"col_outliers\"], transformador_numerico),\n",
    "    ([\"col_outliers2\"], transformador_numerico),\n",
    "    (\"col_categorica\", transformador_categorico),\n",
    "    (\"col_ordinal\", transformador_ordinal),\n",
    "    (\"col_texto\", transformador_texto)\n",
    " ])"
   ]
  },
  {
   "cell_type": "code",
   "execution_count": 86,
   "metadata": {},
   "outputs": [
    {
     "data": {
      "text/plain": [
       "array([[-0.02123668, -0.02329583, -0.03793554, ...,  0.        ,\n",
       "         0.        ,  0.        ],\n",
       "       [-0.02947328, -0.01682422, -0.03832581, ...,  0.        ,\n",
       "         0.        ,  0.        ],\n",
       "       [-0.01476508, -0.03035577, -0.038408  , ...,  0.        ,\n",
       "         0.        ,  0.        ],\n",
       "       ..., \n",
       "       [-0.03300325, -0.02300167, -0.0383755 , ...,  0.        ,\n",
       "         0.        ,  0.        ],\n",
       "       [-0.01270593, -0.01094094, -0.03836877, ...,  0.        ,\n",
       "         0.        ,  0.19788701],\n",
       "       [-0.01094094, -0.02211918, -0.03823056, ...,  0.        ,\n",
       "         0.        ,  0.        ]])"
      ]
     },
     "execution_count": 86,
     "metadata": {},
     "output_type": "execute_result"
    }
   ],
   "source": [
    "mapeador.fit_transform(datos.copy())"
   ]
  },
  {
   "cell_type": "code",
   "execution_count": 87,
   "metadata": {},
   "outputs": [
    {
     "data": {
      "text/plain": [
       "[(['col_inexistente1'], Pipeline(memory=None,\n",
       "       steps=[('imputador', Imputer(axis=0, copy=True, missing_values='NaN', strategy='mean', verbose=0)), ('escalador', StandardScaler(copy=True, with_mean=True, with_std=True))])),\n",
       " (['col2'], Pipeline(memory=None,\n",
       "       steps=[('imputador', Imputer(axis=0, copy=True, missing_values='NaN', strategy='mean', verbose=0)), ('escalador', StandardScaler(copy=True, with_mean=True, with_std=True))])),\n",
       " (['col3'], Pipeline(memory=None,\n",
       "       steps=[('imputador', Imputer(axis=0, copy=True, missing_values='NaN', strategy='mean', verbose=0)), ('escalador', StandardScaler(copy=True, with_mean=True, with_std=True))])),\n",
       " (['col_outliers'], Pipeline(memory=None,\n",
       "       steps=[('imputador', Imputer(axis=0, copy=True, missing_values='NaN', strategy='mean', verbose=0)), ('escalador', StandardScaler(copy=True, with_mean=True, with_std=True))])),\n",
       " (['col_outliers2'], Pipeline(memory=None,\n",
       "       steps=[('imputador', Imputer(axis=0, copy=True, missing_values='NaN', strategy='mean', verbose=0)), ('escalador', StandardScaler(copy=True, with_mean=True, with_std=True))])),\n",
       " ('col_categorica',\n",
       "  BinarizadorCategorico(neg_label=0, pos_label=1, sparse_output=False)),\n",
       " ('col_ordinal', CodificadorCategorico()),\n",
       " ('col_texto',\n",
       "  TfidfVectorizer(analyzer='word', binary=False, decode_error='strict',\n",
       "          dtype=<class 'numpy.int64'>, encoding='utf-8', input='content',\n",
       "          lowercase=True, max_df=1.0, max_features=None, min_df=1,\n",
       "          ngram_range=(1, 1), norm='l2', preprocessor=None, smooth_idf=True,\n",
       "          stop_words=None, strip_accents=None, sublinear_tf=False,\n",
       "          token_pattern='(?u)\\\\b\\\\w\\\\w+\\\\b', tokenizer=None, use_idf=True,\n",
       "          vocabulary=None))]"
      ]
     },
     "execution_count": 87,
     "metadata": {},
     "output_type": "execute_result"
    }
   ],
   "source": [
    "mapeador.features"
   ]
  },
  {
   "cell_type": "code",
   "execution_count": 88,
   "metadata": {},
   "outputs": [
    {
     "data": {
      "text/plain": [
       "['col_inexistente1',\n",
       " 'col2',\n",
       " 'col3',\n",
       " 'col_outliers',\n",
       " 'col_outliers2',\n",
       " 'col_categorica_elefante',\n",
       " 'col_categorica_gato',\n",
       " 'col_categorica_perro',\n",
       " 'col_categorica_ratón',\n",
       " 'col_ordinal',\n",
       " 'col_texto_acordarme',\n",
       " 'col_texto_adarga',\n",
       " 'col_texto_algo',\n",
       " 'col_texto_alguna',\n",
       " 'col_texto_algún',\n",
       " 'col_texto_ama',\n",
       " 'col_texto_amigo',\n",
       " 'col_texto_antigua',\n",
       " 'col_texto_astillero',\n",
       " 'col_texto_así',\n",
       " 'col_texto_aunque',\n",
       " 'col_texto_autores',\n",
       " 'col_texto_añadidura',\n",
       " 'col_texto_años',\n",
       " 'col_texto_basta',\n",
       " 'col_texto_calzas',\n",
       " 'col_texto_campo',\n",
       " 'col_texto_carnero',\n",
       " 'col_texto_carnes',\n",
       " 'col_texto_casa',\n",
       " 'col_texto_caso',\n",
       " 'col_texto_caza',\n",
       " 'col_texto_cincuenta',\n",
       " 'col_texto_como',\n",
       " 'col_texto_complexión',\n",
       " 'col_texto_con',\n",
       " 'col_texto_concluían',\n",
       " 'col_texto_conjeturas',\n",
       " 'col_texto_consumían',\n",
       " 'col_texto_corredor',\n",
       " 'col_texto_cuarenta',\n",
       " 'col_texto_cuento',\n",
       " 'col_texto_cuyo',\n",
       " 'col_texto_de',\n",
       " 'col_texto_decir',\n",
       " 'col_texto_deja',\n",
       " 'col_texto_della',\n",
       " 'col_texto_deste',\n",
       " 'col_texto_diferencia',\n",
       " 'col_texto_domingos',\n",
       " 'col_texto_duelos',\n",
       " 'col_texto_dél',\n",
       " 'col_texto_días',\n",
       " 'col_texto_edad',\n",
       " 'col_texto_el',\n",
       " 'col_texto_en',\n",
       " 'col_texto_enjuto',\n",
       " 'col_texto_ensillaba',\n",
       " 'col_texto_entender',\n",
       " 'col_texto_entre',\n",
       " 'col_texto_era',\n",
       " 'col_texto_escriben',\n",
       " 'col_texto_esto',\n",
       " 'col_texto_fiestas',\n",
       " 'col_texto_fino',\n",
       " 'col_texto_flaco',\n",
       " 'col_texto_frisaba',\n",
       " 'col_texto_galgo',\n",
       " 'col_texto_gran',\n",
       " 'col_texto_ha',\n",
       " 'col_texto_hacienda',\n",
       " 'col_texto_hay',\n",
       " 'col_texto_hidalgo',\n",
       " 'col_texto_honraba',\n",
       " 'col_texto_importa',\n",
       " 'col_texto_la',\n",
       " 'col_texto_lanza',\n",
       " 'col_texto_las',\n",
       " 'col_texto_lentejas',\n",
       " 'col_texto_llama',\n",
       " 'col_texto_llegaba',\n",
       " 'col_texto_lo',\n",
       " 'col_texto_los',\n",
       " 'col_texto_lugar',\n",
       " 'col_texto_madrugador',\n",
       " 'col_texto_mancha',\n",
       " 'col_texto_mismo',\n",
       " 'col_texto_mozo',\n",
       " 'col_texto_mucho',\n",
       " 'col_texto_más',\n",
       " 'col_texto_narración',\n",
       " 'col_texto_no',\n",
       " 'col_texto_noches',\n",
       " 'col_texto_nombre',\n",
       " 'col_texto_nuestro',\n",
       " 'col_texto_olla',\n",
       " 'col_texto_palomino',\n",
       " 'col_texto_pantuflos',\n",
       " 'col_texto_para',\n",
       " 'col_texto_partes',\n",
       " 'col_texto_pasaba',\n",
       " 'col_texto_pero',\n",
       " 'col_texto_plaza',\n",
       " 'col_texto_poco',\n",
       " 'col_texto_podadera',\n",
       " 'col_texto_por',\n",
       " 'col_texto_punto',\n",
       " 'col_texto_que',\n",
       " 'col_texto_quebrantos',\n",
       " 'col_texto_quesada',\n",
       " 'col_texto_quieren',\n",
       " 'col_texto_quiero',\n",
       " 'col_texto_quijada',\n",
       " 'col_texto_quijana',\n",
       " 'col_texto_recia',\n",
       " 'col_texto_resto',\n",
       " 'col_texto_rocín',\n",
       " 'col_texto_rostro',\n",
       " 'col_texto_salga',\n",
       " 'col_texto_salpicón',\n",
       " 'col_texto_sayo',\n",
       " 'col_texto_se',\n",
       " 'col_texto_seco',\n",
       " 'col_texto_semana',\n",
       " 'col_texto_sobrenombre',\n",
       " 'col_texto_sobrina',\n",
       " 'col_texto_su',\n",
       " 'col_texto_sus',\n",
       " 'col_texto_sábados',\n",
       " 'col_texto_tenía',\n",
       " 'col_texto_tiempo',\n",
       " 'col_texto_tomaba',\n",
       " 'col_texto_tres',\n",
       " 'col_texto_un',\n",
       " 'col_texto_una',\n",
       " 'col_texto_vaca',\n",
       " 'col_texto_veinte',\n",
       " 'col_texto_velarte',\n",
       " 'col_texto_vellori',\n",
       " 'col_texto_velludo',\n",
       " 'col_texto_verdad',\n",
       " 'col_texto_verosímiles',\n",
       " 'col_texto_viernes',\n",
       " 'col_texto_vivía']"
      ]
     },
     "execution_count": 88,
     "metadata": {},
     "output_type": "execute_result"
    }
   ],
   "source": [
    "mapeador.transformed_names_"
   ]
  },
  {
   "cell_type": "code",
   "execution_count": 89,
   "metadata": {
    "collapsed": true
   },
   "outputs": [],
   "source": [
    "pipeline_estimador_pandas_sklearn = Pipeline([\n",
    "    ('procesador', mapeador),\n",
    "    ('estimador', estimador)\n",
    "])"
   ]
  },
  {
   "cell_type": "code",
   "execution_count": 90,
   "metadata": {},
   "outputs": [
    {
     "data": {
      "text/plain": [
       "array([ 0.53326733,  0.48934893,  0.52035204,  0.49464946,  0.47535354])"
      ]
     },
     "execution_count": 90,
     "metadata": {},
     "output_type": "execute_result"
    }
   ],
   "source": [
    "sklearn_pandas_cross_val_score(pipeline_estimador_pandas_sklearn, X=datos.drop('objetivo', axis=1).copy(),\n",
    "                               y=datos.objetivo, scoring='roc_auc', cv=5)"
   ]
  },
  {
   "cell_type": "code",
   "execution_count": null,
   "metadata": {
    "collapsed": true
   },
   "outputs": [],
   "source": []
  }
 ],
 "metadata": {
  "kernelspec": {
   "display_name": "Python 3 (ipykernel)",
   "language": "python",
   "name": "python3"
  },
  "language_info": {
   "codemirror_mode": {
    "name": "ipython",
    "version": 3
   },
   "file_extension": ".py",
   "mimetype": "text/x-python",
   "name": "python",
   "nbconvert_exporter": "python",
   "pygments_lexer": "ipython3",
   "version": "3.10.11"
  }
 },
 "nbformat": 4,
 "nbformat_minor": 2
}
