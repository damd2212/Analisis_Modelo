{
 "cells": [
  {
   "cell_type": "code",
   "execution_count": 1,
   "metadata": {},
   "outputs": [
    {
     "name": "stdout",
     "output_type": "stream",
     "text": [
      "Last updated: 2024-03-17T23:23:53.402531-05:00\n",
      "\n",
      "Python implementation: CPython\n",
      "Python version       : 3.10.11\n",
      "IPython version      : 8.13.2\n",
      "\n",
      "Compiler    : MSC v.1916 64 bit (AMD64)\n",
      "OS          : Windows\n",
      "Release     : 10\n",
      "Machine     : AMD64\n",
      "Processor   : Intel64 Family 6 Model 158 Stepping 10, GenuineIntel\n",
      "CPU cores   : 8\n",
      "Architecture: 64bit\n",
      "\n"
     ]
    }
   ],
   "source": [
    "%load_ext watermark\n",
    "%watermark"
   ]
  },
  {
   "cell_type": "code",
   "execution_count": 2,
   "metadata": {},
   "outputs": [],
   "source": [
    "from IPython.display import Image\n",
    "import pandas as pd\n",
    "import numpy as np\n",
    "import matplotlib.pyplot as plt\n",
    "\n",
    "from sklearn.ensemble import RandomForestClassifier\n",
    "from sklearn import preprocessing, feature_extraction\n",
    "from sklearn import preprocessing, feature_extraction\n",
    "from sklearn.base import BaseEstimator, TransformerMixin\n",
    "from sklearn.preprocessing import StandardScaler\n",
    "from sklearn.impute import SimpleImputer\n",
    "from sklearn.pipeline import Pipeline, FeatureUnion\n",
    "#import category_encoders\n",
    "from sklearn.model_selection import cross_validate\n",
    "from category_encoders import OneHotEncoder\n",
    "from category_encoders.ordinal import OrdinalEncoder\n",
    "from sklearn.pipeline import FeatureUnion\n",
    "from sklearn.model_selection import train_test_split\n",
    "from sklearn import metrics"
   ]
  },
  {
   "cell_type": "code",
   "execution_count": 3,
   "metadata": {},
   "outputs": [],
   "source": [
    "consumidores = pd.read_csv(\"C:/Users/Danny/Desktop/Analisis tesis/4 - Pipelines/data/df_consumo_varObjetivo.csv\")"
   ]
  },
  {
   "cell_type": "code",
   "execution_count": 4,
   "metadata": {
    "scrolled": true
   },
   "outputs": [
    {
     "data": {
      "text/html": [
       "<div>\n",
       "<style scoped>\n",
       "    .dataframe tbody tr th:only-of-type {\n",
       "        vertical-align: middle;\n",
       "    }\n",
       "\n",
       "    .dataframe tbody tr th {\n",
       "        vertical-align: top;\n",
       "    }\n",
       "\n",
       "    .dataframe thead th {\n",
       "        text-align: right;\n",
       "    }\n",
       "</style>\n",
       "<table border=\"1\" class=\"dataframe\">\n",
       "  <thead>\n",
       "    <tr style=\"text-align: right;\">\n",
       "      <th></th>\n",
       "      <th>departamento</th>\n",
       "      <th>residentes_hogar</th>\n",
       "      <th>d2_04_num_hijos</th>\n",
       "      <th>per_edad_tipo</th>\n",
       "      <th>estrato_tipo</th>\n",
       "      <th>situacion_tipo</th>\n",
       "      <th>frecuencia_consumo_marihuana_tipo</th>\n",
       "      <th>frecuencia_consumo_cocaina_tipo</th>\n",
       "      <th>frecuencia_consumo_basuco_tipo</th>\n",
       "      <th>per_sexo_tipo</th>\n",
       "      <th>...</th>\n",
       "      <th>g_06_a_posibilidad_conseguir_marihuana_tipo</th>\n",
       "      <th>g_06_b_posibilidad_conseguir_cocaina_tipo</th>\n",
       "      <th>g_06_c_posibilidad_conseguir_basuco_tipo</th>\n",
       "      <th>g_07_alguien_ofrecio_comprar_probar_sp_tipo</th>\n",
       "      <th>g_01_a_num_familiares_consumen_sp_imp_tipo</th>\n",
       "      <th>g_02_a_num_amigos_consumen_sp_imp_tipo</th>\n",
       "      <th>g_08_a_ofrecieron_marihuana_imp_tipo</th>\n",
       "      <th>g_08_b_ofrecieron_cocaina_imp_tipo</th>\n",
       "      <th>g_08_c_ofrecieron_basuco_imp_tipo</th>\n",
       "      <th>CatRiesgo</th>\n",
       "    </tr>\n",
       "  </thead>\n",
       "  <tbody>\n",
       "    <tr>\n",
       "      <th>0</th>\n",
       "      <td>Guaviare</td>\n",
       "      <td>5</td>\n",
       "      <td>0</td>\n",
       "      <td>Joven</td>\n",
       "      <td>Estrato bajo</td>\n",
       "      <td>Trabajando</td>\n",
       "      <td>Nunca</td>\n",
       "      <td>Nunca</td>\n",
       "      <td>Nunca</td>\n",
       "      <td>Hombre</td>\n",
       "      <td>...</td>\n",
       "      <td>g_06_a_No_conoce_facilidad_dificultad</td>\n",
       "      <td>g_06_b_No_conoce_facilidad_dificultad</td>\n",
       "      <td>g_06_c_No_conoce_facilidad_dificultad</td>\n",
       "      <td>g_07_No</td>\n",
       "      <td>g_01_a_No_aplica</td>\n",
       "      <td>g_02_a_Dos_o_mas</td>\n",
       "      <td>g_08_a_No_aplica</td>\n",
       "      <td>g_08_b_No_aplica</td>\n",
       "      <td>g_08_c_No_aplica</td>\n",
       "      <td>0</td>\n",
       "    </tr>\n",
       "    <tr>\n",
       "      <th>1</th>\n",
       "      <td>Cordoba</td>\n",
       "      <td>4</td>\n",
       "      <td>3</td>\n",
       "      <td>Adulto</td>\n",
       "      <td>Estrato bajo</td>\n",
       "      <td>Trabajando</td>\n",
       "      <td>Nunca</td>\n",
       "      <td>Nunca</td>\n",
       "      <td>Nunca</td>\n",
       "      <td>Mujer</td>\n",
       "      <td>...</td>\n",
       "      <td>g_06_a_Seria_facil</td>\n",
       "      <td>g_06_b_Seria_facil</td>\n",
       "      <td>g_06_c_Seria_facil</td>\n",
       "      <td>g_07_No</td>\n",
       "      <td>g_01_a_No_aplica</td>\n",
       "      <td>g_02_a_No_aplica</td>\n",
       "      <td>g_08_a_No_aplica</td>\n",
       "      <td>g_08_b_No_aplica</td>\n",
       "      <td>g_08_c_No_aplica</td>\n",
       "      <td>0</td>\n",
       "    </tr>\n",
       "    <tr>\n",
       "      <th>2</th>\n",
       "      <td>Caqueta</td>\n",
       "      <td>4</td>\n",
       "      <td>2</td>\n",
       "      <td>Adulto</td>\n",
       "      <td>Estrato bajo</td>\n",
       "      <td>Trabajando</td>\n",
       "      <td>Nunca</td>\n",
       "      <td>Nunca</td>\n",
       "      <td>Nunca</td>\n",
       "      <td>Hombre</td>\n",
       "      <td>...</td>\n",
       "      <td>g_06_a_No_conoce_facilidad_dificultad</td>\n",
       "      <td>g_06_b_No_conoce_facilidad_dificultad</td>\n",
       "      <td>g_06_c_No_conoce_facilidad_dificultad</td>\n",
       "      <td>g_07_No</td>\n",
       "      <td>g_01_a_No_aplica</td>\n",
       "      <td>g_02_a_No_aplica</td>\n",
       "      <td>g_08_a_No_aplica</td>\n",
       "      <td>g_08_b_No_aplica</td>\n",
       "      <td>g_08_c_No_aplica</td>\n",
       "      <td>0</td>\n",
       "    </tr>\n",
       "    <tr>\n",
       "      <th>3</th>\n",
       "      <td>Bolivar</td>\n",
       "      <td>6</td>\n",
       "      <td>0</td>\n",
       "      <td>Adulto</td>\n",
       "      <td>Estrato alto</td>\n",
       "      <td>Trabajando</td>\n",
       "      <td>Nunca</td>\n",
       "      <td>Nunca</td>\n",
       "      <td>Nunca</td>\n",
       "      <td>Mujer</td>\n",
       "      <td>...</td>\n",
       "      <td>g_06_a_No_podria_conseguir</td>\n",
       "      <td>g_06_b_No_podria_conseguir</td>\n",
       "      <td>g_06_c_No_podria_conseguir</td>\n",
       "      <td>g_07_No</td>\n",
       "      <td>g_01_a_No_aplica</td>\n",
       "      <td>g_02_a_No_aplica</td>\n",
       "      <td>g_08_a_No_aplica</td>\n",
       "      <td>g_08_b_No_aplica</td>\n",
       "      <td>g_08_c_No_aplica</td>\n",
       "      <td>0</td>\n",
       "    </tr>\n",
       "    <tr>\n",
       "      <th>4</th>\n",
       "      <td>Tolima</td>\n",
       "      <td>4</td>\n",
       "      <td>1</td>\n",
       "      <td>Joven</td>\n",
       "      <td>Estrato bajo</td>\n",
       "      <td>Buscando trabajo</td>\n",
       "      <td>Nunca</td>\n",
       "      <td>Nunca</td>\n",
       "      <td>Nunca</td>\n",
       "      <td>Mujer</td>\n",
       "      <td>...</td>\n",
       "      <td>g_06_a_Seria_facil</td>\n",
       "      <td>g_06_b_Seria_facil</td>\n",
       "      <td>g_06_c_Seria_facil</td>\n",
       "      <td>g_07_No</td>\n",
       "      <td>g_01_a_No_aplica</td>\n",
       "      <td>g_02_a_Dos_o_mas</td>\n",
       "      <td>g_08_a_No_aplica</td>\n",
       "      <td>g_08_b_No_aplica</td>\n",
       "      <td>g_08_c_No_aplica</td>\n",
       "      <td>1</td>\n",
       "    </tr>\n",
       "  </tbody>\n",
       "</table>\n",
       "<p>5 rows × 40 columns</p>\n",
       "</div>"
      ],
      "text/plain": [
       "  departamento  residentes_hogar  d2_04_num_hijos per_edad_tipo  estrato_tipo  \\\n",
       "0     Guaviare                 5                0         Joven  Estrato bajo   \n",
       "1      Cordoba                 4                3        Adulto  Estrato bajo   \n",
       "2      Caqueta                 4                2        Adulto  Estrato bajo   \n",
       "3      Bolivar                 6                0        Adulto  Estrato alto   \n",
       "4       Tolima                 4                1         Joven  Estrato bajo   \n",
       "\n",
       "     situacion_tipo frecuencia_consumo_marihuana_tipo  \\\n",
       "0        Trabajando                             Nunca   \n",
       "1        Trabajando                             Nunca   \n",
       "2        Trabajando                             Nunca   \n",
       "3        Trabajando                             Nunca   \n",
       "4  Buscando trabajo                             Nunca   \n",
       "\n",
       "  frecuencia_consumo_cocaina_tipo frecuencia_consumo_basuco_tipo  \\\n",
       "0                           Nunca                          Nunca   \n",
       "1                           Nunca                          Nunca   \n",
       "2                           Nunca                          Nunca   \n",
       "3                           Nunca                          Nunca   \n",
       "4                           Nunca                          Nunca   \n",
       "\n",
       "  per_sexo_tipo  ... g_06_a_posibilidad_conseguir_marihuana_tipo  \\\n",
       "0        Hombre  ...       g_06_a_No_conoce_facilidad_dificultad   \n",
       "1         Mujer  ...                          g_06_a_Seria_facil   \n",
       "2        Hombre  ...       g_06_a_No_conoce_facilidad_dificultad   \n",
       "3         Mujer  ...                  g_06_a_No_podria_conseguir   \n",
       "4         Mujer  ...                          g_06_a_Seria_facil   \n",
       "\n",
       "  g_06_b_posibilidad_conseguir_cocaina_tipo  \\\n",
       "0     g_06_b_No_conoce_facilidad_dificultad   \n",
       "1                        g_06_b_Seria_facil   \n",
       "2     g_06_b_No_conoce_facilidad_dificultad   \n",
       "3                g_06_b_No_podria_conseguir   \n",
       "4                        g_06_b_Seria_facil   \n",
       "\n",
       "  g_06_c_posibilidad_conseguir_basuco_tipo  \\\n",
       "0    g_06_c_No_conoce_facilidad_dificultad   \n",
       "1                       g_06_c_Seria_facil   \n",
       "2    g_06_c_No_conoce_facilidad_dificultad   \n",
       "3               g_06_c_No_podria_conseguir   \n",
       "4                       g_06_c_Seria_facil   \n",
       "\n",
       "  g_07_alguien_ofrecio_comprar_probar_sp_tipo  \\\n",
       "0                                     g_07_No   \n",
       "1                                     g_07_No   \n",
       "2                                     g_07_No   \n",
       "3                                     g_07_No   \n",
       "4                                     g_07_No   \n",
       "\n",
       "  g_01_a_num_familiares_consumen_sp_imp_tipo  \\\n",
       "0                           g_01_a_No_aplica   \n",
       "1                           g_01_a_No_aplica   \n",
       "2                           g_01_a_No_aplica   \n",
       "3                           g_01_a_No_aplica   \n",
       "4                           g_01_a_No_aplica   \n",
       "\n",
       "  g_02_a_num_amigos_consumen_sp_imp_tipo g_08_a_ofrecieron_marihuana_imp_tipo  \\\n",
       "0                       g_02_a_Dos_o_mas                     g_08_a_No_aplica   \n",
       "1                       g_02_a_No_aplica                     g_08_a_No_aplica   \n",
       "2                       g_02_a_No_aplica                     g_08_a_No_aplica   \n",
       "3                       g_02_a_No_aplica                     g_08_a_No_aplica   \n",
       "4                       g_02_a_Dos_o_mas                     g_08_a_No_aplica   \n",
       "\n",
       "  g_08_b_ofrecieron_cocaina_imp_tipo g_08_c_ofrecieron_basuco_imp_tipo  \\\n",
       "0                   g_08_b_No_aplica                  g_08_c_No_aplica   \n",
       "1                   g_08_b_No_aplica                  g_08_c_No_aplica   \n",
       "2                   g_08_b_No_aplica                  g_08_c_No_aplica   \n",
       "3                   g_08_b_No_aplica                  g_08_c_No_aplica   \n",
       "4                   g_08_b_No_aplica                  g_08_c_No_aplica   \n",
       "\n",
       "  CatRiesgo  \n",
       "0         0  \n",
       "1         0  \n",
       "2         0  \n",
       "3         0  \n",
       "4         1  \n",
       "\n",
       "[5 rows x 40 columns]"
      ]
     },
     "execution_count": 4,
     "metadata": {},
     "output_type": "execute_result"
    }
   ],
   "source": [
    "consumidores.head()"
   ]
  },
  {
   "cell_type": "markdown",
   "metadata": {},
   "source": [
    "Como vimos en un apartado anterior, en este modelo vamos a modificar cada variable en función de su tipo. Al conjunto de pasos que siguen los datos se le llama comúnmente **Pipelines** (literalmente, sistemas de tuberias)."
   ]
  },
  {
   "cell_type": "markdown",
   "metadata": {},
   "source": [
    "**INCISO**\n",
    "\n",
    "vamos a modificar dos transformadores de scikitlearn para que sean compatibles con pipelines. Este paso es necesario en la version actual de scikit-learn, pero seguramente será arreglado en el futuro"
   ]
  },
  {
   "cell_type": "code",
   "execution_count": 5,
   "metadata": {},
   "outputs": [],
   "source": [
    "class ColumnExtractor(BaseEstimator, TransformerMixin):\n",
    "    def __init__(self, columns, output_type=\"matrix\"):\n",
    "        self.columns = columns\n",
    "        self.output_type = output_type\n",
    "\n",
    "    def transform(self, X, **transform_params):\n",
    "        if isinstance(X, list):\n",
    "            X = pd.DataFrame.from_dict(X)\n",
    "        if self.output_type == \"matrix\":\n",
    "            return X[self.columns].to_numpy()\n",
    "        elif self.output_type == \"dataframe\":\n",
    "            return X[self.columns]\n",
    "        raise Exception(\"output_type tiene que ser matrix o dataframe\")\n",
    "        \n",
    "    def fit(self, X, y=None, **fit_params):\n",
    "        return self"
   ]
  },
  {
   "cell_type": "code",
   "execution_count": 6,
   "metadata": {},
   "outputs": [],
   "source": [
    "variable_objetivo = [\"CatRiesgo\"]\n",
    "variables_independientes = consumidores.drop(variable_objetivo, axis=1).columns"
   ]
  },
  {
   "cell_type": "code",
   "execution_count": 7,
   "metadata": {},
   "outputs": [],
   "source": [
    "datos_numericos = consumidores[variables_independientes].select_dtypes([int, float])\n",
    "col_numericas = datos_numericos.columns\n",
    "col_no_numericas = consumidores[variables_independientes].select_dtypes([object]).columns\n",
    "\n",
    "dict_var_ordinales = {\n",
    "    \"per_edad_tipo\": [\"Adolescente\", \"Joven\", \"Adulto\", \"Persona mayor\"],\n",
    "    \"estrato_tipo\":[\"Estrato bajo\", \"Estrato medio\", \"Estrato alto\"],\n",
    "    \"d_08_estado_salud_tipo\":[\"d_08_Muy_malo\",\"d_08_Malo\",\"d_08_Regular\",\"d_08_Bueno\",\"d_08_Muy_bueno\"],\n",
    "    \"frecuencia_consumo_marihuana_tipo\":[\"Nunca\", \"Alguna vez en su vida\", \"Una vez en el año\", \"Algunas veces durante los últimos 12 meses\", \"Algunas veces mensualmente\", \"Algunas veces semanalmente\", \"Diariamente\"],\n",
    "    \"frecuencia_consumo_cocaina_tipo\":[\"Nunca\", \"Alguna vez en su vida\", \"Una vez en el año\", \"Algunas veces durante los últimos 12 meses\", \"Algunas veces mensualmente\", \"Algunas veces semanalmente\", \"Diariamente\"],\n",
    "    \"frecuencia_consumo_basuco_tipo\":[\"Nunca\", \"Alguna vez en su vida\", \"Una vez en el año\", \"Algunas veces durante los últimos 12 meses\", \"Algunas veces mensualmente\", \"Algunas veces semanalmente\", \"Diariamente\"],\n",
    "}\n",
    "\n",
    "col_ordinales = list(dict_var_ordinales.keys())\n",
    "datos_ordinales = consumidores[col_ordinales]\n",
    "col_categoricas = list(set(col_no_numericas) - set(col_ordinales))\n",
    "datos_categoricos = consumidores[col_categoricas]"
   ]
  },
  {
   "cell_type": "markdown",
   "metadata": {},
   "source": [
    "Un pipeline de sklearn se define como una secuencia de pasos. Cada paso se define con una tupla de forma `[nombre del paso, transformador]`\n",
    "\n",
    "Por ejemplo, si queremos crear un pipeline que procese las variables numéricas, primero imputándolas y después estandarizandolas, podriamos crear un pipeline"
   ]
  },
  {
   "cell_type": "markdown",
   "metadata": {},
   "source": [
    "Creamos ahora los pipelines para cada tipo de variable. Es necesario aclarar que se va ha hacer uso de la libreria Category Encoders parael procesamiento de variables categoricas y categoricas ordinales"
   ]
  },
  {
   "cell_type": "code",
   "execution_count": 8,
   "metadata": {},
   "outputs": [
    {
     "data": {
      "text/plain": [
       "array([[0.30769231, 0.        ],\n",
       "       [0.23076923, 0.25      ],\n",
       "       [0.23076923, 0.16666667],\n",
       "       [0.38461538, 0.        ],\n",
       "       [0.23076923, 0.08333333]])"
      ]
     },
     "execution_count": 8,
     "metadata": {},
     "output_type": "execute_result"
    }
   ],
   "source": [
    "pipeline_numerico = Pipeline([\n",
    "    [\"selector_numerico\", ColumnExtractor(columns=col_numericas)],\n",
    "    [\"transformador_numerico\", Pipeline([\n",
    "        (\"imputador_numerico\", SimpleImputer(missing_values=np.nan, strategy='mean')),\n",
    "        (\"escalador_numerico\", preprocessing.MinMaxScaler())\n",
    "    ])]\n",
    "])\n",
    "pipeline_numerico.fit_transform(consumidores)[:5]"
   ]
  },
  {
   "cell_type": "markdown",
   "metadata": {},
   "source": [
    "Ahora se procede a crear el pipeline categorico"
   ]
  },
  {
   "cell_type": "code",
   "execution_count": 9,
   "metadata": {},
   "outputs": [
    {
     "data": {
      "text/html": [
       "<div>\n",
       "<style scoped>\n",
       "    .dataframe tbody tr th:only-of-type {\n",
       "        vertical-align: middle;\n",
       "    }\n",
       "\n",
       "    .dataframe tbody tr th {\n",
       "        vertical-align: top;\n",
       "    }\n",
       "\n",
       "    .dataframe thead th {\n",
       "        text-align: right;\n",
       "    }\n",
       "</style>\n",
       "<table border=\"1\" class=\"dataframe\">\n",
       "  <thead>\n",
       "    <tr style=\"text-align: right;\">\n",
       "      <th></th>\n",
       "      <th>g_01_a_num_familiares_consumen_sp_imp_tipo_1</th>\n",
       "      <th>g_01_a_num_familiares_consumen_sp_imp_tipo_2</th>\n",
       "      <th>g_01_a_num_familiares_consumen_sp_imp_tipo_3</th>\n",
       "      <th>d_11_n_conocimiento_riesgo_fumar_basuco_frecuentemente_tipo_1</th>\n",
       "      <th>d_11_n_conocimiento_riesgo_fumar_basuco_frecuentemente_tipo_2</th>\n",
       "      <th>d_11_n_conocimiento_riesgo_fumar_basuco_frecuentemente_tipo_3</th>\n",
       "      <th>d_11_n_conocimiento_riesgo_fumar_basuco_frecuentemente_tipo_4</th>\n",
       "      <th>d_11_n_conocimiento_riesgo_fumar_basuco_frecuentemente_tipo_5</th>\n",
       "      <th>vive_padre_hogar_tipo_1</th>\n",
       "      <th>vive_padre_hogar_tipo_2</th>\n",
       "      <th>...</th>\n",
       "      <th>g_06_b_posibilidad_conseguir_cocaina_tipo_1</th>\n",
       "      <th>g_06_b_posibilidad_conseguir_cocaina_tipo_2</th>\n",
       "      <th>g_06_b_posibilidad_conseguir_cocaina_tipo_3</th>\n",
       "      <th>g_06_b_posibilidad_conseguir_cocaina_tipo_4</th>\n",
       "      <th>g_07_alguien_ofrecio_comprar_probar_sp_tipo_1</th>\n",
       "      <th>g_07_alguien_ofrecio_comprar_probar_sp_tipo_2</th>\n",
       "      <th>g_06_a_posibilidad_conseguir_marihuana_tipo_1</th>\n",
       "      <th>g_06_a_posibilidad_conseguir_marihuana_tipo_2</th>\n",
       "      <th>g_06_a_posibilidad_conseguir_marihuana_tipo_3</th>\n",
       "      <th>g_06_a_posibilidad_conseguir_marihuana_tipo_4</th>\n",
       "    </tr>\n",
       "  </thead>\n",
       "  <tbody>\n",
       "    <tr>\n",
       "      <th>0</th>\n",
       "      <td>1</td>\n",
       "      <td>0</td>\n",
       "      <td>0</td>\n",
       "      <td>1</td>\n",
       "      <td>0</td>\n",
       "      <td>0</td>\n",
       "      <td>0</td>\n",
       "      <td>0</td>\n",
       "      <td>1</td>\n",
       "      <td>0</td>\n",
       "      <td>...</td>\n",
       "      <td>1</td>\n",
       "      <td>0</td>\n",
       "      <td>0</td>\n",
       "      <td>0</td>\n",
       "      <td>1</td>\n",
       "      <td>0</td>\n",
       "      <td>1</td>\n",
       "      <td>0</td>\n",
       "      <td>0</td>\n",
       "      <td>0</td>\n",
       "    </tr>\n",
       "    <tr>\n",
       "      <th>1</th>\n",
       "      <td>1</td>\n",
       "      <td>0</td>\n",
       "      <td>0</td>\n",
       "      <td>1</td>\n",
       "      <td>0</td>\n",
       "      <td>0</td>\n",
       "      <td>0</td>\n",
       "      <td>0</td>\n",
       "      <td>1</td>\n",
       "      <td>0</td>\n",
       "      <td>...</td>\n",
       "      <td>0</td>\n",
       "      <td>1</td>\n",
       "      <td>0</td>\n",
       "      <td>0</td>\n",
       "      <td>1</td>\n",
       "      <td>0</td>\n",
       "      <td>0</td>\n",
       "      <td>1</td>\n",
       "      <td>0</td>\n",
       "      <td>0</td>\n",
       "    </tr>\n",
       "    <tr>\n",
       "      <th>2</th>\n",
       "      <td>1</td>\n",
       "      <td>0</td>\n",
       "      <td>0</td>\n",
       "      <td>1</td>\n",
       "      <td>0</td>\n",
       "      <td>0</td>\n",
       "      <td>0</td>\n",
       "      <td>0</td>\n",
       "      <td>0</td>\n",
       "      <td>1</td>\n",
       "      <td>...</td>\n",
       "      <td>1</td>\n",
       "      <td>0</td>\n",
       "      <td>0</td>\n",
       "      <td>0</td>\n",
       "      <td>1</td>\n",
       "      <td>0</td>\n",
       "      <td>1</td>\n",
       "      <td>0</td>\n",
       "      <td>0</td>\n",
       "      <td>0</td>\n",
       "    </tr>\n",
       "    <tr>\n",
       "      <th>3</th>\n",
       "      <td>1</td>\n",
       "      <td>0</td>\n",
       "      <td>0</td>\n",
       "      <td>1</td>\n",
       "      <td>0</td>\n",
       "      <td>0</td>\n",
       "      <td>0</td>\n",
       "      <td>0</td>\n",
       "      <td>0</td>\n",
       "      <td>0</td>\n",
       "      <td>...</td>\n",
       "      <td>0</td>\n",
       "      <td>0</td>\n",
       "      <td>1</td>\n",
       "      <td>0</td>\n",
       "      <td>1</td>\n",
       "      <td>0</td>\n",
       "      <td>0</td>\n",
       "      <td>0</td>\n",
       "      <td>1</td>\n",
       "      <td>0</td>\n",
       "    </tr>\n",
       "    <tr>\n",
       "      <th>4</th>\n",
       "      <td>1</td>\n",
       "      <td>0</td>\n",
       "      <td>0</td>\n",
       "      <td>1</td>\n",
       "      <td>0</td>\n",
       "      <td>0</td>\n",
       "      <td>0</td>\n",
       "      <td>0</td>\n",
       "      <td>0</td>\n",
       "      <td>0</td>\n",
       "      <td>...</td>\n",
       "      <td>0</td>\n",
       "      <td>1</td>\n",
       "      <td>0</td>\n",
       "      <td>0</td>\n",
       "      <td>1</td>\n",
       "      <td>0</td>\n",
       "      <td>0</td>\n",
       "      <td>1</td>\n",
       "      <td>0</td>\n",
       "      <td>0</td>\n",
       "    </tr>\n",
       "  </tbody>\n",
       "</table>\n",
       "<p>5 rows × 137 columns</p>\n",
       "</div>"
      ],
      "text/plain": [
       "   g_01_a_num_familiares_consumen_sp_imp_tipo_1  \\\n",
       "0                                             1   \n",
       "1                                             1   \n",
       "2                                             1   \n",
       "3                                             1   \n",
       "4                                             1   \n",
       "\n",
       "   g_01_a_num_familiares_consumen_sp_imp_tipo_2  \\\n",
       "0                                             0   \n",
       "1                                             0   \n",
       "2                                             0   \n",
       "3                                             0   \n",
       "4                                             0   \n",
       "\n",
       "   g_01_a_num_familiares_consumen_sp_imp_tipo_3  \\\n",
       "0                                             0   \n",
       "1                                             0   \n",
       "2                                             0   \n",
       "3                                             0   \n",
       "4                                             0   \n",
       "\n",
       "   d_11_n_conocimiento_riesgo_fumar_basuco_frecuentemente_tipo_1  \\\n",
       "0                                                  1               \n",
       "1                                                  1               \n",
       "2                                                  1               \n",
       "3                                                  1               \n",
       "4                                                  1               \n",
       "\n",
       "   d_11_n_conocimiento_riesgo_fumar_basuco_frecuentemente_tipo_2  \\\n",
       "0                                                  0               \n",
       "1                                                  0               \n",
       "2                                                  0               \n",
       "3                                                  0               \n",
       "4                                                  0               \n",
       "\n",
       "   d_11_n_conocimiento_riesgo_fumar_basuco_frecuentemente_tipo_3  \\\n",
       "0                                                  0               \n",
       "1                                                  0               \n",
       "2                                                  0               \n",
       "3                                                  0               \n",
       "4                                                  0               \n",
       "\n",
       "   d_11_n_conocimiento_riesgo_fumar_basuco_frecuentemente_tipo_4  \\\n",
       "0                                                  0               \n",
       "1                                                  0               \n",
       "2                                                  0               \n",
       "3                                                  0               \n",
       "4                                                  0               \n",
       "\n",
       "   d_11_n_conocimiento_riesgo_fumar_basuco_frecuentemente_tipo_5  \\\n",
       "0                                                  0               \n",
       "1                                                  0               \n",
       "2                                                  0               \n",
       "3                                                  0               \n",
       "4                                                  0               \n",
       "\n",
       "   vive_padre_hogar_tipo_1  vive_padre_hogar_tipo_2  ...  \\\n",
       "0                        1                        0  ...   \n",
       "1                        1                        0  ...   \n",
       "2                        0                        1  ...   \n",
       "3                        0                        0  ...   \n",
       "4                        0                        0  ...   \n",
       "\n",
       "   g_06_b_posibilidad_conseguir_cocaina_tipo_1  \\\n",
       "0                                            1   \n",
       "1                                            0   \n",
       "2                                            1   \n",
       "3                                            0   \n",
       "4                                            0   \n",
       "\n",
       "   g_06_b_posibilidad_conseguir_cocaina_tipo_2  \\\n",
       "0                                            0   \n",
       "1                                            1   \n",
       "2                                            0   \n",
       "3                                            0   \n",
       "4                                            1   \n",
       "\n",
       "   g_06_b_posibilidad_conseguir_cocaina_tipo_3  \\\n",
       "0                                            0   \n",
       "1                                            0   \n",
       "2                                            0   \n",
       "3                                            1   \n",
       "4                                            0   \n",
       "\n",
       "   g_06_b_posibilidad_conseguir_cocaina_tipo_4  \\\n",
       "0                                            0   \n",
       "1                                            0   \n",
       "2                                            0   \n",
       "3                                            0   \n",
       "4                                            0   \n",
       "\n",
       "   g_07_alguien_ofrecio_comprar_probar_sp_tipo_1  \\\n",
       "0                                              1   \n",
       "1                                              1   \n",
       "2                                              1   \n",
       "3                                              1   \n",
       "4                                              1   \n",
       "\n",
       "   g_07_alguien_ofrecio_comprar_probar_sp_tipo_2  \\\n",
       "0                                              0   \n",
       "1                                              0   \n",
       "2                                              0   \n",
       "3                                              0   \n",
       "4                                              0   \n",
       "\n",
       "   g_06_a_posibilidad_conseguir_marihuana_tipo_1  \\\n",
       "0                                              1   \n",
       "1                                              0   \n",
       "2                                              1   \n",
       "3                                              0   \n",
       "4                                              0   \n",
       "\n",
       "   g_06_a_posibilidad_conseguir_marihuana_tipo_2  \\\n",
       "0                                              0   \n",
       "1                                              1   \n",
       "2                                              0   \n",
       "3                                              0   \n",
       "4                                              1   \n",
       "\n",
       "   g_06_a_posibilidad_conseguir_marihuana_tipo_3  \\\n",
       "0                                              0   \n",
       "1                                              0   \n",
       "2                                              0   \n",
       "3                                              1   \n",
       "4                                              0   \n",
       "\n",
       "   g_06_a_posibilidad_conseguir_marihuana_tipo_4  \n",
       "0                                              0  \n",
       "1                                              0  \n",
       "2                                              0  \n",
       "3                                              0  \n",
       "4                                              0  \n",
       "\n",
       "[5 rows x 137 columns]"
      ]
     },
     "execution_count": 9,
     "metadata": {},
     "output_type": "execute_result"
    }
   ],
   "source": [
    "pipeline_categorico = Pipeline([\n",
    "    (\"selector_categorica\", ColumnExtractor(\n",
    "        columns=col_categoricas,\n",
    "        output_type=\"dataframe\")),\n",
    "    (\"transformador_categorico\", OneHotEncoder(\n",
    "        cols=col_categoricas, handle_unknown=\"impute\")),\n",
    "])\n",
    "pipeline_categorico.fit_transform(consumidores)[:5]"
   ]
  },
  {
   "cell_type": "markdown",
   "metadata": {},
   "source": [
    "`category_encoders.OrdinalEncoders` requiere un mapeado específico para cada columna, indicando el número por el que queremos reemplazar cada nivel de cada variable ordinal. Si no especificamos un mapa, asume que el orden es aleatorio."
   ]
  },
  {
   "cell_type": "code",
   "execution_count": 10,
   "metadata": {
    "scrolled": true
   },
   "outputs": [],
   "source": [
    "niveles_ordinales = []\n",
    "for col, levels in dict_var_ordinales.items():\n",
    "    niveles_ordinales.append({\"col\": col, \n",
    "                              \"mapping\": dict(zip(levels, range(len(levels))))})"
   ]
  },
  {
   "cell_type": "code",
   "execution_count": 11,
   "metadata": {
    "scrolled": true
   },
   "outputs": [
    {
     "data": {
      "text/html": [
       "<div>\n",
       "<style scoped>\n",
       "    .dataframe tbody tr th:only-of-type {\n",
       "        vertical-align: middle;\n",
       "    }\n",
       "\n",
       "    .dataframe tbody tr th {\n",
       "        vertical-align: top;\n",
       "    }\n",
       "\n",
       "    .dataframe thead th {\n",
       "        text-align: right;\n",
       "    }\n",
       "</style>\n",
       "<table border=\"1\" class=\"dataframe\">\n",
       "  <thead>\n",
       "    <tr style=\"text-align: right;\">\n",
       "      <th></th>\n",
       "      <th>per_edad_tipo</th>\n",
       "      <th>estrato_tipo</th>\n",
       "      <th>d_08_estado_salud_tipo</th>\n",
       "      <th>frecuencia_consumo_marihuana_tipo</th>\n",
       "      <th>frecuencia_consumo_cocaina_tipo</th>\n",
       "      <th>frecuencia_consumo_basuco_tipo</th>\n",
       "    </tr>\n",
       "  </thead>\n",
       "  <tbody>\n",
       "    <tr>\n",
       "      <th>0</th>\n",
       "      <td>1</td>\n",
       "      <td>0</td>\n",
       "      <td>1</td>\n",
       "      <td>0</td>\n",
       "      <td>0</td>\n",
       "      <td>0</td>\n",
       "    </tr>\n",
       "    <tr>\n",
       "      <th>1</th>\n",
       "      <td>2</td>\n",
       "      <td>0</td>\n",
       "      <td>2</td>\n",
       "      <td>0</td>\n",
       "      <td>0</td>\n",
       "      <td>0</td>\n",
       "    </tr>\n",
       "    <tr>\n",
       "      <th>2</th>\n",
       "      <td>2</td>\n",
       "      <td>0</td>\n",
       "      <td>3</td>\n",
       "      <td>0</td>\n",
       "      <td>0</td>\n",
       "      <td>0</td>\n",
       "    </tr>\n",
       "    <tr>\n",
       "      <th>3</th>\n",
       "      <td>2</td>\n",
       "      <td>2</td>\n",
       "      <td>3</td>\n",
       "      <td>0</td>\n",
       "      <td>0</td>\n",
       "      <td>0</td>\n",
       "    </tr>\n",
       "    <tr>\n",
       "      <th>4</th>\n",
       "      <td>1</td>\n",
       "      <td>0</td>\n",
       "      <td>3</td>\n",
       "      <td>0</td>\n",
       "      <td>0</td>\n",
       "      <td>0</td>\n",
       "    </tr>\n",
       "  </tbody>\n",
       "</table>\n",
       "</div>"
      ],
      "text/plain": [
       "   per_edad_tipo  estrato_tipo  d_08_estado_salud_tipo  \\\n",
       "0              1             0                       1   \n",
       "1              2             0                       2   \n",
       "2              2             0                       3   \n",
       "3              2             2                       3   \n",
       "4              1             0                       3   \n",
       "\n",
       "   frecuencia_consumo_marihuana_tipo  frecuencia_consumo_cocaina_tipo  \\\n",
       "0                                  0                                0   \n",
       "1                                  0                                0   \n",
       "2                                  0                                0   \n",
       "3                                  0                                0   \n",
       "4                                  0                                0   \n",
       "\n",
       "   frecuencia_consumo_basuco_tipo  \n",
       "0                               0  \n",
       "1                               0  \n",
       "2                               0  \n",
       "3                               0  \n",
       "4                               0  "
      ]
     },
     "execution_count": 11,
     "metadata": {},
     "output_type": "execute_result"
    }
   ],
   "source": [
    "pipeline_ordinal = Pipeline([\n",
    "    (\"selector_ordinal\", ColumnExtractor(columns=col_ordinales, output_type=\"dataframe\")),\n",
    "    (\"transformador_ordinal\", OrdinalEncoder(mapping=niveles_ordinales))\n",
    "])\n",
    "pipeline_ordinal.fit_transform(consumidores)[:5]"
   ]
  },
  {
   "cell_type": "markdown",
   "metadata": {},
   "source": [
    "Ya tenemos una manera de, dado un conjunto de datos, separarlos y aplicar distintas transformaciones a cada variable. Nos falta una manera de, una vez se han transformado, reunirlas de nuevo."
   ]
  },
  {
   "cell_type": "markdown",
   "metadata": {},
   "source": [
    "Para ello podemos usar `FeatureUnion`, que simplemente toma un conjunto de pasos de un pipeline y los une."
   ]
  },
  {
   "cell_type": "code",
   "execution_count": 12,
   "metadata": {},
   "outputs": [],
   "source": [
    "pipeline_procesado = FeatureUnion([\n",
    "    ('variables_numericas', pipeline_numerico),\n",
    "    ('variables_ordinales', pipeline_ordinal),\n",
    "    ('variables_categoricas', pipeline_categorico),\n",
    "])"
   ]
  },
  {
   "cell_type": "code",
   "execution_count": 13,
   "metadata": {},
   "outputs": [
    {
     "data": {
      "text/html": [
       "<style>#sk-container-id-1 {color: black;}#sk-container-id-1 pre{padding: 0;}#sk-container-id-1 div.sk-toggleable {background-color: white;}#sk-container-id-1 label.sk-toggleable__label {cursor: pointer;display: block;width: 100%;margin-bottom: 0;padding: 0.3em;box-sizing: border-box;text-align: center;}#sk-container-id-1 label.sk-toggleable__label-arrow:before {content: \"▸\";float: left;margin-right: 0.25em;color: #696969;}#sk-container-id-1 label.sk-toggleable__label-arrow:hover:before {color: black;}#sk-container-id-1 div.sk-estimator:hover label.sk-toggleable__label-arrow:before {color: black;}#sk-container-id-1 div.sk-toggleable__content {max-height: 0;max-width: 0;overflow: hidden;text-align: left;background-color: #f0f8ff;}#sk-container-id-1 div.sk-toggleable__content pre {margin: 0.2em;color: black;border-radius: 0.25em;background-color: #f0f8ff;}#sk-container-id-1 input.sk-toggleable__control:checked~div.sk-toggleable__content {max-height: 200px;max-width: 100%;overflow: auto;}#sk-container-id-1 input.sk-toggleable__control:checked~label.sk-toggleable__label-arrow:before {content: \"▾\";}#sk-container-id-1 div.sk-estimator input.sk-toggleable__control:checked~label.sk-toggleable__label {background-color: #d4ebff;}#sk-container-id-1 div.sk-label input.sk-toggleable__control:checked~label.sk-toggleable__label {background-color: #d4ebff;}#sk-container-id-1 input.sk-hidden--visually {border: 0;clip: rect(1px 1px 1px 1px);clip: rect(1px, 1px, 1px, 1px);height: 1px;margin: -1px;overflow: hidden;padding: 0;position: absolute;width: 1px;}#sk-container-id-1 div.sk-estimator {font-family: monospace;background-color: #f0f8ff;border: 1px dotted black;border-radius: 0.25em;box-sizing: border-box;margin-bottom: 0.5em;}#sk-container-id-1 div.sk-estimator:hover {background-color: #d4ebff;}#sk-container-id-1 div.sk-parallel-item::after {content: \"\";width: 100%;border-bottom: 1px solid gray;flex-grow: 1;}#sk-container-id-1 div.sk-label:hover label.sk-toggleable__label {background-color: #d4ebff;}#sk-container-id-1 div.sk-serial::before {content: \"\";position: absolute;border-left: 1px solid gray;box-sizing: border-box;top: 0;bottom: 0;left: 50%;z-index: 0;}#sk-container-id-1 div.sk-serial {display: flex;flex-direction: column;align-items: center;background-color: white;padding-right: 0.2em;padding-left: 0.2em;position: relative;}#sk-container-id-1 div.sk-item {position: relative;z-index: 1;}#sk-container-id-1 div.sk-parallel {display: flex;align-items: stretch;justify-content: center;background-color: white;position: relative;}#sk-container-id-1 div.sk-item::before, #sk-container-id-1 div.sk-parallel-item::before {content: \"\";position: absolute;border-left: 1px solid gray;box-sizing: border-box;top: 0;bottom: 0;left: 50%;z-index: -1;}#sk-container-id-1 div.sk-parallel-item {display: flex;flex-direction: column;z-index: 1;position: relative;background-color: white;}#sk-container-id-1 div.sk-parallel-item:first-child::after {align-self: flex-end;width: 50%;}#sk-container-id-1 div.sk-parallel-item:last-child::after {align-self: flex-start;width: 50%;}#sk-container-id-1 div.sk-parallel-item:only-child::after {width: 0;}#sk-container-id-1 div.sk-dashed-wrapped {border: 1px dashed gray;margin: 0 0.4em 0.5em 0.4em;box-sizing: border-box;padding-bottom: 0.4em;background-color: white;}#sk-container-id-1 div.sk-label label {font-family: monospace;font-weight: bold;display: inline-block;line-height: 1.2em;}#sk-container-id-1 div.sk-label-container {text-align: center;}#sk-container-id-1 div.sk-container {/* jupyter's `normalize.less` sets `[hidden] { display: none; }` but bootstrap.min.css set `[hidden] { display: none !important; }` so we also need the `!important` here to be able to override the default hidden behavior on the sphinx rendered scikit-learn.org. See: https://github.com/scikit-learn/scikit-learn/issues/21755 */display: inline-block !important;position: relative;}#sk-container-id-1 div.sk-text-repr-fallback {display: none;}</style><div id=\"sk-container-id-1\" class=\"sk-top-container\"><div class=\"sk-text-repr-fallback\"><pre>FeatureUnion(transformer_list=[(&#x27;variables_numericas&#x27;,\n",
       "                                Pipeline(steps=[(&#x27;selector_numerico&#x27;,\n",
       "                                                 ColumnExtractor(columns=Index([&#x27;residentes_hogar&#x27;, &#x27;d2_04_num_hijos&#x27;], dtype=&#x27;object&#x27;))),\n",
       "                                                [&#x27;transformador_numerico&#x27;,\n",
       "                                                 Pipeline(steps=[(&#x27;imputador_numerico&#x27;,\n",
       "                                                                  SimpleImputer()),\n",
       "                                                                 (&#x27;escalador_numerico&#x27;,\n",
       "                                                                  MinMaxScaler())])]])),\n",
       "                               (&#x27;variables_ordinales&#x27;,\n",
       "                                Pipeline(steps=[(&#x27;select...\n",
       "                                                                     &#x27;g_06_c_posibilidad_conseguir_basuco_tipo&#x27;,\n",
       "                                                                     &#x27;d_01_aporta_dinero_hogar_tipo&#x27;,\n",
       "                                                                     &#x27;g_08_b_ofrecieron_cocaina_imp_tipo&#x27;,\n",
       "                                                                     &#x27;d_12_c_presenta_problema_expendio_sp_barrio_tipo&#x27;,\n",
       "                                                                     &#x27;d2_01_etnia_tipo&#x27;,\n",
       "                                                                     &#x27;d_10_poco_interes_tipo&#x27;,\n",
       "                                                                     &#x27;d2_05_nivel_educativo_tipo&#x27;,\n",
       "                                                                     &#x27;g_06_b_posibilidad_conseguir_cocaina_tipo&#x27;,\n",
       "                                                                     &#x27;g_07_alguien_ofrecio_comprar_probar_sp_tipo&#x27;, ...],\n",
       "                                                               handle_unknown=&#x27;impute&#x27;))]))])</pre><b>In a Jupyter environment, please rerun this cell to show the HTML representation or trust the notebook. <br />On GitHub, the HTML representation is unable to render, please try loading this page with nbviewer.org.</b></div><div class=\"sk-container\" hidden><div class=\"sk-item sk-dashed-wrapped\"><div class=\"sk-label-container\"><div class=\"sk-label sk-toggleable\"><input class=\"sk-toggleable__control sk-hidden--visually\" id=\"sk-estimator-id-1\" type=\"checkbox\" ><label for=\"sk-estimator-id-1\" class=\"sk-toggleable__label sk-toggleable__label-arrow\">FeatureUnion</label><div class=\"sk-toggleable__content\"><pre>FeatureUnion(transformer_list=[(&#x27;variables_numericas&#x27;,\n",
       "                                Pipeline(steps=[(&#x27;selector_numerico&#x27;,\n",
       "                                                 ColumnExtractor(columns=Index([&#x27;residentes_hogar&#x27;, &#x27;d2_04_num_hijos&#x27;], dtype=&#x27;object&#x27;))),\n",
       "                                                [&#x27;transformador_numerico&#x27;,\n",
       "                                                 Pipeline(steps=[(&#x27;imputador_numerico&#x27;,\n",
       "                                                                  SimpleImputer()),\n",
       "                                                                 (&#x27;escalador_numerico&#x27;,\n",
       "                                                                  MinMaxScaler())])]])),\n",
       "                               (&#x27;variables_ordinales&#x27;,\n",
       "                                Pipeline(steps=[(&#x27;select...\n",
       "                                                                     &#x27;g_06_c_posibilidad_conseguir_basuco_tipo&#x27;,\n",
       "                                                                     &#x27;d_01_aporta_dinero_hogar_tipo&#x27;,\n",
       "                                                                     &#x27;g_08_b_ofrecieron_cocaina_imp_tipo&#x27;,\n",
       "                                                                     &#x27;d_12_c_presenta_problema_expendio_sp_barrio_tipo&#x27;,\n",
       "                                                                     &#x27;d2_01_etnia_tipo&#x27;,\n",
       "                                                                     &#x27;d_10_poco_interes_tipo&#x27;,\n",
       "                                                                     &#x27;d2_05_nivel_educativo_tipo&#x27;,\n",
       "                                                                     &#x27;g_06_b_posibilidad_conseguir_cocaina_tipo&#x27;,\n",
       "                                                                     &#x27;g_07_alguien_ofrecio_comprar_probar_sp_tipo&#x27;, ...],\n",
       "                                                               handle_unknown=&#x27;impute&#x27;))]))])</pre></div></div></div><div class=\"sk-parallel\"><div class=\"sk-parallel-item\"><div class=\"sk-item\"><div class=\"sk-label-container\"><div class=\"sk-label sk-toggleable\"><label>variables_numericas</label></div></div><div class=\"sk-serial\"><div class=\"sk-item\"><div class=\"sk-serial\"><div class=\"sk-item\"><div class=\"sk-estimator sk-toggleable\"><input class=\"sk-toggleable__control sk-hidden--visually\" id=\"sk-estimator-id-2\" type=\"checkbox\" ><label for=\"sk-estimator-id-2\" class=\"sk-toggleable__label sk-toggleable__label-arrow\">ColumnExtractor</label><div class=\"sk-toggleable__content\"><pre>ColumnExtractor(columns=Index([&#x27;residentes_hogar&#x27;, &#x27;d2_04_num_hijos&#x27;], dtype=&#x27;object&#x27;))</pre></div></div></div><div class=\"sk-item\"><div class=\"sk-label-container\"><div class=\"sk-label sk-toggleable\"><input class=\"sk-toggleable__control sk-hidden--visually\" id=\"sk-estimator-id-3\" type=\"checkbox\" ><label for=\"sk-estimator-id-3\" class=\"sk-toggleable__label sk-toggleable__label-arrow\">transformador_numerico: Pipeline</label><div class=\"sk-toggleable__content\"><pre>Pipeline(steps=[(&#x27;imputador_numerico&#x27;, SimpleImputer()),\n",
       "                (&#x27;escalador_numerico&#x27;, MinMaxScaler())])</pre></div></div></div><div class=\"sk-serial\"><div class=\"sk-item\"><div class=\"sk-estimator sk-toggleable\"><input class=\"sk-toggleable__control sk-hidden--visually\" id=\"sk-estimator-id-4\" type=\"checkbox\" ><label for=\"sk-estimator-id-4\" class=\"sk-toggleable__label sk-toggleable__label-arrow\">SimpleImputer</label><div class=\"sk-toggleable__content\"><pre>SimpleImputer()</pre></div></div></div><div class=\"sk-item\"><div class=\"sk-estimator sk-toggleable\"><input class=\"sk-toggleable__control sk-hidden--visually\" id=\"sk-estimator-id-5\" type=\"checkbox\" ><label for=\"sk-estimator-id-5\" class=\"sk-toggleable__label sk-toggleable__label-arrow\">MinMaxScaler</label><div class=\"sk-toggleable__content\"><pre>MinMaxScaler()</pre></div></div></div></div></div></div></div></div></div></div><div class=\"sk-parallel-item\"><div class=\"sk-item\"><div class=\"sk-label-container\"><div class=\"sk-label sk-toggleable\"><label>variables_ordinales</label></div></div><div class=\"sk-serial\"><div class=\"sk-item\"><div class=\"sk-serial\"><div class=\"sk-item\"><div class=\"sk-estimator sk-toggleable\"><input class=\"sk-toggleable__control sk-hidden--visually\" id=\"sk-estimator-id-6\" type=\"checkbox\" ><label for=\"sk-estimator-id-6\" class=\"sk-toggleable__label sk-toggleable__label-arrow\">ColumnExtractor</label><div class=\"sk-toggleable__content\"><pre>ColumnExtractor(columns=[&#x27;per_edad_tipo&#x27;, &#x27;estrato_tipo&#x27;,\n",
       "                         &#x27;d_08_estado_salud_tipo&#x27;,\n",
       "                         &#x27;frecuencia_consumo_marihuana_tipo&#x27;,\n",
       "                         &#x27;frecuencia_consumo_cocaina_tipo&#x27;,\n",
       "                         &#x27;frecuencia_consumo_basuco_tipo&#x27;],\n",
       "                output_type=&#x27;dataframe&#x27;)</pre></div></div></div><div class=\"sk-item\"><div class=\"sk-estimator sk-toggleable\"><input class=\"sk-toggleable__control sk-hidden--visually\" id=\"sk-estimator-id-7\" type=\"checkbox\" ><label for=\"sk-estimator-id-7\" class=\"sk-toggleable__label sk-toggleable__label-arrow\">OrdinalEncoder</label><div class=\"sk-toggleable__content\"><pre>OrdinalEncoder(cols=[&#x27;per_edad_tipo&#x27;, &#x27;estrato_tipo&#x27;, &#x27;d_08_estado_salud_tipo&#x27;,\n",
       "                     &#x27;frecuencia_consumo_marihuana_tipo&#x27;,\n",
       "                     &#x27;frecuencia_consumo_cocaina_tipo&#x27;,\n",
       "                     &#x27;frecuencia_consumo_basuco_tipo&#x27;],\n",
       "               mapping=[{&#x27;col&#x27;: &#x27;per_edad_tipo&#x27;, &#x27;data_type&#x27;: dtype(&#x27;O&#x27;),\n",
       "                         &#x27;mapping&#x27;: Adolescente      0\n",
       "Joven            1\n",
       "Adulto           2\n",
       "Persona mayor    3\n",
       "dtype: int64},\n",
       "                        {&#x27;col&#x27;: &#x27;estrato_tipo&#x27;, &#x27;data_type&#x27;: dtype(&#x27;O&#x27;),\n",
       "                         &#x27;mapping...\n",
       "Una vez en el año                             2\n",
       "Algunas veces durante los últimos 12 meses    3\n",
       "Algunas veces mensualmente                    4\n",
       "Algunas veces semanalmente                    5\n",
       "Diariamente                                   6\n",
       "dtype: int64},\n",
       "                        {&#x27;col&#x27;: &#x27;frecuencia_consumo_basuco_tipo&#x27;,\n",
       "                         &#x27;data_type&#x27;: dtype(&#x27;O&#x27;),\n",
       "                         &#x27;mapping&#x27;: Nunca                                         0\n",
       "Alguna vez en su vida                         1\n",
       "Una vez en el año                             2\n",
       "Algunas veces durante los últimos 12 meses    3\n",
       "Algunas veces mensualmente                    4\n",
       "Algunas veces semanalmente                    5\n",
       "Diariamente                                   6\n",
       "dtype: int64}])</pre></div></div></div></div></div></div></div></div><div class=\"sk-parallel-item\"><div class=\"sk-item\"><div class=\"sk-label-container\"><div class=\"sk-label sk-toggleable\"><label>variables_categoricas</label></div></div><div class=\"sk-serial\"><div class=\"sk-item\"><div class=\"sk-serial\"><div class=\"sk-item\"><div class=\"sk-estimator sk-toggleable\"><input class=\"sk-toggleable__control sk-hidden--visually\" id=\"sk-estimator-id-8\" type=\"checkbox\" ><label for=\"sk-estimator-id-8\" class=\"sk-toggleable__label sk-toggleable__label-arrow\">ColumnExtractor</label><div class=\"sk-toggleable__content\"><pre>ColumnExtractor(columns=[&#x27;g_01_a_num_familiares_consumen_sp_imp_tipo&#x27;,\n",
       "                         &#x27;d_11_n_conocimiento_riesgo_fumar_basuco_frecuentemente_tipo&#x27;,\n",
       "                         &#x27;vive_padre_hogar_tipo&#x27;,\n",
       "                         &#x27;g_02_amigos_consumen_sp_tipo&#x27;, &#x27;d_09_deprimido_tipo&#x27;,\n",
       "                         &#x27;g_02_a_num_amigos_consumen_sp_imp_tipo&#x27;,\n",
       "                         &#x27;d_11_h_conocimiento_riesgo_fumar_marihuana_frecuentemente_tipo&#x27;,\n",
       "                         &#x27;departamento&#x27;, &#x27;g_01_familiares_con...\n",
       "                         &#x27;g_06_c_posibilidad_conseguir_basuco_tipo&#x27;,\n",
       "                         &#x27;d_01_aporta_dinero_hogar_tipo&#x27;,\n",
       "                         &#x27;g_08_b_ofrecieron_cocaina_imp_tipo&#x27;,\n",
       "                         &#x27;d_12_c_presenta_problema_expendio_sp_barrio_tipo&#x27;,\n",
       "                         &#x27;d2_01_etnia_tipo&#x27;, &#x27;d_10_poco_interes_tipo&#x27;,\n",
       "                         &#x27;d2_05_nivel_educativo_tipo&#x27;,\n",
       "                         &#x27;g_06_b_posibilidad_conseguir_cocaina_tipo&#x27;,\n",
       "                         &#x27;g_07_alguien_ofrecio_comprar_probar_sp_tipo&#x27;, ...],\n",
       "                output_type=&#x27;dataframe&#x27;)</pre></div></div></div><div class=\"sk-item\"><div class=\"sk-estimator sk-toggleable\"><input class=\"sk-toggleable__control sk-hidden--visually\" id=\"sk-estimator-id-9\" type=\"checkbox\" ><label for=\"sk-estimator-id-9\" class=\"sk-toggleable__label sk-toggleable__label-arrow\">OneHotEncoder</label><div class=\"sk-toggleable__content\"><pre>OneHotEncoder(cols=[&#x27;g_01_a_num_familiares_consumen_sp_imp_tipo&#x27;,\n",
       "                    &#x27;d_11_n_conocimiento_riesgo_fumar_basuco_frecuentemente_tipo&#x27;,\n",
       "                    &#x27;vive_padre_hogar_tipo&#x27;, &#x27;g_02_amigos_consumen_sp_tipo&#x27;,\n",
       "                    &#x27;d_09_deprimido_tipo&#x27;,\n",
       "                    &#x27;g_02_a_num_amigos_consumen_sp_imp_tipo&#x27;,\n",
       "                    &#x27;d_11_h_conocimiento_riesgo_fumar_marihuana_frecuentemente_tipo&#x27;,\n",
       "                    &#x27;departamento&#x27;, &#x27;g_01_familiares_consumen...\n",
       "                    &#x27;g_06_c_posibilidad_conseguir_basuco_tipo&#x27;,\n",
       "                    &#x27;d_01_aporta_dinero_hogar_tipo&#x27;,\n",
       "                    &#x27;g_08_b_ofrecieron_cocaina_imp_tipo&#x27;,\n",
       "                    &#x27;d_12_c_presenta_problema_expendio_sp_barrio_tipo&#x27;,\n",
       "                    &#x27;d2_01_etnia_tipo&#x27;, &#x27;d_10_poco_interes_tipo&#x27;,\n",
       "                    &#x27;d2_05_nivel_educativo_tipo&#x27;,\n",
       "                    &#x27;g_06_b_posibilidad_conseguir_cocaina_tipo&#x27;,\n",
       "                    &#x27;g_07_alguien_ofrecio_comprar_probar_sp_tipo&#x27;, ...],\n",
       "              handle_unknown=&#x27;impute&#x27;)</pre></div></div></div></div></div></div></div></div></div></div></div></div>"
      ],
      "text/plain": [
       "FeatureUnion(transformer_list=[('variables_numericas',\n",
       "                                Pipeline(steps=[('selector_numerico',\n",
       "                                                 ColumnExtractor(columns=Index(['residentes_hogar', 'd2_04_num_hijos'], dtype='object'))),\n",
       "                                                ['transformador_numerico',\n",
       "                                                 Pipeline(steps=[('imputador_numerico',\n",
       "                                                                  SimpleImputer()),\n",
       "                                                                 ('escalador_numerico',\n",
       "                                                                  MinMaxScaler())])]])),\n",
       "                               ('variables_ordinales',\n",
       "                                Pipeline(steps=[('select...\n",
       "                                                                     'g_06_c_posibilidad_conseguir_basuco_tipo',\n",
       "                                                                     'd_01_aporta_dinero_hogar_tipo',\n",
       "                                                                     'g_08_b_ofrecieron_cocaina_imp_tipo',\n",
       "                                                                     'd_12_c_presenta_problema_expendio_sp_barrio_tipo',\n",
       "                                                                     'd2_01_etnia_tipo',\n",
       "                                                                     'd_10_poco_interes_tipo',\n",
       "                                                                     'd2_05_nivel_educativo_tipo',\n",
       "                                                                     'g_06_b_posibilidad_conseguir_cocaina_tipo',\n",
       "                                                                     'g_07_alguien_ofrecio_comprar_probar_sp_tipo', ...],\n",
       "                                                               handle_unknown='impute'))]))])"
      ]
     },
     "execution_count": 13,
     "metadata": {},
     "output_type": "execute_result"
    }
   ],
   "source": [
    "pipeline_procesado"
   ]
  },
  {
   "cell_type": "code",
   "execution_count": 14,
   "metadata": {},
   "outputs": [
    {
     "data": {
      "text/plain": [
       "(10000, 145)"
      ]
     },
     "execution_count": 14,
     "metadata": {},
     "output_type": "execute_result"
    }
   ],
   "source": [
    "consumidores_procesado = pipeline_procesado.fit_transform(consumidores)\n",
    "consumidores_procesado.shape"
   ]
  },
  {
   "cell_type": "markdown",
   "metadata": {},
   "source": [
    "Finalmente, necesitamos añadir un estimador al final para predecir en base a los datos transformados, pero primero se separa los datos en datos de entrenamiento y datos de test"
   ]
  },
  {
   "cell_type": "code",
   "execution_count": 15,
   "metadata": {},
   "outputs": [],
   "source": [
    "X_train, X_test, y_train, y_test = train_test_split(\n",
    "     consumidores[variables_independientes], consumidores[\"CatRiesgo\"],\n",
    "     test_size=0.20, random_state=42\n",
    ")"
   ]
  },
  {
   "cell_type": "code",
   "execution_count": 16,
   "metadata": {},
   "outputs": [],
   "source": [
    "estimador = RandomForestClassifier()"
   ]
  },
  {
   "cell_type": "markdown",
   "metadata": {},
   "source": [
    "Se debe realizar la separacion de datos en datos de entrenamiento y datos de test y ademas se debe establecer el estimador a usar en el modelo"
   ]
  },
  {
   "cell_type": "code",
   "execution_count": 17,
   "metadata": {},
   "outputs": [],
   "source": [
    "pipeline_estimador = Pipeline([\n",
    "    ('procesador', pipeline_procesado),\n",
    "    ('estimador', estimador)\n",
    "])"
   ]
  },
  {
   "cell_type": "markdown",
   "metadata": {},
   "source": [
    "Para el fit se pasan los datos que se obtienen de entrenamiento y para el predict los datos de test"
   ]
  },
  {
   "cell_type": "code",
   "execution_count": 18,
   "metadata": {},
   "outputs": [
    {
     "data": {
      "text/html": [
       "<style>#sk-container-id-2 {color: black;}#sk-container-id-2 pre{padding: 0;}#sk-container-id-2 div.sk-toggleable {background-color: white;}#sk-container-id-2 label.sk-toggleable__label {cursor: pointer;display: block;width: 100%;margin-bottom: 0;padding: 0.3em;box-sizing: border-box;text-align: center;}#sk-container-id-2 label.sk-toggleable__label-arrow:before {content: \"▸\";float: left;margin-right: 0.25em;color: #696969;}#sk-container-id-2 label.sk-toggleable__label-arrow:hover:before {color: black;}#sk-container-id-2 div.sk-estimator:hover label.sk-toggleable__label-arrow:before {color: black;}#sk-container-id-2 div.sk-toggleable__content {max-height: 0;max-width: 0;overflow: hidden;text-align: left;background-color: #f0f8ff;}#sk-container-id-2 div.sk-toggleable__content pre {margin: 0.2em;color: black;border-radius: 0.25em;background-color: #f0f8ff;}#sk-container-id-2 input.sk-toggleable__control:checked~div.sk-toggleable__content {max-height: 200px;max-width: 100%;overflow: auto;}#sk-container-id-2 input.sk-toggleable__control:checked~label.sk-toggleable__label-arrow:before {content: \"▾\";}#sk-container-id-2 div.sk-estimator input.sk-toggleable__control:checked~label.sk-toggleable__label {background-color: #d4ebff;}#sk-container-id-2 div.sk-label input.sk-toggleable__control:checked~label.sk-toggleable__label {background-color: #d4ebff;}#sk-container-id-2 input.sk-hidden--visually {border: 0;clip: rect(1px 1px 1px 1px);clip: rect(1px, 1px, 1px, 1px);height: 1px;margin: -1px;overflow: hidden;padding: 0;position: absolute;width: 1px;}#sk-container-id-2 div.sk-estimator {font-family: monospace;background-color: #f0f8ff;border: 1px dotted black;border-radius: 0.25em;box-sizing: border-box;margin-bottom: 0.5em;}#sk-container-id-2 div.sk-estimator:hover {background-color: #d4ebff;}#sk-container-id-2 div.sk-parallel-item::after {content: \"\";width: 100%;border-bottom: 1px solid gray;flex-grow: 1;}#sk-container-id-2 div.sk-label:hover label.sk-toggleable__label {background-color: #d4ebff;}#sk-container-id-2 div.sk-serial::before {content: \"\";position: absolute;border-left: 1px solid gray;box-sizing: border-box;top: 0;bottom: 0;left: 50%;z-index: 0;}#sk-container-id-2 div.sk-serial {display: flex;flex-direction: column;align-items: center;background-color: white;padding-right: 0.2em;padding-left: 0.2em;position: relative;}#sk-container-id-2 div.sk-item {position: relative;z-index: 1;}#sk-container-id-2 div.sk-parallel {display: flex;align-items: stretch;justify-content: center;background-color: white;position: relative;}#sk-container-id-2 div.sk-item::before, #sk-container-id-2 div.sk-parallel-item::before {content: \"\";position: absolute;border-left: 1px solid gray;box-sizing: border-box;top: 0;bottom: 0;left: 50%;z-index: -1;}#sk-container-id-2 div.sk-parallel-item {display: flex;flex-direction: column;z-index: 1;position: relative;background-color: white;}#sk-container-id-2 div.sk-parallel-item:first-child::after {align-self: flex-end;width: 50%;}#sk-container-id-2 div.sk-parallel-item:last-child::after {align-self: flex-start;width: 50%;}#sk-container-id-2 div.sk-parallel-item:only-child::after {width: 0;}#sk-container-id-2 div.sk-dashed-wrapped {border: 1px dashed gray;margin: 0 0.4em 0.5em 0.4em;box-sizing: border-box;padding-bottom: 0.4em;background-color: white;}#sk-container-id-2 div.sk-label label {font-family: monospace;font-weight: bold;display: inline-block;line-height: 1.2em;}#sk-container-id-2 div.sk-label-container {text-align: center;}#sk-container-id-2 div.sk-container {/* jupyter's `normalize.less` sets `[hidden] { display: none; }` but bootstrap.min.css set `[hidden] { display: none !important; }` so we also need the `!important` here to be able to override the default hidden behavior on the sphinx rendered scikit-learn.org. See: https://github.com/scikit-learn/scikit-learn/issues/21755 */display: inline-block !important;position: relative;}#sk-container-id-2 div.sk-text-repr-fallback {display: none;}</style><div id=\"sk-container-id-2\" class=\"sk-top-container\"><div class=\"sk-text-repr-fallback\"><pre>Pipeline(steps=[(&#x27;procesador&#x27;,\n",
       "                 FeatureUnion(transformer_list=[(&#x27;variables_numericas&#x27;,\n",
       "                                                 Pipeline(steps=[(&#x27;selector_numerico&#x27;,\n",
       "                                                                  ColumnExtractor(columns=Index([&#x27;residentes_hogar&#x27;, &#x27;d2_04_num_hijos&#x27;], dtype=&#x27;object&#x27;))),\n",
       "                                                                 [&#x27;transformador_numerico&#x27;,\n",
       "                                                                  Pipeline(steps=[(&#x27;imputador_numerico&#x27;,\n",
       "                                                                                   SimpleImputer()),\n",
       "                                                                                  (&#x27;escalador_numerico&#x27;,\n",
       "                                                                                   MinMaxScaler())])]])),\n",
       "                                                (&#x27;variables_ordin...\n",
       "                                                                                      &#x27;d_01_aporta_dinero_hogar_tipo&#x27;,\n",
       "                                                                                      &#x27;g_08_b_ofrecieron_cocaina_imp_tipo&#x27;,\n",
       "                                                                                      &#x27;d_12_c_presenta_problema_expendio_sp_barrio_tipo&#x27;,\n",
       "                                                                                      &#x27;d2_01_etnia_tipo&#x27;,\n",
       "                                                                                      &#x27;d_10_poco_interes_tipo&#x27;,\n",
       "                                                                                      &#x27;d2_05_nivel_educativo_tipo&#x27;,\n",
       "                                                                                      &#x27;g_06_b_posibilidad_conseguir_cocaina_tipo&#x27;,\n",
       "                                                                                      &#x27;g_07_alguien_ofrecio_comprar_probar_sp_tipo&#x27;, ...],\n",
       "                                                                                handle_unknown=&#x27;impute&#x27;))]))])),\n",
       "                (&#x27;estimador&#x27;, RandomForestClassifier())])</pre><b>In a Jupyter environment, please rerun this cell to show the HTML representation or trust the notebook. <br />On GitHub, the HTML representation is unable to render, please try loading this page with nbviewer.org.</b></div><div class=\"sk-container\" hidden><div class=\"sk-item sk-dashed-wrapped\"><div class=\"sk-label-container\"><div class=\"sk-label sk-toggleable\"><input class=\"sk-toggleable__control sk-hidden--visually\" id=\"sk-estimator-id-10\" type=\"checkbox\" ><label for=\"sk-estimator-id-10\" class=\"sk-toggleable__label sk-toggleable__label-arrow\">Pipeline</label><div class=\"sk-toggleable__content\"><pre>Pipeline(steps=[(&#x27;procesador&#x27;,\n",
       "                 FeatureUnion(transformer_list=[(&#x27;variables_numericas&#x27;,\n",
       "                                                 Pipeline(steps=[(&#x27;selector_numerico&#x27;,\n",
       "                                                                  ColumnExtractor(columns=Index([&#x27;residentes_hogar&#x27;, &#x27;d2_04_num_hijos&#x27;], dtype=&#x27;object&#x27;))),\n",
       "                                                                 [&#x27;transformador_numerico&#x27;,\n",
       "                                                                  Pipeline(steps=[(&#x27;imputador_numerico&#x27;,\n",
       "                                                                                   SimpleImputer()),\n",
       "                                                                                  (&#x27;escalador_numerico&#x27;,\n",
       "                                                                                   MinMaxScaler())])]])),\n",
       "                                                (&#x27;variables_ordin...\n",
       "                                                                                      &#x27;d_01_aporta_dinero_hogar_tipo&#x27;,\n",
       "                                                                                      &#x27;g_08_b_ofrecieron_cocaina_imp_tipo&#x27;,\n",
       "                                                                                      &#x27;d_12_c_presenta_problema_expendio_sp_barrio_tipo&#x27;,\n",
       "                                                                                      &#x27;d2_01_etnia_tipo&#x27;,\n",
       "                                                                                      &#x27;d_10_poco_interes_tipo&#x27;,\n",
       "                                                                                      &#x27;d2_05_nivel_educativo_tipo&#x27;,\n",
       "                                                                                      &#x27;g_06_b_posibilidad_conseguir_cocaina_tipo&#x27;,\n",
       "                                                                                      &#x27;g_07_alguien_ofrecio_comprar_probar_sp_tipo&#x27;, ...],\n",
       "                                                                                handle_unknown=&#x27;impute&#x27;))]))])),\n",
       "                (&#x27;estimador&#x27;, RandomForestClassifier())])</pre></div></div></div><div class=\"sk-serial\"><div class=\"sk-item sk-dashed-wrapped\"><div class=\"sk-label-container\"><div class=\"sk-label sk-toggleable\"><input class=\"sk-toggleable__control sk-hidden--visually\" id=\"sk-estimator-id-11\" type=\"checkbox\" ><label for=\"sk-estimator-id-11\" class=\"sk-toggleable__label sk-toggleable__label-arrow\">procesador: FeatureUnion</label><div class=\"sk-toggleable__content\"><pre>FeatureUnion(transformer_list=[(&#x27;variables_numericas&#x27;,\n",
       "                                Pipeline(steps=[(&#x27;selector_numerico&#x27;,\n",
       "                                                 ColumnExtractor(columns=Index([&#x27;residentes_hogar&#x27;, &#x27;d2_04_num_hijos&#x27;], dtype=&#x27;object&#x27;))),\n",
       "                                                [&#x27;transformador_numerico&#x27;,\n",
       "                                                 Pipeline(steps=[(&#x27;imputador_numerico&#x27;,\n",
       "                                                                  SimpleImputer()),\n",
       "                                                                 (&#x27;escalador_numerico&#x27;,\n",
       "                                                                  MinMaxScaler())])]])),\n",
       "                               (&#x27;variables_ordinales&#x27;,\n",
       "                                Pipeline(steps=[(&#x27;select...\n",
       "                                                                     &#x27;g_06_c_posibilidad_conseguir_basuco_tipo&#x27;,\n",
       "                                                                     &#x27;d_01_aporta_dinero_hogar_tipo&#x27;,\n",
       "                                                                     &#x27;g_08_b_ofrecieron_cocaina_imp_tipo&#x27;,\n",
       "                                                                     &#x27;d_12_c_presenta_problema_expendio_sp_barrio_tipo&#x27;,\n",
       "                                                                     &#x27;d2_01_etnia_tipo&#x27;,\n",
       "                                                                     &#x27;d_10_poco_interes_tipo&#x27;,\n",
       "                                                                     &#x27;d2_05_nivel_educativo_tipo&#x27;,\n",
       "                                                                     &#x27;g_06_b_posibilidad_conseguir_cocaina_tipo&#x27;,\n",
       "                                                                     &#x27;g_07_alguien_ofrecio_comprar_probar_sp_tipo&#x27;, ...],\n",
       "                                                               handle_unknown=&#x27;impute&#x27;))]))])</pre></div></div></div><div class=\"sk-parallel\"><div class=\"sk-parallel-item\"><div class=\"sk-item\"><div class=\"sk-label-container\"><div class=\"sk-label sk-toggleable\"><label>variables_numericas</label></div></div><div class=\"sk-serial\"><div class=\"sk-item\"><div class=\"sk-serial\"><div class=\"sk-item\"><div class=\"sk-estimator sk-toggleable\"><input class=\"sk-toggleable__control sk-hidden--visually\" id=\"sk-estimator-id-12\" type=\"checkbox\" ><label for=\"sk-estimator-id-12\" class=\"sk-toggleable__label sk-toggleable__label-arrow\">ColumnExtractor</label><div class=\"sk-toggleable__content\"><pre>ColumnExtractor(columns=Index([&#x27;residentes_hogar&#x27;, &#x27;d2_04_num_hijos&#x27;], dtype=&#x27;object&#x27;))</pre></div></div></div><div class=\"sk-item\"><div class=\"sk-label-container\"><div class=\"sk-label sk-toggleable\"><input class=\"sk-toggleable__control sk-hidden--visually\" id=\"sk-estimator-id-13\" type=\"checkbox\" ><label for=\"sk-estimator-id-13\" class=\"sk-toggleable__label sk-toggleable__label-arrow\">transformador_numerico: Pipeline</label><div class=\"sk-toggleable__content\"><pre>Pipeline(steps=[(&#x27;imputador_numerico&#x27;, SimpleImputer()),\n",
       "                (&#x27;escalador_numerico&#x27;, MinMaxScaler())])</pre></div></div></div><div class=\"sk-serial\"><div class=\"sk-item\"><div class=\"sk-estimator sk-toggleable\"><input class=\"sk-toggleable__control sk-hidden--visually\" id=\"sk-estimator-id-14\" type=\"checkbox\" ><label for=\"sk-estimator-id-14\" class=\"sk-toggleable__label sk-toggleable__label-arrow\">SimpleImputer</label><div class=\"sk-toggleable__content\"><pre>SimpleImputer()</pre></div></div></div><div class=\"sk-item\"><div class=\"sk-estimator sk-toggleable\"><input class=\"sk-toggleable__control sk-hidden--visually\" id=\"sk-estimator-id-15\" type=\"checkbox\" ><label for=\"sk-estimator-id-15\" class=\"sk-toggleable__label sk-toggleable__label-arrow\">MinMaxScaler</label><div class=\"sk-toggleable__content\"><pre>MinMaxScaler()</pre></div></div></div></div></div></div></div></div></div></div><div class=\"sk-parallel-item\"><div class=\"sk-item\"><div class=\"sk-label-container\"><div class=\"sk-label sk-toggleable\"><label>variables_ordinales</label></div></div><div class=\"sk-serial\"><div class=\"sk-item\"><div class=\"sk-serial\"><div class=\"sk-item\"><div class=\"sk-estimator sk-toggleable\"><input class=\"sk-toggleable__control sk-hidden--visually\" id=\"sk-estimator-id-16\" type=\"checkbox\" ><label for=\"sk-estimator-id-16\" class=\"sk-toggleable__label sk-toggleable__label-arrow\">ColumnExtractor</label><div class=\"sk-toggleable__content\"><pre>ColumnExtractor(columns=[&#x27;per_edad_tipo&#x27;, &#x27;estrato_tipo&#x27;,\n",
       "                         &#x27;d_08_estado_salud_tipo&#x27;,\n",
       "                         &#x27;frecuencia_consumo_marihuana_tipo&#x27;,\n",
       "                         &#x27;frecuencia_consumo_cocaina_tipo&#x27;,\n",
       "                         &#x27;frecuencia_consumo_basuco_tipo&#x27;],\n",
       "                output_type=&#x27;dataframe&#x27;)</pre></div></div></div><div class=\"sk-item\"><div class=\"sk-estimator sk-toggleable\"><input class=\"sk-toggleable__control sk-hidden--visually\" id=\"sk-estimator-id-17\" type=\"checkbox\" ><label for=\"sk-estimator-id-17\" class=\"sk-toggleable__label sk-toggleable__label-arrow\">OrdinalEncoder</label><div class=\"sk-toggleable__content\"><pre>OrdinalEncoder(cols=[&#x27;per_edad_tipo&#x27;, &#x27;estrato_tipo&#x27;, &#x27;d_08_estado_salud_tipo&#x27;,\n",
       "                     &#x27;frecuencia_consumo_marihuana_tipo&#x27;,\n",
       "                     &#x27;frecuencia_consumo_cocaina_tipo&#x27;,\n",
       "                     &#x27;frecuencia_consumo_basuco_tipo&#x27;],\n",
       "               mapping=[{&#x27;col&#x27;: &#x27;per_edad_tipo&#x27;, &#x27;data_type&#x27;: dtype(&#x27;O&#x27;),\n",
       "                         &#x27;mapping&#x27;: Adolescente      0\n",
       "Joven            1\n",
       "Adulto           2\n",
       "Persona mayor    3\n",
       "dtype: int64},\n",
       "                        {&#x27;col&#x27;: &#x27;estrato_tipo&#x27;, &#x27;data_type&#x27;: dtype(&#x27;O&#x27;),\n",
       "                         &#x27;mapping...\n",
       "Una vez en el año                             2\n",
       "Algunas veces durante los últimos 12 meses    3\n",
       "Algunas veces mensualmente                    4\n",
       "Algunas veces semanalmente                    5\n",
       "Diariamente                                   6\n",
       "dtype: int64},\n",
       "                        {&#x27;col&#x27;: &#x27;frecuencia_consumo_basuco_tipo&#x27;,\n",
       "                         &#x27;data_type&#x27;: dtype(&#x27;O&#x27;),\n",
       "                         &#x27;mapping&#x27;: Nunca                                         0\n",
       "Alguna vez en su vida                         1\n",
       "Una vez en el año                             2\n",
       "Algunas veces durante los últimos 12 meses    3\n",
       "Algunas veces mensualmente                    4\n",
       "Algunas veces semanalmente                    5\n",
       "Diariamente                                   6\n",
       "dtype: int64}])</pre></div></div></div></div></div></div></div></div><div class=\"sk-parallel-item\"><div class=\"sk-item\"><div class=\"sk-label-container\"><div class=\"sk-label sk-toggleable\"><label>variables_categoricas</label></div></div><div class=\"sk-serial\"><div class=\"sk-item\"><div class=\"sk-serial\"><div class=\"sk-item\"><div class=\"sk-estimator sk-toggleable\"><input class=\"sk-toggleable__control sk-hidden--visually\" id=\"sk-estimator-id-18\" type=\"checkbox\" ><label for=\"sk-estimator-id-18\" class=\"sk-toggleable__label sk-toggleable__label-arrow\">ColumnExtractor</label><div class=\"sk-toggleable__content\"><pre>ColumnExtractor(columns=[&#x27;g_01_a_num_familiares_consumen_sp_imp_tipo&#x27;,\n",
       "                         &#x27;d_11_n_conocimiento_riesgo_fumar_basuco_frecuentemente_tipo&#x27;,\n",
       "                         &#x27;vive_padre_hogar_tipo&#x27;,\n",
       "                         &#x27;g_02_amigos_consumen_sp_tipo&#x27;, &#x27;d_09_deprimido_tipo&#x27;,\n",
       "                         &#x27;g_02_a_num_amigos_consumen_sp_imp_tipo&#x27;,\n",
       "                         &#x27;d_11_h_conocimiento_riesgo_fumar_marihuana_frecuentemente_tipo&#x27;,\n",
       "                         &#x27;departamento&#x27;, &#x27;g_01_familiares_con...\n",
       "                         &#x27;g_06_c_posibilidad_conseguir_basuco_tipo&#x27;,\n",
       "                         &#x27;d_01_aporta_dinero_hogar_tipo&#x27;,\n",
       "                         &#x27;g_08_b_ofrecieron_cocaina_imp_tipo&#x27;,\n",
       "                         &#x27;d_12_c_presenta_problema_expendio_sp_barrio_tipo&#x27;,\n",
       "                         &#x27;d2_01_etnia_tipo&#x27;, &#x27;d_10_poco_interes_tipo&#x27;,\n",
       "                         &#x27;d2_05_nivel_educativo_tipo&#x27;,\n",
       "                         &#x27;g_06_b_posibilidad_conseguir_cocaina_tipo&#x27;,\n",
       "                         &#x27;g_07_alguien_ofrecio_comprar_probar_sp_tipo&#x27;, ...],\n",
       "                output_type=&#x27;dataframe&#x27;)</pre></div></div></div><div class=\"sk-item\"><div class=\"sk-estimator sk-toggleable\"><input class=\"sk-toggleable__control sk-hidden--visually\" id=\"sk-estimator-id-19\" type=\"checkbox\" ><label for=\"sk-estimator-id-19\" class=\"sk-toggleable__label sk-toggleable__label-arrow\">OneHotEncoder</label><div class=\"sk-toggleable__content\"><pre>OneHotEncoder(cols=[&#x27;g_01_a_num_familiares_consumen_sp_imp_tipo&#x27;,\n",
       "                    &#x27;d_11_n_conocimiento_riesgo_fumar_basuco_frecuentemente_tipo&#x27;,\n",
       "                    &#x27;vive_padre_hogar_tipo&#x27;, &#x27;g_02_amigos_consumen_sp_tipo&#x27;,\n",
       "                    &#x27;d_09_deprimido_tipo&#x27;,\n",
       "                    &#x27;g_02_a_num_amigos_consumen_sp_imp_tipo&#x27;,\n",
       "                    &#x27;d_11_h_conocimiento_riesgo_fumar_marihuana_frecuentemente_tipo&#x27;,\n",
       "                    &#x27;departamento&#x27;, &#x27;g_01_familiares_consumen...\n",
       "                    &#x27;g_06_c_posibilidad_conseguir_basuco_tipo&#x27;,\n",
       "                    &#x27;d_01_aporta_dinero_hogar_tipo&#x27;,\n",
       "                    &#x27;g_08_b_ofrecieron_cocaina_imp_tipo&#x27;,\n",
       "                    &#x27;d_12_c_presenta_problema_expendio_sp_barrio_tipo&#x27;,\n",
       "                    &#x27;d2_01_etnia_tipo&#x27;, &#x27;d_10_poco_interes_tipo&#x27;,\n",
       "                    &#x27;d2_05_nivel_educativo_tipo&#x27;,\n",
       "                    &#x27;g_06_b_posibilidad_conseguir_cocaina_tipo&#x27;,\n",
       "                    &#x27;g_07_alguien_ofrecio_comprar_probar_sp_tipo&#x27;, ...],\n",
       "              handle_unknown=&#x27;impute&#x27;)</pre></div></div></div></div></div></div></div></div></div></div><div class=\"sk-item\"><div class=\"sk-estimator sk-toggleable\"><input class=\"sk-toggleable__control sk-hidden--visually\" id=\"sk-estimator-id-20\" type=\"checkbox\" ><label for=\"sk-estimator-id-20\" class=\"sk-toggleable__label sk-toggleable__label-arrow\">RandomForestClassifier</label><div class=\"sk-toggleable__content\"><pre>RandomForestClassifier()</pre></div></div></div></div></div></div></div>"
      ],
      "text/plain": [
       "Pipeline(steps=[('procesador',\n",
       "                 FeatureUnion(transformer_list=[('variables_numericas',\n",
       "                                                 Pipeline(steps=[('selector_numerico',\n",
       "                                                                  ColumnExtractor(columns=Index(['residentes_hogar', 'd2_04_num_hijos'], dtype='object'))),\n",
       "                                                                 ['transformador_numerico',\n",
       "                                                                  Pipeline(steps=[('imputador_numerico',\n",
       "                                                                                   SimpleImputer()),\n",
       "                                                                                  ('escalador_numerico',\n",
       "                                                                                   MinMaxScaler())])]])),\n",
       "                                                ('variables_ordin...\n",
       "                                                                                      'd_01_aporta_dinero_hogar_tipo',\n",
       "                                                                                      'g_08_b_ofrecieron_cocaina_imp_tipo',\n",
       "                                                                                      'd_12_c_presenta_problema_expendio_sp_barrio_tipo',\n",
       "                                                                                      'd2_01_etnia_tipo',\n",
       "                                                                                      'd_10_poco_interes_tipo',\n",
       "                                                                                      'd2_05_nivel_educativo_tipo',\n",
       "                                                                                      'g_06_b_posibilidad_conseguir_cocaina_tipo',\n",
       "                                                                                      'g_07_alguien_ofrecio_comprar_probar_sp_tipo', ...],\n",
       "                                                                                handle_unknown='impute'))]))])),\n",
       "                ('estimador', RandomForestClassifier())])"
      ]
     },
     "execution_count": 18,
     "metadata": {},
     "output_type": "execute_result"
    }
   ],
   "source": [
    "pipeline_estimador.fit(X_train, y_train)"
   ]
  },
  {
   "cell_type": "code",
   "execution_count": 19,
   "metadata": {},
   "outputs": [],
   "source": [
    "predicciones = pipeline_estimador.predict(X_test)"
   ]
  },
  {
   "cell_type": "code",
   "execution_count": 20,
   "metadata": {},
   "outputs": [
    {
     "data": {
      "text/plain": [
       "array([0, 2, 0, ..., 2, 0, 4], dtype=int64)"
      ]
     },
     "execution_count": 20,
     "metadata": {},
     "output_type": "execute_result"
    }
   ],
   "source": [
    "predicciones"
   ]
  },
  {
   "cell_type": "markdown",
   "metadata": {},
   "source": [
    "Se evalua el modelo segun lo obtenido"
   ]
  },
  {
   "cell_type": "markdown",
   "metadata": {},
   "source": [
    "El beneficio de los pipelines, no solo es tener codigo mas legible y poder gestionar de forma ordenada todo el ciclo de vida del modelado, sino que los pipelines tienen todos los beneficios de los objetos de scikitlearn, por ejemplo, podemos usar validacion cruzada directamente con el pipeline."
   ]
  },
  {
   "cell_type": "code",
   "execution_count": 21,
   "metadata": {},
   "outputs": [],
   "source": [
    "resultados = {}\n",
    "\n",
    "def exactitud_multietiqueta(estimador, X, y):\n",
    "    preds = estimador.predict(X)\n",
    "    return metrics.accuracy_score(y, preds)\n",
    "\n",
    "def precision_multietiqueta(estimador, X, y):\n",
    "    preds = estimador.predict(X)\n",
    "    return metrics.precision_score(y, preds, average=\"weighted\")\n",
    "\n",
    "def exhaustividad_multietiqueta(estimador, X, y):\n",
    "    preds = estimador.predict(X)\n",
    "    return metrics.recall_score(y, preds, average=\"weighted\")\n",
    "\n",
    "def f1_multietiqueta(estimador, X, y):\n",
    "    preds = estimador.predict(X)\n",
    "    return metrics.f1_score(y, preds, average=\"micro\")"
   ]
  },
  {
   "cell_type": "code",
   "execution_count": 22,
   "metadata": {},
   "outputs": [],
   "source": [
    "def evaluar_modelo(prmPipeline,X, y, semillas):\n",
    "    restultados_estimador = {}\n",
    "    restultados_estimador[\"exactitud\"] = cross_validate(prmPipeline, X, y,\n",
    "                                           scoring=exactitud_multietiqueta, n_jobs=-1, cv=semillas, return_train_score=True)\n",
    "    \n",
    "    restultados_estimador[\"precision\"] = cross_validate(prmPipeline, X, y,\n",
    "                                           scoring=precision_multietiqueta, n_jobs=-1, cv=semillas, return_train_score=True)\n",
    "    \n",
    "    restultados_estimador[\"exhaustividad\"] = cross_validate(prmPipeline, X, y,\n",
    "                                           scoring=exhaustividad_multietiqueta, n_jobs=-1, cv=semillas, return_train_score=True)\n",
    "    \n",
    "    restultados_estimador[\"f1_score\"] = cross_validate(prmPipeline, X, y,\n",
    "                                           scoring=f1_multietiqueta, n_jobs=-1, cv=semillas, return_train_score=True)\n",
    "    return restultados_estimador"
   ]
  },
  {
   "cell_type": "code",
   "execution_count": 23,
   "metadata": {},
   "outputs": [],
   "source": [
    "#Funcion para poder visuallizar los resultados de las metricas\n",
    "def ver_resultados():\n",
    "    df_res = pd.DataFrame()\n",
    "    for modelo, metricas in resultados.items():\n",
    "        for metrica, valores in metricas.items():\n",
    "            for medida, arreglo in valores.items():\n",
    "                # Calcula la media de cada array y agrega una nueva fila al DataFrame\n",
    "                df_res.loc[f\"{modelo}_{metrica}\", medida] = np.mean(arreglo)\n",
    "                \n",
    "    return df_res"
   ]
  },
  {
   "cell_type": "code",
   "execution_count": 25,
   "metadata": {},
   "outputs": [
    {
     "data": {
      "text/html": [
       "<div>\n",
       "<style scoped>\n",
       "    .dataframe tbody tr th:only-of-type {\n",
       "        vertical-align: middle;\n",
       "    }\n",
       "\n",
       "    .dataframe tbody tr th {\n",
       "        vertical-align: top;\n",
       "    }\n",
       "\n",
       "    .dataframe thead th {\n",
       "        text-align: right;\n",
       "    }\n",
       "</style>\n",
       "<table border=\"1\" class=\"dataframe\">\n",
       "  <thead>\n",
       "    <tr style=\"text-align: right;\">\n",
       "      <th></th>\n",
       "      <th>fit_time</th>\n",
       "      <th>score_time</th>\n",
       "      <th>test_score</th>\n",
       "      <th>train_score</th>\n",
       "    </tr>\n",
       "  </thead>\n",
       "  <tbody>\n",
       "    <tr>\n",
       "      <th>rf_exactitud</th>\n",
       "      <td>3.357726</td>\n",
       "      <td>0.026341</td>\n",
       "      <td>0.93920</td>\n",
       "      <td>1.0</td>\n",
       "    </tr>\n",
       "    <tr>\n",
       "      <th>rf_precision</th>\n",
       "      <td>3.649445</td>\n",
       "      <td>0.030404</td>\n",
       "      <td>0.94379</td>\n",
       "      <td>1.0</td>\n",
       "    </tr>\n",
       "    <tr>\n",
       "      <th>rf_exhaustividad</th>\n",
       "      <td>3.450337</td>\n",
       "      <td>0.030165</td>\n",
       "      <td>0.93990</td>\n",
       "      <td>1.0</td>\n",
       "    </tr>\n",
       "    <tr>\n",
       "      <th>rf_f1_score</th>\n",
       "      <td>3.860003</td>\n",
       "      <td>0.033218</td>\n",
       "      <td>0.93860</td>\n",
       "      <td>1.0</td>\n",
       "    </tr>\n",
       "  </tbody>\n",
       "</table>\n",
       "</div>"
      ],
      "text/plain": [
       "                  fit_time  score_time  test_score  train_score\n",
       "rf_exactitud      3.357726    0.026341     0.93920          1.0\n",
       "rf_precision      3.649445    0.030404     0.94379          1.0\n",
       "rf_exhaustividad  3.450337    0.030165     0.93990          1.0\n",
       "rf_f1_score       3.860003    0.033218     0.93860          1.0"
      ]
     },
     "execution_count": 25,
     "metadata": {},
     "output_type": "execute_result"
    }
   ],
   "source": [
    "estimador_agregado = pipeline_estimador.named_steps['estimador']\n",
    "resultados[\"rf\"] = evaluar_modelo(estimador_agregado, consumidores_procesado, consumidores.CatRiesgo, 50)\n",
    "ver_resultados()"
   ]
  },
  {
   "cell_type": "markdown",
   "metadata": {
    "collapsed": true
   },
   "source": [
    "### Optimizacion de hiperparametros"
   ]
  },
  {
   "cell_type": "code",
   "execution_count": 26,
   "metadata": {},
   "outputs": [],
   "source": [
    "from sklearn.model_selection import RandomizedSearchCV\n",
    "from scipy.stats import randint as sp_randint"
   ]
  },
  {
   "cell_type": "code",
   "execution_count": 27,
   "metadata": {},
   "outputs": [],
   "source": [
    "param_dist_random = {\n",
    "    \"max_depth\": [None, 10, 20, 30, 40, 50],\n",
    "    \"max_features\": ['sqrt', 'log2'],\n",
    "    \"min_samples_split\": sp_randint(2, 11),\n",
    "    \"min_samples_leaf\": sp_randint(1, 11),\n",
    "    \"bootstrap\": [True, False],\n",
    "    \"criterion\": [\"gini\", \"entropy\"],\n",
    "    \"n_estimators\": np.linspace(10,1000,10).astype(int)\n",
    "}"
   ]
  },
  {
   "cell_type": "code",
   "execution_count": 28,
   "metadata": {},
   "outputs": [
    {
     "ename": "NameError",
     "evalue": "name 'param_dist_random3' is not defined",
     "output_type": "error",
     "traceback": [
      "\u001b[1;31m---------------------------------------------------------------------------\u001b[0m",
      "\u001b[1;31mNameError\u001b[0m                                 Traceback (most recent call last)",
      "Cell \u001b[1;32mIn[28], line 2\u001b[0m\n\u001b[0;32m      1\u001b[0m busqueda_random \u001b[38;5;241m=\u001b[39m RandomizedSearchCV(estimator\u001b[38;5;241m=\u001b[39mestimador, \n\u001b[1;32m----> 2\u001b[0m                     param_distributions\u001b[38;5;241m=\u001b[39m\u001b[43mparam_dist_random3\u001b[49m,\n\u001b[0;32m      3\u001b[0m                    scoring\u001b[38;5;241m=\u001b[39m\u001b[38;5;124m\"\u001b[39m\u001b[38;5;124maccuracy\u001b[39m\u001b[38;5;124m\"\u001b[39m, n_jobs\u001b[38;5;241m=\u001b[39m\u001b[38;5;241m-\u001b[39m\u001b[38;5;241m1\u001b[39m, n_iter\u001b[38;5;241m=\u001b[39m\u001b[38;5;241m100\u001b[39m)\n",
      "\u001b[1;31mNameError\u001b[0m: name 'param_dist_random3' is not defined"
     ]
    }
   ],
   "source": [
    "busqueda_random = RandomizedSearchCV(estimator=estimador, \n",
    "                    param_distributions=param_dist_random,\n",
    "                   scoring=\"accuracy\", n_jobs=-1, n_iter=100)"
   ]
  },
  {
   "cell_type": "code",
   "execution_count": null,
   "metadata": {},
   "outputs": [],
   "source": [
    "pipeline_estimador_op = Pipeline([\n",
    "    ('procesador', pipeline_procesado),\n",
    "    ('estimador', busqueda_random)\n",
    "])"
   ]
  },
  {
   "cell_type": "code",
   "execution_count": null,
   "metadata": {},
   "outputs": [],
   "source": [
    "pipeline_estimador_op.fit(X_train, y_train)"
   ]
  },
  {
   "cell_type": "code",
   "execution_count": null,
   "metadata": {},
   "outputs": [],
   "source": [
    "pipeline_estimador_op.predict(X_test)"
   ]
  },
  {
   "cell_type": "code",
   "execution_count": null,
   "metadata": {},
   "outputs": [],
   "source": [
    "pipeline_estimador_op_best = Pipeline([\n",
    "    ('procesador', pipeline_procesado),\n",
    "    ('estimador', busqueda_random.best_estimator_)\n",
    "])"
   ]
  },
  {
   "cell_type": "code",
   "execution_count": null,
   "metadata": {},
   "outputs": [],
   "source": [
    "pipeline_estimador_op_best.fit(X_train, y_train)"
   ]
  },
  {
   "cell_type": "code",
   "execution_count": null,
   "metadata": {},
   "outputs": [],
   "source": [
    "pipeline_estimador_op_best.predict(X_test)"
   ]
  },
  {
   "cell_type": "code",
   "execution_count": null,
   "metadata": {},
   "outputs": [],
   "source": [
    "estimador_best = pipeline_estimador_op_best.named_steps['estimador']\n",
    "resultados[\"rf_best\"] = evaluar_modelo(estimador_best, consumidores_procesado, consumidores.CatRiesgo, 50)\n",
    "ver_resultados()"
   ]
  },
  {
   "cell_type": "markdown",
   "metadata": {},
   "source": [
    "### Exportar con joblib el mejor pipeline obtenido\n",
    "\n",
    "Tenemos que exportar 3 cosas para poder recrear el Pipeline:\n",
    "\n",
    "**1. El pipeline entrenado.**\n",
    "\n",
    "Podemos usar la libreria de scikit-learn `joblib` para guardar nuestro pipeline al disco duro. Joblib es una libreria basada en pickle que sirve para guardar objetos de python al disco duro, pero que está optimizado para scikit-learn."
   ]
  },
  {
   "cell_type": "code",
   "execution_count": 37,
   "metadata": {},
   "outputs": [],
   "source": [
    "import joblib"
   ]
  },
  {
   "cell_type": "code",
   "execution_count": 38,
   "metadata": {},
   "outputs": [
    {
     "data": {
      "text/plain": [
       "['pipeline_rf_best.pkl']"
      ]
     },
     "execution_count": 38,
     "metadata": {},
     "output_type": "execute_result"
    }
   ],
   "source": [
    "joblib.dump(pipeline_estimador_op_best, 'pipeline_rf_best.pkl')"
   ]
  },
  {
   "cell_type": "code",
   "execution_count": 39,
   "metadata": {},
   "outputs": [],
   "source": [
    "clf = joblib.load('C:/Users/Danny/Desktop/Analisis tesis/4 - Pipelines/Modelo RF/pipeline_rf_best.pkl')"
   ]
  },
  {
   "cell_type": "code",
   "execution_count": 40,
   "metadata": {},
   "outputs": [
    {
     "data": {
      "text/plain": [
       "array([0, 0, 0, 0, 1], dtype=int64)"
      ]
     },
     "execution_count": 40,
     "metadata": {},
     "output_type": "execute_result"
    }
   ],
   "source": [
    "clf.predict(consumidores.head())"
   ]
  },
  {
   "cell_type": "markdown",
   "metadata": {},
   "source": [
    "**2. Los nombres de las columnas**\n",
    "\n",
    "Necesitamos saber las columnas que espera el pipeline para poder saber cómo tenemos que formatear los datos en el futuro de forma que los reconozca."
   ]
  },
  {
   "cell_type": "code",
   "execution_count": 41,
   "metadata": {},
   "outputs": [],
   "source": [
    "import json\n",
    "with open('columnas_consumidores.json', 'w') as fname:\n",
    "    consumidores_columnas = consumidores.columns.tolist()\n",
    "    json.dump(consumidores_columnas, fname)"
   ]
  },
  {
   "cell_type": "markdown",
   "metadata": {},
   "source": [
    "**3. Los tipos de datos de cada variable**\n",
    "\n",
    "Necesitamos que las variables de las nuevas observaciones estén en el mismo formato que espera el pipeline."
   ]
  },
  {
   "cell_type": "code",
   "execution_count": 42,
   "metadata": {},
   "outputs": [
    {
     "data": {
      "text/plain": [
       "['dtypes_consumidores.pkl']"
      ]
     },
     "execution_count": 42,
     "metadata": {},
     "output_type": "execute_result"
    }
   ],
   "source": [
    "consumidores_dtypes = consumidores.dtypes\n",
    "consumidores_dtypes = {col: consumidores[col].dtype for col in consumidores.columns}\n",
    "joblib.dump(consumidores_dtypes, 'dtypes_consumidores.pkl')"
   ]
  },
  {
   "cell_type": "code",
   "execution_count": null,
   "metadata": {},
   "outputs": [],
   "source": []
  }
 ],
 "metadata": {
  "kernelspec": {
   "display_name": "Python 3 (ipykernel)",
   "language": "python",
   "name": "python3"
  },
  "language_info": {
   "codemirror_mode": {
    "name": "ipython",
    "version": 3
   },
   "file_extension": ".py",
   "mimetype": "text/x-python",
   "name": "python",
   "nbconvert_exporter": "python",
   "pygments_lexer": "ipython3",
   "version": "3.10.11"
  }
 },
 "nbformat": 4,
 "nbformat_minor": 2
}
