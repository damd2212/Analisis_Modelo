{
 "cells": [
  {
   "cell_type": "code",
   "execution_count": 1,
   "metadata": {},
   "outputs": [
    {
     "name": "stdout",
     "output_type": "stream",
     "text": [
      "Last updated: 2023-07-16T15:48:56.006257-05:00\n",
      "\n",
      "Python implementation: CPython\n",
      "Python version       : 3.10.11\n",
      "IPython version      : 8.13.2\n",
      "\n",
      "Compiler    : MSC v.1916 64 bit (AMD64)\n",
      "OS          : Windows\n",
      "Release     : 10\n",
      "Machine     : AMD64\n",
      "Processor   : Intel64 Family 6 Model 158 Stepping 10, GenuineIntel\n",
      "CPU cores   : 8\n",
      "Architecture: 64bit\n",
      "\n"
     ]
    }
   ],
   "source": [
    "%load_ext watermark\n",
    "%watermark"
   ]
  },
  {
   "cell_type": "markdown",
   "metadata": {},
   "source": [
    "En esta sección vamos a ver diversas formas para procesar un dataset. Por procesamiento (tambien llamado limpieza) nos referimos a preparar el dataset para la creación de modelos predictivos."
   ]
  },
  {
   "cell_type": "markdown",
   "metadata": {},
   "source": [
    "#### Descripción\n",
    "\n",
    "Vamos a usar el mismo dataset que usamos para el ejemplo de Análisis Exploratorio de Datos.\n",
    "\n",
    "En la sección de análisis de datos, detectamos los siguientes errores en el dataset original\n",
    "\n",
    "- Existen valores nulos los cuales es necesario rellenar\n",
    "- Existen ouliners en las variables\n",
    "- Es necesario eliminar aquellos registros donde la opcion seleccionada es \"No responde/No sabe\""
   ]
  },
  {
   "cell_type": "code",
   "execution_count": 24,
   "metadata": {},
   "outputs": [],
   "source": [
    "import pandas as pd\n",
    "import matplotlib.pyplot as plt\n",
    "%matplotlib inline\n",
    "plt.rcParams[\"figure.figsize\"] = (12,12)"
   ]
  },
  {
   "cell_type": "code",
   "execution_count": 25,
   "metadata": {},
   "outputs": [
    {
     "data": {
      "text/html": [
       "<div>\n",
       "<style scoped>\n",
       "    .dataframe tbody tr th:only-of-type {\n",
       "        vertical-align: middle;\n",
       "    }\n",
       "\n",
       "    .dataframe tbody tr th {\n",
       "        vertical-align: top;\n",
       "    }\n",
       "\n",
       "    .dataframe thead th {\n",
       "        text-align: right;\n",
       "    }\n",
       "</style>\n",
       "<table border=\"1\" class=\"dataframe\">\n",
       "  <thead>\n",
       "    <tr style=\"text-align: right;\">\n",
       "      <th></th>\n",
       "      <th>directorio</th>\n",
       "      <th>per_sexo</th>\n",
       "      <th>per_edad</th>\n",
       "      <th>vive_padre_hogar</th>\n",
       "      <th>vive_madre_hogar</th>\n",
       "      <th>departamento</th>\n",
       "      <th>municipio</th>\n",
       "      <th>tipo_vivienda</th>\n",
       "      <th>estrato</th>\n",
       "      <th>residentes_hogar</th>\n",
       "      <th>...</th>\n",
       "      <th>m_03_frecuencia_consumo_basuco_12m</th>\n",
       "      <th>o_02_consumio_heroina_12m</th>\n",
       "      <th>o_03_frecuencia_consumo_heroina_12m</th>\n",
       "      <th>per_edad_tipo</th>\n",
       "      <th>estrato_tipo</th>\n",
       "      <th>situacion_tipo</th>\n",
       "      <th>frecuencia_consumo_marihuana_tipo</th>\n",
       "      <th>frecuencia_consumo_cocaina_tipo</th>\n",
       "      <th>frecuencia_consumo_basuco_tipo</th>\n",
       "      <th>frecuencia_consumo_heroina_tipo</th>\n",
       "    </tr>\n",
       "  </thead>\n",
       "  <tbody>\n",
       "    <tr>\n",
       "      <th>0</th>\n",
       "      <td>11207</td>\n",
       "      <td>1</td>\n",
       "      <td>19</td>\n",
       "      <td>2</td>\n",
       "      <td>2</td>\n",
       "      <td>Guaviare</td>\n",
       "      <td>SAN JOSÉ DEL GUAVIARE</td>\n",
       "      <td>2</td>\n",
       "      <td>2.0</td>\n",
       "      <td>5</td>\n",
       "      <td>...</td>\n",
       "      <td>NaN</td>\n",
       "      <td>NaN</td>\n",
       "      <td>NaN</td>\n",
       "      <td>Joven</td>\n",
       "      <td>Estrato bajo</td>\n",
       "      <td>Trabajando</td>\n",
       "      <td>Nunca</td>\n",
       "      <td>Nunca</td>\n",
       "      <td>Nunca</td>\n",
       "      <td>Nunca</td>\n",
       "    </tr>\n",
       "    <tr>\n",
       "      <th>1</th>\n",
       "      <td>1180</td>\n",
       "      <td>2</td>\n",
       "      <td>51</td>\n",
       "      <td>2</td>\n",
       "      <td>1</td>\n",
       "      <td>Cordoba</td>\n",
       "      <td>MONTERÍA</td>\n",
       "      <td>1</td>\n",
       "      <td>1.0</td>\n",
       "      <td>4</td>\n",
       "      <td>...</td>\n",
       "      <td>NaN</td>\n",
       "      <td>NaN</td>\n",
       "      <td>NaN</td>\n",
       "      <td>Adulto</td>\n",
       "      <td>Estrato bajo</td>\n",
       "      <td>Trabajando</td>\n",
       "      <td>Nunca</td>\n",
       "      <td>Nunca</td>\n",
       "      <td>Nunca</td>\n",
       "      <td>Nunca</td>\n",
       "    </tr>\n",
       "    <tr>\n",
       "      <th>2</th>\n",
       "      <td>4398</td>\n",
       "      <td>1</td>\n",
       "      <td>52</td>\n",
       "      <td>3</td>\n",
       "      <td>3</td>\n",
       "      <td>Caqueta</td>\n",
       "      <td>FLORENCIA</td>\n",
       "      <td>1</td>\n",
       "      <td>2.0</td>\n",
       "      <td>4</td>\n",
       "      <td>...</td>\n",
       "      <td>NaN</td>\n",
       "      <td>NaN</td>\n",
       "      <td>NaN</td>\n",
       "      <td>Adulto</td>\n",
       "      <td>Estrato bajo</td>\n",
       "      <td>Trabajando</td>\n",
       "      <td>Nunca</td>\n",
       "      <td>Nunca</td>\n",
       "      <td>Nunca</td>\n",
       "      <td>Nunca</td>\n",
       "    </tr>\n",
       "    <tr>\n",
       "      <th>3</th>\n",
       "      <td>4399</td>\n",
       "      <td>2</td>\n",
       "      <td>39</td>\n",
       "      <td>1</td>\n",
       "      <td>1</td>\n",
       "      <td>Bolivar</td>\n",
       "      <td>CARTAGENA</td>\n",
       "      <td>1</td>\n",
       "      <td>5.0</td>\n",
       "      <td>6</td>\n",
       "      <td>...</td>\n",
       "      <td>NaN</td>\n",
       "      <td>NaN</td>\n",
       "      <td>NaN</td>\n",
       "      <td>Adulto</td>\n",
       "      <td>Estrato alto</td>\n",
       "      <td>Trabajando</td>\n",
       "      <td>Nunca</td>\n",
       "      <td>Nunca</td>\n",
       "      <td>Nunca</td>\n",
       "      <td>Nunca</td>\n",
       "    </tr>\n",
       "    <tr>\n",
       "      <th>4</th>\n",
       "      <td>2619</td>\n",
       "      <td>2</td>\n",
       "      <td>27</td>\n",
       "      <td>1</td>\n",
       "      <td>1</td>\n",
       "      <td>Tolima</td>\n",
       "      <td>ESPINAL</td>\n",
       "      <td>1</td>\n",
       "      <td>2.0</td>\n",
       "      <td>4</td>\n",
       "      <td>...</td>\n",
       "      <td>NaN</td>\n",
       "      <td>NaN</td>\n",
       "      <td>NaN</td>\n",
       "      <td>Joven</td>\n",
       "      <td>Estrato bajo</td>\n",
       "      <td>Buscando trabajo</td>\n",
       "      <td>Nunca</td>\n",
       "      <td>Nunca</td>\n",
       "      <td>Nunca</td>\n",
       "      <td>Nunca</td>\n",
       "    </tr>\n",
       "  </tbody>\n",
       "</table>\n",
       "<p>5 rows × 63 columns</p>\n",
       "</div>"
      ],
      "text/plain": [
       "   directorio  per_sexo  per_edad  vive_padre_hogar  vive_madre_hogar  \\\n",
       "0       11207         1        19                 2                 2   \n",
       "1        1180         2        51                 2                 1   \n",
       "2        4398         1        52                 3                 3   \n",
       "3        4399         2        39                 1                 1   \n",
       "4        2619         2        27                 1                 1   \n",
       "\n",
       "  departamento              municipio  tipo_vivienda  estrato  \\\n",
       "0     Guaviare  SAN JOSÉ DEL GUAVIARE              2      2.0   \n",
       "1      Cordoba               MONTERÍA              1      1.0   \n",
       "2      Caqueta              FLORENCIA              1      2.0   \n",
       "3      Bolivar              CARTAGENA              1      5.0   \n",
       "4       Tolima                ESPINAL              1      2.0   \n",
       "\n",
       "   residentes_hogar  ...  m_03_frecuencia_consumo_basuco_12m  \\\n",
       "0                 5  ...                                 NaN   \n",
       "1                 4  ...                                 NaN   \n",
       "2                 4  ...                                 NaN   \n",
       "3                 6  ...                                 NaN   \n",
       "4                 4  ...                                 NaN   \n",
       "\n",
       "   o_02_consumio_heroina_12m  o_03_frecuencia_consumo_heroina_12m  \\\n",
       "0                        NaN                                  NaN   \n",
       "1                        NaN                                  NaN   \n",
       "2                        NaN                                  NaN   \n",
       "3                        NaN                                  NaN   \n",
       "4                        NaN                                  NaN   \n",
       "\n",
       "   per_edad_tipo  estrato_tipo    situacion_tipo  \\\n",
       "0          Joven  Estrato bajo        Trabajando   \n",
       "1         Adulto  Estrato bajo        Trabajando   \n",
       "2         Adulto  Estrato bajo        Trabajando   \n",
       "3         Adulto  Estrato alto        Trabajando   \n",
       "4          Joven  Estrato bajo  Buscando trabajo   \n",
       "\n",
       "   frecuencia_consumo_marihuana_tipo  frecuencia_consumo_cocaina_tipo  \\\n",
       "0                              Nunca                            Nunca   \n",
       "1                              Nunca                            Nunca   \n",
       "2                              Nunca                            Nunca   \n",
       "3                              Nunca                            Nunca   \n",
       "4                              Nunca                            Nunca   \n",
       "\n",
       "   frecuencia_consumo_basuco_tipo  frecuencia_consumo_heroina_tipo  \n",
       "0                           Nunca                            Nunca  \n",
       "1                           Nunca                            Nunca  \n",
       "2                           Nunca                            Nunca  \n",
       "3                           Nunca                            Nunca  \n",
       "4                           Nunca                            Nunca  \n",
       "\n",
       "[5 rows x 63 columns]"
      ]
     },
     "execution_count": 25,
     "metadata": {},
     "output_type": "execute_result"
    }
   ],
   "source": [
    "consumidores = pd.read_pickle(\"C:/Users/Danny/Desktop/Analisis tesis/Analisis exploratorio de datos/data/consumidores.3.variables_agrupadas.pkl\")\n",
    "consumidores.head()"
   ]
  },
  {
   "cell_type": "code",
   "execution_count": 26,
   "metadata": {},
   "outputs": [
    {
     "data": {
      "text/plain": [
       "(10000, 63)"
      ]
     },
     "execution_count": 26,
     "metadata": {},
     "output_type": "execute_result"
    }
   ],
   "source": [
    "consumidores.shape"
   ]
  },
  {
   "cell_type": "markdown",
   "metadata": {},
   "source": [
    "### Records duplicados"
   ]
  },
  {
   "cell_type": "markdown",
   "metadata": {},
   "source": [
    "Usamos la función de pandas `drop_duplicates` para remover los records duplicados"
   ]
  },
  {
   "cell_type": "code",
   "execution_count": 27,
   "metadata": {},
   "outputs": [
    {
     "data": {
      "text/plain": [
       "(0, 63)"
      ]
     },
     "execution_count": 27,
     "metadata": {},
     "output_type": "execute_result"
    }
   ],
   "source": [
    "consumidores[consumidores.duplicated()].shape"
   ]
  },
  {
   "cell_type": "markdown",
   "metadata": {},
   "source": [
    "Se puede observar que no existen registros duplicados para este dataset"
   ]
  },
  {
   "cell_type": "markdown",
   "metadata": {},
   "source": [
    "### Eliminacion de columnas que ya no se usaran"
   ]
  },
  {
   "cell_type": "code",
   "execution_count": 28,
   "metadata": {},
   "outputs": [],
   "source": [
    "#Marihuana del capitulo g\n",
    "del consumidores['g_11_f_consumio_alguna_vez_marihuana']\n",
    "del consumidores['g_11_f_anios_consumio_marihuana']\n",
    "#Cocaina del capitulo g\n",
    "del consumidores['g_11_g_consumio_alguna_vez_cocaina']\n",
    "del consumidores['g_11_g_anios_consumio_cocaina']\n",
    "#Basuco del capitulo g\n",
    "del consumidores['g_11_h_consumio_alguna_vez_basuco']\n",
    "del consumidores['g_11_h_anios_consumio_basuco']\n",
    "#Heroina del capitulo g\n",
    "del consumidores['g_11_j_consumio_alguna_vez_heroina']\n",
    "del consumidores['g_11_j_anios_consumio_heroina']\n",
    "#Marihuana del capitulo k\n",
    "del consumidores['k_03_consumio_marihuana_12m']\n",
    "del consumidores['k_04_frecuencia_consumo_marihuana_12m']\n",
    "#Cocaina del capitulo l\n",
    "del consumidores['l_02_consumio_cocaina_12m']\n",
    "del consumidores['l_03_frecuencia_consumo_cocaina_12m']\n",
    "#Basuco del capitulo m\n",
    "del consumidores['m_02_consumio_basuco_12m']\n",
    "del consumidores['m_03_frecuencia_consumo_basuco_12m']\n",
    "#Basuco del capitulo o\n",
    "del consumidores['o_02_consumio_heroina_12m']\n",
    "del consumidores['o_03_frecuencia_consumo_heroina_12m']"
   ]
  },
  {
   "cell_type": "markdown",
   "metadata": {},
   "source": [
    "Las columnas se eliminaron debido a que son variables que fueron unidas como una sola variable categorica,la cual sera usada\n",
    "como vairable objetivo para el desarrollo del modelo"
   ]
  },
  {
   "cell_type": "code",
   "execution_count": 29,
   "metadata": {},
   "outputs": [],
   "source": [
    "del consumidores['directorio']\n",
    "del consumidores['per_edad']\n",
    "del consumidores['estrato']\n",
    "del consumidores['d_02_situacion_actual']\n",
    "del consumidores['municipio']"
   ]
  },
  {
   "cell_type": "markdown",
   "metadata": {},
   "source": [
    "Las variables anteriores fueron eliminadas dado que se creo una variable categorica que abarca de una mejor forma las respuestas dadas por las personas que realizaron la encuesta "
   ]
  },
  {
   "cell_type": "code",
   "execution_count": 30,
   "metadata": {},
   "outputs": [
    {
     "data": {
      "text/plain": [
       "(10000, 42)"
      ]
     },
     "execution_count": 30,
     "metadata": {},
     "output_type": "execute_result"
    }
   ],
   "source": [
    "consumidores.shape"
   ]
  },
  {
   "cell_type": "code",
   "execution_count": 31,
   "metadata": {},
   "outputs": [
    {
     "name": "stdout",
     "output_type": "stream",
     "text": [
      "<class 'pandas.core.frame.DataFrame'>\n",
      "RangeIndex: 10000 entries, 0 to 9999\n",
      "Data columns (total 42 columns):\n",
      " #   Column                                                     Non-Null Count  Dtype   \n",
      "---  ------                                                     --------------  -----   \n",
      " 0   per_sexo                                                   10000 non-null  int64   \n",
      " 1   vive_padre_hogar                                           10000 non-null  int64   \n",
      " 2   vive_madre_hogar                                           10000 non-null  int64   \n",
      " 3   departamento                                               10000 non-null  object  \n",
      " 4   tipo_vivienda                                              10000 non-null  int64   \n",
      " 5   residentes_hogar                                           10000 non-null  int64   \n",
      " 6   d_01_aporta_dinero_hogar                                   10000 non-null  int64   \n",
      " 7   d_08_estado_salud                                          10000 non-null  int64   \n",
      " 8   d_09_deprimido                                             10000 non-null  int64   \n",
      " 9   d_10_poco_interes                                          10000 non-null  int64   \n",
      " 10  d_11_h_conocimiento_riesgo_fumar_marihuana_frecuentemente  10000 non-null  int64   \n",
      " 11  d_11_k_conocimiento_riesgo_cocaina_frecuentemente          10000 non-null  int64   \n",
      " 12  d_11_n_conocimiento_riesgo_fumar_basuco_frecuentemente     10000 non-null  int64   \n",
      " 13  d_12_b_presenta_problema_consumo_sp_barrio                 10000 non-null  int64   \n",
      " 14  d_12_c_presenta_problema_expendio_sp_barrio                10000 non-null  int64   \n",
      " 15  d2_01_etnia                                                10000 non-null  int64   \n",
      " 16  d2_03_estado_civil                                         10000 non-null  int64   \n",
      " 17  d2_04_num_hijos                                            10000 non-null  int64   \n",
      " 18  d2_05_nivel_educativo                                      10000 non-null  int64   \n",
      " 19  g_01_familiares_consumen_sp                                10000 non-null  int64   \n",
      " 20  g_01_a_num_familiares_consumen_sp                          2747 non-null   float64 \n",
      " 21  g_02_amigos_consumen_sp                                    10000 non-null  int64   \n",
      " 22  g_02_a_num_amigos_consumen_sp                              4282 non-null   float64 \n",
      " 23  g_03_curiosidad_probar_sp                                  10000 non-null  int64   \n",
      " 24  g_04_probaria_sp                                           10000 non-null  int64   \n",
      " 25  g_05_posibilidad_probar_sp                                 10000 non-null  int64   \n",
      " 26  g_06_a_posibilidad_conseguir_marihuana                     10000 non-null  int64   \n",
      " 27  g_06_b_posibilidad_conseguir_cocaina                       10000 non-null  int64   \n",
      " 28  g_06_c_posibilidad_conseguir_basuco                        10000 non-null  int64   \n",
      " 29  g_06_j_posibilidad_conseguir_heroina                       10000 non-null  int64   \n",
      " 30  g_07_alguien_ofrecio_comprar_probar_sp                     10000 non-null  int64   \n",
      " 31  g_08_a_ofrecieron_marihuana                                4866 non-null   float64 \n",
      " 32  g_08_b_ofrecieron_cocaina                                  4866 non-null   float64 \n",
      " 33  g_08_c_ofrecieron_basuco                                   4866 non-null   float64 \n",
      " 34  g_08_e_ofrecieron_heroina                                  4866 non-null   float64 \n",
      " 35  per_edad_tipo                                              10000 non-null  category\n",
      " 36  estrato_tipo                                               10000 non-null  category\n",
      " 37  situacion_tipo                                             10000 non-null  category\n",
      " 38  frecuencia_consumo_marihuana_tipo                          10000 non-null  category\n",
      " 39  frecuencia_consumo_cocaina_tipo                            10000 non-null  category\n",
      " 40  frecuencia_consumo_basuco_tipo                             10000 non-null  category\n",
      " 41  frecuencia_consumo_heroina_tipo                            10000 non-null  category\n",
      "dtypes: category(7), float64(6), int64(28), object(1)\n",
      "memory usage: 2.7+ MB\n"
     ]
    }
   ],
   "source": [
    "consumidores.info(verbose=True)"
   ]
  },
  {
   "cell_type": "code",
   "execution_count": 32,
   "metadata": {},
   "outputs": [
    {
     "data": {
      "text/plain": [
       "(10000, 42)"
      ]
     },
     "execution_count": 32,
     "metadata": {},
     "output_type": "execute_result"
    }
   ],
   "source": [
    "consumidores.shape"
   ]
  },
  {
   "cell_type": "markdown",
   "metadata": {},
   "source": [
    "### Valores Extremos (outliers)"
   ]
  },
  {
   "cell_type": "code",
   "execution_count": 33,
   "metadata": {},
   "outputs": [],
   "source": [
    "from scipy import stats\n",
    "import numpy as np\n",
    "\n",
    "def outliers_col(df):\n",
    "    for columna in df:\n",
    "        if df[columna].dtype != np.object_:\n",
    "            n_outliers = len(df[np.abs(stats.zscore(df[columna])) > 3])    \n",
    "            print(\"{} | {} | {}\".format(\n",
    "                df[columna].name,\n",
    "                n_outliers,\n",
    "                df[columna].dtype\n",
    "        ))\n",
    "\n",
    "#outliers_col(consumidores)"
   ]
  },
  {
   "cell_type": "code",
   "execution_count": 34,
   "metadata": {},
   "outputs": [
    {
     "data": {
      "text/html": [
       "<div>\n",
       "<style scoped>\n",
       "    .dataframe tbody tr th:only-of-type {\n",
       "        vertical-align: middle;\n",
       "    }\n",
       "\n",
       "    .dataframe tbody tr th {\n",
       "        vertical-align: top;\n",
       "    }\n",
       "\n",
       "    .dataframe thead th {\n",
       "        text-align: right;\n",
       "    }\n",
       "</style>\n",
       "<table border=\"1\" class=\"dataframe\">\n",
       "  <thead>\n",
       "    <tr style=\"text-align: right;\">\n",
       "      <th></th>\n",
       "      <th>per_sexo</th>\n",
       "      <th>vive_padre_hogar</th>\n",
       "      <th>vive_madre_hogar</th>\n",
       "      <th>tipo_vivienda</th>\n",
       "      <th>residentes_hogar</th>\n",
       "      <th>d_01_aporta_dinero_hogar</th>\n",
       "      <th>d_08_estado_salud</th>\n",
       "      <th>d_09_deprimido</th>\n",
       "      <th>d_10_poco_interes</th>\n",
       "      <th>d_11_h_conocimiento_riesgo_fumar_marihuana_frecuentemente</th>\n",
       "      <th>...</th>\n",
       "      <th>g_05_posibilidad_probar_sp</th>\n",
       "      <th>g_06_a_posibilidad_conseguir_marihuana</th>\n",
       "      <th>g_06_b_posibilidad_conseguir_cocaina</th>\n",
       "      <th>g_06_c_posibilidad_conseguir_basuco</th>\n",
       "      <th>g_06_j_posibilidad_conseguir_heroina</th>\n",
       "      <th>g_07_alguien_ofrecio_comprar_probar_sp</th>\n",
       "      <th>g_08_a_ofrecieron_marihuana</th>\n",
       "      <th>g_08_b_ofrecieron_cocaina</th>\n",
       "      <th>g_08_c_ofrecieron_basuco</th>\n",
       "      <th>g_08_e_ofrecieron_heroina</th>\n",
       "    </tr>\n",
       "  </thead>\n",
       "  <tbody>\n",
       "    <tr>\n",
       "      <th>count</th>\n",
       "      <td>10000.000000</td>\n",
       "      <td>10000.000000</td>\n",
       "      <td>10000.000000</td>\n",
       "      <td>10000.000000</td>\n",
       "      <td>10000.000000</td>\n",
       "      <td>10000.000000</td>\n",
       "      <td>10000.000000</td>\n",
       "      <td>10000.000000</td>\n",
       "      <td>10000.000000</td>\n",
       "      <td>10000.000000</td>\n",
       "      <td>...</td>\n",
       "      <td>10000.000000</td>\n",
       "      <td>10000.000000</td>\n",
       "      <td>10000.000000</td>\n",
       "      <td>10000.000000</td>\n",
       "      <td>10000.000000</td>\n",
       "      <td>10000.000000</td>\n",
       "      <td>4866.000000</td>\n",
       "      <td>4866.000000</td>\n",
       "      <td>4866.000000</td>\n",
       "      <td>4866.000000</td>\n",
       "    </tr>\n",
       "    <tr>\n",
       "      <th>mean</th>\n",
       "      <td>1.497100</td>\n",
       "      <td>2.130800</td>\n",
       "      <td>1.866700</td>\n",
       "      <td>1.482300</td>\n",
       "      <td>3.389400</td>\n",
       "      <td>1.305800</td>\n",
       "      <td>3.847300</td>\n",
       "      <td>1.743000</td>\n",
       "      <td>1.798600</td>\n",
       "      <td>3.825400</td>\n",
       "      <td>...</td>\n",
       "      <td>1.514700</td>\n",
       "      <td>3.110100</td>\n",
       "      <td>4.238700</td>\n",
       "      <td>4.485700</td>\n",
       "      <td>5.924600</td>\n",
       "      <td>1.513400</td>\n",
       "      <td>2.747226</td>\n",
       "      <td>6.102137</td>\n",
       "      <td>7.714139</td>\n",
       "      <td>8.435676</td>\n",
       "    </tr>\n",
       "    <tr>\n",
       "      <th>std</th>\n",
       "      <td>0.500017</td>\n",
       "      <td>0.642443</td>\n",
       "      <td>0.669758</td>\n",
       "      <td>0.554182</td>\n",
       "      <td>1.723794</td>\n",
       "      <td>0.460768</td>\n",
       "      <td>0.744337</td>\n",
       "      <td>0.437001</td>\n",
       "      <td>0.401066</td>\n",
       "      <td>0.625583</td>\n",
       "      <td>...</td>\n",
       "      <td>0.499809</td>\n",
       "      <td>3.337198</td>\n",
       "      <td>3.612288</td>\n",
       "      <td>3.662095</td>\n",
       "      <td>3.512456</td>\n",
       "      <td>0.499845</td>\n",
       "      <td>1.540484</td>\n",
       "      <td>3.233059</td>\n",
       "      <td>2.567701</td>\n",
       "      <td>1.813638</td>\n",
       "    </tr>\n",
       "    <tr>\n",
       "      <th>min</th>\n",
       "      <td>1.000000</td>\n",
       "      <td>1.000000</td>\n",
       "      <td>1.000000</td>\n",
       "      <td>1.000000</td>\n",
       "      <td>1.000000</td>\n",
       "      <td>1.000000</td>\n",
       "      <td>1.000000</td>\n",
       "      <td>1.000000</td>\n",
       "      <td>1.000000</td>\n",
       "      <td>1.000000</td>\n",
       "      <td>...</td>\n",
       "      <td>1.000000</td>\n",
       "      <td>1.000000</td>\n",
       "      <td>1.000000</td>\n",
       "      <td>1.000000</td>\n",
       "      <td>1.000000</td>\n",
       "      <td>1.000000</td>\n",
       "      <td>1.000000</td>\n",
       "      <td>1.000000</td>\n",
       "      <td>1.000000</td>\n",
       "      <td>1.000000</td>\n",
       "    </tr>\n",
       "    <tr>\n",
       "      <th>25%</th>\n",
       "      <td>1.000000</td>\n",
       "      <td>2.000000</td>\n",
       "      <td>1.000000</td>\n",
       "      <td>1.000000</td>\n",
       "      <td>2.000000</td>\n",
       "      <td>1.000000</td>\n",
       "      <td>3.000000</td>\n",
       "      <td>1.000000</td>\n",
       "      <td>2.000000</td>\n",
       "      <td>4.000000</td>\n",
       "      <td>...</td>\n",
       "      <td>1.000000</td>\n",
       "      <td>1.000000</td>\n",
       "      <td>1.000000</td>\n",
       "      <td>1.000000</td>\n",
       "      <td>2.000000</td>\n",
       "      <td>1.000000</td>\n",
       "      <td>2.000000</td>\n",
       "      <td>3.000000</td>\n",
       "      <td>9.000000</td>\n",
       "      <td>9.000000</td>\n",
       "    </tr>\n",
       "    <tr>\n",
       "      <th>50%</th>\n",
       "      <td>1.000000</td>\n",
       "      <td>2.000000</td>\n",
       "      <td>2.000000</td>\n",
       "      <td>1.000000</td>\n",
       "      <td>3.000000</td>\n",
       "      <td>1.000000</td>\n",
       "      <td>4.000000</td>\n",
       "      <td>2.000000</td>\n",
       "      <td>2.000000</td>\n",
       "      <td>4.000000</td>\n",
       "      <td>...</td>\n",
       "      <td>2.000000</td>\n",
       "      <td>1.000000</td>\n",
       "      <td>2.000000</td>\n",
       "      <td>2.000000</td>\n",
       "      <td>9.000000</td>\n",
       "      <td>2.000000</td>\n",
       "      <td>3.000000</td>\n",
       "      <td>9.000000</td>\n",
       "      <td>9.000000</td>\n",
       "      <td>9.000000</td>\n",
       "    </tr>\n",
       "    <tr>\n",
       "      <th>75%</th>\n",
       "      <td>2.000000</td>\n",
       "      <td>3.000000</td>\n",
       "      <td>2.000000</td>\n",
       "      <td>2.000000</td>\n",
       "      <td>4.000000</td>\n",
       "      <td>2.000000</td>\n",
       "      <td>4.000000</td>\n",
       "      <td>2.000000</td>\n",
       "      <td>2.000000</td>\n",
       "      <td>4.000000</td>\n",
       "      <td>...</td>\n",
       "      <td>2.000000</td>\n",
       "      <td>3.000000</td>\n",
       "      <td>9.000000</td>\n",
       "      <td>9.000000</td>\n",
       "      <td>9.000000</td>\n",
       "      <td>2.000000</td>\n",
       "      <td>3.000000</td>\n",
       "      <td>9.000000</td>\n",
       "      <td>9.000000</td>\n",
       "      <td>9.000000</td>\n",
       "    </tr>\n",
       "    <tr>\n",
       "      <th>max</th>\n",
       "      <td>2.000000</td>\n",
       "      <td>3.000000</td>\n",
       "      <td>3.000000</td>\n",
       "      <td>4.000000</td>\n",
       "      <td>14.000000</td>\n",
       "      <td>2.000000</td>\n",
       "      <td>5.000000</td>\n",
       "      <td>2.000000</td>\n",
       "      <td>2.000000</td>\n",
       "      <td>5.000000</td>\n",
       "      <td>...</td>\n",
       "      <td>2.000000</td>\n",
       "      <td>9.000000</td>\n",
       "      <td>9.000000</td>\n",
       "      <td>9.000000</td>\n",
       "      <td>9.000000</td>\n",
       "      <td>2.000000</td>\n",
       "      <td>9.000000</td>\n",
       "      <td>9.000000</td>\n",
       "      <td>9.000000</td>\n",
       "      <td>9.000000</td>\n",
       "    </tr>\n",
       "  </tbody>\n",
       "</table>\n",
       "<p>8 rows × 34 columns</p>\n",
       "</div>"
      ],
      "text/plain": [
       "           per_sexo  vive_padre_hogar  vive_madre_hogar  tipo_vivienda  \\\n",
       "count  10000.000000      10000.000000      10000.000000   10000.000000   \n",
       "mean       1.497100          2.130800          1.866700       1.482300   \n",
       "std        0.500017          0.642443          0.669758       0.554182   \n",
       "min        1.000000          1.000000          1.000000       1.000000   \n",
       "25%        1.000000          2.000000          1.000000       1.000000   \n",
       "50%        1.000000          2.000000          2.000000       1.000000   \n",
       "75%        2.000000          3.000000          2.000000       2.000000   \n",
       "max        2.000000          3.000000          3.000000       4.000000   \n",
       "\n",
       "       residentes_hogar  d_01_aporta_dinero_hogar  d_08_estado_salud  \\\n",
       "count      10000.000000              10000.000000       10000.000000   \n",
       "mean           3.389400                  1.305800           3.847300   \n",
       "std            1.723794                  0.460768           0.744337   \n",
       "min            1.000000                  1.000000           1.000000   \n",
       "25%            2.000000                  1.000000           3.000000   \n",
       "50%            3.000000                  1.000000           4.000000   \n",
       "75%            4.000000                  2.000000           4.000000   \n",
       "max           14.000000                  2.000000           5.000000   \n",
       "\n",
       "       d_09_deprimido  d_10_poco_interes  \\\n",
       "count    10000.000000       10000.000000   \n",
       "mean         1.743000           1.798600   \n",
       "std          0.437001           0.401066   \n",
       "min          1.000000           1.000000   \n",
       "25%          1.000000           2.000000   \n",
       "50%          2.000000           2.000000   \n",
       "75%          2.000000           2.000000   \n",
       "max          2.000000           2.000000   \n",
       "\n",
       "       d_11_h_conocimiento_riesgo_fumar_marihuana_frecuentemente  ...  \\\n",
       "count                                       10000.000000          ...   \n",
       "mean                                            3.825400          ...   \n",
       "std                                             0.625583          ...   \n",
       "min                                             1.000000          ...   \n",
       "25%                                             4.000000          ...   \n",
       "50%                                             4.000000          ...   \n",
       "75%                                             4.000000          ...   \n",
       "max                                             5.000000          ...   \n",
       "\n",
       "       g_05_posibilidad_probar_sp  g_06_a_posibilidad_conseguir_marihuana  \\\n",
       "count                10000.000000                            10000.000000   \n",
       "mean                     1.514700                                3.110100   \n",
       "std                      0.499809                                3.337198   \n",
       "min                      1.000000                                1.000000   \n",
       "25%                      1.000000                                1.000000   \n",
       "50%                      2.000000                                1.000000   \n",
       "75%                      2.000000                                3.000000   \n",
       "max                      2.000000                                9.000000   \n",
       "\n",
       "       g_06_b_posibilidad_conseguir_cocaina  \\\n",
       "count                          10000.000000   \n",
       "mean                               4.238700   \n",
       "std                                3.612288   \n",
       "min                                1.000000   \n",
       "25%                                1.000000   \n",
       "50%                                2.000000   \n",
       "75%                                9.000000   \n",
       "max                                9.000000   \n",
       "\n",
       "       g_06_c_posibilidad_conseguir_basuco  \\\n",
       "count                         10000.000000   \n",
       "mean                              4.485700   \n",
       "std                               3.662095   \n",
       "min                               1.000000   \n",
       "25%                               1.000000   \n",
       "50%                               2.000000   \n",
       "75%                               9.000000   \n",
       "max                               9.000000   \n",
       "\n",
       "       g_06_j_posibilidad_conseguir_heroina  \\\n",
       "count                          10000.000000   \n",
       "mean                               5.924600   \n",
       "std                                3.512456   \n",
       "min                                1.000000   \n",
       "25%                                2.000000   \n",
       "50%                                9.000000   \n",
       "75%                                9.000000   \n",
       "max                                9.000000   \n",
       "\n",
       "       g_07_alguien_ofrecio_comprar_probar_sp  g_08_a_ofrecieron_marihuana  \\\n",
       "count                            10000.000000                  4866.000000   \n",
       "mean                                 1.513400                     2.747226   \n",
       "std                                  0.499845                     1.540484   \n",
       "min                                  1.000000                     1.000000   \n",
       "25%                                  1.000000                     2.000000   \n",
       "50%                                  2.000000                     3.000000   \n",
       "75%                                  2.000000                     3.000000   \n",
       "max                                  2.000000                     9.000000   \n",
       "\n",
       "       g_08_b_ofrecieron_cocaina  g_08_c_ofrecieron_basuco  \\\n",
       "count                4866.000000               4866.000000   \n",
       "mean                    6.102137                  7.714139   \n",
       "std                     3.233059                  2.567701   \n",
       "min                     1.000000                  1.000000   \n",
       "25%                     3.000000                  9.000000   \n",
       "50%                     9.000000                  9.000000   \n",
       "75%                     9.000000                  9.000000   \n",
       "max                     9.000000                  9.000000   \n",
       "\n",
       "       g_08_e_ofrecieron_heroina  \n",
       "count                4866.000000  \n",
       "mean                    8.435676  \n",
       "std                     1.813638  \n",
       "min                     1.000000  \n",
       "25%                     9.000000  \n",
       "50%                     9.000000  \n",
       "75%                     9.000000  \n",
       "max                     9.000000  \n",
       "\n",
       "[8 rows x 34 columns]"
      ]
     },
     "execution_count": 34,
     "metadata": {},
     "output_type": "execute_result"
    }
   ],
   "source": [
    "consumidores.describe()"
   ]
  },
  {
   "cell_type": "markdown",
   "metadata": {},
   "source": [
    "### Valores inexistentes"
   ]
  },
  {
   "cell_type": "code",
   "execution_count": 35,
   "metadata": {},
   "outputs": [
    {
     "name": "stdout",
     "output_type": "stream",
     "text": [
      "per_sexo | 0.0 | int64\n",
      "vive_padre_hogar | 0.0 | int64\n",
      "vive_madre_hogar | 0.0 | int64\n",
      "departamento | 0.0 | object\n",
      "tipo_vivienda | 0.0 | int64\n",
      "residentes_hogar | 0.0 | int64\n",
      "d_01_aporta_dinero_hogar | 0.0 | int64\n",
      "d_08_estado_salud | 0.0 | int64\n",
      "d_09_deprimido | 0.0 | int64\n",
      "d_10_poco_interes | 0.0 | int64\n",
      "d_11_h_conocimiento_riesgo_fumar_marihuana_frecuentemente | 0.0 | int64\n",
      "d_11_k_conocimiento_riesgo_cocaina_frecuentemente | 0.0 | int64\n",
      "d_11_n_conocimiento_riesgo_fumar_basuco_frecuentemente | 0.0 | int64\n",
      "d_12_b_presenta_problema_consumo_sp_barrio | 0.0 | int64\n",
      "d_12_c_presenta_problema_expendio_sp_barrio | 0.0 | int64\n",
      "d2_01_etnia | 0.0 | int64\n",
      "d2_03_estado_civil | 0.0 | int64\n",
      "d2_04_num_hijos | 0.0 | int64\n",
      "d2_05_nivel_educativo | 0.0 | int64\n",
      "g_01_familiares_consumen_sp | 0.0 | int64\n",
      "g_01_a_num_familiares_consumen_sp | 0.7253 | float64\n",
      "g_02_amigos_consumen_sp | 0.0 | int64\n",
      "g_02_a_num_amigos_consumen_sp | 0.5718 | float64\n",
      "g_03_curiosidad_probar_sp | 0.0 | int64\n",
      "g_04_probaria_sp | 0.0 | int64\n",
      "g_05_posibilidad_probar_sp | 0.0 | int64\n",
      "g_06_a_posibilidad_conseguir_marihuana | 0.0 | int64\n",
      "g_06_b_posibilidad_conseguir_cocaina | 0.0 | int64\n",
      "g_06_c_posibilidad_conseguir_basuco | 0.0 | int64\n",
      "g_06_j_posibilidad_conseguir_heroina | 0.0 | int64\n",
      "g_07_alguien_ofrecio_comprar_probar_sp | 0.0 | int64\n",
      "g_08_a_ofrecieron_marihuana | 0.5134 | float64\n",
      "g_08_b_ofrecieron_cocaina | 0.5134 | float64\n",
      "g_08_c_ofrecieron_basuco | 0.5134 | float64\n",
      "g_08_e_ofrecieron_heroina | 0.5134 | float64\n",
      "per_edad_tipo | 0.0 | category\n",
      "estrato_tipo | 0.0 | category\n",
      "situacion_tipo | 0.0 | category\n",
      "frecuencia_consumo_marihuana_tipo | 0.0 | category\n",
      "frecuencia_consumo_cocaina_tipo | 0.0 | category\n",
      "frecuencia_consumo_basuco_tipo | 0.0 | category\n",
      "frecuencia_consumo_heroina_tipo | 0.0 | category\n"
     ]
    }
   ],
   "source": [
    "n_records = len(consumidores)\n",
    "def valores_inexistentes_col(df):\n",
    "    for columna in df:\n",
    "        print(\"{} | {} | {}\".format(\n",
    "            df[columna].name, len(df[df[columna].isnull()]) / (1.0*n_records), df[columna].dtype\n",
    "        ))\n",
    "\n",
    "valores_inexistentes_col(consumidores)"
   ]
  },
  {
   "cell_type": "markdown",
   "metadata": {},
   "source": [
    "Muchos algoritmos de Machine Learning requieren que no existan valores inexistentes (o NaN como se llaman a veces).\n",
    "\n",
    "Hay varias técnicas para tratar dichos valores:"
   ]
  },
  {
   "cell_type": "markdown",
   "metadata": {},
   "source": [
    "Reemplazar los valores inexistentes con un valor en particular. Por ejemplo 0 o \"null\" Es una forma simple de tratar estos valores pero añade un monton de ruido (asume que los valores inexistentes lo son por un motivo en concreto)"
   ]
  },
  {
   "cell_type": "code",
   "execution_count": 36,
   "metadata": {},
   "outputs": [
    {
     "data": {
      "text/plain": [
       "(10000, 48)"
      ]
     },
     "execution_count": 36,
     "metadata": {},
     "output_type": "execute_result"
    }
   ],
   "source": [
    "consumidores[\"g_01_a_num_familiares_consumen_sp_imp\"] = consumidores.g_01_a_num_familiares_consumen_sp.fillna(3)\n",
    "consumidores[\"g_02_a_num_amigos_consumen_sp_imp\"] = consumidores.g_02_a_num_amigos_consumen_sp.fillna(3)\n",
    "\n",
    "consumidores[\"g_08_a_ofrecieron_marihuana_imp\"] = consumidores.g_08_a_ofrecieron_marihuana.fillna(10)\n",
    "consumidores[\"g_08_b_ofrecieron_cocaina_imp\"] = consumidores.g_08_b_ofrecieron_cocaina.fillna(10)\n",
    "consumidores[\"g_08_c_ofrecieron_basuco_imp\"] = consumidores.g_08_c_ofrecieron_basuco.fillna(10)\n",
    "consumidores[\"g_08_e_ofrecieron_heroina_imp\"] = consumidores.g_08_e_ofrecieron_heroina.fillna(10)\n",
    "\n",
    "\n",
    "consumidores.shape"
   ]
  },
  {
   "cell_type": "markdown",
   "metadata": {},
   "source": [
    "Con los datos imputados ahora se procede a eliminar las vairables que han sido imputadas para asi poder eliminar el porcentaje de valores nulos que existen"
   ]
  },
  {
   "cell_type": "code",
   "execution_count": 37,
   "metadata": {},
   "outputs": [
    {
     "data": {
      "text/plain": [
       "(10000, 42)"
      ]
     },
     "execution_count": 37,
     "metadata": {},
     "output_type": "execute_result"
    }
   ],
   "source": [
    "del consumidores['g_01_a_num_familiares_consumen_sp']\n",
    "del consumidores['g_02_a_num_amigos_consumen_sp']\n",
    "del consumidores['g_08_a_ofrecieron_marihuana']\n",
    "del consumidores['g_08_b_ofrecieron_cocaina']\n",
    "del consumidores['g_08_c_ofrecieron_basuco']\n",
    "del consumidores['g_08_e_ofrecieron_heroina']\n",
    "\n",
    "consumidores.shape"
   ]
  },
  {
   "cell_type": "code",
   "execution_count": 38,
   "metadata": {},
   "outputs": [],
   "source": [
    "consumidores.g_01_a_num_familiares_consumen_sp_imp = consumidores.g_01_a_num_familiares_consumen_sp_imp.astype(\"int64\")\n",
    "consumidores.g_02_a_num_amigos_consumen_sp_imp = consumidores.g_02_a_num_amigos_consumen_sp_imp.astype(\"int64\")\n",
    "consumidores.g_08_a_ofrecieron_marihuana_imp = consumidores.g_08_a_ofrecieron_marihuana_imp.astype(\"int64\")\n",
    "consumidores.g_08_b_ofrecieron_cocaina_imp = consumidores.g_08_b_ofrecieron_cocaina_imp.astype(\"int64\")\n",
    "consumidores.g_08_c_ofrecieron_basuco_imp = consumidores.g_08_c_ofrecieron_basuco_imp.astype(\"int64\")\n",
    "consumidores.g_08_e_ofrecieron_heroina_imp = consumidores.g_08_e_ofrecieron_heroina_imp.astype(\"int64\")"
   ]
  },
  {
   "cell_type": "code",
   "execution_count": 39,
   "metadata": {},
   "outputs": [
    {
     "name": "stdout",
     "output_type": "stream",
     "text": [
      "per_sexo | 0.0 | int64\n",
      "vive_padre_hogar | 0.0 | int64\n",
      "vive_madre_hogar | 0.0 | int64\n",
      "departamento | 0.0 | object\n",
      "tipo_vivienda | 0.0 | int64\n",
      "residentes_hogar | 0.0 | int64\n",
      "d_01_aporta_dinero_hogar | 0.0 | int64\n",
      "d_08_estado_salud | 0.0 | int64\n",
      "d_09_deprimido | 0.0 | int64\n",
      "d_10_poco_interes | 0.0 | int64\n",
      "d_11_h_conocimiento_riesgo_fumar_marihuana_frecuentemente | 0.0 | int64\n",
      "d_11_k_conocimiento_riesgo_cocaina_frecuentemente | 0.0 | int64\n",
      "d_11_n_conocimiento_riesgo_fumar_basuco_frecuentemente | 0.0 | int64\n",
      "d_12_b_presenta_problema_consumo_sp_barrio | 0.0 | int64\n",
      "d_12_c_presenta_problema_expendio_sp_barrio | 0.0 | int64\n",
      "d2_01_etnia | 0.0 | int64\n",
      "d2_03_estado_civil | 0.0 | int64\n",
      "d2_04_num_hijos | 0.0 | int64\n",
      "d2_05_nivel_educativo | 0.0 | int64\n",
      "g_01_familiares_consumen_sp | 0.0 | int64\n",
      "g_02_amigos_consumen_sp | 0.0 | int64\n",
      "g_03_curiosidad_probar_sp | 0.0 | int64\n",
      "g_04_probaria_sp | 0.0 | int64\n",
      "g_05_posibilidad_probar_sp | 0.0 | int64\n",
      "g_06_a_posibilidad_conseguir_marihuana | 0.0 | int64\n",
      "g_06_b_posibilidad_conseguir_cocaina | 0.0 | int64\n",
      "g_06_c_posibilidad_conseguir_basuco | 0.0 | int64\n",
      "g_06_j_posibilidad_conseguir_heroina | 0.0 | int64\n",
      "g_07_alguien_ofrecio_comprar_probar_sp | 0.0 | int64\n",
      "per_edad_tipo | 0.0 | category\n",
      "estrato_tipo | 0.0 | category\n",
      "situacion_tipo | 0.0 | category\n",
      "frecuencia_consumo_marihuana_tipo | 0.0 | category\n",
      "frecuencia_consumo_cocaina_tipo | 0.0 | category\n",
      "frecuencia_consumo_basuco_tipo | 0.0 | category\n",
      "frecuencia_consumo_heroina_tipo | 0.0 | category\n",
      "g_01_a_num_familiares_consumen_sp_imp | 0.0 | int64\n",
      "g_02_a_num_amigos_consumen_sp_imp | 0.0 | int64\n",
      "g_08_a_ofrecieron_marihuana_imp | 0.0 | int64\n",
      "g_08_b_ofrecieron_cocaina_imp | 0.0 | int64\n",
      "g_08_c_ofrecieron_basuco_imp | 0.0 | int64\n",
      "g_08_e_ofrecieron_heroina_imp | 0.0 | int64\n"
     ]
    }
   ],
   "source": [
    "valores_inexistentes_col(consumidores)"
   ]
  },
  {
   "cell_type": "code",
   "execution_count": 40,
   "metadata": {},
   "outputs": [
    {
     "data": {
      "text/plain": [
       "Antioquia             1413\n",
       "Bogotá                 924\n",
       "Caldas                 523\n",
       "Valle                  456\n",
       "Bolivar                418\n",
       "Santander              411\n",
       "Atlantico              403\n",
       "Meta                   384\n",
       "Nariño                 357\n",
       "Risaralda              334\n",
       "Boyaca                 307\n",
       "Tolima                 296\n",
       "Norte de Santander     296\n",
       "Cordoba                287\n",
       "Cesar                  284\n",
       "Sucre                  275\n",
       "Guaviare               246\n",
       "Cauca                  243\n",
       "Magdalena              242\n",
       "Quindio                232\n",
       "La Guajira             219\n",
       "Caqueta                207\n",
       "Cundinamarca           201\n",
       "Huila                  198\n",
       "Choco                  177\n",
       "Casanare               175\n",
       "Arauca                 149\n",
       "Putumayo               133\n",
       "Guainia                 55\n",
       "Amazonas                51\n",
       "San Andres              38\n",
       "Vichada                 36\n",
       "Vaupes                  30\n",
       "Name: departamento, dtype: int64"
      ]
     },
     "execution_count": 40,
     "metadata": {},
     "output_type": "execute_result"
    }
   ],
   "source": [
    "consumidores.departamento.value_counts(normalize=False)"
   ]
  },
  {
   "cell_type": "code",
   "execution_count": 41,
   "metadata": {},
   "outputs": [],
   "source": [
    "consumidores['departamento'] = consumidores['departamento'].replace({\"Bogotá\":\"Cundinamarca\"})"
   ]
  },
  {
   "cell_type": "code",
   "execution_count": 42,
   "metadata": {},
   "outputs": [
    {
     "data": {
      "text/plain": [
       "Antioquia             1413\n",
       "Cundinamarca          1125\n",
       "Caldas                 523\n",
       "Valle                  456\n",
       "Bolivar                418\n",
       "Santander              411\n",
       "Atlantico              403\n",
       "Meta                   384\n",
       "Nariño                 357\n",
       "Risaralda              334\n",
       "Boyaca                 307\n",
       "Tolima                 296\n",
       "Norte de Santander     296\n",
       "Cordoba                287\n",
       "Cesar                  284\n",
       "Sucre                  275\n",
       "Guaviare               246\n",
       "Cauca                  243\n",
       "Magdalena              242\n",
       "Quindio                232\n",
       "La Guajira             219\n",
       "Caqueta                207\n",
       "Huila                  198\n",
       "Choco                  177\n",
       "Casanare               175\n",
       "Arauca                 149\n",
       "Putumayo               133\n",
       "Guainia                 55\n",
       "Amazonas                51\n",
       "San Andres              38\n",
       "Vichada                 36\n",
       "Vaupes                  30\n",
       "Name: departamento, dtype: int64"
      ]
     },
     "execution_count": 42,
     "metadata": {},
     "output_type": "execute_result"
    }
   ],
   "source": [
    "consumidores.departamento.value_counts(normalize=False)"
   ]
  },
  {
   "cell_type": "markdown",
   "metadata": {},
   "source": [
    "Otras técnicas incluyen:\n",
    "\n",
    "\n",
    "- Usar un modelo predictivo para predecir los valores inexistentes, usando como informacion los records con la informacion completa\n",
    "\n",
    "- Metodos más sofisticados: [MICE](https://www.ncbi.nlm.nih.gov/pmc/articles/PMC3074241/), en este [repositorio](https://github.com/hammerlab/fancyimpute) hay mas métodos\n",
    "\n",
    "[Aqui](https://gallery.cortanaintelligence.com/Experiment/Methods-for-handling-missing-values-1) hay mas estrategias"
   ]
  },
  {
   "cell_type": "markdown",
   "metadata": {},
   "source": [
    "Finalmente, guardamos en csv o pkl el dataset limpio"
   ]
  },
  {
   "cell_type": "code",
   "execution_count": 43,
   "metadata": {},
   "outputs": [],
   "source": [
    "consumidores.to_pickle(\"C:/Users/Danny/Desktop/Analisis tesis/Analisis exploratorio de datos/data/consumidores_procesado.pkl\")\n",
    "consumidores.to_csv(\"C:/Users/Danny/Desktop/Analisis tesis/Analisis exploratorio de datos/data/consumidores_procesado.csv\", index=False)"
   ]
  },
  {
   "cell_type": "markdown",
   "metadata": {},
   "source": [
    "### links\n",
    "\n",
    "http://sebastianraschka.com/Articles/2014_about_feature_scaling.html#about-standardization"
   ]
  },
  {
   "cell_type": "code",
   "execution_count": null,
   "metadata": {},
   "outputs": [],
   "source": []
  }
 ],
 "metadata": {
  "kernelspec": {
   "display_name": "Python 3 (ipykernel)",
   "language": "python",
   "name": "python3"
  },
  "language_info": {
   "codemirror_mode": {
    "name": "ipython",
    "version": 3
   },
   "file_extension": ".py",
   "mimetype": "text/x-python",
   "name": "python",
   "nbconvert_exporter": "python",
   "pygments_lexer": "ipython3",
   "version": "3.10.11"
  }
 },
 "nbformat": 4,
 "nbformat_minor": 2
}
