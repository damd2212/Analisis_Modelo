{
 "cells": [
  {
   "cell_type": "code",
   "execution_count": 3,
   "id": "77268bab",
   "metadata": {},
   "outputs": [],
   "source": [
    "import pandas as pd\n",
    "import numpy as np\n",
    "import matplotlib.pyplot as plt"
   ]
  },
  {
   "cell_type": "code",
   "execution_count": 4,
   "id": "5785145d",
   "metadata": {},
   "outputs": [],
   "source": [
    "consumidores = pd.read_csv(\"C:/Users/Danny/Desktop/Analisis tesis/4 - Pipelines/data/df_consumo_varObjetivo.csv\")"
   ]
  },
  {
   "cell_type": "code",
   "execution_count": 5,
   "id": "da2c3dc8",
   "metadata": {},
   "outputs": [
    {
     "data": {
      "text/html": [
       "<div>\n",
       "<style scoped>\n",
       "    .dataframe tbody tr th:only-of-type {\n",
       "        vertical-align: middle;\n",
       "    }\n",
       "\n",
       "    .dataframe tbody tr th {\n",
       "        vertical-align: top;\n",
       "    }\n",
       "\n",
       "    .dataframe thead th {\n",
       "        text-align: right;\n",
       "    }\n",
       "</style>\n",
       "<table border=\"1\" class=\"dataframe\">\n",
       "  <thead>\n",
       "    <tr style=\"text-align: right;\">\n",
       "      <th></th>\n",
       "      <th>departamento</th>\n",
       "      <th>residentes_hogar</th>\n",
       "      <th>d2_04_num_hijos</th>\n",
       "      <th>per_edad_tipo</th>\n",
       "      <th>estrato_tipo</th>\n",
       "      <th>situacion_tipo</th>\n",
       "      <th>frecuencia_consumo_marihuana_tipo</th>\n",
       "      <th>frecuencia_consumo_cocaina_tipo</th>\n",
       "      <th>frecuencia_consumo_basuco_tipo</th>\n",
       "      <th>per_sexo_tipo</th>\n",
       "      <th>...</th>\n",
       "      <th>g_06_a_posibilidad_conseguir_marihuana_tipo</th>\n",
       "      <th>g_06_b_posibilidad_conseguir_cocaina_tipo</th>\n",
       "      <th>g_06_c_posibilidad_conseguir_basuco_tipo</th>\n",
       "      <th>g_07_alguien_ofrecio_comprar_probar_sp_tipo</th>\n",
       "      <th>g_01_a_num_familiares_consumen_sp_imp_tipo</th>\n",
       "      <th>g_02_a_num_amigos_consumen_sp_imp_tipo</th>\n",
       "      <th>g_08_a_ofrecieron_marihuana_imp_tipo</th>\n",
       "      <th>g_08_b_ofrecieron_cocaina_imp_tipo</th>\n",
       "      <th>g_08_c_ofrecieron_basuco_imp_tipo</th>\n",
       "      <th>CatRiesgo</th>\n",
       "    </tr>\n",
       "  </thead>\n",
       "  <tbody>\n",
       "    <tr>\n",
       "      <th>0</th>\n",
       "      <td>Guaviare</td>\n",
       "      <td>5</td>\n",
       "      <td>0</td>\n",
       "      <td>Joven</td>\n",
       "      <td>Estrato bajo</td>\n",
       "      <td>Trabajando</td>\n",
       "      <td>Nunca</td>\n",
       "      <td>Nunca</td>\n",
       "      <td>Nunca</td>\n",
       "      <td>Hombre</td>\n",
       "      <td>...</td>\n",
       "      <td>g_06_a_No_conoce_facilidad_dificultad</td>\n",
       "      <td>g_06_b_No_conoce_facilidad_dificultad</td>\n",
       "      <td>g_06_c_No_conoce_facilidad_dificultad</td>\n",
       "      <td>g_07_No</td>\n",
       "      <td>g_01_a_No_aplica</td>\n",
       "      <td>g_02_a_Dos_o_mas</td>\n",
       "      <td>g_08_a_No_aplica</td>\n",
       "      <td>g_08_b_No_aplica</td>\n",
       "      <td>g_08_c_No_aplica</td>\n",
       "      <td>0</td>\n",
       "    </tr>\n",
       "    <tr>\n",
       "      <th>1</th>\n",
       "      <td>Cordoba</td>\n",
       "      <td>4</td>\n",
       "      <td>3</td>\n",
       "      <td>Adulto</td>\n",
       "      <td>Estrato bajo</td>\n",
       "      <td>Trabajando</td>\n",
       "      <td>Nunca</td>\n",
       "      <td>Nunca</td>\n",
       "      <td>Nunca</td>\n",
       "      <td>Mujer</td>\n",
       "      <td>...</td>\n",
       "      <td>g_06_a_Seria_facil</td>\n",
       "      <td>g_06_b_Seria_facil</td>\n",
       "      <td>g_06_c_Seria_facil</td>\n",
       "      <td>g_07_No</td>\n",
       "      <td>g_01_a_No_aplica</td>\n",
       "      <td>g_02_a_No_aplica</td>\n",
       "      <td>g_08_a_No_aplica</td>\n",
       "      <td>g_08_b_No_aplica</td>\n",
       "      <td>g_08_c_No_aplica</td>\n",
       "      <td>0</td>\n",
       "    </tr>\n",
       "    <tr>\n",
       "      <th>2</th>\n",
       "      <td>Caqueta</td>\n",
       "      <td>4</td>\n",
       "      <td>2</td>\n",
       "      <td>Adulto</td>\n",
       "      <td>Estrato bajo</td>\n",
       "      <td>Trabajando</td>\n",
       "      <td>Nunca</td>\n",
       "      <td>Nunca</td>\n",
       "      <td>Nunca</td>\n",
       "      <td>Hombre</td>\n",
       "      <td>...</td>\n",
       "      <td>g_06_a_No_conoce_facilidad_dificultad</td>\n",
       "      <td>g_06_b_No_conoce_facilidad_dificultad</td>\n",
       "      <td>g_06_c_No_conoce_facilidad_dificultad</td>\n",
       "      <td>g_07_No</td>\n",
       "      <td>g_01_a_No_aplica</td>\n",
       "      <td>g_02_a_No_aplica</td>\n",
       "      <td>g_08_a_No_aplica</td>\n",
       "      <td>g_08_b_No_aplica</td>\n",
       "      <td>g_08_c_No_aplica</td>\n",
       "      <td>0</td>\n",
       "    </tr>\n",
       "    <tr>\n",
       "      <th>3</th>\n",
       "      <td>Bolivar</td>\n",
       "      <td>6</td>\n",
       "      <td>0</td>\n",
       "      <td>Adulto</td>\n",
       "      <td>Estrato alto</td>\n",
       "      <td>Trabajando</td>\n",
       "      <td>Nunca</td>\n",
       "      <td>Nunca</td>\n",
       "      <td>Nunca</td>\n",
       "      <td>Mujer</td>\n",
       "      <td>...</td>\n",
       "      <td>g_06_a_No_podria_conseguir</td>\n",
       "      <td>g_06_b_No_podria_conseguir</td>\n",
       "      <td>g_06_c_No_podria_conseguir</td>\n",
       "      <td>g_07_No</td>\n",
       "      <td>g_01_a_No_aplica</td>\n",
       "      <td>g_02_a_No_aplica</td>\n",
       "      <td>g_08_a_No_aplica</td>\n",
       "      <td>g_08_b_No_aplica</td>\n",
       "      <td>g_08_c_No_aplica</td>\n",
       "      <td>0</td>\n",
       "    </tr>\n",
       "    <tr>\n",
       "      <th>4</th>\n",
       "      <td>Tolima</td>\n",
       "      <td>4</td>\n",
       "      <td>1</td>\n",
       "      <td>Joven</td>\n",
       "      <td>Estrato bajo</td>\n",
       "      <td>Buscando trabajo</td>\n",
       "      <td>Nunca</td>\n",
       "      <td>Nunca</td>\n",
       "      <td>Nunca</td>\n",
       "      <td>Mujer</td>\n",
       "      <td>...</td>\n",
       "      <td>g_06_a_Seria_facil</td>\n",
       "      <td>g_06_b_Seria_facil</td>\n",
       "      <td>g_06_c_Seria_facil</td>\n",
       "      <td>g_07_No</td>\n",
       "      <td>g_01_a_No_aplica</td>\n",
       "      <td>g_02_a_Dos_o_mas</td>\n",
       "      <td>g_08_a_No_aplica</td>\n",
       "      <td>g_08_b_No_aplica</td>\n",
       "      <td>g_08_c_No_aplica</td>\n",
       "      <td>1</td>\n",
       "    </tr>\n",
       "  </tbody>\n",
       "</table>\n",
       "<p>5 rows × 40 columns</p>\n",
       "</div>"
      ],
      "text/plain": [
       "  departamento  residentes_hogar  d2_04_num_hijos per_edad_tipo  estrato_tipo  \\\n",
       "0     Guaviare                 5                0         Joven  Estrato bajo   \n",
       "1      Cordoba                 4                3        Adulto  Estrato bajo   \n",
       "2      Caqueta                 4                2        Adulto  Estrato bajo   \n",
       "3      Bolivar                 6                0        Adulto  Estrato alto   \n",
       "4       Tolima                 4                1         Joven  Estrato bajo   \n",
       "\n",
       "     situacion_tipo frecuencia_consumo_marihuana_tipo  \\\n",
       "0        Trabajando                             Nunca   \n",
       "1        Trabajando                             Nunca   \n",
       "2        Trabajando                             Nunca   \n",
       "3        Trabajando                             Nunca   \n",
       "4  Buscando trabajo                             Nunca   \n",
       "\n",
       "  frecuencia_consumo_cocaina_tipo frecuencia_consumo_basuco_tipo  \\\n",
       "0                           Nunca                          Nunca   \n",
       "1                           Nunca                          Nunca   \n",
       "2                           Nunca                          Nunca   \n",
       "3                           Nunca                          Nunca   \n",
       "4                           Nunca                          Nunca   \n",
       "\n",
       "  per_sexo_tipo  ... g_06_a_posibilidad_conseguir_marihuana_tipo  \\\n",
       "0        Hombre  ...       g_06_a_No_conoce_facilidad_dificultad   \n",
       "1         Mujer  ...                          g_06_a_Seria_facil   \n",
       "2        Hombre  ...       g_06_a_No_conoce_facilidad_dificultad   \n",
       "3         Mujer  ...                  g_06_a_No_podria_conseguir   \n",
       "4         Mujer  ...                          g_06_a_Seria_facil   \n",
       "\n",
       "  g_06_b_posibilidad_conseguir_cocaina_tipo  \\\n",
       "0     g_06_b_No_conoce_facilidad_dificultad   \n",
       "1                        g_06_b_Seria_facil   \n",
       "2     g_06_b_No_conoce_facilidad_dificultad   \n",
       "3                g_06_b_No_podria_conseguir   \n",
       "4                        g_06_b_Seria_facil   \n",
       "\n",
       "  g_06_c_posibilidad_conseguir_basuco_tipo  \\\n",
       "0    g_06_c_No_conoce_facilidad_dificultad   \n",
       "1                       g_06_c_Seria_facil   \n",
       "2    g_06_c_No_conoce_facilidad_dificultad   \n",
       "3               g_06_c_No_podria_conseguir   \n",
       "4                       g_06_c_Seria_facil   \n",
       "\n",
       "  g_07_alguien_ofrecio_comprar_probar_sp_tipo  \\\n",
       "0                                     g_07_No   \n",
       "1                                     g_07_No   \n",
       "2                                     g_07_No   \n",
       "3                                     g_07_No   \n",
       "4                                     g_07_No   \n",
       "\n",
       "  g_01_a_num_familiares_consumen_sp_imp_tipo  \\\n",
       "0                           g_01_a_No_aplica   \n",
       "1                           g_01_a_No_aplica   \n",
       "2                           g_01_a_No_aplica   \n",
       "3                           g_01_a_No_aplica   \n",
       "4                           g_01_a_No_aplica   \n",
       "\n",
       "  g_02_a_num_amigos_consumen_sp_imp_tipo g_08_a_ofrecieron_marihuana_imp_tipo  \\\n",
       "0                       g_02_a_Dos_o_mas                     g_08_a_No_aplica   \n",
       "1                       g_02_a_No_aplica                     g_08_a_No_aplica   \n",
       "2                       g_02_a_No_aplica                     g_08_a_No_aplica   \n",
       "3                       g_02_a_No_aplica                     g_08_a_No_aplica   \n",
       "4                       g_02_a_Dos_o_mas                     g_08_a_No_aplica   \n",
       "\n",
       "  g_08_b_ofrecieron_cocaina_imp_tipo g_08_c_ofrecieron_basuco_imp_tipo  \\\n",
       "0                   g_08_b_No_aplica                  g_08_c_No_aplica   \n",
       "1                   g_08_b_No_aplica                  g_08_c_No_aplica   \n",
       "2                   g_08_b_No_aplica                  g_08_c_No_aplica   \n",
       "3                   g_08_b_No_aplica                  g_08_c_No_aplica   \n",
       "4                   g_08_b_No_aplica                  g_08_c_No_aplica   \n",
       "\n",
       "  CatRiesgo  \n",
       "0         0  \n",
       "1         0  \n",
       "2         0  \n",
       "3         0  \n",
       "4         1  \n",
       "\n",
       "[5 rows x 40 columns]"
      ]
     },
     "execution_count": 5,
     "metadata": {},
     "output_type": "execute_result"
    }
   ],
   "source": [
    "consumidores.head()"
   ]
  },
  {
   "cell_type": "code",
   "execution_count": 6,
   "id": "b4141406",
   "metadata": {},
   "outputs": [
    {
     "data": {
      "text/plain": [
       "{'departamento': 'Guaviare',\n",
       " 'residentes_hogar': 5,\n",
       " 'd2_04_num_hijos': 0,\n",
       " 'per_edad_tipo': 'Joven',\n",
       " 'estrato_tipo': 'Estrato bajo',\n",
       " 'situacion_tipo': 'Trabajando',\n",
       " 'frecuencia_consumo_marihuana_tipo': 'Nunca',\n",
       " 'frecuencia_consumo_cocaina_tipo': 'Nunca',\n",
       " 'frecuencia_consumo_basuco_tipo': 'Nunca',\n",
       " 'per_sexo_tipo': 'Hombre',\n",
       " 'vive_padre_hogar_tipo': 'vive_padre_hogar_No',\n",
       " 'vive_madre_hogar_tipo': 'vive_madre_hogar_No',\n",
       " 'vivienda_tipo': 'Apartamento',\n",
       " 'd_01_aporta_dinero_hogar_tipo': 'd_01_Si',\n",
       " 'd_08_estado_salud_tipo': 'd_08_Malo',\n",
       " 'd_09_deprimido_tipo': 'd_09_Si',\n",
       " 'd_10_poco_interes_tipo': 'd_10_Si',\n",
       " 'd_11_h_conocimiento_riesgo_fumar_marihuana_frecuentemente_tipo': 'd_11_h_Gran_riesgo',\n",
       " 'd_11_k_conocimiento_riesgo_cocaina_frecuentemente_tipo': 'd_11_k_Gran_riesgo',\n",
       " 'd_11_n_conocimiento_riesgo_fumar_basuco_frecuentemente_tipo': 'd_11_n_Gran_riesgo',\n",
       " 'd_12_b_presenta_problema_consumo_sp_barrio_tipo': 'd_12_b_No',\n",
       " 'd_12_c_presenta_problema_expendio_sp_barrio_tipo': 'd_12_c_No',\n",
       " 'd2_01_etnia_tipo': 'd2_01_Ninguno',\n",
       " 'd2_03_estado_civil_tipo': 'd2_03_Soltero',\n",
       " 'd2_05_nivel_educativo_tipo': 'd2_05_Media',\n",
       " 'g_01_familiares_consumen_sp_tipo': 'g_01_No',\n",
       " 'g_02_amigos_consumen_sp_tipo': 'g_02_Si',\n",
       " 'g_03_curiosidad_probar_sp_tipo': 'g_03_No',\n",
       " 'g_04_probaria_sp_tipo': 'g_04_No',\n",
       " 'g_05_posibilidad_probar_sp_tipo': 'g_05_No',\n",
       " 'g_06_a_posibilidad_conseguir_marihuana_tipo': 'g_06_a_No_conoce_facilidad_dificultad',\n",
       " 'g_06_b_posibilidad_conseguir_cocaina_tipo': 'g_06_b_No_conoce_facilidad_dificultad',\n",
       " 'g_06_c_posibilidad_conseguir_basuco_tipo': 'g_06_c_No_conoce_facilidad_dificultad',\n",
       " 'g_07_alguien_ofrecio_comprar_probar_sp_tipo': 'g_07_No',\n",
       " 'g_01_a_num_familiares_consumen_sp_imp_tipo': 'g_01_a_No_aplica',\n",
       " 'g_02_a_num_amigos_consumen_sp_imp_tipo': 'g_02_a_Dos_o_mas',\n",
       " 'g_08_a_ofrecieron_marihuana_imp_tipo': 'g_08_a_No_aplica',\n",
       " 'g_08_b_ofrecieron_cocaina_imp_tipo': 'g_08_b_No_aplica',\n",
       " 'g_08_c_ofrecieron_basuco_imp_tipo': 'g_08_c_No_aplica',\n",
       " 'CatRiesgo': 0}"
      ]
     },
     "execution_count": 6,
     "metadata": {},
     "output_type": "execute_result"
    }
   ],
   "source": [
    "nueva_observacion = consumidores.to_dict(orient=\"records\")[0]\n",
    "nueva_observacion"
   ]
  },
  {
   "cell_type": "code",
   "execution_count": 48,
   "id": "137e7a3d",
   "metadata": {},
   "outputs": [
    {
     "data": {
      "text/plain": [
       "array(['g_03_No', 'g_03_Si'], dtype=object)"
      ]
     },
     "execution_count": 48,
     "metadata": {},
     "output_type": "execute_result"
    }
   ],
   "source": [
    "consumidores['g_03_curiosidad_probar_sp_tipo'].unique()"
   ]
  },
  {
   "cell_type": "code",
   "execution_count": 5,
   "id": "f4eae9f7",
   "metadata": {},
   "outputs": [],
   "source": [
    "dict_todos = consumidores['departamento'].value_counts()\n"
   ]
  },
  {
   "cell_type": "code",
   "execution_count": 6,
   "id": "0e620f49",
   "metadata": {},
   "outputs": [
    {
     "data": {
      "text/plain": [
       "'{\"Antioquia\":1413,\"Cundinamarca\":1125,\"Caldas\":523,\"Valle\":456,\"Bolivar\":418,\"Santander\":411,\"Atlantico\":403,\"Meta\":384,\"Nari\\\\u00f1o\":357,\"Risaralda\":334,\"Boyaca\":307,\"Tolima\":296,\"Norte de Santander\":296,\"Cordoba\":287,\"Cesar\":284,\"Sucre\":275,\"Guaviare\":246,\"Cauca\":243,\"Magdalena\":242,\"Quindio\":232,\"La Guajira\":219,\"Caqueta\":207,\"Huila\":198,\"Choco\":177,\"Casanare\":175,\"Arauca\":149,\"Putumayo\":133,\"Guainia\":55,\"Amazonas\":51,\"San Andres\":38,\"Vichada\":36,\"Vaupes\":30}'"
      ]
     },
     "execution_count": 6,
     "metadata": {},
     "output_type": "execute_result"
    }
   ],
   "source": [
    "dict_todos.to_json()"
   ]
  },
  {
   "cell_type": "code",
   "execution_count": 7,
   "id": "67f0d6e4",
   "metadata": {},
   "outputs": [],
   "source": [
    "conteo_data = consumidores[consumidores['CatRiesgo'] == 1]['departamento'].value_counts()"
   ]
  },
  {
   "cell_type": "code",
   "execution_count": 8,
   "id": "58827ebb",
   "metadata": {},
   "outputs": [
    {
     "name": "stdout",
     "output_type": "stream",
     "text": [
      "<class 'pandas.core.series.Series'>\n"
     ]
    }
   ],
   "source": [
    "print(type(conteo_data))"
   ]
  },
  {
   "cell_type": "code",
   "execution_count": 13,
   "id": "21528e60",
   "metadata": {},
   "outputs": [
    {
     "data": {
      "text/plain": [
       "{'Antioquia': 313,\n",
       " 'Cundinamarca': 254,\n",
       " 'Valle': 121,\n",
       " 'Nariño': 108,\n",
       " 'Caldas': 96,\n",
       " 'Santander': 95,\n",
       " 'Bolivar': 87,\n",
       " 'Atlantico': 85,\n",
       " 'Meta': 80,\n",
       " 'Risaralda': 74,\n",
       " 'Guaviare': 69,\n",
       " 'Magdalena': 67,\n",
       " 'Boyaca': 64,\n",
       " 'Quindio': 61,\n",
       " 'Cordoba': 61,\n",
       " 'Tolima': 61,\n",
       " 'Norte de Santander': 60,\n",
       " 'La Guajira': 57,\n",
       " 'Cauca': 56,\n",
       " 'Caqueta': 50,\n",
       " 'Sucre': 49,\n",
       " 'Huila': 47,\n",
       " 'Cesar': 46,\n",
       " 'Casanare': 46,\n",
       " 'Putumayo': 41,\n",
       " 'Arauca': 39,\n",
       " 'Choco': 39,\n",
       " 'Guainia': 14,\n",
       " 'Vaupes': 13,\n",
       " 'Amazonas': 10,\n",
       " 'Vichada': 6,\n",
       " 'San Andres': 4}"
      ]
     },
     "execution_count": 13,
     "metadata": {},
     "output_type": "execute_result"
    }
   ],
   "source": [
    "dict_data = conteo_data.to_dict();\n",
    "dict_data"
   ]
  },
  {
   "cell_type": "code",
   "execution_count": null,
   "id": "59926a91",
   "metadata": {},
   "outputs": [],
   "source": [
    "#data_departamentos"
   ]
  },
  {
   "cell_type": "code",
   "execution_count": 10,
   "id": "aeba26b3",
   "metadata": {},
   "outputs": [
    {
     "data": {
      "text/plain": [
       "{'Antioquia': 'Antioquia',\n",
       " 'Cundinamarca': 'Cundinamarca',\n",
       " 'Caldas': 'Caldas',\n",
       " 'Valle': 'Valle del Cauca',\n",
       " 'Bolivar': 'Bolívar',\n",
       " 'Santander': 'Santander',\n",
       " 'Atlantico': 'Atlántico',\n",
       " 'Meta': 'Meta',\n",
       " 'Nariño': 'Nariño',\n",
       " 'Risaralda': 'Risaralda',\n",
       " 'Boyaca': 'Boyacá',\n",
       " 'Tolima': 'Tolima',\n",
       " 'Norte de Santander': 'Norte de Santander',\n",
       " 'Cordoba': 'Córdoba',\n",
       " 'Cesar': 'Cesar',\n",
       " 'Sucre': 'Sucre',\n",
       " 'Guaviare': 'Guaviare',\n",
       " 'Cauca': 'Cauca',\n",
       " 'Magdalena': 'Magdalena',\n",
       " 'Quindio': 'Quindío',\n",
       " 'La Guajira': 'La Guajira',\n",
       " 'Caqueta': 'Caquetá',\n",
       " 'Huila': 'Huila',\n",
       " 'Choco': 'Chocó',\n",
       " 'Casanare': 'Casanare',\n",
       " 'Arauca': 'Arauca',\n",
       " 'Putumayo': 'Putumayo',\n",
       " 'Guainia': 'Guainía',\n",
       " 'Amazonas': 'Amazonas',\n",
       " 'San Andres': 'San Andrés',\n",
       " 'Vichada': 'Vichada',\n",
       " 'Vaupes': 'Vaupés'}"
      ]
     },
     "execution_count": 10,
     "metadata": {},
     "output_type": "execute_result"
    }
   ],
   "source": [
    "mi_diccionario = {}\n",
    "\n",
    "# Agregar elementos al diccionario\n",
    "mi_diccionario['Antioquia'] = 'Antioquia'\n",
    "mi_diccionario['Cundinamarca'] = 'Cundinamarca'\n",
    "mi_diccionario['Caldas'] = 'Caldas'\n",
    "mi_diccionario['Valle'] = 'Valle del Cauca'\n",
    "mi_diccionario['Bolivar'] = 'Bolívar'\n",
    "mi_diccionario['Santander'] = 'Santander'\n",
    "mi_diccionario['Atlantico'] = 'Atlántico'\n",
    "mi_diccionario['Meta'] = 'Meta'\n",
    "mi_diccionario['Nariño'] = 'Nariño'\n",
    "mi_diccionario['Risaralda'] = 'Risaralda'\n",
    "mi_diccionario['Boyaca'] = 'Boyacá'\n",
    "mi_diccionario['Tolima'] = 'Tolima'\n",
    "mi_diccionario['Norte de Santander'] = 'Norte de Santander'\n",
    "mi_diccionario['Cordoba'] = 'Córdoba'\n",
    "mi_diccionario['Cesar'] = 'Cesar'\n",
    "mi_diccionario['Sucre'] = 'Sucre'\n",
    "mi_diccionario['Guaviare'] = 'Guaviare'\n",
    "mi_diccionario['Cauca'] = 'Cauca'\n",
    "mi_diccionario['Magdalena'] = 'Magdalena'\n",
    "mi_diccionario['Quindio'] = 'Quindío'\n",
    "mi_diccionario['La Guajira'] = 'La Guajira'\n",
    "mi_diccionario['Caqueta'] = 'Caquetá'\n",
    "mi_diccionario['Huila'] = 'Huila'\n",
    "mi_diccionario['Choco'] = 'Chocó'\n",
    "mi_diccionario['Casanare'] = 'Casanare'\n",
    "mi_diccionario['Arauca'] = 'Arauca'\n",
    "mi_diccionario['Putumayo'] = 'Putumayo'\n",
    "mi_diccionario['Guainia'] = 'Guainía'\n",
    "mi_diccionario['Amazonas'] = 'Amazonas'\n",
    "mi_diccionario['San Andres'] = 'San Andrés'\n",
    "mi_diccionario['Vichada'] = 'Vichada'\n",
    "mi_diccionario['Vaupes'] = 'Vaupés'\n",
    "\n",
    "# Imprimir el diccionario\n",
    "mi_diccionario"
   ]
  },
  {
   "cell_type": "code",
   "execution_count": 11,
   "id": "5b41bc04",
   "metadata": {},
   "outputs": [
    {
     "data": {
      "text/plain": [
       "{'Antioquia': 313,\n",
       " 'Cundinamarca': 254,\n",
       " 'Valle del Cauca': 121,\n",
       " 'Nariño': 108,\n",
       " 'Caldas': 96,\n",
       " 'Santander': 95,\n",
       " 'Bolívar': 87,\n",
       " 'Atlántico': 85,\n",
       " 'Meta': 80,\n",
       " 'Risaralda': 74,\n",
       " 'Guaviare': 69,\n",
       " 'Magdalena': 67,\n",
       " 'Boyacá': 64,\n",
       " 'Quindío': 61,\n",
       " 'Córdoba': 61,\n",
       " 'Tolima': 61,\n",
       " 'Norte de Santander': 60,\n",
       " 'La Guajira': 57,\n",
       " 'Cauca': 56,\n",
       " 'Caquetá': 50,\n",
       " 'Sucre': 49,\n",
       " 'Huila': 47,\n",
       " 'Cesar': 46,\n",
       " 'Casanare': 46,\n",
       " 'Putumayo': 41,\n",
       " 'Arauca': 39,\n",
       " 'Chocó': 39,\n",
       " 'Guainía': 14,\n",
       " 'Vaupés': 13,\n",
       " 'Amazonas': 10,\n",
       " 'Vichada': 6,\n",
       " 'San Andrés': 4}"
      ]
     },
     "execution_count": 11,
     "metadata": {},
     "output_type": "execute_result"
    }
   ],
   "source": [
    "nuevo_diccionario = {mi_diccionario[clave]: valor for clave, valor in dict_data.items()}\n",
    "nuevo_diccionario"
   ]
  },
  {
   "cell_type": "code",
   "execution_count": 24,
   "id": "f1f65f9a",
   "metadata": {},
   "outputs": [],
   "source": [
    "mi_diccionario_riesgo = {0:'Muy bajo', 1:'Bajo', 2:'Medio', 3:'Alto',4:'Muy alto'}"
   ]
  },
  {
   "cell_type": "code",
   "execution_count": 25,
   "id": "69adb2e7",
   "metadata": {},
   "outputs": [],
   "source": [
    "conteo_data_riesgo = consumidores['CatRiesgo'].value_counts()"
   ]
  },
  {
   "cell_type": "code",
   "execution_count": 26,
   "id": "421dd129",
   "metadata": {},
   "outputs": [
    {
     "data": {
      "text/plain": [
       "{0: 4309, 2: 2399, 1: 2273, 3: 594, 4: 425}"
      ]
     },
     "execution_count": 26,
     "metadata": {},
     "output_type": "execute_result"
    }
   ],
   "source": [
    "dict_data_riesgo = conteo_data_riesgo.to_dict()\n",
    "dict_data_riesgo"
   ]
  },
  {
   "cell_type": "code",
   "execution_count": 27,
   "id": "eb9cbf23",
   "metadata": {},
   "outputs": [
    {
     "data": {
      "text/plain": [
       "{'Muy bajo': 4309, 'Medio': 2399, 'Bajo': 2273, 'Alto': 594, 'Muy alto': 425}"
      ]
     },
     "execution_count": 27,
     "metadata": {},
     "output_type": "execute_result"
    }
   ],
   "source": [
    "nuevo_diccionario_riesgo = {mi_diccionario_riesgo[clave]: valor for clave, valor in dict_data_riesgo.items()}\n",
    "nuevo_diccionario_riesgo"
   ]
  },
  {
   "cell_type": "code",
   "execution_count": null,
   "id": "5bbe79e2",
   "metadata": {},
   "outputs": [],
   "source": []
  }
 ],
 "metadata": {
  "kernelspec": {
   "display_name": "Python 3 (ipykernel)",
   "language": "python",
   "name": "python3"
  },
  "language_info": {
   "codemirror_mode": {
    "name": "ipython",
    "version": 3
   },
   "file_extension": ".py",
   "mimetype": "text/x-python",
   "name": "python",
   "nbconvert_exporter": "python",
   "pygments_lexer": "ipython3",
   "version": "3.10.11"
  }
 },
 "nbformat": 4,
 "nbformat_minor": 5
}
