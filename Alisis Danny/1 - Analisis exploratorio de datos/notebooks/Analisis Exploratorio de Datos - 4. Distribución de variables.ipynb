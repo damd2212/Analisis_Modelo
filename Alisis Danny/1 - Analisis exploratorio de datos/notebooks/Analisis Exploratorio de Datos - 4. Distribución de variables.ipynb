{
 "cells": [
  {
   "cell_type": "code",
   "execution_count": 1,
   "metadata": {},
   "outputs": [
    {
     "name": "stdout",
     "output_type": "stream",
     "text": [
      "Last updated: 2023-06-26T14:42:39.535663-05:00\n",
      "\n",
      "Python implementation: CPython\n",
      "Python version       : 3.10.11\n",
      "IPython version      : 8.13.2\n",
      "\n",
      "Compiler    : MSC v.1916 64 bit (AMD64)\n",
      "OS          : Windows\n",
      "Release     : 10\n",
      "Machine     : AMD64\n",
      "Processor   : Intel64 Family 6 Model 158 Stepping 10, GenuineIntel\n",
      "CPU cores   : 8\n",
      "Architecture: 64bit\n",
      "\n"
     ]
    }
   ],
   "source": [
    "%load_ext watermark\n",
    "%watermark"
   ]
  },
  {
   "cell_type": "code",
   "execution_count": 2,
   "metadata": {},
   "outputs": [],
   "source": [
    "#import sys\n",
    "#!conda install --yes --prefix {sys.prefix} seaborn"
   ]
  },
  {
   "cell_type": "code",
   "execution_count": 3,
   "metadata": {},
   "outputs": [],
   "source": [
    "import pandas as pd\n",
    "import numpy as np\n",
    "import matplotlib.pyplot as plt\n",
    "import seaborn as sns"
   ]
  },
  {
   "cell_type": "markdown",
   "metadata": {},
   "source": [
    "La magia de matplotlib matplotlib notebook, es muy util para hacer plots mas visibles, pero es un poco complicada de usar ya que requiere el cerrar cada plot para poder continuar.\n",
    "\n",
    "Alternativamente, se puede usar la magia %matplotlib inline, que es más sencilla ya que simplemente muestra el gráfico original en el jupyter notebook. Para modificar el tamaño de los plots en este caso basta con cambiar el parámetro general de matplotlib figure.figsize al tamaño de gráfico deseado (en pulgadas)\n"
   ]
  },
  {
   "cell_type": "code",
   "execution_count": 4,
   "metadata": {},
   "outputs": [],
   "source": [
    "%matplotlib inline\n",
    "\n",
    "plt.rcParams['figure.figsize'] = (10,10) # 10 pulgadas de ancho y 10 de alto para todos los plots"
   ]
  },
  {
   "cell_type": "markdown",
   "metadata": {},
   "source": [
    "#### Lectura de datos"
   ]
  },
  {
   "cell_type": "code",
   "execution_count": 5,
   "metadata": {},
   "outputs": [],
   "source": [
    "consumidores = pd.read_pickle(\"C:/Users/Danny/Desktop/Analisis tesis/Analisis exploratorio de datos/data/consumidores.3.variables_agrupadas.pkl\")"
   ]
  },
  {
   "cell_type": "code",
   "execution_count": 7,
   "metadata": {},
   "outputs": [
    {
     "data": {
      "text/plain": [
       "directorio                                                      int64\n",
       "per_sexo                                                        int64\n",
       "per_edad                                                        int64\n",
       "vive_padre_hogar                                                int64\n",
       "vive_madre_hogar                                                int64\n",
       "departamento                                                   object\n",
       "municipio                                                      object\n",
       "tipo_vivienda                                                   int64\n",
       "estrato                                                       float64\n",
       "residentes_hogar                                                int64\n",
       "d_01_aporta_dinero_hogar                                        int64\n",
       "d_02_situacion_actual                                           int64\n",
       "d_08_estado_salud                                               int64\n",
       "d_09_deprimido                                                  int64\n",
       "d_10_poco_interes                                               int64\n",
       "d_11_h_conocimiento_riesgo_fumar_marihuana_frecuentemente       int64\n",
       "d_11_k_conocimiento_riesgo_cocaina_frecuentemente               int64\n",
       "d_11_n_conocimiento_riesgo_fumar_basuco_frecuentemente          int64\n",
       "d_12_b_presenta_problema_consumo_sp_barrio                      int64\n",
       "d_12_c_presenta_problema_expendio_sp_barrio                     int64\n",
       "d2_01_etnia                                                     int64\n",
       "d2_03_estado_civil                                              int64\n",
       "d2_04_num_hijos                                                 int64\n",
       "d2_05_nivel_educativo                                           int64\n",
       "g_01_familiares_consumen_sp                                     int64\n",
       "g_01_a_num_familiares_consumen_sp                             float64\n",
       "g_02_amigos_consumen_sp                                         int64\n",
       "g_02_a_num_amigos_consumen_sp                                 float64\n",
       "g_03_curiosidad_probar_sp                                       int64\n",
       "g_04_probaria_sp                                                int64\n",
       "g_05_posibilidad_probar_sp                                      int64\n",
       "g_06_a_posibilidad_conseguir_marihuana                          int64\n",
       "g_06_b_posibilidad_conseguir_cocaina                            int64\n",
       "g_06_c_posibilidad_conseguir_basuco                             int64\n",
       "g_06_j_posibilidad_conseguir_heroina                            int64\n",
       "g_07_alguien_ofrecio_comprar_probar_sp                          int64\n",
       "g_08_a_ofrecieron_marihuana                                   float64\n",
       "g_08_b_ofrecieron_cocaina                                     float64\n",
       "g_08_c_ofrecieron_basuco                                      float64\n",
       "g_08_e_ofrecieron_heroina                                     float64\n",
       "g_11_f_consumio_alguna_vez_marihuana                            int64\n",
       "g_11_f_anios_consumio_marihuana                               float64\n",
       "g_11_g_consumio_alguna_vez_cocaina                              int64\n",
       "g_11_g_anios_consumio_cocaina                                 float64\n",
       "g_11_h_consumio_alguna_vez_basuco                               int64\n",
       "g_11_h_anios_consumio_basuco                                  float64\n",
       "g_11_j_consumio_alguna_vez_heroina                              int64\n",
       "g_11_j_anios_consumio_heroina                                 float64\n",
       "k_03_consumio_marihuana_12m                                   float64\n",
       "k_04_frecuencia_consumo_marihuana_12m                         float64\n",
       "l_02_consumio_cocaina_12m                                     float64\n",
       "l_03_frecuencia_consumo_cocaina_12m                           float64\n",
       "m_02_consumio_basuco_12m                                      float64\n",
       "m_03_frecuencia_consumo_basuco_12m                            float64\n",
       "o_02_consumio_heroina_12m                                     float64\n",
       "o_03_frecuencia_consumo_heroina_12m                           float64\n",
       "per_edad_tipo                                                category\n",
       "estrato_tipo                                                 category\n",
       "situacion_tipo                                               category\n",
       "frecuencia_consumo_marihuana_tipo                            category\n",
       "frecuencia_consumo_cocaina_tipo                              category\n",
       "frecuencia_consumo_basuco_tipo                               category\n",
       "frecuencia_consumo_heroina_tipo                              category\n",
       "dtype: object"
      ]
     },
     "execution_count": 7,
     "metadata": {},
     "output_type": "execute_result"
    }
   ],
   "source": [
    "pd.set_option('display.max_rows', 70)\n",
    "consumidores.dtypes"
   ]
  },
  {
   "cell_type": "markdown",
   "metadata": {},
   "source": [
    "### Distribución de variables numéricas"
   ]
  },
  {
   "cell_type": "markdown",
   "metadata": {},
   "source": [
    "Usamos histogramas para ver la distribución de una variable"
   ]
  },
  {
   "cell_type": "code",
   "execution_count": 7,
   "metadata": {},
   "outputs": [
    {
     "data": {
      "image/png": "[encoded data removed]",
      "text/plain": [
       "<Figure size 1000x1000 with 1 Axes>"
      ]
     },
     "metadata": {},
     "output_type": "display_data"
    }
   ],
   "source": [
    "consumidores['per_edad'].plot.hist();"
   ]
  },
  {
   "cell_type": "markdown",
   "metadata": {},
   "source": [
    "Alternativamente, podemos hacer un gráfico KDE , o Kernel Density Estimate, que produce una funcion estimada de la distribución de la variable ([Función de densidad de probabilidad](https://es.wikipedia.org/wiki/Funci%C3%B3n_de_densidad_de_probabilidad))."
   ]
  },
  {
   "cell_type": "code",
   "execution_count": 8,
   "metadata": {},
   "outputs": [
    {
     "data": {
      "image/png": "[encoded data removed]",
      "text/plain": [
       "<Figure size 1000x1000 with 1 Axes>"
      ]
     },
     "metadata": {},
     "output_type": "display_data"
    }
   ],
   "source": [
    "consumidores['per_edad'].plot.kde();"
   ]
  },
  {
   "cell_type": "code",
   "execution_count": 9,
   "metadata": {},
   "outputs": [],
   "source": [
    "def distribucion_variable_numerica(df, col):\n",
    "    df[col].plot.kde()\n",
    "    plt.xlabel('Distribucion de la variable {}'.format(col))\n",
    "    plt.show()"
   ]
  },
  {
   "cell_type": "markdown",
   "metadata": {},
   "source": [
    "Ahora podemos usar `pywidgets` para poder analizar las distribuciones más cómodamente. Tiene sentido hacer estos gráficos solo para variables numéricas. El método `pandas.select_dtypes` devuelve aquellas columnas de unos tipos específicos"
   ]
  },
  {
   "cell_type": "code",
   "execution_count": 10,
   "metadata": {},
   "outputs": [],
   "source": [
    "columnas_numericas = consumidores.select_dtypes(['int', 'float']).columns"
   ]
  },
  {
   "cell_type": "code",
   "execution_count": 14,
   "metadata": {},
   "outputs": [
    {
     "name": "stdout",
     "output_type": "stream",
     "text": [
      "Collecting package metadata (current_repodata.json): ...working... done\n",
      "Solving environment: ...working... done\n",
      "\n",
      "## Package Plan ##\n",
      "\n",
      "  environment location: C:\\Users\\Danny\\.conda\\envs\\data\n",
      "\n",
      "  added / updated specs:\n",
      "    - ipywidgets\n",
      "\n",
      "\n",
      "The following packages will be downloaded:\n",
      "\n",
      "    package                    |            build\n",
      "    ---------------------------|-----------------\n",
      "    ipywidgets-8.0.6           |     pyhd8ed1ab_0         110 KB  conda-forge\n",
      "    jupyterlab_widgets-3.0.7   |     pyhd8ed1ab_1         169 KB  conda-forge\n",
      "    widgetsnbextension-4.0.7   |     pyhd8ed1ab_0         828 KB  conda-forge\n",
      "    ------------------------------------------------------------\n",
      "                                           Total:         1.1 MB\n",
      "\n",
      "The following NEW packages will be INSTALLED:\n",
      "\n",
      "  ipywidgets         conda-forge/noarch::ipywidgets-8.0.6-pyhd8ed1ab_0 \n",
      "  jupyterlab_widgets conda-forge/noarch::jupyterlab_widgets-3.0.7-pyhd8ed1ab_1 \n",
      "  widgetsnbextension conda-forge/noarch::widgetsnbextension-4.0.7-pyhd8ed1ab_0 \n",
      "\n",
      "\n",
      "\n",
      "Downloading and Extracting Packages\n",
      "\n",
      "widgetsnbextension-4 | 828 KB    |            |   0% \n",
      "\n",
      "jupyterlab_widgets-3 | 169 KB    |            |   0% \u001b[A\n",
      "\n",
      "\n",
      "ipywidgets-8.0.6     | 110 KB    |            |   0% \u001b[A\u001b[A\n",
      "widgetsnbextension-4 | 828 KB    | 1          |   2% \n",
      "\n",
      "jupyterlab_widgets-3 | 169 KB    | 9          |   9% \u001b[A\n",
      "\n",
      "\n",
      "ipywidgets-8.0.6     | 110 KB    | #4         |  15% \u001b[A\u001b[A\n",
      "widgetsnbextension-4 | 828 KB    | #5         |  15% \n",
      "\n",
      "jupyterlab_widgets-3 | 169 KB    | #######5   |  76% \u001b[A\n",
      "widgetsnbextension-4 | 828 KB    | #####      |  50% \n",
      "\n",
      "jupyterlab_widgets-3 | 169 KB    | ########## | 100% \u001b[A\n",
      "\n",
      "\n",
      "ipywidgets-8.0.6     | 110 KB    | ########## | 100% \u001b[A\u001b[A\n",
      "\n",
      "\n",
      "ipywidgets-8.0.6     | 110 KB    | ########## | 100% \u001b[A\u001b[A\n",
      "widgetsnbextension-4 | 828 KB    | ########## | 100% \n",
      "widgetsnbextension-4 | 828 KB    | ########## | 100% \n",
      "                                                     \n",
      "\n",
      "\n",
      "                                                     \u001b[A\n",
      "\n",
      "\n",
      "                                                     \u001b[A\u001b[A\n",
      "\n",
      "Preparing transaction: ...working... done\n",
      "Verifying transaction: ...working... done\n",
      "Executing transaction: ...working... done\n"
     ]
    },
    {
     "name": "stderr",
     "output_type": "stream",
     "text": [
      "\n",
      "\n",
      "==> WARNING: A newer version of conda exists. <==\n",
      "  current version: 23.3.1\n",
      "  latest version: 23.5.0\n",
      "\n",
      "Please update conda by running\n",
      "\n",
      "    $ conda update -n base -c defaults conda\n",
      "\n",
      "Or to minimize the number of packages updated during conda update use\n",
      "\n",
      "     conda install conda=23.5.0\n",
      "\n",
      "\n"
     ]
    }
   ],
   "source": [
    "!conda install --yes --prefix {sys.prefix} ipywidgets"
   ]
  },
  {
   "cell_type": "code",
   "execution_count": 11,
   "metadata": {},
   "outputs": [],
   "source": [
    "from ipywidgets import interact, fixed"
   ]
  },
  {
   "cell_type": "code",
   "execution_count": 12,
   "metadata": {},
   "outputs": [
    {
     "data": {
      "application/vnd.jupyter.widget-view+json": {
       "model_id": "9a277af166cc42b3b36c03dc64a0072a",
       "version_major": 2,
       "version_minor": 0
      },
      "text/plain": [
       "interactive(children=(Dropdown(description='col', options=('directorio', 'per_sexo', 'per_edad', 'vive_padre_h…"
      ]
     },
     "metadata": {},
     "output_type": "display_data"
    }
   ],
   "source": [
    "interact(distribucion_variable_numerica, col=columnas_numericas, df=fixed(vehiculos));"
   ]
  },
  {
   "cell_type": "markdown",
   "metadata": {},
   "source": [
    "Vemos que la variable `cilindros` pese a ser numérica no tiene una distribución equilibrada de valores"
   ]
  },
  {
   "cell_type": "code",
   "execution_count": 35,
   "metadata": {},
   "outputs": [
    {
     "data": {
      "text/plain": [
       "4.0     0.381184\n",
       "6.0     0.350767\n",
       "8.0     0.220344\n",
       "5.0     0.020115\n",
       "12.0    0.015630\n",
       "3.0     0.006252\n",
       "10.0    0.004132\n",
       "2.0     0.001359\n",
       "16.0    0.000217\n",
       "Name: cilindros, dtype: float64"
      ]
     },
     "execution_count": 35,
     "metadata": {},
     "output_type": "execute_result"
    }
   ],
   "source": [
    "vehiculos['cilindros'].value_counts(normalize=True)"
   ]
  },
  {
   "cell_type": "code",
   "execution_count": null,
   "metadata": {
    "collapsed": true
   },
   "outputs": [],
   "source": [
    "../../../media/dnormal.png"
   ]
  },
  {
   "cell_type": "markdown",
   "metadata": {},
   "source": [
    "Parece que gran parte de las variables siguen una distribucion normal. Que las variables sigan una distribución normal es importante dado que muchos algoritmos asumen que la distribución de las variables es normal.\n",
    "\n",
    "La distribucion normal tiene esta forma:\n",
    "\n",
    "![dnormal](../../../media/dnormal.png)\n",
    "\n",
    "Podemos comprobar esto con un [grafico de probabilidad](http://www.itl.nist.gov/div898/handbook/eda/section3/probplot.htm).\n",
    "\n",
    "La funcion de scipy.stats `probplot` compara la distribucion de una variable con una distribucion teorica (la normal por defecto), cuanto más se parezca la gráfica a una linea de 45 grados más normal será."
   ]
  },
  {
   "cell_type": "code",
   "execution_count": 17,
   "metadata": {},
   "outputs": [],
   "source": [
    "from scipy import stats"
   ]
  },
  {
   "cell_type": "code",
   "execution_count": 38,
   "metadata": {},
   "outputs": [],
   "source": [
    "def normalidad_variable_numerica(col):\n",
    "    stats.probplot(vehiculos[col], plot=plt)\n",
    "    plt.xlabel('Diagrama de Probabilidad(normal) de la variable {}'.format(col))\n",
    "    plt.show()"
   ]
  },
  {
   "cell_type": "code",
   "execution_count": 39,
   "metadata": {},
   "outputs": [
    {
     "data": {
      "application/vnd.jupyter.widget-view+json": {
       "model_id": "4e999884475f4829bd28f71ccb4a6cfd",
       "version_major": 2,
       "version_minor": 0
      },
      "text/plain": [
       "interactive(children=(Dropdown(description='col', options=('year', 'desplazamiento', 'cilindros', 'consumo', '…"
      ]
     },
     "metadata": {},
     "output_type": "display_data"
    }
   ],
   "source": [
    "interact(normalidad_variable_numerica, col=columnas_numericas);"
   ]
  },
  {
   "cell_type": "markdown",
   "metadata": {},
   "source": [
    "Parece que siguen una distribución normal, no obstante, conviene asegurarse haciendo un test de normalidad. En un test de normalidad, lo que queremos es rechazar la hipótesis nula de que la variable a analizar se ha obtenido de una población que sigue una distribución normal. Para un nivel de confianza de 95%, rechazamos la hipótesis nula si el p-value es inferior a 0.05. Esto es, si se obtiene un valor P (p-value) menor de 0.05, significa que las probabilidades de que la hipótesis nula sean ciertas es tan baja (menos de un 5%) que la rechazamos.\n",
    "\n",
    "\n",
    "scipy tiene la función [normaltest](https://docs.scipy.org/doc/scipy/reference/generated/scipy.stats.normaltest.html) que devuelve el p-value"
   ]
  },
  {
   "cell_type": "code",
   "execution_count": 19,
   "metadata": {},
   "outputs": [],
   "source": [
    "for num_col in columnas_numericas:\n",
    "    _, pval = stats.normaltest(vehiculos[num_col])\n",
    "    if(pval >= 0.05):\n",
    "        print(\"Columna {} si sigue una distribución normal\".format(num_col))"
   ]
  },
  {
   "cell_type": "markdown",
   "metadata": {},
   "source": [
    "Con lo cual vemos que ninguna de las variables numéricas siguen una distribución normal correcta."
   ]
  },
  {
   "cell_type": "markdown",
   "metadata": {},
   "source": [
    "### Distribución variables categóricas"
   ]
  },
  {
   "cell_type": "markdown",
   "metadata": {},
   "source": [
    "Una manera de ver como se distribuyen las variables categóricas es mediante la función `pandas.value_counts`. Dicha función nos devuelve el numero de records existentes para cada valor de una columna"
   ]
  },
  {
   "cell_type": "code",
   "execution_count": 13,
   "metadata": {},
   "outputs": [],
   "source": [
    "def distribucion_variable_categorica(col):\n",
    "    consumidores[col].value_counts(ascending=True,normalize=True).tail(20).plot.barh()\n",
    "    plt.show()"
   ]
  },
  {
   "cell_type": "code",
   "execution_count": 20,
   "metadata": {},
   "outputs": [],
   "source": [
    "columnas_categoricas = consumidores.select_dtypes(['object', 'category','int64','float64']).columns"
   ]
  },
  {
   "cell_type": "code",
   "execution_count": 21,
   "metadata": {},
   "outputs": [
    {
     "data": {
      "application/vnd.jupyter.widget-view+json": {
       "model_id": "134d52dfb3bf47689ec5e2a3a61ed270",
       "version_major": 2,
       "version_minor": 0
      },
      "text/plain": [
       "interactive(children=(Dropdown(description='col', options=('directorio', 'per_sexo', 'per_edad', 'vive_padre_h…"
      ]
     },
     "metadata": {},
     "output_type": "display_data"
    }
   ],
   "source": [
    "interact(distribucion_variable_categorica, col=columnas_categoricas);"
   ]
  },
  {
   "cell_type": "markdown",
   "metadata": {},
   "source": [
    "### Conclusiones\n",
    "\n",
    "- Ninguna variable numérica sigue una distribución normal"
   ]
  },
  {
   "cell_type": "code",
   "execution_count": null,
   "metadata": {
    "collapsed": true
   },
   "outputs": [],
   "source": []
  }
 ],
 "metadata": {
  "kernelspec": {
   "display_name": "Python 3 (ipykernel)",
   "language": "python",
   "name": "python3"
  },
  "language_info": {
   "codemirror_mode": {
    "name": "ipython",
    "version": 3
   },
   "file_extension": ".py",
   "mimetype": "text/x-python",
   "name": "python",
   "nbconvert_exporter": "python",
   "pygments_lexer": "ipython3",
   "version": "3.10.11"
  }
 },
 "nbformat": 4,
 "nbformat_minor": 2
}
