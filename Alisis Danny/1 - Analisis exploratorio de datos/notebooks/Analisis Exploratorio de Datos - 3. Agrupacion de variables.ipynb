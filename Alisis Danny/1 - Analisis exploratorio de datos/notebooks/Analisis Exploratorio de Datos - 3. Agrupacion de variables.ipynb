{
 "cells": [
  {
   "cell_type": "code",
   "execution_count": 2,
   "metadata": {},
   "outputs": [
    {
     "name": "stdout",
     "output_type": "stream",
     "text": [
      "The watermark extension is already loaded. To reload it, use:\n",
      "  %reload_ext watermark\n",
      "Last updated: 2023-07-13T20:50:45.948671-05:00\n",
      "\n",
      "Python implementation: CPython\n",
      "Python version       : 3.10.11\n",
      "IPython version      : 8.13.2\n",
      "\n",
      "Compiler    : MSC v.1916 64 bit (AMD64)\n",
      "OS          : Windows\n",
      "Release     : 10\n",
      "Machine     : AMD64\n",
      "Processor   : Intel64 Family 6 Model 158 Stepping 10, GenuineIntel\n",
      "CPU cores   : 8\n",
      "Architecture: 64bit\n",
      "\n"
     ]
    }
   ],
   "source": [
    "%load_ext watermark\n",
    "%watermark"
   ]
  },
  {
   "cell_type": "code",
   "execution_count": 3,
   "metadata": {},
   "outputs": [],
   "source": [
    "import pandas as pd"
   ]
  },
  {
   "cell_type": "code",
   "execution_count": 4,
   "metadata": {},
   "outputs": [],
   "source": [
    "%matplotlib inline\n",
    "import matplotlib.pyplot as plt\n",
    "\n",
    "plt.rcParams['figure.figsize'] = (12,12) # 10 pulgadas de ancho y 10 de alto para todos los plots"
   ]
  },
  {
   "cell_type": "markdown",
   "metadata": {},
   "source": [
    "### Lectura de datos"
   ]
  },
  {
   "cell_type": "code",
   "execution_count": 5,
   "metadata": {},
   "outputs": [],
   "source": [
    "consumidores = pd.read_csv(\"C:/Users/Danny/Desktop/Analisis tesis/Analisis exploratorio de datos/data/consumidores.2.limpio_analisis.csv\")"
   ]
  },
  {
   "cell_type": "code",
   "execution_count": 6,
   "metadata": {},
   "outputs": [
    {
     "data": {
      "text/html": [
       "<div>\n",
       "<style scoped>\n",
       "    .dataframe tbody tr th:only-of-type {\n",
       "        vertical-align: middle;\n",
       "    }\n",
       "\n",
       "    .dataframe tbody tr th {\n",
       "        vertical-align: top;\n",
       "    }\n",
       "\n",
       "    .dataframe thead th {\n",
       "        text-align: right;\n",
       "    }\n",
       "</style>\n",
       "<table border=\"1\" class=\"dataframe\">\n",
       "  <thead>\n",
       "    <tr style=\"text-align: right;\">\n",
       "      <th></th>\n",
       "      <th>directorio</th>\n",
       "      <th>per_sexo</th>\n",
       "      <th>per_edad</th>\n",
       "      <th>vive_padre_hogar</th>\n",
       "      <th>vive_madre_hogar</th>\n",
       "      <th>departamento</th>\n",
       "      <th>municipio</th>\n",
       "      <th>tipo_vivienda</th>\n",
       "      <th>estrato</th>\n",
       "      <th>residentes_hogar</th>\n",
       "      <th>...</th>\n",
       "      <th>g_11_j_consumio_alguna_vez_heroina</th>\n",
       "      <th>g_11_j_anios_consumio_heroina</th>\n",
       "      <th>k_03_consumio_marihuana_12m</th>\n",
       "      <th>k_04_frecuencia_consumo_marihuana_12m</th>\n",
       "      <th>l_02_consumio_cocaina_12m</th>\n",
       "      <th>l_03_frecuencia_consumo_cocaina_12m</th>\n",
       "      <th>m_02_consumio_basuco_12m</th>\n",
       "      <th>m_03_frecuencia_consumo_basuco_12m</th>\n",
       "      <th>o_02_consumio_heroina_12m</th>\n",
       "      <th>o_03_frecuencia_consumo_heroina_12m</th>\n",
       "    </tr>\n",
       "  </thead>\n",
       "  <tbody>\n",
       "    <tr>\n",
       "      <th>0</th>\n",
       "      <td>11207</td>\n",
       "      <td>1</td>\n",
       "      <td>19</td>\n",
       "      <td>2</td>\n",
       "      <td>2</td>\n",
       "      <td>Guaviare</td>\n",
       "      <td>SAN JOSÉ DEL GUAVIARE</td>\n",
       "      <td>2</td>\n",
       "      <td>2.0</td>\n",
       "      <td>5</td>\n",
       "      <td>...</td>\n",
       "      <td>2</td>\n",
       "      <td>NaN</td>\n",
       "      <td>NaN</td>\n",
       "      <td>NaN</td>\n",
       "      <td>NaN</td>\n",
       "      <td>NaN</td>\n",
       "      <td>NaN</td>\n",
       "      <td>NaN</td>\n",
       "      <td>NaN</td>\n",
       "      <td>NaN</td>\n",
       "    </tr>\n",
       "    <tr>\n",
       "      <th>1</th>\n",
       "      <td>1180</td>\n",
       "      <td>2</td>\n",
       "      <td>51</td>\n",
       "      <td>2</td>\n",
       "      <td>1</td>\n",
       "      <td>Cordoba</td>\n",
       "      <td>MONTERÍA</td>\n",
       "      <td>1</td>\n",
       "      <td>1.0</td>\n",
       "      <td>4</td>\n",
       "      <td>...</td>\n",
       "      <td>2</td>\n",
       "      <td>NaN</td>\n",
       "      <td>NaN</td>\n",
       "      <td>NaN</td>\n",
       "      <td>NaN</td>\n",
       "      <td>NaN</td>\n",
       "      <td>NaN</td>\n",
       "      <td>NaN</td>\n",
       "      <td>NaN</td>\n",
       "      <td>NaN</td>\n",
       "    </tr>\n",
       "    <tr>\n",
       "      <th>2</th>\n",
       "      <td>4398</td>\n",
       "      <td>1</td>\n",
       "      <td>52</td>\n",
       "      <td>3</td>\n",
       "      <td>3</td>\n",
       "      <td>Caqueta</td>\n",
       "      <td>FLORENCIA</td>\n",
       "      <td>1</td>\n",
       "      <td>2.0</td>\n",
       "      <td>4</td>\n",
       "      <td>...</td>\n",
       "      <td>2</td>\n",
       "      <td>NaN</td>\n",
       "      <td>NaN</td>\n",
       "      <td>NaN</td>\n",
       "      <td>NaN</td>\n",
       "      <td>NaN</td>\n",
       "      <td>NaN</td>\n",
       "      <td>NaN</td>\n",
       "      <td>NaN</td>\n",
       "      <td>NaN</td>\n",
       "    </tr>\n",
       "    <tr>\n",
       "      <th>3</th>\n",
       "      <td>4399</td>\n",
       "      <td>2</td>\n",
       "      <td>39</td>\n",
       "      <td>1</td>\n",
       "      <td>1</td>\n",
       "      <td>Bolivar</td>\n",
       "      <td>CARTAGENA</td>\n",
       "      <td>1</td>\n",
       "      <td>5.0</td>\n",
       "      <td>6</td>\n",
       "      <td>...</td>\n",
       "      <td>2</td>\n",
       "      <td>NaN</td>\n",
       "      <td>NaN</td>\n",
       "      <td>NaN</td>\n",
       "      <td>NaN</td>\n",
       "      <td>NaN</td>\n",
       "      <td>NaN</td>\n",
       "      <td>NaN</td>\n",
       "      <td>NaN</td>\n",
       "      <td>NaN</td>\n",
       "    </tr>\n",
       "    <tr>\n",
       "      <th>4</th>\n",
       "      <td>2619</td>\n",
       "      <td>2</td>\n",
       "      <td>27</td>\n",
       "      <td>1</td>\n",
       "      <td>1</td>\n",
       "      <td>Tolima</td>\n",
       "      <td>ESPINAL</td>\n",
       "      <td>1</td>\n",
       "      <td>2.0</td>\n",
       "      <td>4</td>\n",
       "      <td>...</td>\n",
       "      <td>2</td>\n",
       "      <td>NaN</td>\n",
       "      <td>NaN</td>\n",
       "      <td>NaN</td>\n",
       "      <td>NaN</td>\n",
       "      <td>NaN</td>\n",
       "      <td>NaN</td>\n",
       "      <td>NaN</td>\n",
       "      <td>NaN</td>\n",
       "      <td>NaN</td>\n",
       "    </tr>\n",
       "  </tbody>\n",
       "</table>\n",
       "<p>5 rows × 56 columns</p>\n",
       "</div>"
      ],
      "text/plain": [
       "   directorio  per_sexo  per_edad  vive_padre_hogar  vive_madre_hogar  \\\n",
       "0       11207         1        19                 2                 2   \n",
       "1        1180         2        51                 2                 1   \n",
       "2        4398         1        52                 3                 3   \n",
       "3        4399         2        39                 1                 1   \n",
       "4        2619         2        27                 1                 1   \n",
       "\n",
       "  departamento              municipio  tipo_vivienda  estrato  \\\n",
       "0     Guaviare  SAN JOSÉ DEL GUAVIARE              2      2.0   \n",
       "1      Cordoba               MONTERÍA              1      1.0   \n",
       "2      Caqueta              FLORENCIA              1      2.0   \n",
       "3      Bolivar              CARTAGENA              1      5.0   \n",
       "4       Tolima                ESPINAL              1      2.0   \n",
       "\n",
       "   residentes_hogar  ...  g_11_j_consumio_alguna_vez_heroina  \\\n",
       "0                 5  ...                                   2   \n",
       "1                 4  ...                                   2   \n",
       "2                 4  ...                                   2   \n",
       "3                 6  ...                                   2   \n",
       "4                 4  ...                                   2   \n",
       "\n",
       "   g_11_j_anios_consumio_heroina  k_03_consumio_marihuana_12m  \\\n",
       "0                            NaN                          NaN   \n",
       "1                            NaN                          NaN   \n",
       "2                            NaN                          NaN   \n",
       "3                            NaN                          NaN   \n",
       "4                            NaN                          NaN   \n",
       "\n",
       "   k_04_frecuencia_consumo_marihuana_12m  l_02_consumio_cocaina_12m  \\\n",
       "0                                    NaN                        NaN   \n",
       "1                                    NaN                        NaN   \n",
       "2                                    NaN                        NaN   \n",
       "3                                    NaN                        NaN   \n",
       "4                                    NaN                        NaN   \n",
       "\n",
       "   l_03_frecuencia_consumo_cocaina_12m  m_02_consumio_basuco_12m  \\\n",
       "0                                  NaN                       NaN   \n",
       "1                                  NaN                       NaN   \n",
       "2                                  NaN                       NaN   \n",
       "3                                  NaN                       NaN   \n",
       "4                                  NaN                       NaN   \n",
       "\n",
       "   m_03_frecuencia_consumo_basuco_12m  o_02_consumio_heroina_12m  \\\n",
       "0                                 NaN                        NaN   \n",
       "1                                 NaN                        NaN   \n",
       "2                                 NaN                        NaN   \n",
       "3                                 NaN                        NaN   \n",
       "4                                 NaN                        NaN   \n",
       "\n",
       "   o_03_frecuencia_consumo_heroina_12m  \n",
       "0                                  NaN  \n",
       "1                                  NaN  \n",
       "2                                  NaN  \n",
       "3                                  NaN  \n",
       "4                                  NaN  \n",
       "\n",
       "[5 rows x 56 columns]"
      ]
     },
     "execution_count": 6,
     "metadata": {},
     "output_type": "execute_result"
    }
   ],
   "source": [
    "consumidores.head()"
   ]
  },
  {
   "cell_type": "markdown",
   "metadata": {},
   "source": [
    "En este paso vamos a agregar aquellas variables que se puedan agregar en tipos más genéricos. Esto ayuda a analizar los por grupos en vez de por elementos individuales.\n",
    "\n",
    "Para ello podemos ver el numero de valores distintos que cada variable categorica tiene"
   ]
  },
  {
   "cell_type": "code",
   "execution_count": 7,
   "metadata": {
    "scrolled": false
   },
   "outputs": [
    {
     "name": "stdout",
     "output_type": "stream",
     "text": [
      "directorio | 10000 | int64\n",
      "per_sexo | 2 | int64\n",
      "per_edad | 54 | int64\n",
      "vive_padre_hogar | 3 | int64\n",
      "vive_madre_hogar | 3 | int64\n",
      "departamento | 33 | object\n",
      "municipio | 135 | object\n",
      "tipo_vivienda | 4 | int64\n",
      "estrato | 6 | float64\n",
      "residentes_hogar | 14 | int64\n",
      "d_01_aporta_dinero_hogar | 2 | int64\n",
      "d_02_situacion_actual | 8 | int64\n",
      "d_08_estado_salud | 5 | int64\n",
      "d_09_deprimido | 2 | int64\n",
      "d_10_poco_interes | 2 | int64\n",
      "d_11_h_conocimiento_riesgo_fumar_marihuana_frecuentemente | 5 | int64\n",
      "d_11_k_conocimiento_riesgo_cocaina_frecuentemente | 5 | int64\n",
      "d_11_n_conocimiento_riesgo_fumar_basuco_frecuentemente | 5 | int64\n",
      "d_12_b_presenta_problema_consumo_sp_barrio | 2 | int64\n",
      "d_12_c_presenta_problema_expendio_sp_barrio | 2 | int64\n",
      "d2_01_etnia | 6 | int64\n",
      "d2_03_estado_civil | 6 | int64\n",
      "d2_04_num_hijos | 13 | int64\n",
      "d2_05_nivel_educativo | 8 | int64\n",
      "g_01_familiares_consumen_sp | 2 | int64\n",
      "g_01_a_num_familiares_consumen_sp | 3 | float64\n",
      "g_02_amigos_consumen_sp | 2 | int64\n",
      "g_02_a_num_amigos_consumen_sp | 3 | float64\n",
      "g_03_curiosidad_probar_sp | 2 | int64\n",
      "g_04_probaria_sp | 2 | int64\n",
      "g_05_posibilidad_probar_sp | 2 | int64\n",
      "g_06_a_posibilidad_conseguir_marihuana | 4 | int64\n",
      "g_06_b_posibilidad_conseguir_cocaina | 4 | int64\n",
      "g_06_c_posibilidad_conseguir_basuco | 4 | int64\n",
      "g_06_j_posibilidad_conseguir_heroina | 4 | int64\n",
      "g_07_alguien_ofrecio_comprar_probar_sp | 2 | int64\n",
      "g_08_a_ofrecieron_marihuana | 5 | float64\n",
      "g_08_b_ofrecieron_cocaina | 5 | float64\n",
      "g_08_c_ofrecieron_basuco | 5 | float64\n",
      "g_08_e_ofrecieron_heroina | 5 | float64\n",
      "g_11_f_consumio_alguna_vez_marihuana | 2 | int64\n",
      "g_11_f_anios_consumio_marihuana | 50 | float64\n",
      "g_11_g_consumio_alguna_vez_cocaina | 2 | int64\n",
      "g_11_g_anios_consumio_cocaina | 38 | float64\n",
      "g_11_h_consumio_alguna_vez_basuco | 2 | int64\n",
      "g_11_h_anios_consumio_basuco | 50 | float64\n",
      "g_11_j_consumio_alguna_vez_heroina | 2 | int64\n",
      "g_11_j_anios_consumio_heroina | 19 | float64\n",
      "k_03_consumio_marihuana_12m | 3 | float64\n",
      "k_04_frecuencia_consumo_marihuana_12m | 6 | float64\n",
      "l_02_consumio_cocaina_12m | 3 | float64\n",
      "l_03_frecuencia_consumo_cocaina_12m | 6 | float64\n",
      "m_02_consumio_basuco_12m | 3 | float64\n",
      "m_03_frecuencia_consumo_basuco_12m | 6 | float64\n",
      "o_02_consumio_heroina_12m | 3 | float64\n",
      "o_03_frecuencia_consumo_heroina_12m | 3 | float64\n"
     ]
    }
   ],
   "source": [
    "def unique_col_values(df):\n",
    "    for column in df:\n",
    "        print(\"{} | {} | {}\".format(\n",
    "            df[column].name, len(df[column].unique()), df[column].dtype\n",
    "        ))\n",
    "\n",
    "unique_col_values(consumidores)"
   ]
  },
  {
   "cell_type": "code",
   "execution_count": 8,
   "metadata": {},
   "outputs": [
    {
     "data": {
      "text/plain": [
       "(10000, 56)"
      ]
     },
     "execution_count": 8,
     "metadata": {},
     "output_type": "execute_result"
    }
   ],
   "source": [
    "consumidores.shape"
   ]
  },
  {
   "cell_type": "code",
   "execution_count": 8,
   "metadata": {},
   "outputs": [
    {
     "data": {
      "text/plain": [
       "2.0    3755\n",
       "1.0    2865\n",
       "3.0    2547\n",
       "4.0     555\n",
       "5.0     170\n",
       "6.0     108\n",
       "Name: estrato, dtype: int64"
      ]
     },
     "execution_count": 8,
     "metadata": {},
     "output_type": "execute_result"
    }
   ],
   "source": [
    "consumidores.estrato.value_counts(normalize=False)"
   ]
  },
  {
   "cell_type": "code",
   "execution_count": 9,
   "metadata": {
    "scrolled": false
   },
   "outputs": [
    {
     "data": {
      "image/png": "[encoded data removed]",
      "text/plain": [
       "<Figure size 1200x1200 with 1 Axes>"
      ]
     },
     "metadata": {},
     "output_type": "display_data"
    }
   ],
   "source": [
    "consumidores.d_02_situacion_actual.value_counts(normalize=False).plot.barh();"
   ]
  },
  {
   "cell_type": "markdown",
   "metadata": {},
   "source": [
    "### Agrupacion de variables categoricas"
   ]
  },
  {
   "cell_type": "markdown",
   "metadata": {},
   "source": [
    "##### Edad"
   ]
  },
  {
   "cell_type": "code",
   "execution_count": 10,
   "metadata": {},
   "outputs": [
    {
     "data": {
      "text/plain": [
       "array([19, 51, 52, 39, 27, 46, 38, 47, 55, 15, 57, 26, 30, 34, 28, 17, 24,\n",
       "       23, 12, 36, 62, 53, 50, 20, 16, 29, 22, 60, 61, 40, 65, 63, 32, 59,\n",
       "       25, 45, 42, 31, 37, 18, 21, 56, 58, 33, 13, 44, 35, 48, 14, 64, 43,\n",
       "       49, 54, 41], dtype=int64)"
      ]
     },
     "execution_count": 10,
     "metadata": {},
     "output_type": "execute_result"
    }
   ],
   "source": [
    "consumidores.per_edad.unique()"
   ]
  },
  {
   "cell_type": "code",
   "execution_count": 11,
   "metadata": {},
   "outputs": [],
   "source": [
    "def clasificar_edades(edad):\n",
    "    if edad <= 18:\n",
    "        return 'Adolescente'\n",
    "    elif edad <= 27:\n",
    "        return 'Joven'\n",
    "    elif edad <= 59:\n",
    "        return 'Adulto'\n",
    "    else:\n",
    "        return 'Persona mayor'\n",
    "    \n",
    "consumidores['per_edad_tipo'] = consumidores['per_edad'].apply(clasificar_edades)"
   ]
  },
  {
   "cell_type": "code",
   "execution_count": 12,
   "metadata": {},
   "outputs": [],
   "source": [
    "consumidores.per_edad_tipo = consumidores.per_edad_tipo.astype(\"category\")"
   ]
  },
  {
   "cell_type": "code",
   "execution_count": 13,
   "metadata": {},
   "outputs": [
    {
     "data": {
      "text/plain": [
       "CategoricalDtype(categories=['Adolescente', 'Adulto', 'Joven', 'Persona mayor'], ordered=False)"
      ]
     },
     "execution_count": 13,
     "metadata": {},
     "output_type": "execute_result"
    }
   ],
   "source": [
    "consumidores.per_edad_tipo.dtype"
   ]
  },
  {
   "cell_type": "code",
   "execution_count": 14,
   "metadata": {},
   "outputs": [
    {
     "data": {
      "text/plain": [
       "Adulto           5798\n",
       "Joven            2458\n",
       "Adolescente       902\n",
       "Persona mayor     842\n",
       "Name: per_edad_tipo, dtype: int64"
      ]
     },
     "execution_count": 14,
     "metadata": {},
     "output_type": "execute_result"
    }
   ],
   "source": [
    "consumidores.per_edad_tipo.value_counts()"
   ]
  },
  {
   "cell_type": "markdown",
   "metadata": {},
   "source": [
    "##### Estrato"
   ]
  },
  {
   "cell_type": "code",
   "execution_count": 15,
   "metadata": {},
   "outputs": [
    {
     "data": {
      "text/plain": [
       "array([2., 1., 5., 3., 6., 4.])"
      ]
     },
     "execution_count": 15,
     "metadata": {},
     "output_type": "execute_result"
    }
   ],
   "source": [
    "consumidores.estrato.unique()"
   ]
  },
  {
   "cell_type": "code",
   "execution_count": 16,
   "metadata": {},
   "outputs": [],
   "source": [
    "bajo = [1.0,2.0]\n",
    "medio = [3.0 ,4.0]\n",
    "alto = [5.0,6.0]\n",
    "\n",
    "consumidores.loc[consumidores['estrato'].isin(bajo), 'estrato_tipo'] = 'Estrato bajo'\n",
    "\n",
    "consumidores.loc[consumidores['estrato'].isin(medio), 'estrato_tipo'] = 'Estrato medio'\n",
    "\n",
    "consumidores.loc[consumidores['estrato'].isin(alto), 'estrato_tipo'] = 'Estrato alto'"
   ]
  },
  {
   "cell_type": "code",
   "execution_count": 17,
   "metadata": {},
   "outputs": [],
   "source": [
    "consumidores.estrato_tipo = consumidores.estrato_tipo.astype(\"category\")"
   ]
  },
  {
   "cell_type": "code",
   "execution_count": 18,
   "metadata": {},
   "outputs": [
    {
     "data": {
      "text/plain": [
       "CategoricalDtype(categories=['Estrato alto', 'Estrato bajo', 'Estrato medio'], ordered=False)"
      ]
     },
     "execution_count": 18,
     "metadata": {},
     "output_type": "execute_result"
    }
   ],
   "source": [
    "consumidores.estrato_tipo.dtype"
   ]
  },
  {
   "cell_type": "code",
   "execution_count": 19,
   "metadata": {},
   "outputs": [
    {
     "data": {
      "text/plain": [
       "Estrato bajo     6620\n",
       "Estrato medio    3102\n",
       "Estrato alto      278\n",
       "Name: estrato_tipo, dtype: int64"
      ]
     },
     "execution_count": 19,
     "metadata": {},
     "output_type": "execute_result"
    }
   ],
   "source": [
    "consumidores.estrato_tipo.value_counts()"
   ]
  },
  {
   "cell_type": "markdown",
   "metadata": {},
   "source": [
    "##### Situacion Actual"
   ]
  },
  {
   "cell_type": "code",
   "execution_count": 20,
   "metadata": {},
   "outputs": [
    {
     "data": {
      "text/plain": [
       "array([1, 2, 7, 3, 4, 5, 8, 6], dtype=int64)"
      ]
     },
     "execution_count": 20,
     "metadata": {},
     "output_type": "execute_result"
    }
   ],
   "source": [
    "consumidores.d_02_situacion_actual.unique()"
   ]
  },
  {
   "cell_type": "markdown",
   "metadata": {},
   "source": [
    "Vemos que las tracciones pueden definirse como 2 o 4 ruedas. las pongo como texto ya que en realidad no son variables numericas, sino categorias"
   ]
  },
  {
   "cell_type": "code",
   "execution_count": 21,
   "metadata": {
    "scrolled": true
   },
   "outputs": [],
   "source": [
    "otros=[4,5,6,7,8]\n",
    "\n",
    "consumidores.loc[consumidores['d_02_situacion_actual']==1, 'situacion_tipo'] = 'Trabajando'\n",
    "\n",
    "consumidores.loc[consumidores['d_02_situacion_actual']==2, 'situacion_tipo'] = 'Buscando trabajo'\n",
    "\n",
    "consumidores.loc[consumidores['d_02_situacion_actual']==3, 'situacion_tipo'] = 'Estudiando'\n",
    "\n",
    "consumidores.loc[consumidores['d_02_situacion_actual'].isin(otros), 'situacion_tipo'] = 'Otros'"
   ]
  },
  {
   "cell_type": "code",
   "execution_count": 22,
   "metadata": {},
   "outputs": [],
   "source": [
    "consumidores.situacion_tipo = consumidores.situacion_tipo.astype(\"category\")"
   ]
  },
  {
   "cell_type": "code",
   "execution_count": 23,
   "metadata": {},
   "outputs": [
    {
     "data": {
      "text/plain": [
       "CategoricalDtype(categories=['Buscando trabajo', 'Estudiando', 'Otros', 'Trabajando'], ordered=False)"
      ]
     },
     "execution_count": 23,
     "metadata": {},
     "output_type": "execute_result"
    }
   ],
   "source": [
    "consumidores.situacion_tipo.dtype"
   ]
  },
  {
   "cell_type": "code",
   "execution_count": 24,
   "metadata": {},
   "outputs": [
    {
     "data": {
      "text/plain": [
       "Trabajando          5958\n",
       "Otros               2204\n",
       "Estudiando          1297\n",
       "Buscando trabajo     541\n",
       "Name: situacion_tipo, dtype: int64"
      ]
     },
     "execution_count": 24,
     "metadata": {},
     "output_type": "execute_result"
    }
   ],
   "source": [
    "consumidores.situacion_tipo.value_counts()"
   ]
  },
  {
   "cell_type": "markdown",
   "metadata": {},
   "source": [
    "##### Frecuancia consumo marihuana tipo"
   ]
  },
  {
   "cell_type": "code",
   "execution_count": 50,
   "metadata": {},
   "outputs": [
    {
     "name": "stdout",
     "output_type": "stream",
     "text": [
      "<class 'pandas.core.frame.DataFrame'>\n",
      "RangeIndex: 10000 entries, 0 to 9999\n",
      "Data columns (total 61 columns):\n",
      " #   Column                                                     Non-Null Count  Dtype   \n",
      "---  ------                                                     --------------  -----   \n",
      " 0   directorio                                                 10000 non-null  int64   \n",
      " 1   per_sexo                                                   10000 non-null  int64   \n",
      " 2   per_edad                                                   10000 non-null  int64   \n",
      " 3   vive_padre_hogar                                           10000 non-null  int64   \n",
      " 4   vive_madre_hogar                                           10000 non-null  int64   \n",
      " 5   departamento                                               10000 non-null  object  \n",
      " 6   municipio                                                  10000 non-null  object  \n",
      " 7   tipo_vivienda                                              10000 non-null  int64   \n",
      " 8   estrato                                                    10000 non-null  float64 \n",
      " 9   residentes_hogar                                           10000 non-null  int64   \n",
      " 10  d_01_aporta_dinero_hogar                                   10000 non-null  int64   \n",
      " 11  d_02_situacion_actual                                      10000 non-null  int64   \n",
      " 12  d_08_estado_salud                                          10000 non-null  int64   \n",
      " 13  d_09_deprimido                                             10000 non-null  int64   \n",
      " 14  d_10_poco_interes                                          10000 non-null  int64   \n",
      " 15  d_11_h_conocimiento_riesgo_fumar_marihuana_frecuentemente  10000 non-null  int64   \n",
      " 16  d_11_k_conocimiento_riesgo_cocaina_frecuentemente          10000 non-null  int64   \n",
      " 17  d_11_n_conocimiento_riesgo_fumar_basuco_frecuentemente     10000 non-null  int64   \n",
      " 18  d_12_b_presenta_problema_consumo_sp_barrio                 10000 non-null  int64   \n",
      " 19  d_12_c_presenta_problema_expendio_sp_barrio                10000 non-null  int64   \n",
      " 20  d2_01_etnia                                                10000 non-null  int64   \n",
      " 21  d2_03_estado_civil                                         10000 non-null  int64   \n",
      " 22  d2_04_num_hijos                                            10000 non-null  int64   \n",
      " 23  d2_05_nivel_educativo                                      10000 non-null  int64   \n",
      " 24  g_01_familiares_consumen_sp                                10000 non-null  int64   \n",
      " 25  g_01_a_num_familiares_consumen_sp                          2747 non-null   float64 \n",
      " 26  g_02_amigos_consumen_sp                                    10000 non-null  int64   \n",
      " 27  g_02_a_num_amigos_consumen_sp                              4282 non-null   float64 \n",
      " 28  g_03_curiosidad_probar_sp                                  10000 non-null  int64   \n",
      " 29  g_04_probaria_sp                                           10000 non-null  int64   \n",
      " 30  g_05_posibilidad_probar_sp                                 10000 non-null  int64   \n",
      " 31  g_06_a_posibilidad_conseguir_marihuana                     10000 non-null  int64   \n",
      " 32  g_06_b_posibilidad_conseguir_cocaina                       10000 non-null  int64   \n",
      " 33  g_06_c_posibilidad_conseguir_basuco                        10000 non-null  int64   \n",
      " 34  g_06_j_posibilidad_conseguir_heroina                       10000 non-null  int64   \n",
      " 35  g_07_alguien_ofrecio_comprar_probar_sp                     10000 non-null  int64   \n",
      " 36  g_08_a_ofrecieron_marihuana                                4866 non-null   float64 \n",
      " 37  g_08_b_ofrecieron_cocaina                                  4866 non-null   float64 \n",
      " 38  g_08_c_ofrecieron_basuco                                   4866 non-null   float64 \n",
      " 39  g_08_e_ofrecieron_heroina                                  4866 non-null   float64 \n",
      " 40  g_11_f_consumio_alguna_vez_marihuana                       10000 non-null  int64   \n",
      " 41  g_11_f_anios_consumio_marihuana                            3912 non-null   float64 \n",
      " 42  g_11_g_consumio_alguna_vez_cocaina                         10000 non-null  int64   \n",
      " 43  g_11_g_anios_consumio_cocaina                              948 non-null    float64 \n",
      " 44  g_11_h_consumio_alguna_vez_basuco                          10000 non-null  int64   \n",
      " 45  g_11_h_anios_consumio_basuco                               3912 non-null   float64 \n",
      " 46  g_11_j_consumio_alguna_vez_heroina                         10000 non-null  int64   \n",
      " 47  g_11_j_anios_consumio_heroina                              44 non-null     float64 \n",
      " 48  k_03_consumio_marihuana_12m                                3912 non-null   float64 \n",
      " 49  k_04_frecuencia_consumo_marihuana_12m                      1187 non-null   float64 \n",
      " 50  l_02_consumio_cocaina_12m                                  948 non-null    float64 \n",
      " 51  l_03_frecuencia_consumo_cocaina_12m                        237 non-null    float64 \n",
      " 52  m_02_consumio_basuco_12m                                   301 non-null    float64 \n",
      " 53  m_03_frecuencia_consumo_basuco_12m                         52 non-null     float64 \n",
      " 54  o_02_consumio_heroina_12m                                  44 non-null     float64 \n",
      " 55  o_03_frecuencia_consumo_heroina_12m                        4 non-null      float64 \n",
      " 56  per_edad_tipo                                              10000 non-null  category\n",
      " 57  estrato_tipo                                               10000 non-null  category\n",
      " 58  situacion_tipo                                             10000 non-null  category\n",
      " 59  frecuencia_consumo_marihuana_tipo                          10000 non-null  category\n",
      " 60  frecuencia_consumo_cocaina_tipo                            10000 non-null  category\n",
      "dtypes: category(5), float64(19), int64(35), object(2)\n",
      "memory usage: 4.3+ MB\n"
     ]
    }
   ],
   "source": [
    "consumidores.info(verbose=True)"
   ]
  },
  {
   "cell_type": "code",
   "execution_count": 42,
   "metadata": {},
   "outputs": [
    {
     "name": "stderr",
     "output_type": "stream",
     "text": [
      "C:\\Users\\Danny\\AppData\\Local\\Temp\\ipykernel_14900\\1717147672.py:3: SettingWithCopyWarning: \n",
      "A value is trying to be set on a copy of a slice from a DataFrame\n",
      "\n",
      "See the caveats in the documentation: https://pandas.pydata.org/pandas-docs/stable/user_guide/indexing.html#returning-a-view-versus-a-copy\n",
      "  consumidores['frecuencia_consumo_marihuana_tipo'][\n",
      "C:\\Users\\Danny\\AppData\\Local\\Temp\\ipykernel_14900\\1717147672.py:7: SettingWithCopyWarning: \n",
      "A value is trying to be set on a copy of a slice from a DataFrame\n",
      "\n",
      "See the caveats in the documentation: https://pandas.pydata.org/pandas-docs/stable/user_guide/indexing.html#returning-a-view-versus-a-copy\n",
      "  consumidores['frecuencia_consumo_marihuana_tipo'][\n",
      "C:\\Users\\Danny\\AppData\\Local\\Temp\\ipykernel_14900\\1717147672.py:12: SettingWithCopyWarning: \n",
      "A value is trying to be set on a copy of a slice from a DataFrame\n",
      "\n",
      "See the caveats in the documentation: https://pandas.pydata.org/pandas-docs/stable/user_guide/indexing.html#returning-a-view-versus-a-copy\n",
      "  consumidores['frecuencia_consumo_marihuana_tipo'][\n",
      "C:\\Users\\Danny\\AppData\\Local\\Temp\\ipykernel_14900\\1717147672.py:17: SettingWithCopyWarning: \n",
      "A value is trying to be set on a copy of a slice from a DataFrame\n",
      "\n",
      "See the caveats in the documentation: https://pandas.pydata.org/pandas-docs/stable/user_guide/indexing.html#returning-a-view-versus-a-copy\n",
      "  consumidores['frecuencia_consumo_marihuana_tipo'][\n",
      "C:\\Users\\Danny\\AppData\\Local\\Temp\\ipykernel_14900\\1717147672.py:22: SettingWithCopyWarning: \n",
      "A value is trying to be set on a copy of a slice from a DataFrame\n",
      "\n",
      "See the caveats in the documentation: https://pandas.pydata.org/pandas-docs/stable/user_guide/indexing.html#returning-a-view-versus-a-copy\n",
      "  consumidores['frecuencia_consumo_marihuana_tipo'][\n",
      "C:\\Users\\Danny\\AppData\\Local\\Temp\\ipykernel_14900\\1717147672.py:27: SettingWithCopyWarning: \n",
      "A value is trying to be set on a copy of a slice from a DataFrame\n",
      "\n",
      "See the caveats in the documentation: https://pandas.pydata.org/pandas-docs/stable/user_guide/indexing.html#returning-a-view-versus-a-copy\n",
      "  consumidores['frecuencia_consumo_marihuana_tipo'][\n"
     ]
    }
   ],
   "source": [
    "consumidores.loc[consumidores['g_11_f_consumio_alguna_vez_marihuana']==2, 'frecuencia_consumo_marihuana_tipo'] = 'Nunca'\n",
    "\n",
    "consumidores['frecuencia_consumo_marihuana_tipo'][\n",
    "    (consumidores['g_11_f_consumio_alguna_vez_marihuana']==1) & (consumidores['k_03_consumio_marihuana_12m']==2)\n",
    "]='Alguna vez en su vida'\n",
    "\n",
    "consumidores['frecuencia_consumo_marihuana_tipo'][\n",
    "    (consumidores['g_11_f_consumio_alguna_vez_marihuana']==1) & (consumidores['k_03_consumio_marihuana_12m']==1) &\n",
    "    (consumidores['k_04_frecuencia_consumo_marihuana_12m']==1)\n",
    "]='Una vez en el año'\n",
    "\n",
    "consumidores['frecuencia_consumo_marihuana_tipo'][\n",
    "    (consumidores['g_11_f_consumio_alguna_vez_marihuana']==1) & (consumidores['k_03_consumio_marihuana_12m']==1) &\n",
    "    (consumidores['k_04_frecuencia_consumo_marihuana_12m']==2)\n",
    "]='Algunas veces durante los últimos 12 meses'\n",
    "\n",
    "consumidores['frecuencia_consumo_marihuana_tipo'][\n",
    "    (consumidores['g_11_f_consumio_alguna_vez_marihuana']==1) & (consumidores['k_03_consumio_marihuana_12m']==1) &\n",
    "    (consumidores['k_04_frecuencia_consumo_marihuana_12m']==3)\n",
    "]='Algunas veces mensualmente'\n",
    "\n",
    "consumidores['frecuencia_consumo_marihuana_tipo'][\n",
    "    (consumidores['g_11_f_consumio_alguna_vez_marihuana']==1) & (consumidores['k_03_consumio_marihuana_12m']==1) &\n",
    "    (consumidores['k_04_frecuencia_consumo_marihuana_12m']==4)\n",
    "]='Algunas veces semanalmente'\n",
    "\n",
    "consumidores['frecuencia_consumo_marihuana_tipo'][\n",
    "    (consumidores['g_11_f_consumio_alguna_vez_marihuana']==1) & (consumidores['k_03_consumio_marihuana_12m']==1) &\n",
    "    (consumidores['k_04_frecuencia_consumo_marihuana_12m']==5)\n",
    "]='Diariamente'\n"
   ]
  },
  {
   "cell_type": "code",
   "execution_count": 43,
   "metadata": {},
   "outputs": [],
   "source": [
    "consumidores.frecuencia_consumo_marihuana_tipo = consumidores.frecuencia_consumo_marihuana_tipo.astype(\"category\")"
   ]
  },
  {
   "cell_type": "code",
   "execution_count": 44,
   "metadata": {},
   "outputs": [
    {
     "data": {
      "text/plain": [
       "CategoricalDtype(categories=['Alguna vez en su vida',\n",
       "                  'Algunas veces durante los últimos 12 meses',\n",
       "                  'Algunas veces mensualmente', 'Algunas veces semanalmente',\n",
       "                  'Diariamente', 'Nunca', 'Una vez en el año'],\n",
       ", ordered=False)"
      ]
     },
     "execution_count": 44,
     "metadata": {},
     "output_type": "execute_result"
    }
   ],
   "source": [
    "consumidores.frecuencia_consumo_marihuana_tipo.dtype"
   ]
  },
  {
   "cell_type": "code",
   "execution_count": 45,
   "metadata": {},
   "outputs": [
    {
     "data": {
      "text/plain": [
       "Nunca                                         6088\n",
       "Alguna vez en su vida                         2725\n",
       "Diariamente                                    330\n",
       "Algunas veces durante los últimos 12 meses     299\n",
       "Algunas veces semanalmente                     212\n",
       "Algunas veces mensualmente                     203\n",
       "Una vez en el año                              143\n",
       "Name: frecuencia_consumo_marihuana_tipo, dtype: int64"
      ]
     },
     "execution_count": 45,
     "metadata": {},
     "output_type": "execute_result"
    }
   ],
   "source": [
    "consumidores.frecuencia_consumo_marihuana_tipo.value_counts()"
   ]
  },
  {
   "cell_type": "markdown",
   "metadata": {},
   "source": [
    "##### Frecuancia consumo cocaina tipo"
   ]
  },
  {
   "cell_type": "code",
   "execution_count": 46,
   "metadata": {},
   "outputs": [
    {
     "name": "stderr",
     "output_type": "stream",
     "text": [
      "C:\\Users\\Danny\\AppData\\Local\\Temp\\ipykernel_14900\\3571941364.py:3: SettingWithCopyWarning: \n",
      "A value is trying to be set on a copy of a slice from a DataFrame\n",
      "\n",
      "See the caveats in the documentation: https://pandas.pydata.org/pandas-docs/stable/user_guide/indexing.html#returning-a-view-versus-a-copy\n",
      "  consumidores['frecuencia_consumo_cocaina_tipo'][\n",
      "C:\\Users\\Danny\\AppData\\Local\\Temp\\ipykernel_14900\\3571941364.py:7: SettingWithCopyWarning: \n",
      "A value is trying to be set on a copy of a slice from a DataFrame\n",
      "\n",
      "See the caveats in the documentation: https://pandas.pydata.org/pandas-docs/stable/user_guide/indexing.html#returning-a-view-versus-a-copy\n",
      "  consumidores['frecuencia_consumo_cocaina_tipo'][\n",
      "C:\\Users\\Danny\\AppData\\Local\\Temp\\ipykernel_14900\\3571941364.py:12: SettingWithCopyWarning: \n",
      "A value is trying to be set on a copy of a slice from a DataFrame\n",
      "\n",
      "See the caveats in the documentation: https://pandas.pydata.org/pandas-docs/stable/user_guide/indexing.html#returning-a-view-versus-a-copy\n",
      "  consumidores['frecuencia_consumo_cocaina_tipo'][\n",
      "C:\\Users\\Danny\\AppData\\Local\\Temp\\ipykernel_14900\\3571941364.py:17: SettingWithCopyWarning: \n",
      "A value is trying to be set on a copy of a slice from a DataFrame\n",
      "\n",
      "See the caveats in the documentation: https://pandas.pydata.org/pandas-docs/stable/user_guide/indexing.html#returning-a-view-versus-a-copy\n",
      "  consumidores['frecuencia_consumo_cocaina_tipo'][\n",
      "C:\\Users\\Danny\\AppData\\Local\\Temp\\ipykernel_14900\\3571941364.py:22: SettingWithCopyWarning: \n",
      "A value is trying to be set on a copy of a slice from a DataFrame\n",
      "\n",
      "See the caveats in the documentation: https://pandas.pydata.org/pandas-docs/stable/user_guide/indexing.html#returning-a-view-versus-a-copy\n",
      "  consumidores['frecuencia_consumo_cocaina_tipo'][\n",
      "C:\\Users\\Danny\\AppData\\Local\\Temp\\ipykernel_14900\\3571941364.py:27: SettingWithCopyWarning: \n",
      "A value is trying to be set on a copy of a slice from a DataFrame\n",
      "\n",
      "See the caveats in the documentation: https://pandas.pydata.org/pandas-docs/stable/user_guide/indexing.html#returning-a-view-versus-a-copy\n",
      "  consumidores['frecuencia_consumo_cocaina_tipo'][\n"
     ]
    }
   ],
   "source": [
    "consumidores.loc[consumidores['g_11_g_consumio_alguna_vez_cocaina']==2, 'frecuencia_consumo_cocaina_tipo'] = 'Nunca'\n",
    "\n",
    "consumidores['frecuencia_consumo_cocaina_tipo'][\n",
    "    (consumidores['g_11_g_consumio_alguna_vez_cocaina']==1) & (consumidores['l_02_consumio_cocaina_12m']==2)\n",
    "]='Alguna vez en su vida'\n",
    "\n",
    "consumidores['frecuencia_consumo_cocaina_tipo'][\n",
    "    (consumidores['g_11_g_consumio_alguna_vez_cocaina']==1) & (consumidores['l_02_consumio_cocaina_12m']==1) &\n",
    "    (consumidores['l_03_frecuencia_consumo_cocaina_12m']==1)\n",
    "]='Una vez en el año'\n",
    "\n",
    "consumidores['frecuencia_consumo_cocaina_tipo'][\n",
    "    (consumidores['g_11_g_consumio_alguna_vez_cocaina']==1) & (consumidores['l_02_consumio_cocaina_12m']==1) &\n",
    "    (consumidores['l_03_frecuencia_consumo_cocaina_12m']==2)\n",
    "]='Algunas veces durante los últimos 12 meses'\n",
    "\n",
    "consumidores['frecuencia_consumo_cocaina_tipo'][\n",
    "    (consumidores['g_11_g_consumio_alguna_vez_cocaina']==1) & (consumidores['l_02_consumio_cocaina_12m']==1) &\n",
    "    (consumidores['l_03_frecuencia_consumo_cocaina_12m']==3)\n",
    "]='Algunas veces mensualmente'\n",
    "\n",
    "consumidores['frecuencia_consumo_cocaina_tipo'][\n",
    "    (consumidores['g_11_g_consumio_alguna_vez_cocaina']==1) & (consumidores['l_02_consumio_cocaina_12m']==1) &\n",
    "    (consumidores['l_03_frecuencia_consumo_cocaina_12m']==4)\n",
    "]='Algunas veces semanalmente'\n",
    "\n",
    "consumidores['frecuencia_consumo_cocaina_tipo'][\n",
    "    (consumidores['g_11_g_consumio_alguna_vez_cocaina']==1) & (consumidores['l_02_consumio_cocaina_12m']==1) &\n",
    "    (consumidores['l_03_frecuencia_consumo_cocaina_12m']==5)\n",
    "]='Diariamente'\n",
    "\n",
    "#consumidores.g_11_g_consumio_alguna_vez_cocaina\n",
    "#consumidores.g_11_h_consumio_alguna_vez_basuco\n",
    "#consumidores.g_11_j_consumio_alguna_vez_heroina\n",
    "\n",
    "#consumidores.l_02_consumio_cocaina_12m\n",
    "#consumidores.l_03_frecuencia_consumo_cocaina_12m\n",
    "#consumidores.m_02_consumio_basuco_12m\n",
    "#consumidores.m_03_frecuencia_consumo_basuco_12m\n",
    "#consumidores.o_02_consumio_heroina_12m\n",
    "#consumidores.o_03_frecuencia_consumo_heroina_12m"
   ]
  },
  {
   "cell_type": "code",
   "execution_count": 47,
   "metadata": {},
   "outputs": [],
   "source": [
    "consumidores.frecuencia_consumo_cocaina_tipo = consumidores.frecuencia_consumo_cocaina_tipo.astype(\"category\")"
   ]
  },
  {
   "cell_type": "code",
   "execution_count": 48,
   "metadata": {},
   "outputs": [
    {
     "data": {
      "text/plain": [
       "CategoricalDtype(categories=['Alguna vez en su vida',\n",
       "                  'Algunas veces durante los últimos 12 meses',\n",
       "                  'Algunas veces mensualmente', 'Algunas veces semanalmente',\n",
       "                  'Diariamente', 'Nunca', 'Una vez en el año'],\n",
       ", ordered=False)"
      ]
     },
     "execution_count": 48,
     "metadata": {},
     "output_type": "execute_result"
    }
   ],
   "source": [
    "consumidores.frecuencia_consumo_cocaina_tipo.dtype"
   ]
  },
  {
   "cell_type": "code",
   "execution_count": 49,
   "metadata": {},
   "outputs": [
    {
     "data": {
      "text/plain": [
       "Nunca                                         9052\n",
       "Alguna vez en su vida                          711\n",
       "Algunas veces durante los últimos 12 meses      81\n",
       "Algunas veces mensualmente                      47\n",
       "Una vez en el año                               47\n",
       "Algunas veces semanalmente                      44\n",
       "Diariamente                                     18\n",
       "Name: frecuencia_consumo_cocaina_tipo, dtype: int64"
      ]
     },
     "execution_count": 49,
     "metadata": {},
     "output_type": "execute_result"
    }
   ],
   "source": [
    "consumidores.frecuencia_consumo_cocaina_tipo.value_counts()"
   ]
  },
  {
   "cell_type": "markdown",
   "metadata": {},
   "source": [
    "##### Frecuancia consumo basuco tipo"
   ]
  },
  {
   "cell_type": "code",
   "execution_count": 51,
   "metadata": {},
   "outputs": [
    {
     "name": "stderr",
     "output_type": "stream",
     "text": [
      "C:\\Users\\Danny\\AppData\\Local\\Temp\\ipykernel_14900\\2236165463.py:3: SettingWithCopyWarning: \n",
      "A value is trying to be set on a copy of a slice from a DataFrame\n",
      "\n",
      "See the caveats in the documentation: https://pandas.pydata.org/pandas-docs/stable/user_guide/indexing.html#returning-a-view-versus-a-copy\n",
      "  consumidores['frecuencia_consumo_basuco_tipo'][\n",
      "C:\\Users\\Danny\\AppData\\Local\\Temp\\ipykernel_14900\\2236165463.py:7: SettingWithCopyWarning: \n",
      "A value is trying to be set on a copy of a slice from a DataFrame\n",
      "\n",
      "See the caveats in the documentation: https://pandas.pydata.org/pandas-docs/stable/user_guide/indexing.html#returning-a-view-versus-a-copy\n",
      "  consumidores['frecuencia_consumo_basuco_tipo'][\n",
      "C:\\Users\\Danny\\AppData\\Local\\Temp\\ipykernel_14900\\2236165463.py:12: SettingWithCopyWarning: \n",
      "A value is trying to be set on a copy of a slice from a DataFrame\n",
      "\n",
      "See the caveats in the documentation: https://pandas.pydata.org/pandas-docs/stable/user_guide/indexing.html#returning-a-view-versus-a-copy\n",
      "  consumidores['frecuencia_consumo_basuco_tipo'][\n",
      "C:\\Users\\Danny\\AppData\\Local\\Temp\\ipykernel_14900\\2236165463.py:17: SettingWithCopyWarning: \n",
      "A value is trying to be set on a copy of a slice from a DataFrame\n",
      "\n",
      "See the caveats in the documentation: https://pandas.pydata.org/pandas-docs/stable/user_guide/indexing.html#returning-a-view-versus-a-copy\n",
      "  consumidores['frecuencia_consumo_basuco_tipo'][\n",
      "C:\\Users\\Danny\\AppData\\Local\\Temp\\ipykernel_14900\\2236165463.py:22: SettingWithCopyWarning: \n",
      "A value is trying to be set on a copy of a slice from a DataFrame\n",
      "\n",
      "See the caveats in the documentation: https://pandas.pydata.org/pandas-docs/stable/user_guide/indexing.html#returning-a-view-versus-a-copy\n",
      "  consumidores['frecuencia_consumo_basuco_tipo'][\n",
      "C:\\Users\\Danny\\AppData\\Local\\Temp\\ipykernel_14900\\2236165463.py:27: SettingWithCopyWarning: \n",
      "A value is trying to be set on a copy of a slice from a DataFrame\n",
      "\n",
      "See the caveats in the documentation: https://pandas.pydata.org/pandas-docs/stable/user_guide/indexing.html#returning-a-view-versus-a-copy\n",
      "  consumidores['frecuencia_consumo_basuco_tipo'][\n"
     ]
    }
   ],
   "source": [
    "consumidores.loc[consumidores['g_11_h_consumio_alguna_vez_basuco']==2, 'frecuencia_consumo_basuco_tipo'] = 'Nunca'\n",
    "\n",
    "consumidores['frecuencia_consumo_basuco_tipo'][\n",
    "    (consumidores['g_11_h_consumio_alguna_vez_basuco']==1) & (consumidores['m_02_consumio_basuco_12m']==2)\n",
    "]='Alguna vez en su vida'\n",
    "\n",
    "consumidores['frecuencia_consumo_basuco_tipo'][\n",
    "    (consumidores['g_11_h_consumio_alguna_vez_basuco']==1) & (consumidores['m_02_consumio_basuco_12m']==1) &\n",
    "    (consumidores['m_03_frecuencia_consumo_basuco_12m']==1)\n",
    "]='Una vez en el año'\n",
    "\n",
    "consumidores['frecuencia_consumo_basuco_tipo'][\n",
    "    (consumidores['g_11_h_consumio_alguna_vez_basuco']==1) & (consumidores['m_02_consumio_basuco_12m']==1) &\n",
    "    (consumidores['m_03_frecuencia_consumo_basuco_12m']==2)\n",
    "]='Algunas veces durante los últimos 12 meses'\n",
    "\n",
    "consumidores['frecuencia_consumo_basuco_tipo'][\n",
    "    (consumidores['g_11_h_consumio_alguna_vez_basuco']==1) & (consumidores['m_02_consumio_basuco_12m']==1) &\n",
    "    (consumidores['m_03_frecuencia_consumo_basuco_12m']==3)\n",
    "]='Algunas veces mensualmente'\n",
    "\n",
    "consumidores['frecuencia_consumo_basuco_tipo'][\n",
    "    (consumidores['g_11_h_consumio_alguna_vez_basuco']==1) & (consumidores['m_02_consumio_basuco_12m']==1) &\n",
    "    (consumidores['m_03_frecuencia_consumo_basuco_12m']==4)\n",
    "]='Algunas veces semanalmente'\n",
    "\n",
    "consumidores['frecuencia_consumo_basuco_tipo'][\n",
    "    (consumidores['g_11_h_consumio_alguna_vez_basuco']==1) & (consumidores['m_02_consumio_basuco_12m']==1) &\n",
    "    (consumidores['m_03_frecuencia_consumo_basuco_12m']==5)\n",
    "]='Diariamente'\n",
    "\n",
    "\n",
    "#consumidores.g_11_h_consumio_alguna_vez_basuco\n",
    "#consumidores.g_11_j_consumio_alguna_vez_heroina\n",
    "\n",
    "#consumidores.m_02_consumio_basuco_12m\n",
    "#consumidores.m_03_frecuencia_consumo_basuco_12m\n",
    "#consumidores.o_02_consumio_heroina_12m\n",
    "#consumidores.o_03_frecuencia_consumo_heroina_12m"
   ]
  },
  {
   "cell_type": "code",
   "execution_count": 52,
   "metadata": {},
   "outputs": [],
   "source": [
    "consumidores.frecuencia_consumo_basuco_tipo = consumidores.frecuencia_consumo_basuco_tipo.astype(\"category\")"
   ]
  },
  {
   "cell_type": "code",
   "execution_count": 53,
   "metadata": {},
   "outputs": [
    {
     "data": {
      "text/plain": [
       "CategoricalDtype(categories=['Alguna vez en su vida',\n",
       "                  'Algunas veces durante los últimos 12 meses',\n",
       "                  'Algunas veces mensualmente', 'Algunas veces semanalmente',\n",
       "                  'Diariamente', 'Nunca', 'Una vez en el año'],\n",
       ", ordered=False)"
      ]
     },
     "execution_count": 53,
     "metadata": {},
     "output_type": "execute_result"
    }
   ],
   "source": [
    "consumidores.frecuencia_consumo_basuco_tipo.dtype"
   ]
  },
  {
   "cell_type": "code",
   "execution_count": 54,
   "metadata": {},
   "outputs": [
    {
     "data": {
      "text/plain": [
       "Nunca                                         9699\n",
       "Alguna vez en su vida                          249\n",
       "Algunas veces durante los últimos 12 meses      14\n",
       "Algunas veces semanalmente                      12\n",
       "Diariamente                                     12\n",
       "Algunas veces mensualmente                      11\n",
       "Una vez en el año                                3\n",
       "Name: frecuencia_consumo_basuco_tipo, dtype: int64"
      ]
     },
     "execution_count": 54,
     "metadata": {},
     "output_type": "execute_result"
    }
   ],
   "source": [
    "consumidores.frecuencia_consumo_basuco_tipo.value_counts()"
   ]
  },
  {
   "cell_type": "markdown",
   "metadata": {},
   "source": [
    "##### Frecuancia consumo heroina tipo"
   ]
  },
  {
   "cell_type": "code",
   "execution_count": 56,
   "metadata": {},
   "outputs": [
    {
     "name": "stderr",
     "output_type": "stream",
     "text": [
      "C:\\Users\\Danny\\AppData\\Local\\Temp\\ipykernel_14900\\1345227874.py:3: SettingWithCopyWarning: \n",
      "A value is trying to be set on a copy of a slice from a DataFrame\n",
      "\n",
      "See the caveats in the documentation: https://pandas.pydata.org/pandas-docs/stable/user_guide/indexing.html#returning-a-view-versus-a-copy\n",
      "  consumidores['frecuencia_consumo_heroina_tipo'][\n",
      "C:\\Users\\Danny\\AppData\\Local\\Temp\\ipykernel_14900\\1345227874.py:7: SettingWithCopyWarning: \n",
      "A value is trying to be set on a copy of a slice from a DataFrame\n",
      "\n",
      "See the caveats in the documentation: https://pandas.pydata.org/pandas-docs/stable/user_guide/indexing.html#returning-a-view-versus-a-copy\n",
      "  consumidores['frecuencia_consumo_heroina_tipo'][\n",
      "C:\\Users\\Danny\\AppData\\Local\\Temp\\ipykernel_14900\\1345227874.py:12: SettingWithCopyWarning: \n",
      "A value is trying to be set on a copy of a slice from a DataFrame\n",
      "\n",
      "See the caveats in the documentation: https://pandas.pydata.org/pandas-docs/stable/user_guide/indexing.html#returning-a-view-versus-a-copy\n",
      "  consumidores['frecuencia_consumo_heroina_tipo'][\n",
      "C:\\Users\\Danny\\AppData\\Local\\Temp\\ipykernel_14900\\1345227874.py:17: SettingWithCopyWarning: \n",
      "A value is trying to be set on a copy of a slice from a DataFrame\n",
      "\n",
      "See the caveats in the documentation: https://pandas.pydata.org/pandas-docs/stable/user_guide/indexing.html#returning-a-view-versus-a-copy\n",
      "  consumidores['frecuencia_consumo_heroina_tipo'][\n",
      "C:\\Users\\Danny\\AppData\\Local\\Temp\\ipykernel_14900\\1345227874.py:22: SettingWithCopyWarning: \n",
      "A value is trying to be set on a copy of a slice from a DataFrame\n",
      "\n",
      "See the caveats in the documentation: https://pandas.pydata.org/pandas-docs/stable/user_guide/indexing.html#returning-a-view-versus-a-copy\n",
      "  consumidores['frecuencia_consumo_heroina_tipo'][\n",
      "C:\\Users\\Danny\\AppData\\Local\\Temp\\ipykernel_14900\\1345227874.py:27: SettingWithCopyWarning: \n",
      "A value is trying to be set on a copy of a slice from a DataFrame\n",
      "\n",
      "See the caveats in the documentation: https://pandas.pydata.org/pandas-docs/stable/user_guide/indexing.html#returning-a-view-versus-a-copy\n",
      "  consumidores['frecuencia_consumo_heroina_tipo'][\n"
     ]
    }
   ],
   "source": [
    "consumidores.loc[consumidores['g_11_j_consumio_alguna_vez_heroina']==2, 'frecuencia_consumo_heroina_tipo'] = 'Nunca'\n",
    "\n",
    "consumidores['frecuencia_consumo_heroina_tipo'][\n",
    "    (consumidores['g_11_j_consumio_alguna_vez_heroina']==1) & (consumidores['o_02_consumio_heroina_12m']==2)\n",
    "]='Alguna vez en su vida'\n",
    "\n",
    "consumidores['frecuencia_consumo_heroina_tipo'][\n",
    "    (consumidores['g_11_j_consumio_alguna_vez_heroina']==1) & (consumidores['o_02_consumio_heroina_12m']==1) &\n",
    "    (consumidores['o_03_frecuencia_consumo_heroina_12m']==1)\n",
    "]='Una vez en el año'\n",
    "\n",
    "consumidores['frecuencia_consumo_heroina_tipo'][\n",
    "    (consumidores['g_11_j_consumio_alguna_vez_heroina']==1) & (consumidores['o_02_consumio_heroina_12m']==1) &\n",
    "    (consumidores['o_03_frecuencia_consumo_heroina_12m']==2)\n",
    "]='Algunas veces durante los últimos 12 meses'\n",
    "\n",
    "consumidores['frecuencia_consumo_heroina_tipo'][\n",
    "    (consumidores['g_11_j_consumio_alguna_vez_heroina']==1) & (consumidores['o_02_consumio_heroina_12m']==1) &\n",
    "    (consumidores['o_03_frecuencia_consumo_heroina_12m']==3)\n",
    "]='Algunas veces mensualmente'\n",
    "\n",
    "consumidores['frecuencia_consumo_heroina_tipo'][\n",
    "    (consumidores['g_11_j_consumio_alguna_vez_heroina']==1) & (consumidores['o_02_consumio_heroina_12m']==1) &\n",
    "    (consumidores['o_03_frecuencia_consumo_heroina_12m']==4)\n",
    "]='Algunas veces semanalmente'\n",
    "\n",
    "consumidores['frecuencia_consumo_heroina_tipo'][\n",
    "    (consumidores['g_11_j_consumio_alguna_vez_heroina']==1) & (consumidores['o_02_consumio_heroina_12m']==1) &\n",
    "    (consumidores['o_03_frecuencia_consumo_heroina_12m']==5)\n",
    "]='Diariamente'\n",
    "\n",
    "\n",
    "#consumidores.g_11_j_consumio_alguna_vez_heroina\n",
    "\n",
    "#consumidores.o_02_consumio_heroina_12m\n",
    "#consumidores.o_03_frecuencia_consumo_heroina_12m"
   ]
  },
  {
   "cell_type": "code",
   "execution_count": 57,
   "metadata": {},
   "outputs": [],
   "source": [
    "consumidores.frecuencia_consumo_heroina_tipo = consumidores.frecuencia_consumo_heroina_tipo.astype(\"category\")"
   ]
  },
  {
   "cell_type": "code",
   "execution_count": 58,
   "metadata": {},
   "outputs": [
    {
     "data": {
      "text/plain": [
       "CategoricalDtype(categories=['Alguna vez en su vida',\n",
       "                  'Algunas veces durante los últimos 12 meses', 'Diariamente',\n",
       "                  'Nunca'],\n",
       ", ordered=False)"
      ]
     },
     "execution_count": 58,
     "metadata": {},
     "output_type": "execute_result"
    }
   ],
   "source": [
    "consumidores.frecuencia_consumo_heroina_tipo.dtype"
   ]
  },
  {
   "cell_type": "code",
   "execution_count": 59,
   "metadata": {},
   "outputs": [
    {
     "data": {
      "text/plain": [
       "Nunca                                         9956\n",
       "Alguna vez en su vida                           40\n",
       "Algunas veces durante los últimos 12 meses       3\n",
       "Diariamente                                      1\n",
       "Name: frecuencia_consumo_heroina_tipo, dtype: int64"
      ]
     },
     "execution_count": 59,
     "metadata": {},
     "output_type": "execute_result"
    }
   ],
   "source": [
    "consumidores.frecuencia_consumo_heroina_tipo.value_counts()"
   ]
  },
  {
   "cell_type": "code",
   "execution_count": 60,
   "metadata": {},
   "outputs": [
    {
     "name": "stdout",
     "output_type": "stream",
     "text": [
      "<class 'pandas.core.frame.DataFrame'>\n",
      "RangeIndex: 10000 entries, 0 to 9999\n",
      "Data columns (total 63 columns):\n",
      " #   Column                                                     Non-Null Count  Dtype   \n",
      "---  ------                                                     --------------  -----   \n",
      " 0   directorio                                                 10000 non-null  int64   \n",
      " 1   per_sexo                                                   10000 non-null  int64   \n",
      " 2   per_edad                                                   10000 non-null  int64   \n",
      " 3   vive_padre_hogar                                           10000 non-null  int64   \n",
      " 4   vive_madre_hogar                                           10000 non-null  int64   \n",
      " 5   departamento                                               10000 non-null  object  \n",
      " 6   municipio                                                  10000 non-null  object  \n",
      " 7   tipo_vivienda                                              10000 non-null  int64   \n",
      " 8   estrato                                                    10000 non-null  float64 \n",
      " 9   residentes_hogar                                           10000 non-null  int64   \n",
      " 10  d_01_aporta_dinero_hogar                                   10000 non-null  int64   \n",
      " 11  d_02_situacion_actual                                      10000 non-null  int64   \n",
      " 12  d_08_estado_salud                                          10000 non-null  int64   \n",
      " 13  d_09_deprimido                                             10000 non-null  int64   \n",
      " 14  d_10_poco_interes                                          10000 non-null  int64   \n",
      " 15  d_11_h_conocimiento_riesgo_fumar_marihuana_frecuentemente  10000 non-null  int64   \n",
      " 16  d_11_k_conocimiento_riesgo_cocaina_frecuentemente          10000 non-null  int64   \n",
      " 17  d_11_n_conocimiento_riesgo_fumar_basuco_frecuentemente     10000 non-null  int64   \n",
      " 18  d_12_b_presenta_problema_consumo_sp_barrio                 10000 non-null  int64   \n",
      " 19  d_12_c_presenta_problema_expendio_sp_barrio                10000 non-null  int64   \n",
      " 20  d2_01_etnia                                                10000 non-null  int64   \n",
      " 21  d2_03_estado_civil                                         10000 non-null  int64   \n",
      " 22  d2_04_num_hijos                                            10000 non-null  int64   \n",
      " 23  d2_05_nivel_educativo                                      10000 non-null  int64   \n",
      " 24  g_01_familiares_consumen_sp                                10000 non-null  int64   \n",
      " 25  g_01_a_num_familiares_consumen_sp                          2747 non-null   float64 \n",
      " 26  g_02_amigos_consumen_sp                                    10000 non-null  int64   \n",
      " 27  g_02_a_num_amigos_consumen_sp                              4282 non-null   float64 \n",
      " 28  g_03_curiosidad_probar_sp                                  10000 non-null  int64   \n",
      " 29  g_04_probaria_sp                                           10000 non-null  int64   \n",
      " 30  g_05_posibilidad_probar_sp                                 10000 non-null  int64   \n",
      " 31  g_06_a_posibilidad_conseguir_marihuana                     10000 non-null  int64   \n",
      " 32  g_06_b_posibilidad_conseguir_cocaina                       10000 non-null  int64   \n",
      " 33  g_06_c_posibilidad_conseguir_basuco                        10000 non-null  int64   \n",
      " 34  g_06_j_posibilidad_conseguir_heroina                       10000 non-null  int64   \n",
      " 35  g_07_alguien_ofrecio_comprar_probar_sp                     10000 non-null  int64   \n",
      " 36  g_08_a_ofrecieron_marihuana                                4866 non-null   float64 \n",
      " 37  g_08_b_ofrecieron_cocaina                                  4866 non-null   float64 \n",
      " 38  g_08_c_ofrecieron_basuco                                   4866 non-null   float64 \n",
      " 39  g_08_e_ofrecieron_heroina                                  4866 non-null   float64 \n",
      " 40  g_11_f_consumio_alguna_vez_marihuana                       10000 non-null  int64   \n",
      " 41  g_11_f_anios_consumio_marihuana                            3912 non-null   float64 \n",
      " 42  g_11_g_consumio_alguna_vez_cocaina                         10000 non-null  int64   \n",
      " 43  g_11_g_anios_consumio_cocaina                              948 non-null    float64 \n",
      " 44  g_11_h_consumio_alguna_vez_basuco                          10000 non-null  int64   \n",
      " 45  g_11_h_anios_consumio_basuco                               3912 non-null   float64 \n",
      " 46  g_11_j_consumio_alguna_vez_heroina                         10000 non-null  int64   \n",
      " 47  g_11_j_anios_consumio_heroina                              44 non-null     float64 \n",
      " 48  k_03_consumio_marihuana_12m                                3912 non-null   float64 \n",
      " 49  k_04_frecuencia_consumo_marihuana_12m                      1187 non-null   float64 \n",
      " 50  l_02_consumio_cocaina_12m                                  948 non-null    float64 \n",
      " 51  l_03_frecuencia_consumo_cocaina_12m                        237 non-null    float64 \n",
      " 52  m_02_consumio_basuco_12m                                   301 non-null    float64 \n",
      " 53  m_03_frecuencia_consumo_basuco_12m                         52 non-null     float64 \n",
      " 54  o_02_consumio_heroina_12m                                  44 non-null     float64 \n",
      " 55  o_03_frecuencia_consumo_heroina_12m                        4 non-null      float64 \n",
      " 56  per_edad_tipo                                              10000 non-null  category\n",
      " 57  estrato_tipo                                               10000 non-null  category\n",
      " 58  situacion_tipo                                             10000 non-null  category\n",
      " 59  frecuencia_consumo_marihuana_tipo                          10000 non-null  category\n",
      " 60  frecuencia_consumo_cocaina_tipo                            10000 non-null  category\n",
      " 61  frecuencia_consumo_basuco_tipo                             10000 non-null  category\n",
      " 62  frecuencia_consumo_heroina_tipo                            10000 non-null  category\n",
      "dtypes: category(7), float64(19), int64(35), object(2)\n",
      "memory usage: 4.3+ MB\n"
     ]
    }
   ],
   "source": [
    "consumidores.info(verbose=True)"
   ]
  },
  {
   "cell_type": "markdown",
   "metadata": {},
   "source": [
    "##### G11 F Años Consumio marihuana"
   ]
  },
  {
   "cell_type": "code",
   "execution_count": 61,
   "metadata": {},
   "outputs": [
    {
     "data": {
      "text/plain": [
       "array([nan, 40., 19., 14., 18., 15., 17., 20., 22., 16., 12., 26., 21.,\n",
       "       30., 27., 25., 23., 24., 13., 10., 11., 43., 34., 39., 28., 41.,\n",
       "       47.,  8., 29., 35.,  9., 33., 42., 38.,  6., 48.,  7., 36., 45.,\n",
       "       32., 50., 56., 52., 55., 51.,  2., 31., 46.,  5., 60.])"
      ]
     },
     "execution_count": 61,
     "metadata": {},
     "output_type": "execute_result"
    }
   ],
   "source": [
    "consumidores.g_11_f_anios_consumio_marihuana.unique()"
   ]
  },
  {
   "cell_type": "markdown",
   "metadata": {},
   "source": [
    "Vemos que las transmisiones se pueden agregar en manual o automatica"
   ]
  },
  {
   "cell_type": "markdown",
   "metadata": {},
   "source": [
    "Podemos filtrar un dataframes por varias condiciones a la vez. Para ello usamos el operador `&` entre ellas para indicar un `and` o un  `|` para indicar un `or`"
   ]
  },
  {
   "cell_type": "code",
   "execution_count": 32,
   "metadata": {},
   "outputs": [],
   "source": [
    "#vehiculos['transmision_tipo'] = \"Automatica\"\n",
    "#vehiculos['transmision_tipo'][\n",
    "#    (vehiculos['transmision'].notnull()) & (vehiculos['transmision'].str.startswith('M'))\n",
    "#] = \"Manual\""
   ]
  },
  {
   "cell_type": "code",
   "execution_count": 33,
   "metadata": {},
   "outputs": [],
   "source": [
    "#vehiculos.transmision_tipo = vehiculos.transmision_tipo.astype(\"category\")"
   ]
  },
  {
   "cell_type": "code",
   "execution_count": 34,
   "metadata": {},
   "outputs": [],
   "source": [
    "#vehiculos.transmision_tipo.dtype"
   ]
  },
  {
   "cell_type": "code",
   "execution_count": 35,
   "metadata": {},
   "outputs": [],
   "source": [
    "#vehiculos.transmision_tipo.value_counts()"
   ]
  },
  {
   "cell_type": "code",
   "execution_count": 62,
   "metadata": {},
   "outputs": [
    {
     "data": {
      "text/html": [
       "<div>\n",
       "<style scoped>\n",
       "    .dataframe tbody tr th:only-of-type {\n",
       "        vertical-align: middle;\n",
       "    }\n",
       "\n",
       "    .dataframe tbody tr th {\n",
       "        vertical-align: top;\n",
       "    }\n",
       "\n",
       "    .dataframe thead th {\n",
       "        text-align: right;\n",
       "    }\n",
       "</style>\n",
       "<table border=\"1\" class=\"dataframe\">\n",
       "  <thead>\n",
       "    <tr style=\"text-align: right;\">\n",
       "      <th></th>\n",
       "      <th>directorio</th>\n",
       "      <th>per_sexo</th>\n",
       "      <th>per_edad</th>\n",
       "      <th>vive_padre_hogar</th>\n",
       "      <th>vive_madre_hogar</th>\n",
       "      <th>departamento</th>\n",
       "      <th>municipio</th>\n",
       "      <th>tipo_vivienda</th>\n",
       "      <th>estrato</th>\n",
       "      <th>residentes_hogar</th>\n",
       "      <th>...</th>\n",
       "      <th>m_03_frecuencia_consumo_basuco_12m</th>\n",
       "      <th>o_02_consumio_heroina_12m</th>\n",
       "      <th>o_03_frecuencia_consumo_heroina_12m</th>\n",
       "      <th>per_edad_tipo</th>\n",
       "      <th>estrato_tipo</th>\n",
       "      <th>situacion_tipo</th>\n",
       "      <th>frecuencia_consumo_marihuana_tipo</th>\n",
       "      <th>frecuencia_consumo_cocaina_tipo</th>\n",
       "      <th>frecuencia_consumo_basuco_tipo</th>\n",
       "      <th>frecuencia_consumo_heroina_tipo</th>\n",
       "    </tr>\n",
       "  </thead>\n",
       "  <tbody>\n",
       "    <tr>\n",
       "      <th>0</th>\n",
       "      <td>11207</td>\n",
       "      <td>1</td>\n",
       "      <td>19</td>\n",
       "      <td>2</td>\n",
       "      <td>2</td>\n",
       "      <td>Guaviare</td>\n",
       "      <td>SAN JOSÉ DEL GUAVIARE</td>\n",
       "      <td>2</td>\n",
       "      <td>2.0</td>\n",
       "      <td>5</td>\n",
       "      <td>...</td>\n",
       "      <td>NaN</td>\n",
       "      <td>NaN</td>\n",
       "      <td>NaN</td>\n",
       "      <td>Joven</td>\n",
       "      <td>Estrato bajo</td>\n",
       "      <td>Trabajando</td>\n",
       "      <td>Nunca</td>\n",
       "      <td>Nunca</td>\n",
       "      <td>Nunca</td>\n",
       "      <td>Nunca</td>\n",
       "    </tr>\n",
       "    <tr>\n",
       "      <th>1</th>\n",
       "      <td>1180</td>\n",
       "      <td>2</td>\n",
       "      <td>51</td>\n",
       "      <td>2</td>\n",
       "      <td>1</td>\n",
       "      <td>Cordoba</td>\n",
       "      <td>MONTERÍA</td>\n",
       "      <td>1</td>\n",
       "      <td>1.0</td>\n",
       "      <td>4</td>\n",
       "      <td>...</td>\n",
       "      <td>NaN</td>\n",
       "      <td>NaN</td>\n",
       "      <td>NaN</td>\n",
       "      <td>Adulto</td>\n",
       "      <td>Estrato bajo</td>\n",
       "      <td>Trabajando</td>\n",
       "      <td>Nunca</td>\n",
       "      <td>Nunca</td>\n",
       "      <td>Nunca</td>\n",
       "      <td>Nunca</td>\n",
       "    </tr>\n",
       "    <tr>\n",
       "      <th>2</th>\n",
       "      <td>4398</td>\n",
       "      <td>1</td>\n",
       "      <td>52</td>\n",
       "      <td>3</td>\n",
       "      <td>3</td>\n",
       "      <td>Caqueta</td>\n",
       "      <td>FLORENCIA</td>\n",
       "      <td>1</td>\n",
       "      <td>2.0</td>\n",
       "      <td>4</td>\n",
       "      <td>...</td>\n",
       "      <td>NaN</td>\n",
       "      <td>NaN</td>\n",
       "      <td>NaN</td>\n",
       "      <td>Adulto</td>\n",
       "      <td>Estrato bajo</td>\n",
       "      <td>Trabajando</td>\n",
       "      <td>Nunca</td>\n",
       "      <td>Nunca</td>\n",
       "      <td>Nunca</td>\n",
       "      <td>Nunca</td>\n",
       "    </tr>\n",
       "    <tr>\n",
       "      <th>3</th>\n",
       "      <td>4399</td>\n",
       "      <td>2</td>\n",
       "      <td>39</td>\n",
       "      <td>1</td>\n",
       "      <td>1</td>\n",
       "      <td>Bolivar</td>\n",
       "      <td>CARTAGENA</td>\n",
       "      <td>1</td>\n",
       "      <td>5.0</td>\n",
       "      <td>6</td>\n",
       "      <td>...</td>\n",
       "      <td>NaN</td>\n",
       "      <td>NaN</td>\n",
       "      <td>NaN</td>\n",
       "      <td>Adulto</td>\n",
       "      <td>Estrato alto</td>\n",
       "      <td>Trabajando</td>\n",
       "      <td>Nunca</td>\n",
       "      <td>Nunca</td>\n",
       "      <td>Nunca</td>\n",
       "      <td>Nunca</td>\n",
       "    </tr>\n",
       "    <tr>\n",
       "      <th>4</th>\n",
       "      <td>2619</td>\n",
       "      <td>2</td>\n",
       "      <td>27</td>\n",
       "      <td>1</td>\n",
       "      <td>1</td>\n",
       "      <td>Tolima</td>\n",
       "      <td>ESPINAL</td>\n",
       "      <td>1</td>\n",
       "      <td>2.0</td>\n",
       "      <td>4</td>\n",
       "      <td>...</td>\n",
       "      <td>NaN</td>\n",
       "      <td>NaN</td>\n",
       "      <td>NaN</td>\n",
       "      <td>Joven</td>\n",
       "      <td>Estrato bajo</td>\n",
       "      <td>Buscando trabajo</td>\n",
       "      <td>Nunca</td>\n",
       "      <td>Nunca</td>\n",
       "      <td>Nunca</td>\n",
       "      <td>Nunca</td>\n",
       "    </tr>\n",
       "  </tbody>\n",
       "</table>\n",
       "<p>5 rows × 63 columns</p>\n",
       "</div>"
      ],
      "text/plain": [
       "   directorio  per_sexo  per_edad  vive_padre_hogar  vive_madre_hogar  \\\n",
       "0       11207         1        19                 2                 2   \n",
       "1        1180         2        51                 2                 1   \n",
       "2        4398         1        52                 3                 3   \n",
       "3        4399         2        39                 1                 1   \n",
       "4        2619         2        27                 1                 1   \n",
       "\n",
       "  departamento              municipio  tipo_vivienda  estrato  \\\n",
       "0     Guaviare  SAN JOSÉ DEL GUAVIARE              2      2.0   \n",
       "1      Cordoba               MONTERÍA              1      1.0   \n",
       "2      Caqueta              FLORENCIA              1      2.0   \n",
       "3      Bolivar              CARTAGENA              1      5.0   \n",
       "4       Tolima                ESPINAL              1      2.0   \n",
       "\n",
       "   residentes_hogar  ...  m_03_frecuencia_consumo_basuco_12m  \\\n",
       "0                 5  ...                                 NaN   \n",
       "1                 4  ...                                 NaN   \n",
       "2                 4  ...                                 NaN   \n",
       "3                 6  ...                                 NaN   \n",
       "4                 4  ...                                 NaN   \n",
       "\n",
       "   o_02_consumio_heroina_12m  o_03_frecuencia_consumo_heroina_12m  \\\n",
       "0                        NaN                                  NaN   \n",
       "1                        NaN                                  NaN   \n",
       "2                        NaN                                  NaN   \n",
       "3                        NaN                                  NaN   \n",
       "4                        NaN                                  NaN   \n",
       "\n",
       "   per_edad_tipo  estrato_tipo    situacion_tipo  \\\n",
       "0          Joven  Estrato bajo        Trabajando   \n",
       "1         Adulto  Estrato bajo        Trabajando   \n",
       "2         Adulto  Estrato bajo        Trabajando   \n",
       "3         Adulto  Estrato alto        Trabajando   \n",
       "4          Joven  Estrato bajo  Buscando trabajo   \n",
       "\n",
       "   frecuencia_consumo_marihuana_tipo  frecuencia_consumo_cocaina_tipo  \\\n",
       "0                              Nunca                            Nunca   \n",
       "1                              Nunca                            Nunca   \n",
       "2                              Nunca                            Nunca   \n",
       "3                              Nunca                            Nunca   \n",
       "4                              Nunca                            Nunca   \n",
       "\n",
       "   frecuencia_consumo_basuco_tipo  frecuencia_consumo_heroina_tipo  \n",
       "0                           Nunca                            Nunca  \n",
       "1                           Nunca                            Nunca  \n",
       "2                           Nunca                            Nunca  \n",
       "3                           Nunca                            Nunca  \n",
       "4                           Nunca                            Nunca  \n",
       "\n",
       "[5 rows x 63 columns]"
      ]
     },
     "execution_count": 62,
     "metadata": {},
     "output_type": "execute_result"
    }
   ],
   "source": [
    "consumidores.head()"
   ]
  },
  {
   "cell_type": "markdown",
   "metadata": {},
   "source": [
    "Esto ya tiene más sentido! Ahora que tenemos los grupos guardamos el dataframe"
   ]
  },
  {
   "cell_type": "code",
   "execution_count": 63,
   "metadata": {},
   "outputs": [
    {
     "data": {
      "text/plain": [
       "<Axes: xlabel='per_edad', ylabel='d2_04_num_hijos'>"
      ]
     },
     "execution_count": 63,
     "metadata": {},
     "output_type": "execute_result"
    },
    {
     "data": {
      "image/png": "[encoded data removed]",
      "text/plain": [
       "<Figure size 1200x1200 with 1 Axes>"
      ]
     },
     "metadata": {},
     "output_type": "display_data"
    }
   ],
   "source": [
    "consumidores.plot.scatter(x=\"per_edad\",y=\"d2_04_num_hijos\")"
   ]
  },
  {
   "cell_type": "code",
   "execution_count": 64,
   "metadata": {},
   "outputs": [
    {
     "data": {
      "text/plain": [
       "directorio                              int64\n",
       "per_sexo                                int64\n",
       "per_edad                                int64\n",
       "vive_padre_hogar                        int64\n",
       "vive_madre_hogar                        int64\n",
       "                                       ...   \n",
       "situacion_tipo                       category\n",
       "frecuencia_consumo_marihuana_tipo    category\n",
       "frecuencia_consumo_cocaina_tipo      category\n",
       "frecuencia_consumo_basuco_tipo       category\n",
       "frecuencia_consumo_heroina_tipo      category\n",
       "Length: 63, dtype: object"
      ]
     },
     "execution_count": 64,
     "metadata": {},
     "output_type": "execute_result"
    }
   ],
   "source": [
    "consumidores.dtypes"
   ]
  },
  {
   "cell_type": "code",
   "execution_count": 65,
   "metadata": {},
   "outputs": [
    {
     "data": {
      "text/html": [
       "<div>\n",
       "<style scoped>\n",
       "    .dataframe tbody tr th:only-of-type {\n",
       "        vertical-align: middle;\n",
       "    }\n",
       "\n",
       "    .dataframe tbody tr th {\n",
       "        vertical-align: top;\n",
       "    }\n",
       "\n",
       "    .dataframe thead th {\n",
       "        text-align: right;\n",
       "    }\n",
       "</style>\n",
       "<table border=\"1\" class=\"dataframe\">\n",
       "  <thead>\n",
       "    <tr style=\"text-align: right;\">\n",
       "      <th></th>\n",
       "      <th>directorio</th>\n",
       "      <th>per_sexo</th>\n",
       "      <th>per_edad</th>\n",
       "      <th>vive_padre_hogar</th>\n",
       "      <th>vive_madre_hogar</th>\n",
       "      <th>departamento</th>\n",
       "      <th>municipio</th>\n",
       "      <th>tipo_vivienda</th>\n",
       "      <th>estrato</th>\n",
       "      <th>residentes_hogar</th>\n",
       "      <th>...</th>\n",
       "      <th>m_03_frecuencia_consumo_basuco_12m</th>\n",
       "      <th>o_02_consumio_heroina_12m</th>\n",
       "      <th>o_03_frecuencia_consumo_heroina_12m</th>\n",
       "      <th>per_edad_tipo</th>\n",
       "      <th>estrato_tipo</th>\n",
       "      <th>situacion_tipo</th>\n",
       "      <th>frecuencia_consumo_marihuana_tipo</th>\n",
       "      <th>frecuencia_consumo_cocaina_tipo</th>\n",
       "      <th>frecuencia_consumo_basuco_tipo</th>\n",
       "      <th>frecuencia_consumo_heroina_tipo</th>\n",
       "    </tr>\n",
       "  </thead>\n",
       "  <tbody>\n",
       "    <tr>\n",
       "      <th>0</th>\n",
       "      <td>11207</td>\n",
       "      <td>1</td>\n",
       "      <td>19</td>\n",
       "      <td>2</td>\n",
       "      <td>2</td>\n",
       "      <td>Guaviare</td>\n",
       "      <td>SAN JOSÉ DEL GUAVIARE</td>\n",
       "      <td>2</td>\n",
       "      <td>2.0</td>\n",
       "      <td>5</td>\n",
       "      <td>...</td>\n",
       "      <td>NaN</td>\n",
       "      <td>NaN</td>\n",
       "      <td>NaN</td>\n",
       "      <td>Joven</td>\n",
       "      <td>Estrato bajo</td>\n",
       "      <td>Trabajando</td>\n",
       "      <td>Nunca</td>\n",
       "      <td>Nunca</td>\n",
       "      <td>Nunca</td>\n",
       "      <td>Nunca</td>\n",
       "    </tr>\n",
       "    <tr>\n",
       "      <th>1</th>\n",
       "      <td>1180</td>\n",
       "      <td>2</td>\n",
       "      <td>51</td>\n",
       "      <td>2</td>\n",
       "      <td>1</td>\n",
       "      <td>Cordoba</td>\n",
       "      <td>MONTERÍA</td>\n",
       "      <td>1</td>\n",
       "      <td>1.0</td>\n",
       "      <td>4</td>\n",
       "      <td>...</td>\n",
       "      <td>NaN</td>\n",
       "      <td>NaN</td>\n",
       "      <td>NaN</td>\n",
       "      <td>Adulto</td>\n",
       "      <td>Estrato bajo</td>\n",
       "      <td>Trabajando</td>\n",
       "      <td>Nunca</td>\n",
       "      <td>Nunca</td>\n",
       "      <td>Nunca</td>\n",
       "      <td>Nunca</td>\n",
       "    </tr>\n",
       "    <tr>\n",
       "      <th>2</th>\n",
       "      <td>4398</td>\n",
       "      <td>1</td>\n",
       "      <td>52</td>\n",
       "      <td>3</td>\n",
       "      <td>3</td>\n",
       "      <td>Caqueta</td>\n",
       "      <td>FLORENCIA</td>\n",
       "      <td>1</td>\n",
       "      <td>2.0</td>\n",
       "      <td>4</td>\n",
       "      <td>...</td>\n",
       "      <td>NaN</td>\n",
       "      <td>NaN</td>\n",
       "      <td>NaN</td>\n",
       "      <td>Adulto</td>\n",
       "      <td>Estrato bajo</td>\n",
       "      <td>Trabajando</td>\n",
       "      <td>Nunca</td>\n",
       "      <td>Nunca</td>\n",
       "      <td>Nunca</td>\n",
       "      <td>Nunca</td>\n",
       "    </tr>\n",
       "    <tr>\n",
       "      <th>3</th>\n",
       "      <td>4399</td>\n",
       "      <td>2</td>\n",
       "      <td>39</td>\n",
       "      <td>1</td>\n",
       "      <td>1</td>\n",
       "      <td>Bolivar</td>\n",
       "      <td>CARTAGENA</td>\n",
       "      <td>1</td>\n",
       "      <td>5.0</td>\n",
       "      <td>6</td>\n",
       "      <td>...</td>\n",
       "      <td>NaN</td>\n",
       "      <td>NaN</td>\n",
       "      <td>NaN</td>\n",
       "      <td>Adulto</td>\n",
       "      <td>Estrato alto</td>\n",
       "      <td>Trabajando</td>\n",
       "      <td>Nunca</td>\n",
       "      <td>Nunca</td>\n",
       "      <td>Nunca</td>\n",
       "      <td>Nunca</td>\n",
       "    </tr>\n",
       "    <tr>\n",
       "      <th>4</th>\n",
       "      <td>2619</td>\n",
       "      <td>2</td>\n",
       "      <td>27</td>\n",
       "      <td>1</td>\n",
       "      <td>1</td>\n",
       "      <td>Tolima</td>\n",
       "      <td>ESPINAL</td>\n",
       "      <td>1</td>\n",
       "      <td>2.0</td>\n",
       "      <td>4</td>\n",
       "      <td>...</td>\n",
       "      <td>NaN</td>\n",
       "      <td>NaN</td>\n",
       "      <td>NaN</td>\n",
       "      <td>Joven</td>\n",
       "      <td>Estrato bajo</td>\n",
       "      <td>Buscando trabajo</td>\n",
       "      <td>Nunca</td>\n",
       "      <td>Nunca</td>\n",
       "      <td>Nunca</td>\n",
       "      <td>Nunca</td>\n",
       "    </tr>\n",
       "  </tbody>\n",
       "</table>\n",
       "<p>5 rows × 63 columns</p>\n",
       "</div>"
      ],
      "text/plain": [
       "   directorio  per_sexo  per_edad  vive_padre_hogar  vive_madre_hogar  \\\n",
       "0       11207         1        19                 2                 2   \n",
       "1        1180         2        51                 2                 1   \n",
       "2        4398         1        52                 3                 3   \n",
       "3        4399         2        39                 1                 1   \n",
       "4        2619         2        27                 1                 1   \n",
       "\n",
       "  departamento              municipio  tipo_vivienda  estrato  \\\n",
       "0     Guaviare  SAN JOSÉ DEL GUAVIARE              2      2.0   \n",
       "1      Cordoba               MONTERÍA              1      1.0   \n",
       "2      Caqueta              FLORENCIA              1      2.0   \n",
       "3      Bolivar              CARTAGENA              1      5.0   \n",
       "4       Tolima                ESPINAL              1      2.0   \n",
       "\n",
       "   residentes_hogar  ...  m_03_frecuencia_consumo_basuco_12m  \\\n",
       "0                 5  ...                                 NaN   \n",
       "1                 4  ...                                 NaN   \n",
       "2                 4  ...                                 NaN   \n",
       "3                 6  ...                                 NaN   \n",
       "4                 4  ...                                 NaN   \n",
       "\n",
       "   o_02_consumio_heroina_12m  o_03_frecuencia_consumo_heroina_12m  \\\n",
       "0                        NaN                                  NaN   \n",
       "1                        NaN                                  NaN   \n",
       "2                        NaN                                  NaN   \n",
       "3                        NaN                                  NaN   \n",
       "4                        NaN                                  NaN   \n",
       "\n",
       "   per_edad_tipo  estrato_tipo    situacion_tipo  \\\n",
       "0          Joven  Estrato bajo        Trabajando   \n",
       "1         Adulto  Estrato bajo        Trabajando   \n",
       "2         Adulto  Estrato bajo        Trabajando   \n",
       "3         Adulto  Estrato alto        Trabajando   \n",
       "4          Joven  Estrato bajo  Buscando trabajo   \n",
       "\n",
       "   frecuencia_consumo_marihuana_tipo  frecuencia_consumo_cocaina_tipo  \\\n",
       "0                              Nunca                            Nunca   \n",
       "1                              Nunca                            Nunca   \n",
       "2                              Nunca                            Nunca   \n",
       "3                              Nunca                            Nunca   \n",
       "4                              Nunca                            Nunca   \n",
       "\n",
       "   frecuencia_consumo_basuco_tipo  frecuencia_consumo_heroina_tipo  \n",
       "0                           Nunca                            Nunca  \n",
       "1                           Nunca                            Nunca  \n",
       "2                           Nunca                            Nunca  \n",
       "3                           Nunca                            Nunca  \n",
       "4                           Nunca                            Nunca  \n",
       "\n",
       "[5 rows x 63 columns]"
      ]
     },
     "execution_count": 65,
     "metadata": {},
     "output_type": "execute_result"
    }
   ],
   "source": [
    "consumidores.head()"
   ]
  },
  {
   "cell_type": "markdown",
   "metadata": {},
   "source": [
    "### Conclusion"
   ]
  },
  {
   "cell_type": "markdown",
   "metadata": {},
   "source": [
    "- Se categorizaron las variables necesarias como edad, estrato y situacion actual con el fin de mejorar los datos que se estan trabajando, la igual que se categorizan las variables relacionadas al consumo de cocaina basuco, mariuana y heroina para tener y entender de una mejor forma los datos, obteniendo asi las 4 variables categoricas a trabajar"
   ]
  },
  {
   "cell_type": "markdown",
   "metadata": {},
   "source": [
    "### Exportar\n",
    "\n",
    "Generalmente, un formato muy extendido para guardar datos es csv. Esto, que normalmente no es mala idea, no es recomendable entre pasos cuando se está trabajando con python y pandas.\n",
    "\n",
    "CSV (o `Comma Separated Values`, es decir, Valores separados por comma), es un formato muy simple, que en general consiste de un elemento for fila, y cada campo separado por una coma.\n",
    "\n",
    "El principal problema que esto tiene es que al guardar datos en csv se pierden todos los datos que pandas a obtenido sobre el dataframe (por ejemplo, que tipo de variable se guarda en cada columna, o que variables son categóricas).\n",
    "\n",
    "Mi recomendación es usar un formato nativo de python para guardar dataframes entre pasos, y guardar los datos finales a un formato como csv, para que se puedan compartir con otras personas que no usen python.\n",
    "\n",
    "El formato standard de serialización en Python (y serialización significa básicamente guardar un archivo al disco duro) es `pickle`. Pandas puede leer y escribir a pickle sin problemas, y al leer un archivo pickle es como si nunca hubiesemos cerrado el jupyter notebook, el dataframe no habrá perdido ninguna propiedad."
   ]
  },
  {
   "cell_type": "code",
   "execution_count": 66,
   "metadata": {},
   "outputs": [],
   "source": [
    "consumidores.to_pickle(\"C:/Users/Danny/Desktop/Analisis tesis/Analisis exploratorio de datos/data/consumidores.3.variables_agrupadas.pkl\")"
   ]
  },
  {
   "cell_type": "code",
   "execution_count": null,
   "metadata": {},
   "outputs": [],
   "source": []
  }
 ],
 "metadata": {
  "kernelspec": {
   "display_name": "Python 3 (ipykernel)",
   "language": "python",
   "name": "python3"
  },
  "language_info": {
   "codemirror_mode": {
    "name": "ipython",
    "version": 3
   },
   "file_extension": ".py",
   "mimetype": "text/x-python",
   "name": "python",
   "nbconvert_exporter": "python",
   "pygments_lexer": "ipython3",
   "version": "3.10.11"
  }
 },
 "nbformat": 4,
 "nbformat_minor": 2
}
