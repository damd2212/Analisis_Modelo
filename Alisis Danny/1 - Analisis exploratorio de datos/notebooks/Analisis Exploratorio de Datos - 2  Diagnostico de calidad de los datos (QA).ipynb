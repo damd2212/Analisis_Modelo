{
 "cells": [
  {
   "cell_type": "code",
   "execution_count": 24,
   "metadata": {},
   "outputs": [
    {
     "name": "stdout",
     "output_type": "stream",
     "text": [
      "The watermark extension is already loaded. To reload it, use:\n",
      "  %reload_ext watermark\n",
      "Last updated: 2023-06-15T18:46:40.944038-05:00\n",
      "\n",
      "Python implementation: CPython\n",
      "Python version       : 3.10.11\n",
      "IPython version      : 8.13.2\n",
      "\n",
      "Compiler    : MSC v.1916 64 bit (AMD64)\n",
      "OS          : Windows\n",
      "Release     : 10\n",
      "Machine     : AMD64\n",
      "Processor   : Intel64 Family 6 Model 158 Stepping 10, GenuineIntel\n",
      "CPU cores   : 8\n",
      "Architecture: 64bit\n",
      "\n"
     ]
    }
   ],
   "source": [
    "%load_ext watermark\n",
    "%watermark"
   ]
  },
  {
   "cell_type": "code",
   "execution_count": 25,
   "metadata": {},
   "outputs": [],
   "source": [
    "import pandas as pd\n",
    "import numpy as np"
   ]
  },
  {
   "cell_type": "markdown",
   "metadata": {},
   "source": [
    "La magia de matplotlib matplotlib notebook, es muy util para hacer plots mas visibles, pero es un poco complicada de usar ya que requiere el cerrar cada plot para poder continuar.\n",
    "\n",
    "Alternativamente, se puede usar la magia %matplotlib inline, que es más sencilla ya que simplemente muestra el gráfico original en el jupyter notebook. Para modificar el tamaño de los plots en este caso basta con cambiar el parámetro general de matplotlib figure.figsize al tamaño de gráfico deseado (en pulgadas)\n"
   ]
  },
  {
   "cell_type": "code",
   "execution_count": 26,
   "metadata": {},
   "outputs": [],
   "source": [
    "%matplotlib inline\n",
    "import matplotlib.pyplot as plt\n",
    "\n",
    "plt.rcParams['figure.figsize'] = (12,12) # 10 pulgadas de ancho y 10 de alto para todos los plots"
   ]
  },
  {
   "cell_type": "markdown",
   "metadata": {},
   "source": [
    "En este apartado vamos a revisar el dataset. El objetivo sera tener un dataset lo mas parecido al original pero sin fallos en el mismo que puedan llevarnos a sacar conclusiones erroneas.\n",
    "\n",
    "El input de este paso es el output del anterior"
   ]
  },
  {
   "cell_type": "code",
   "execution_count": 27,
   "metadata": {},
   "outputs": [],
   "source": [
    "consumidores = pd.read_csv(\"C:/Users/Danny/Desktop/Analisis tesis/Analisis exploratorio de datos/data/consumidores.1.procesado_inicial.csv\")"
   ]
  },
  {
   "cell_type": "code",
   "execution_count": 28,
   "metadata": {},
   "outputs": [
    {
     "data": {
      "text/plain": [
       "(10149, 57)"
      ]
     },
     "execution_count": 28,
     "metadata": {},
     "output_type": "execute_result"
    }
   ],
   "source": [
    "consumidores.shape"
   ]
  },
  {
   "cell_type": "code",
   "execution_count": 29,
   "metadata": {},
   "outputs": [
    {
     "data": {
      "text/html": [
       "<div>\n",
       "<style scoped>\n",
       "    .dataframe tbody tr th:only-of-type {\n",
       "        vertical-align: middle;\n",
       "    }\n",
       "\n",
       "    .dataframe tbody tr th {\n",
       "        vertical-align: top;\n",
       "    }\n",
       "\n",
       "    .dataframe thead th {\n",
       "        text-align: right;\n",
       "    }\n",
       "</style>\n",
       "<table border=\"1\" class=\"dataframe\">\n",
       "  <thead>\n",
       "    <tr style=\"text-align: right;\">\n",
       "      <th></th>\n",
       "      <th>directorio</th>\n",
       "      <th>per_sexo</th>\n",
       "      <th>per_edad</th>\n",
       "      <th>vive_padre_hogar</th>\n",
       "      <th>vive_madre_hogar</th>\n",
       "      <th>departamento</th>\n",
       "      <th>municipio</th>\n",
       "      <th>tipo_vivienda</th>\n",
       "      <th>servicio_energia</th>\n",
       "      <th>estrato</th>\n",
       "      <th>...</th>\n",
       "      <th>g_11_j_consumio_alguna_vez_heroina</th>\n",
       "      <th>g_11_j_anios_consumio_heroina</th>\n",
       "      <th>k_03_consumio_marihuana_12m</th>\n",
       "      <th>k_04_frecuencia_consumo_marihuana_12m</th>\n",
       "      <th>l_02_consumio_cocaina_12m</th>\n",
       "      <th>l_03_frecuencia_consumo_cocaina_12m</th>\n",
       "      <th>m_02_consumio_basuco_12m</th>\n",
       "      <th>m_03_frecuencia_consumo_basuco_12m</th>\n",
       "      <th>o_02_consumio_heroina_12m</th>\n",
       "      <th>o_03_frecuencia_consumo_heroina_12m</th>\n",
       "    </tr>\n",
       "  </thead>\n",
       "  <tbody>\n",
       "    <tr>\n",
       "      <th>0</th>\n",
       "      <td>11207</td>\n",
       "      <td>1</td>\n",
       "      <td>19</td>\n",
       "      <td>2</td>\n",
       "      <td>2</td>\n",
       "      <td>Guaviare</td>\n",
       "      <td>SAN JOSÉ DEL GUAVIARE</td>\n",
       "      <td>2</td>\n",
       "      <td>1</td>\n",
       "      <td>2.0</td>\n",
       "      <td>...</td>\n",
       "      <td>2</td>\n",
       "      <td>NaN</td>\n",
       "      <td>NaN</td>\n",
       "      <td>NaN</td>\n",
       "      <td>NaN</td>\n",
       "      <td>NaN</td>\n",
       "      <td>NaN</td>\n",
       "      <td>NaN</td>\n",
       "      <td>NaN</td>\n",
       "      <td>NaN</td>\n",
       "    </tr>\n",
       "    <tr>\n",
       "      <th>1</th>\n",
       "      <td>1180</td>\n",
       "      <td>2</td>\n",
       "      <td>51</td>\n",
       "      <td>2</td>\n",
       "      <td>1</td>\n",
       "      <td>Cordoba</td>\n",
       "      <td>MONTERÍA</td>\n",
       "      <td>1</td>\n",
       "      <td>1</td>\n",
       "      <td>1.0</td>\n",
       "      <td>...</td>\n",
       "      <td>2</td>\n",
       "      <td>NaN</td>\n",
       "      <td>NaN</td>\n",
       "      <td>NaN</td>\n",
       "      <td>NaN</td>\n",
       "      <td>NaN</td>\n",
       "      <td>NaN</td>\n",
       "      <td>NaN</td>\n",
       "      <td>NaN</td>\n",
       "      <td>NaN</td>\n",
       "    </tr>\n",
       "    <tr>\n",
       "      <th>2</th>\n",
       "      <td>4398</td>\n",
       "      <td>1</td>\n",
       "      <td>52</td>\n",
       "      <td>3</td>\n",
       "      <td>3</td>\n",
       "      <td>Caqueta</td>\n",
       "      <td>FLORENCIA</td>\n",
       "      <td>1</td>\n",
       "      <td>1</td>\n",
       "      <td>2.0</td>\n",
       "      <td>...</td>\n",
       "      <td>2</td>\n",
       "      <td>NaN</td>\n",
       "      <td>NaN</td>\n",
       "      <td>NaN</td>\n",
       "      <td>NaN</td>\n",
       "      <td>NaN</td>\n",
       "      <td>NaN</td>\n",
       "      <td>NaN</td>\n",
       "      <td>NaN</td>\n",
       "      <td>NaN</td>\n",
       "    </tr>\n",
       "    <tr>\n",
       "      <th>3</th>\n",
       "      <td>4399</td>\n",
       "      <td>2</td>\n",
       "      <td>39</td>\n",
       "      <td>1</td>\n",
       "      <td>1</td>\n",
       "      <td>Bolivar</td>\n",
       "      <td>CARTAGENA</td>\n",
       "      <td>1</td>\n",
       "      <td>1</td>\n",
       "      <td>5.0</td>\n",
       "      <td>...</td>\n",
       "      <td>2</td>\n",
       "      <td>NaN</td>\n",
       "      <td>NaN</td>\n",
       "      <td>NaN</td>\n",
       "      <td>NaN</td>\n",
       "      <td>NaN</td>\n",
       "      <td>NaN</td>\n",
       "      <td>NaN</td>\n",
       "      <td>NaN</td>\n",
       "      <td>NaN</td>\n",
       "    </tr>\n",
       "    <tr>\n",
       "      <th>4</th>\n",
       "      <td>2619</td>\n",
       "      <td>2</td>\n",
       "      <td>27</td>\n",
       "      <td>1</td>\n",
       "      <td>1</td>\n",
       "      <td>Tolima</td>\n",
       "      <td>ESPINAL</td>\n",
       "      <td>1</td>\n",
       "      <td>1</td>\n",
       "      <td>2.0</td>\n",
       "      <td>...</td>\n",
       "      <td>2</td>\n",
       "      <td>NaN</td>\n",
       "      <td>NaN</td>\n",
       "      <td>NaN</td>\n",
       "      <td>NaN</td>\n",
       "      <td>NaN</td>\n",
       "      <td>NaN</td>\n",
       "      <td>NaN</td>\n",
       "      <td>NaN</td>\n",
       "      <td>NaN</td>\n",
       "    </tr>\n",
       "  </tbody>\n",
       "</table>\n",
       "<p>5 rows × 57 columns</p>\n",
       "</div>"
      ],
      "text/plain": [
       "   directorio  per_sexo  per_edad  vive_padre_hogar  vive_madre_hogar  \\\n",
       "0       11207         1        19                 2                 2   \n",
       "1        1180         2        51                 2                 1   \n",
       "2        4398         1        52                 3                 3   \n",
       "3        4399         2        39                 1                 1   \n",
       "4        2619         2        27                 1                 1   \n",
       "\n",
       "  departamento              municipio  tipo_vivienda  servicio_energia  \\\n",
       "0     Guaviare  SAN JOSÉ DEL GUAVIARE              2                 1   \n",
       "1      Cordoba               MONTERÍA              1                 1   \n",
       "2      Caqueta              FLORENCIA              1                 1   \n",
       "3      Bolivar              CARTAGENA              1                 1   \n",
       "4       Tolima                ESPINAL              1                 1   \n",
       "\n",
       "   estrato  ...  g_11_j_consumio_alguna_vez_heroina  \\\n",
       "0      2.0  ...                                   2   \n",
       "1      1.0  ...                                   2   \n",
       "2      2.0  ...                                   2   \n",
       "3      5.0  ...                                   2   \n",
       "4      2.0  ...                                   2   \n",
       "\n",
       "   g_11_j_anios_consumio_heroina  k_03_consumio_marihuana_12m  \\\n",
       "0                            NaN                          NaN   \n",
       "1                            NaN                          NaN   \n",
       "2                            NaN                          NaN   \n",
       "3                            NaN                          NaN   \n",
       "4                            NaN                          NaN   \n",
       "\n",
       "   k_04_frecuencia_consumo_marihuana_12m  l_02_consumio_cocaina_12m  \\\n",
       "0                                    NaN                        NaN   \n",
       "1                                    NaN                        NaN   \n",
       "2                                    NaN                        NaN   \n",
       "3                                    NaN                        NaN   \n",
       "4                                    NaN                        NaN   \n",
       "\n",
       "   l_03_frecuencia_consumo_cocaina_12m  m_02_consumio_basuco_12m  \\\n",
       "0                                  NaN                       NaN   \n",
       "1                                  NaN                       NaN   \n",
       "2                                  NaN                       NaN   \n",
       "3                                  NaN                       NaN   \n",
       "4                                  NaN                       NaN   \n",
       "\n",
       "   m_03_frecuencia_consumo_basuco_12m  o_02_consumio_heroina_12m  \\\n",
       "0                                 NaN                        NaN   \n",
       "1                                 NaN                        NaN   \n",
       "2                                 NaN                        NaN   \n",
       "3                                 NaN                        NaN   \n",
       "4                                 NaN                        NaN   \n",
       "\n",
       "   o_03_frecuencia_consumo_heroina_12m  \n",
       "0                                  NaN  \n",
       "1                                  NaN  \n",
       "2                                  NaN  \n",
       "3                                  NaN  \n",
       "4                                  NaN  \n",
       "\n",
       "[5 rows x 57 columns]"
      ]
     },
     "execution_count": 29,
     "metadata": {},
     "output_type": "execute_result"
    }
   ],
   "source": [
    "consumidores.head()"
   ]
  },
  {
   "cell_type": "markdown",
   "metadata": {},
   "source": [
    "### Duplicados\n",
    "\n",
    "En este apartado se intentan ver dos cosas:\n",
    "\n",
    "* Asegurarse de que datos que no debieran estar duplicados no lo están (por ejemplo, numeros de telefono)\n",
    "\n",
    "* Revisar  si hay columnas que tengan un alto numero de duplicados, ya que pueden no aportar mucha informacion"
   ]
  },
  {
   "cell_type": "code",
   "execution_count": 30,
   "metadata": {},
   "outputs": [],
   "source": [
    "consumidores['tipo_vivienda_unico'] = consumidores.tipo_vivienda.astype(str).str.cat([consumidores.servicio_energia.apply(str),consumidores.estrato.apply(str)],sep='-')"
   ]
  },
  {
   "cell_type": "code",
   "execution_count": 31,
   "metadata": {
    "scrolled": true
   },
   "outputs": [
    {
     "data": {
      "text/plain": [
       "1-1-2.0    2029\n",
       "1-1-1.0    1908\n",
       "2-1-2.0    1661\n",
       "1-1-3.0    1284\n",
       "2-1-3.0    1213\n",
       "2-1-1.0     908\n",
       "2-1-4.0     329\n",
       "1-1-4.0     220\n",
       "2-1-5.0     121\n",
       "3-1-2.0     104\n",
       "2-1-6.0      93\n",
       "3-1-3.0      76\n",
       "3-1-1.0      71\n",
       "1-1-5.0      50\n",
       "1-2-nan      16\n",
       "1-1-6.0      16\n",
       "3-1-4.0      12\n",
       "4-1-1.0       8\n",
       "1-1-8.0       8\n",
       "1-1-9.0       7\n",
       "2-1-9.0       5\n",
       "2-2-nan       3\n",
       "4-2-nan       2\n",
       "4-1-2.0       2\n",
       "2-1-8.0       1\n",
       "3-2-nan       1\n",
       "3-1-5.0       1\n",
       "Name: tipo_vivienda_unico, dtype: int64"
      ]
     },
     "execution_count": 31,
     "metadata": {},
     "output_type": "execute_result"
    }
   ],
   "source": [
    "consumidores.tipo_vivienda_unico.value_counts()"
   ]
  },
  {
   "cell_type": "markdown",
   "metadata": {},
   "source": [
    "Nos damos cuenta de que hay muchos repetidos, veamos un ejemplo"
   ]
  },
  {
   "cell_type": "code",
   "execution_count": 32,
   "metadata": {},
   "outputs": [
    {
     "data": {
      "text/html": [
       "<div>\n",
       "<style scoped>\n",
       "    .dataframe tbody tr th:only-of-type {\n",
       "        vertical-align: middle;\n",
       "    }\n",
       "\n",
       "    .dataframe tbody tr th {\n",
       "        vertical-align: top;\n",
       "    }\n",
       "\n",
       "    .dataframe thead th {\n",
       "        text-align: right;\n",
       "    }\n",
       "</style>\n",
       "<table border=\"1\" class=\"dataframe\">\n",
       "  <thead>\n",
       "    <tr style=\"text-align: right;\">\n",
       "      <th></th>\n",
       "      <th>directorio</th>\n",
       "      <th>per_sexo</th>\n",
       "      <th>per_edad</th>\n",
       "      <th>vive_padre_hogar</th>\n",
       "      <th>vive_madre_hogar</th>\n",
       "      <th>departamento</th>\n",
       "      <th>municipio</th>\n",
       "      <th>tipo_vivienda</th>\n",
       "      <th>servicio_energia</th>\n",
       "      <th>estrato</th>\n",
       "      <th>...</th>\n",
       "      <th>g_11_j_anios_consumio_heroina</th>\n",
       "      <th>k_03_consumio_marihuana_12m</th>\n",
       "      <th>k_04_frecuencia_consumo_marihuana_12m</th>\n",
       "      <th>l_02_consumio_cocaina_12m</th>\n",
       "      <th>l_03_frecuencia_consumo_cocaina_12m</th>\n",
       "      <th>m_02_consumio_basuco_12m</th>\n",
       "      <th>m_03_frecuencia_consumo_basuco_12m</th>\n",
       "      <th>o_02_consumio_heroina_12m</th>\n",
       "      <th>o_03_frecuencia_consumo_heroina_12m</th>\n",
       "      <th>tipo_vivienda_unico</th>\n",
       "    </tr>\n",
       "  </thead>\n",
       "  <tbody>\n",
       "    <tr>\n",
       "      <th>58</th>\n",
       "      <td>30872</td>\n",
       "      <td>2</td>\n",
       "      <td>26</td>\n",
       "      <td>2</td>\n",
       "      <td>2</td>\n",
       "      <td>Bogotá</td>\n",
       "      <td>BOGOTÁ, D.C.</td>\n",
       "      <td>3</td>\n",
       "      <td>1</td>\n",
       "      <td>2.0</td>\n",
       "      <td>...</td>\n",
       "      <td>NaN</td>\n",
       "      <td>2.0</td>\n",
       "      <td>NaN</td>\n",
       "      <td>NaN</td>\n",
       "      <td>NaN</td>\n",
       "      <td>NaN</td>\n",
       "      <td>NaN</td>\n",
       "      <td>NaN</td>\n",
       "      <td>NaN</td>\n",
       "      <td>3-1-2.0</td>\n",
       "    </tr>\n",
       "    <tr>\n",
       "      <th>109</th>\n",
       "      <td>25635</td>\n",
       "      <td>1</td>\n",
       "      <td>19</td>\n",
       "      <td>2</td>\n",
       "      <td>2</td>\n",
       "      <td>Cauca</td>\n",
       "      <td>POPAYÁN</td>\n",
       "      <td>3</td>\n",
       "      <td>1</td>\n",
       "      <td>2.0</td>\n",
       "      <td>...</td>\n",
       "      <td>NaN</td>\n",
       "      <td>NaN</td>\n",
       "      <td>NaN</td>\n",
       "      <td>2.0</td>\n",
       "      <td>NaN</td>\n",
       "      <td>NaN</td>\n",
       "      <td>NaN</td>\n",
       "      <td>NaN</td>\n",
       "      <td>NaN</td>\n",
       "      <td>3-1-2.0</td>\n",
       "    </tr>\n",
       "    <tr>\n",
       "      <th>143</th>\n",
       "      <td>27716</td>\n",
       "      <td>1</td>\n",
       "      <td>53</td>\n",
       "      <td>3</td>\n",
       "      <td>3</td>\n",
       "      <td>Cauca</td>\n",
       "      <td>POPAYÁN</td>\n",
       "      <td>3</td>\n",
       "      <td>1</td>\n",
       "      <td>2.0</td>\n",
       "      <td>...</td>\n",
       "      <td>NaN</td>\n",
       "      <td>2.0</td>\n",
       "      <td>NaN</td>\n",
       "      <td>2.0</td>\n",
       "      <td>NaN</td>\n",
       "      <td>2.0</td>\n",
       "      <td>NaN</td>\n",
       "      <td>NaN</td>\n",
       "      <td>NaN</td>\n",
       "      <td>3-1-2.0</td>\n",
       "    </tr>\n",
       "    <tr>\n",
       "      <th>172</th>\n",
       "      <td>12626</td>\n",
       "      <td>2</td>\n",
       "      <td>40</td>\n",
       "      <td>3</td>\n",
       "      <td>2</td>\n",
       "      <td>Bogotá</td>\n",
       "      <td>BOGOTÁ, D.C.</td>\n",
       "      <td>3</td>\n",
       "      <td>1</td>\n",
       "      <td>2.0</td>\n",
       "      <td>...</td>\n",
       "      <td>NaN</td>\n",
       "      <td>NaN</td>\n",
       "      <td>NaN</td>\n",
       "      <td>NaN</td>\n",
       "      <td>NaN</td>\n",
       "      <td>NaN</td>\n",
       "      <td>NaN</td>\n",
       "      <td>NaN</td>\n",
       "      <td>NaN</td>\n",
       "      <td>3-1-2.0</td>\n",
       "    </tr>\n",
       "    <tr>\n",
       "      <th>269</th>\n",
       "      <td>25423</td>\n",
       "      <td>1</td>\n",
       "      <td>36</td>\n",
       "      <td>2</td>\n",
       "      <td>2</td>\n",
       "      <td>Amazonas</td>\n",
       "      <td>LETICIA</td>\n",
       "      <td>3</td>\n",
       "      <td>1</td>\n",
       "      <td>2.0</td>\n",
       "      <td>...</td>\n",
       "      <td>NaN</td>\n",
       "      <td>2.0</td>\n",
       "      <td>NaN</td>\n",
       "      <td>NaN</td>\n",
       "      <td>NaN</td>\n",
       "      <td>NaN</td>\n",
       "      <td>NaN</td>\n",
       "      <td>NaN</td>\n",
       "      <td>NaN</td>\n",
       "      <td>3-1-2.0</td>\n",
       "    </tr>\n",
       "  </tbody>\n",
       "</table>\n",
       "<p>5 rows × 58 columns</p>\n",
       "</div>"
      ],
      "text/plain": [
       "     directorio  per_sexo  per_edad  vive_padre_hogar  vive_madre_hogar  \\\n",
       "58        30872         2        26                 2                 2   \n",
       "109       25635         1        19                 2                 2   \n",
       "143       27716         1        53                 3                 3   \n",
       "172       12626         2        40                 3                 2   \n",
       "269       25423         1        36                 2                 2   \n",
       "\n",
       "    departamento     municipio  tipo_vivienda  servicio_energia  estrato  ...  \\\n",
       "58        Bogotá  BOGOTÁ, D.C.              3                 1      2.0  ...   \n",
       "109        Cauca       POPAYÁN              3                 1      2.0  ...   \n",
       "143        Cauca       POPAYÁN              3                 1      2.0  ...   \n",
       "172       Bogotá  BOGOTÁ, D.C.              3                 1      2.0  ...   \n",
       "269     Amazonas       LETICIA              3                 1      2.0  ...   \n",
       "\n",
       "     g_11_j_anios_consumio_heroina  k_03_consumio_marihuana_12m  \\\n",
       "58                             NaN                          2.0   \n",
       "109                            NaN                          NaN   \n",
       "143                            NaN                          2.0   \n",
       "172                            NaN                          NaN   \n",
       "269                            NaN                          2.0   \n",
       "\n",
       "     k_04_frecuencia_consumo_marihuana_12m  l_02_consumio_cocaina_12m  \\\n",
       "58                                     NaN                        NaN   \n",
       "109                                    NaN                        2.0   \n",
       "143                                    NaN                        2.0   \n",
       "172                                    NaN                        NaN   \n",
       "269                                    NaN                        NaN   \n",
       "\n",
       "     l_03_frecuencia_consumo_cocaina_12m  m_02_consumio_basuco_12m  \\\n",
       "58                                   NaN                       NaN   \n",
       "109                                  NaN                       NaN   \n",
       "143                                  NaN                       2.0   \n",
       "172                                  NaN                       NaN   \n",
       "269                                  NaN                       NaN   \n",
       "\n",
       "     m_03_frecuencia_consumo_basuco_12m  o_02_consumio_heroina_12m  \\\n",
       "58                                  NaN                        NaN   \n",
       "109                                 NaN                        NaN   \n",
       "143                                 NaN                        NaN   \n",
       "172                                 NaN                        NaN   \n",
       "269                                 NaN                        NaN   \n",
       "\n",
       "     o_03_frecuencia_consumo_heroina_12m  tipo_vivienda_unico  \n",
       "58                                   NaN              3-1-2.0  \n",
       "109                                  NaN              3-1-2.0  \n",
       "143                                  NaN              3-1-2.0  \n",
       "172                                  NaN              3-1-2.0  \n",
       "269                                  NaN              3-1-2.0  \n",
       "\n",
       "[5 rows x 58 columns]"
      ]
     },
     "execution_count": 32,
     "metadata": {},
     "output_type": "execute_result"
    }
   ],
   "source": [
    "consumidores[consumidores.tipo_vivienda_unico=='3-1-2.0'].head()"
   ]
  },
  {
   "cell_type": "markdown",
   "metadata": {},
   "source": [
    "Por lo tanto se puede observar que cada tipo de vivienda tiene diferentes valores a las columnas tenidas en cuenta \n",
    "\n",
    "Por lo tanto, solo vamos a considerar duplicados aquellos records que sean idénticos en todas sus columnas"
   ]
  },
  {
   "cell_type": "code",
   "execution_count": 33,
   "metadata": {},
   "outputs": [
    {
     "data": {
      "text/plain": [
       "(0, 58)"
      ]
     },
     "execution_count": 33,
     "metadata": {},
     "output_type": "execute_result"
    }
   ],
   "source": [
    "consumidores[consumidores.duplicated()].shape"
   ]
  },
  {
   "cell_type": "markdown",
   "metadata": {},
   "source": [
    "De este modo se puede observar que no existen valores o filas duplicadas en el dataset que se esta analizando , sin embargo si existen valores nulos que se deben corregir"
   ]
  },
  {
   "cell_type": "markdown",
   "metadata": {},
   "source": [
    "Borramos la columna `tipo_vivienda_unico`"
   ]
  },
  {
   "cell_type": "code",
   "execution_count": 34,
   "metadata": {},
   "outputs": [],
   "source": [
    "del consumidores['tipo_vivienda_unico']"
   ]
  },
  {
   "cell_type": "markdown",
   "metadata": {},
   "source": [
    "Ahora falta ver si hay variables en las que haya una gran cantidad de records que tengan el mismo valor (cardinalidad)."
   ]
  },
  {
   "cell_type": "code",
   "execution_count": 35,
   "metadata": {},
   "outputs": [
    {
     "name": "stdout",
     "output_type": "stream",
     "text": [
      "directorio | 0.0-0.0 | int64\n",
      "per_sexo | 0.504-0.496 | int64\n",
      "per_edad | 0.031-0.008 | int64\n",
      "vive_padre_hogar | 0.571-0.149 | int64\n",
      "vive_madre_hogar | 0.535-0.166 | int64\n",
      "departamento | 0.141-0.003 | object\n",
      "municipio | 0.103-0.0 | object\n",
      "tipo_vivienda | 0.546-0.001 | int64\n",
      "servicio_energia | 0.998-0.002 | int64\n",
      "estrato | 0.374-0.001 | float64\n",
      "residentes_hogar | 0.244-0.0 | int64\n",
      "d_01_aporta_dinero_hogar | 0.694-0.306 | int64\n",
      "d_02_situacion_actual | 0.595-0.008 | int64\n",
      "d_08_estado_salud | 0.6-0.01 | int64\n",
      "d_09_deprimido | 0.74-0.003 | int64\n",
      "d_10_poco_interes | 0.795-0.004 | int64\n",
      "d_11_h_conocimiento_riesgo_fumar_marihuana_frecuentemente | 0.824-0.018 | int64\n",
      "d_11_k_conocimiento_riesgo_cocaina_frecuentemente | 0.944-0.002 | int64\n",
      "d_11_n_conocimiento_riesgo_fumar_basuco_frecuentemente | 0.946-0.002 | int64\n",
      "d_12_b_presenta_problema_consumo_sp_barrio | 0.677-0.323 | int64\n",
      "d_12_c_presenta_problema_expendio_sp_barrio | 0.603-0.397 | int64\n",
      "d2_01_etnia | 0.824-0.001 | int64\n",
      "d2_03_estado_civil | 0.417-0.023 | int64\n",
      "d2_04_num_hijos | 0.39-0.0 | int64\n",
      "d2_05_nivel_educativo | 0.301-0.0 | int64\n",
      "g_01_familiares_consumen_sp | 0.724-0.276 | int64\n",
      "g_01_a_num_familiares_consumen_sp | 0.143-0.133 | float64\n",
      "g_02_amigos_consumen_sp | 0.569-0.431 | int64\n",
      "g_02_a_num_amigos_consumen_sp | 0.368-0.063 | float64\n",
      "g_03_curiosidad_probar_sp | 0.576-0.424 | int64\n",
      "g_04_probaria_sp | 0.807-0.193 | int64\n",
      "g_05_posibilidad_probar_sp | 0.514-0.486 | int64\n",
      "g_06_a_posibilidad_conseguir_marihuana | 0.611-0.047 | int64\n",
      "g_06_b_posibilidad_conseguir_cocaina | 0.364-0.085 | int64\n",
      "g_06_c_posibilidad_conseguir_basuco | 0.39-0.092 | int64\n",
      "g_06_j_posibilidad_conseguir_heroina | 0.561-0.115 | int64\n",
      "g_07_alguien_ofrecio_comprar_probar_sp | 0.51-0.003 | int64\n",
      "g_08_a_ofrecieron_marihuana | 0.303-0.021 | float64\n",
      "g_08_b_ofrecieron_cocaina | 0.267-0.028 | float64\n",
      "g_08_c_ofrecieron_basuco | 0.388-0.01 | float64\n",
      "g_08_e_ofrecieron_heroina | 0.443-0.004 | float64\n",
      "g_11_f_consumio_alguna_vez_marihuana | 0.608-0.392 | int64\n",
      "g_11_f_anios_consumio_marihuana | 0.058-0.0 | float64\n",
      "g_11_g_consumio_alguna_vez_cocaina | 0.904-0.096 | int64\n",
      "g_11_g_anios_consumio_cocaina | 0.013-0.0 | float64\n",
      "g_11_h_consumio_alguna_vez_basuco | 0.969-0.031 | int64\n",
      "g_11_h_anios_consumio_basuco | 0.058-0.0 | float64\n",
      "g_11_j_consumio_alguna_vez_heroina | 0.995-0.005 | int64\n",
      "g_11_j_anios_consumio_heroina | 0.001-0.0 | float64\n",
      "k_03_consumio_marihuana_12m | 0.271-0.0 | float64\n",
      "k_04_frecuencia_consumo_marihuana_12m | 0.034-0.001 | float64\n",
      "l_02_consumio_cocaina_12m | 0.071-0.0 | float64\n",
      "l_03_frecuencia_consumo_cocaina_12m | 0.008-0.0 | float64\n",
      "m_02_consumio_basuco_12m | 0.025-0.0 | float64\n",
      "m_03_frecuencia_consumo_basuco_12m | 0.001-0.0 | float64\n",
      "o_02_consumio_heroina_12m | 0.004-0.0 | float64\n",
      "o_03_frecuencia_consumo_heroina_12m | 0.0-0.0 | float64\n"
     ]
    }
   ],
   "source": [
    "n_records = len(consumidores)\n",
    "def valores_duplicados_col(df):\n",
    "    for columna in df:\n",
    "        n_por_valor = df[columna].value_counts()\n",
    "        mas_comun = n_por_valor.iloc[0]\n",
    "        menos_comun = n_por_valor.iloc[-1]\n",
    "        print(\"{} | {}-{} | {}\".format(\n",
    "            df[columna].name,\n",
    "            round(mas_comun / (1.0*n_records),3),\n",
    "            round(menos_comun / (1.0*n_records),3),\n",
    "            df[columna].dtype\n",
    "        ))\n",
    "\n",
    "valores_duplicados_col(consumidores)"
   ]
  },
  {
   "cell_type": "code",
   "execution_count": 36,
   "metadata": {},
   "outputs": [
    {
     "data": {
      "text/plain": [
       "2.0    2754\n",
       "1.0    1223\n",
       "9.0       5\n",
       "Name: k_03_consumio_marihuana_12m, dtype: int64"
      ]
     },
     "execution_count": 36,
     "metadata": {},
     "output_type": "execute_result"
    }
   ],
   "source": [
    "consumidores.k_03_consumio_marihuana_12m.value_counts(normalize=False)"
   ]
  },
  {
   "cell_type": "code",
   "execution_count": 37,
   "metadata": {},
   "outputs": [
    {
     "data": {
      "image/png": "[encoded data removed]",
      "text/plain": [
       "<Figure size 1200x1200 with 1 Axes>"
      ]
     },
     "metadata": {},
     "output_type": "display_data"
    }
   ],
   "source": [
    "consumidores.k_03_consumio_marihuana_12m.value_counts(normalize=False).plot.barh();"
   ]
  },
  {
   "cell_type": "code",
   "execution_count": 38,
   "metadata": {},
   "outputs": [
    {
     "data": {
      "text/plain": [
       "(0, 57)"
      ]
     },
     "execution_count": 38,
     "metadata": {},
     "output_type": "execute_result"
    }
   ],
   "source": [
    "consumidores[consumidores.vive_madre_hogar==9].shape"
   ]
  },
  {
   "cell_type": "markdown",
   "metadata": {},
   "source": [
    "### Valores inexistentes"
   ]
  },
  {
   "cell_type": "code",
   "execution_count": 39,
   "metadata": {
    "scrolled": false
   },
   "outputs": [
    {
     "name": "stdout",
     "output_type": "stream",
     "text": [
      "directorio | 0.0 | int64\n",
      "per_sexo | 0.0 | int64\n",
      "per_edad | 0.0 | int64\n",
      "vive_padre_hogar | 0.0 | int64\n",
      "vive_madre_hogar | 0.0 | int64\n",
      "departamento | 0.0 | object\n",
      "municipio | 0.0 | object\n",
      "tipo_vivienda | 0.0 | int64\n",
      "servicio_energia | 0.0 | int64\n",
      "estrato | 0.0021677012513548134 | float64\n",
      "residentes_hogar | 0.0 | int64\n",
      "d_01_aporta_dinero_hogar | 0.0 | int64\n",
      "d_02_situacion_actual | 0.0 | int64\n",
      "d_08_estado_salud | 0.0 | int64\n",
      "d_09_deprimido | 0.0 | int64\n",
      "d_10_poco_interes | 0.0 | int64\n",
      "d_11_h_conocimiento_riesgo_fumar_marihuana_frecuentemente | 0.0 | int64\n",
      "d_11_k_conocimiento_riesgo_cocaina_frecuentemente | 0.0 | int64\n",
      "d_11_n_conocimiento_riesgo_fumar_basuco_frecuentemente | 0.0 | int64\n",
      "d_12_b_presenta_problema_consumo_sp_barrio | 0.0 | int64\n",
      "d_12_c_presenta_problema_expendio_sp_barrio | 0.0 | int64\n",
      "d2_01_etnia | 0.0 | int64\n",
      "d2_03_estado_civil | 0.0 | int64\n",
      "d2_04_num_hijos | 0.0 | int64\n",
      "d2_05_nivel_educativo | 0.0 | int64\n",
      "g_01_familiares_consumen_sp | 0.0 | int64\n",
      "g_01_a_num_familiares_consumen_sp | 0.7235195585771997 | float64\n",
      "g_02_amigos_consumen_sp | 0.0 | int64\n",
      "g_02_a_num_amigos_consumen_sp | 0.5693171741058233 | float64\n",
      "g_03_curiosidad_probar_sp | 0.0 | int64\n",
      "g_04_probaria_sp | 0.0 | int64\n",
      "g_05_posibilidad_probar_sp | 0.0 | int64\n",
      "g_06_a_posibilidad_conseguir_marihuana | 0.0 | int64\n",
      "g_06_b_posibilidad_conseguir_cocaina | 0.0 | int64\n",
      "g_06_c_posibilidad_conseguir_basuco | 0.0 | int64\n",
      "g_06_j_posibilidad_conseguir_heroina | 0.0 | int64\n",
      "g_07_alguien_ofrecio_comprar_probar_sp | 0.0 | int64\n",
      "g_08_a_ofrecieron_marihuana | 0.5130554734456597 | float64\n",
      "g_08_b_ofrecieron_cocaina | 0.5130554734456597 | float64\n",
      "g_08_c_ofrecieron_basuco | 0.5130554734456597 | float64\n",
      "g_08_e_ofrecieron_heroina | 0.5130554734456597 | float64\n",
      "g_11_f_consumio_alguna_vez_marihuana | 0.0 | int64\n",
      "g_11_f_anios_consumio_marihuana | 0.6076460735047788 | float64\n",
      "g_11_g_consumio_alguna_vez_cocaina | 0.0 | int64\n",
      "g_11_g_anios_consumio_cocaina | 0.9041284855650803 | float64\n",
      "g_11_h_consumio_alguna_vez_basuco | 0.0 | int64\n",
      "g_11_h_anios_consumio_basuco | 0.6076460735047788 | float64\n",
      "g_11_j_consumio_alguna_vez_heroina | 0.0 | int64\n",
      "g_11_j_anios_consumio_heroina | 0.9951719381219825 | float64\n",
      "k_03_consumio_marihuana_12m | 0.6076460735047788 | float64\n",
      "k_04_frecuencia_consumo_marihuana_12m | 0.8794955167996847 | float64\n",
      "l_02_consumio_cocaina_12m | 0.9041284855650803 | float64\n",
      "l_03_frecuencia_consumo_cocaina_12m | 0.9755640949847275 | float64\n",
      "m_02_consumio_basuco_12m | 0.9694551187309095 | float64\n",
      "m_03_frecuencia_consumo_basuco_12m | 0.9943836831214898 | float64\n",
      "o_02_consumio_heroina_12m | 0.9951719381219825 | float64\n",
      "o_03_frecuencia_consumo_heroina_12m | 0.999507340624692 | float64\n"
     ]
    }
   ],
   "source": [
    "n_records = len(consumidores)\n",
    "def valores_inexistentes_col(df):\n",
    "    for columna in df:\n",
    "        print(\"{} | {} | {}\".format(\n",
    "            df[columna].name, len(df[df[columna].isnull()]) / (1.0*n_records), df[columna].dtype\n",
    "        ))\n",
    "\n",
    "valores_inexistentes_col(consumidores)"
   ]
  },
  {
   "cell_type": "markdown",
   "metadata": {},
   "source": [
    "### Valores extremos (outliers)"
   ]
  },
  {
   "cell_type": "markdown",
   "metadata": {},
   "source": [
    "Para detectar valores extremos una medida general es considerar outliers aquellos valores con una puntuación Z (z score) mayor de 3, esto es, que se alejan 3 veces o mas desviaciones standard de la media.\n",
    "\n",
    "El z score se define como:\n",
    "\n",
    "$$z(x)= \\frac{x-\\mu}{\\sigma}$$"
   ]
  },
  {
   "cell_type": "code",
   "execution_count": 43,
   "metadata": {},
   "outputs": [
    {
     "name": "stdout",
     "output_type": "stream",
     "text": [
      "Collecting numpy==1.23.4\n",
      "  Using cached numpy-1.23.4-cp310-cp310-win_amd64.whl (14.6 MB)\n",
      "Installing collected packages: numpy\n",
      "Successfully installed numpy-1.23.4\n"
     ]
    },
    {
     "name": "stderr",
     "output_type": "stream",
     "text": [
      "  WARNING: The script f2py.exe is installed in 'C:\\Users\\Danny\\AppData\\Roaming\\Python\\Python310\\Scripts' which is not on PATH.\n",
      "  Consider adding this directory to PATH or, if you prefer to suppress this warning, use --no-warn-script-location.\n",
      "ERROR: pip's dependency resolver does not currently take into account all the packages that are installed. This behaviour is the source of the following dependency conflicts.\n",
      "ydata-profiling 4.2.0 requires visions[type_image_path]==0.7.5, but you have visions 0.7.4 which is incompatible.\n"
     ]
    }
   ],
   "source": [
    "import sys\n",
    "!{sys.executable} -m pip install numpy==1.23.4 --user"
   ]
  },
  {
   "cell_type": "code",
   "execution_count": 44,
   "metadata": {},
   "outputs": [
    {
     "name": "stdout",
     "output_type": "stream",
     "text": [
      "directorio | 0 | int64\n",
      "per_sexo | 0 | int64\n",
      "per_edad | 0 | int64\n",
      "vive_padre_hogar | 0 | int64\n",
      "vive_madre_hogar | 0 | int64\n",
      "tipo_vivienda | 12 | int64\n",
      "servicio_energia | 22 | int64\n",
      "estrato | 0 | float64\n",
      "residentes_hogar | 122 | int64\n",
      "d_01_aporta_dinero_hogar | 0 | int64\n",
      "d_02_situacion_actual | 315 | int64\n",
      "d_08_estado_salud | 101 | int64\n",
      "d_09_deprimido | 29 | int64\n",
      "d_10_poco_interes | 37 | int64\n",
      "d_11_h_conocimiento_riesgo_fumar_marihuana_frecuentemente | 179 | int64\n",
      "d_11_k_conocimiento_riesgo_cocaina_frecuentemente | 571 | int64\n",
      "d_11_n_conocimiento_riesgo_fumar_basuco_frecuentemente | 544 | int64\n",
      "d_12_b_presenta_problema_consumo_sp_barrio | 0 | int64\n",
      "d_12_c_presenta_problema_expendio_sp_barrio | 0 | int64\n",
      "d2_01_etnia | 595 | int64\n",
      "d2_03_estado_civil | 0 | int64\n",
      "d2_04_num_hijos | 161 | int64\n",
      "d2_05_nivel_educativo | 0 | int64\n",
      "g_01_familiares_consumen_sp | 0 | int64\n",
      "g_01_a_num_familiares_consumen_sp | 0 | float64\n",
      "g_02_amigos_consumen_sp | 0 | int64\n",
      "g_02_a_num_amigos_consumen_sp | 0 | float64\n",
      "g_03_curiosidad_probar_sp | 0 | int64\n",
      "g_04_probaria_sp | 0 | int64\n",
      "g_05_posibilidad_probar_sp | 0 | int64\n",
      "g_06_a_posibilidad_conseguir_marihuana | 0 | int64\n",
      "g_06_b_posibilidad_conseguir_cocaina | 0 | int64\n",
      "g_06_c_posibilidad_conseguir_basuco | 0 | int64\n",
      "g_06_j_posibilidad_conseguir_heroina | 0 | int64\n",
      "g_07_alguien_ofrecio_comprar_probar_sp | 31 | int64\n",
      "g_08_a_ofrecieron_marihuana | 0 | float64\n",
      "g_08_b_ofrecieron_cocaina | 0 | float64\n",
      "g_08_c_ofrecieron_basuco | 0 | float64\n",
      "g_08_e_ofrecieron_heroina | 0 | float64\n",
      "g_11_f_consumio_alguna_vez_marihuana | 0 | int64\n",
      "g_11_f_anios_consumio_marihuana | 0 | float64\n",
      "g_11_g_consumio_alguna_vez_cocaina | 973 | int64\n",
      "g_11_g_anios_consumio_cocaina | 0 | float64\n",
      "g_11_h_consumio_alguna_vez_basuco | 310 | int64\n",
      "g_11_h_anios_consumio_basuco | 0 | float64\n",
      "g_11_j_consumio_alguna_vez_heroina | 49 | int64\n",
      "g_11_j_anios_consumio_heroina | 0 | float64\n",
      "k_03_consumio_marihuana_12m | 0 | float64\n",
      "k_04_frecuencia_consumo_marihuana_12m | 0 | float64\n",
      "l_02_consumio_cocaina_12m | 0 | float64\n",
      "l_03_frecuencia_consumo_cocaina_12m | 0 | float64\n",
      "m_02_consumio_basuco_12m | 0 | float64\n",
      "m_03_frecuencia_consumo_basuco_12m | 0 | float64\n",
      "o_02_consumio_heroina_12m | 0 | float64\n",
      "o_03_frecuencia_consumo_heroina_12m | 0 | float64\n"
     ]
    }
   ],
   "source": [
    "from scipy import stats\n",
    "import numpy as np\n",
    "\n",
    "def outliers_col(df):\n",
    "    for columna in df:\n",
    "        if df[columna].dtype != np.object_:\n",
    "            n_outliers = len(df[np.abs(stats.zscore(df[columna])) > 3])    \n",
    "            print(\"{} | {} | {}\".format(\n",
    "                df[columna].name,\n",
    "                n_outliers,\n",
    "                df[columna].dtype\n",
    "        ))\n",
    "\n",
    "outliers_col(consumidores)"
   ]
  },
  {
   "cell_type": "code",
   "execution_count": 45,
   "metadata": {},
   "outputs": [
    {
     "data": {
      "image/png": "[encoded data removed]",
      "text/plain": [
       "<Figure size 1200x1200 with 1 Axes>"
      ]
     },
     "metadata": {},
     "output_type": "display_data"
    }
   ],
   "source": [
    "consumidores.boxplot(column='d2_04_num_hijos');"
   ]
  },
  {
   "cell_type": "code",
   "execution_count": 46,
   "metadata": {},
   "outputs": [
    {
     "data": {
      "text/plain": [
       "5.0    340\n",
       "2.0    302\n",
       "4.0    216\n",
       "3.0    207\n",
       "1.0    145\n",
       "9.0     13\n",
       "Name: k_04_frecuencia_consumo_marihuana_12m, dtype: int64"
      ]
     },
     "execution_count": 46,
     "metadata": {},
     "output_type": "execute_result"
    }
   ],
   "source": [
    "consumidores.k_04_frecuencia_consumo_marihuana_12m.value_counts(normalize=False)"
   ]
  },
  {
   "cell_type": "markdown",
   "metadata": {},
   "source": [
    "Estado de alerta varibale de numero de hijos\n",
    "vive_padre_hogar\n",
    "vive_madre_hogar\n",
    "d_09_deprimido\n",
    "d_10_poco_interes\n",
    "g_07_alguien_ofrecio_comprar_probar_sp"
   ]
  },
  {
   "cell_type": "markdown",
   "metadata": {},
   "source": [
    "Se puede observar que existen ciertos valores en las respuestas que pueed que no ayuden al momento de entrenar el modelo, porende es necesario eliminar tales registros"
   ]
  },
  {
   "cell_type": "code",
   "execution_count": 47,
   "metadata": {},
   "outputs": [
    {
     "data": {
      "text/plain": [
       "(10149, 57)"
      ]
     },
     "execution_count": 47,
     "metadata": {},
     "output_type": "execute_result"
    }
   ],
   "source": [
    "aux_consumidores = consumidores[(consumidores.vive_madre_hogar!=9)]\n",
    "aux_consumidores.shape"
   ]
  },
  {
   "cell_type": "code",
   "execution_count": 48,
   "metadata": {},
   "outputs": [
    {
     "data": {
      "text/plain": [
       "(10149, 57)"
      ]
     },
     "execution_count": 48,
     "metadata": {},
     "output_type": "execute_result"
    }
   ],
   "source": [
    "aux_consumidores = aux_consumidores[(aux_consumidores.vive_padre_hogar!=9)]\n",
    "aux_consumidores.shape"
   ]
  },
  {
   "cell_type": "code",
   "execution_count": 49,
   "metadata": {},
   "outputs": [
    {
     "data": {
      "text/plain": [
       "(10120, 57)"
      ]
     },
     "execution_count": 49,
     "metadata": {},
     "output_type": "execute_result"
    }
   ],
   "source": [
    "aux_consumidores = aux_consumidores[(aux_consumidores.d_09_deprimido!=9)]\n",
    "aux_consumidores.shape"
   ]
  },
  {
   "cell_type": "code",
   "execution_count": 50,
   "metadata": {},
   "outputs": [
    {
     "data": {
      "text/plain": [
       "(10099, 57)"
      ]
     },
     "execution_count": 50,
     "metadata": {},
     "output_type": "execute_result"
    }
   ],
   "source": [
    "aux_consumidores = aux_consumidores[(aux_consumidores.d_10_poco_interes!=9)]\n",
    "aux_consumidores.shape"
   ]
  },
  {
   "cell_type": "code",
   "execution_count": 51,
   "metadata": {},
   "outputs": [
    {
     "data": {
      "text/plain": [
       "(10069, 57)"
      ]
     },
     "execution_count": 51,
     "metadata": {},
     "output_type": "execute_result"
    }
   ],
   "source": [
    "aux_consumidores = aux_consumidores[(aux_consumidores.g_07_alguien_ofrecio_comprar_probar_sp!=9)]\n",
    "aux_consumidores.shape"
   ]
  },
  {
   "cell_type": "code",
   "execution_count": 52,
   "metadata": {},
   "outputs": [
    {
     "data": {
      "text/plain": [
       "2    5148\n",
       "1    4921\n",
       "Name: g_07_alguien_ofrecio_comprar_probar_sp, dtype: int64"
      ]
     },
     "execution_count": 52,
     "metadata": {},
     "output_type": "execute_result"
    }
   ],
   "source": [
    "aux_consumidores.g_07_alguien_ofrecio_comprar_probar_sp.value_counts(normalize=False)"
   ]
  },
  {
   "cell_type": "markdown",
   "metadata": {},
   "source": [
    "Ahora se procedera a eliminar los registros cuyas respuestas no ayudan"
   ]
  },
  {
   "cell_type": "code",
   "execution_count": 53,
   "metadata": {},
   "outputs": [
    {
     "data": {
      "text/plain": [
       "(10057, 57)"
      ]
     },
     "execution_count": 53,
     "metadata": {},
     "output_type": "execute_result"
    }
   ],
   "source": [
    "aux_consumidores = aux_consumidores[(aux_consumidores.estrato!=9)]\n",
    "aux_consumidores.shape"
   ]
  },
  {
   "cell_type": "code",
   "execution_count": 54,
   "metadata": {},
   "outputs": [
    {
     "data": {
      "text/plain": [
       "(10054, 57)"
      ]
     },
     "execution_count": 54,
     "metadata": {},
     "output_type": "execute_result"
    }
   ],
   "source": [
    "aux_consumidores = aux_consumidores[(aux_consumidores.d2_05_nivel_educativo!=9)]\n",
    "aux_consumidores.shape"
   ]
  },
  {
   "cell_type": "code",
   "execution_count": 55,
   "metadata": {},
   "outputs": [
    {
     "data": {
      "text/plain": [
       "(10049, 57)"
      ]
     },
     "execution_count": 55,
     "metadata": {},
     "output_type": "execute_result"
    }
   ],
   "source": [
    "aux_consumidores = aux_consumidores[(aux_consumidores.k_03_consumio_marihuana_12m!=9)]\n",
    "aux_consumidores.shape"
   ]
  },
  {
   "cell_type": "code",
   "execution_count": 56,
   "metadata": {},
   "outputs": [
    {
     "data": {
      "text/plain": [
       "(10036, 57)"
      ]
     },
     "execution_count": 56,
     "metadata": {},
     "output_type": "execute_result"
    }
   ],
   "source": [
    "aux_consumidores = aux_consumidores[(aux_consumidores.k_04_frecuencia_consumo_marihuana_12m!=9)]\n",
    "aux_consumidores.shape"
   ]
  },
  {
   "cell_type": "code",
   "execution_count": 57,
   "metadata": {},
   "outputs": [
    {
     "data": {
      "text/plain": [
       "(10034, 57)"
      ]
     },
     "execution_count": 57,
     "metadata": {},
     "output_type": "execute_result"
    }
   ],
   "source": [
    "aux_consumidores = aux_consumidores[(aux_consumidores.l_02_consumio_cocaina_12m!=9)]\n",
    "aux_consumidores.shape"
   ]
  },
  {
   "cell_type": "code",
   "execution_count": 58,
   "metadata": {},
   "outputs": [
    {
     "data": {
      "text/plain": [
       "(10032, 57)"
      ]
     },
     "execution_count": 58,
     "metadata": {},
     "output_type": "execute_result"
    }
   ],
   "source": [
    "aux_consumidores = aux_consumidores[(aux_consumidores.l_03_frecuencia_consumo_cocaina_12m!=9)]\n",
    "aux_consumidores.shape"
   ]
  },
  {
   "cell_type": "code",
   "execution_count": 59,
   "metadata": {},
   "outputs": [
    {
     "data": {
      "text/plain": [
       "(10031, 57)"
      ]
     },
     "execution_count": 59,
     "metadata": {},
     "output_type": "execute_result"
    }
   ],
   "source": [
    "aux_consumidores = aux_consumidores[(aux_consumidores.m_02_consumio_basuco_12m!=9)]\n",
    "aux_consumidores.shape"
   ]
  },
  {
   "cell_type": "code",
   "execution_count": 60,
   "metadata": {},
   "outputs": [
    {
     "data": {
      "text/plain": [
       "(10031, 57)"
      ]
     },
     "execution_count": 60,
     "metadata": {},
     "output_type": "execute_result"
    }
   ],
   "source": [
    "aux_consumidores = aux_consumidores[(aux_consumidores.m_03_frecuencia_consumo_basuco_12m!=9)]\n",
    "aux_consumidores.shape"
   ]
  },
  {
   "cell_type": "code",
   "execution_count": 61,
   "metadata": {},
   "outputs": [
    {
     "data": {
      "text/plain": [
       "(10031, 57)"
      ]
     },
     "execution_count": 61,
     "metadata": {},
     "output_type": "execute_result"
    }
   ],
   "source": [
    "aux_consumidores = aux_consumidores[(aux_consumidores.o_02_consumio_heroina_12m!=9)]\n",
    "aux_consumidores.shape"
   ]
  },
  {
   "cell_type": "code",
   "execution_count": 62,
   "metadata": {},
   "outputs": [
    {
     "data": {
      "text/plain": [
       "(10031, 57)"
      ]
     },
     "execution_count": 62,
     "metadata": {},
     "output_type": "execute_result"
    }
   ],
   "source": [
    "aux_consumidores = aux_consumidores[(aux_consumidores.o_03_frecuencia_consumo_heroina_12m!=9)]\n",
    "aux_consumidores.shape"
   ]
  },
  {
   "cell_type": "code",
   "execution_count": 63,
   "metadata": {},
   "outputs": [
    {
     "data": {
      "text/plain": [
       "(10009, 57)"
      ]
     },
     "execution_count": 63,
     "metadata": {},
     "output_type": "execute_result"
    }
   ],
   "source": [
    "aux_consumidores = aux_consumidores.dropna(subset=['estrato'])\n",
    "aux_consumidores.shape"
   ]
  },
  {
   "cell_type": "code",
   "execution_count": 64,
   "metadata": {},
   "outputs": [
    {
     "data": {
      "text/plain": [
       "(10000, 57)"
      ]
     },
     "execution_count": 64,
     "metadata": {},
     "output_type": "execute_result"
    }
   ],
   "source": [
    "aux_consumidores = aux_consumidores[(aux_consumidores.estrato!=8)]\n",
    "aux_consumidores.shape"
   ]
  },
  {
   "cell_type": "code",
   "execution_count": 65,
   "metadata": {},
   "outputs": [
    {
     "data": {
      "text/plain": [
       "2.0    3755\n",
       "1.0    2865\n",
       "3.0    2547\n",
       "4.0     555\n",
       "5.0     170\n",
       "6.0     108\n",
       "Name: estrato, dtype: int64"
      ]
     },
     "execution_count": 65,
     "metadata": {},
     "output_type": "execute_result"
    }
   ],
   "source": [
    "aux_consumidores.estrato.value_counts(normalize=False)"
   ]
  },
  {
   "cell_type": "markdown",
   "metadata": {},
   "source": [
    "Se elimina la columna de servicio de energia dado que ya no aporta informacion valiosa para el dataset"
   ]
  },
  {
   "cell_type": "code",
   "execution_count": 66,
   "metadata": {},
   "outputs": [],
   "source": [
    "del aux_consumidores['servicio_energia']"
   ]
  },
  {
   "cell_type": "markdown",
   "metadata": {},
   "source": [
    "Ya que hemos descubierto esto, volvamos a revisar los datos con el nuevo dataset"
   ]
  },
  {
   "cell_type": "code",
   "execution_count": 67,
   "metadata": {},
   "outputs": [
    {
     "data": {
      "text/plain": [
       "(10000, 56)"
      ]
     },
     "execution_count": 67,
     "metadata": {},
     "output_type": "execute_result"
    }
   ],
   "source": [
    "aux_consumidores.shape"
   ]
  },
  {
   "cell_type": "code",
   "execution_count": 68,
   "metadata": {},
   "outputs": [
    {
     "name": "stdout",
     "output_type": "stream",
     "text": [
      "directorio | 0 | int64\n",
      "per_sexo | 0 | int64\n",
      "per_edad | 0 | int64\n",
      "vive_padre_hogar | 0 | int64\n",
      "vive_madre_hogar | 0 | int64\n",
      "tipo_vivienda | 10 | int64\n",
      "estrato | 108 | float64\n",
      "residentes_hogar | 118 | int64\n",
      "d_01_aporta_dinero_hogar | 0 | int64\n",
      "d_02_situacion_actual | 310 | int64\n",
      "d_08_estado_salud | 100 | int64\n",
      "d_09_deprimido | 0 | int64\n",
      "d_10_poco_interes | 0 | int64\n",
      "d_11_h_conocimiento_riesgo_fumar_marihuana_frecuentemente | 174 | int64\n",
      "d_11_k_conocimiento_riesgo_cocaina_frecuentemente | 558 | int64\n",
      "d_11_n_conocimiento_riesgo_fumar_basuco_frecuentemente | 534 | int64\n",
      "d_12_b_presenta_problema_consumo_sp_barrio | 0 | int64\n",
      "d_12_c_presenta_problema_expendio_sp_barrio | 0 | int64\n",
      "d2_01_etnia | 576 | int64\n",
      "d2_03_estado_civil | 0 | int64\n",
      "d2_04_num_hijos | 156 | int64\n",
      "d2_05_nivel_educativo | 0 | int64\n",
      "g_01_familiares_consumen_sp | 0 | int64\n",
      "g_01_a_num_familiares_consumen_sp | 0 | float64\n",
      "g_02_amigos_consumen_sp | 0 | int64\n",
      "g_02_a_num_amigos_consumen_sp | 0 | float64\n",
      "g_03_curiosidad_probar_sp | 0 | int64\n",
      "g_04_probaria_sp | 0 | int64\n",
      "g_05_posibilidad_probar_sp | 0 | int64\n",
      "g_06_a_posibilidad_conseguir_marihuana | 0 | int64\n",
      "g_06_b_posibilidad_conseguir_cocaina | 0 | int64\n",
      "g_06_c_posibilidad_conseguir_basuco | 0 | int64\n",
      "g_06_j_posibilidad_conseguir_heroina | 0 | int64\n",
      "g_07_alguien_ofrecio_comprar_probar_sp | 0 | int64\n",
      "g_08_a_ofrecieron_marihuana | 0 | float64\n",
      "g_08_b_ofrecieron_cocaina | 0 | float64\n",
      "g_08_c_ofrecieron_basuco | 0 | float64\n",
      "g_08_e_ofrecieron_heroina | 0 | float64\n",
      "g_11_f_consumio_alguna_vez_marihuana | 0 | int64\n",
      "g_11_f_anios_consumio_marihuana | 0 | float64\n",
      "g_11_g_consumio_alguna_vez_cocaina | 948 | int64\n",
      "g_11_g_anios_consumio_cocaina | 0 | float64\n",
      "g_11_h_consumio_alguna_vez_basuco | 301 | int64\n",
      "g_11_h_anios_consumio_basuco | 0 | float64\n",
      "g_11_j_consumio_alguna_vez_heroina | 44 | int64\n",
      "g_11_j_anios_consumio_heroina | 0 | float64\n",
      "k_03_consumio_marihuana_12m | 0 | float64\n",
      "k_04_frecuencia_consumo_marihuana_12m | 0 | float64\n",
      "l_02_consumio_cocaina_12m | 0 | float64\n",
      "l_03_frecuencia_consumo_cocaina_12m | 0 | float64\n",
      "m_02_consumio_basuco_12m | 0 | float64\n",
      "m_03_frecuencia_consumo_basuco_12m | 0 | float64\n",
      "o_02_consumio_heroina_12m | 0 | float64\n",
      "o_03_frecuencia_consumo_heroina_12m | 0 | float64\n"
     ]
    }
   ],
   "source": [
    "outliers_col(aux_consumidores)"
   ]
  },
  {
   "cell_type": "code",
   "execution_count": 69,
   "metadata": {},
   "outputs": [
    {
     "name": "stdout",
     "output_type": "stream",
     "text": [
      "directorio | 0.0-0.0 | int64\n",
      "per_sexo | 0.496-0.49 | int64\n",
      "per_edad | 0.03-0.008 | int64\n",
      "vive_padre_hogar | 0.562-0.147 | int64\n",
      "vive_madre_hogar | 0.526-0.164 | int64\n",
      "departamento | 0.139-0.003 | object\n",
      "municipio | 0.102-0.0 | object\n",
      "tipo_vivienda | 0.537-0.001 | int64\n",
      "estrato | 0.37-0.011 | float64\n",
      "residentes_hogar | 0.241-0.0 | int64\n",
      "d_01_aporta_dinero_hogar | 0.684-0.301 | int64\n",
      "d_02_situacion_actual | 0.587-0.008 | int64\n",
      "d_08_estado_salud | 0.591-0.01 | int64\n",
      "d_09_deprimido | 0.732-0.253 | int64\n",
      "d_10_poco_interes | 0.787-0.198 | int64\n",
      "d_11_h_conocimiento_riesgo_fumar_marihuana_frecuentemente | 0.813-0.017 | int64\n",
      "d_11_k_conocimiento_riesgo_cocaina_frecuentemente | 0.93-0.002 | int64\n",
      "d_11_n_conocimiento_riesgo_fumar_basuco_frecuentemente | 0.933-0.002 | int64\n",
      "d_12_b_presenta_problema_consumo_sp_barrio | 0.666-0.319 | int64\n",
      "d_12_c_presenta_problema_expendio_sp_barrio | 0.596-0.39 | int64\n",
      "d2_01_etnia | 0.812-0.001 | int64\n",
      "d2_03_estado_civil | 0.411-0.023 | int64\n",
      "d2_04_num_hijos | 0.384-0.0 | int64\n",
      "d2_05_nivel_educativo | 0.297-0.001 | int64\n",
      "g_01_familiares_consumen_sp | 0.715-0.271 | int64\n",
      "g_01_a_num_familiares_consumen_sp | 0.14-0.131 | float64\n",
      "g_02_amigos_consumen_sp | 0.563-0.422 | int64\n",
      "g_02_a_num_amigos_consumen_sp | 0.361-0.061 | float64\n",
      "g_03_curiosidad_probar_sp | 0.569-0.416 | int64\n",
      "g_04_probaria_sp | 0.797-0.188 | int64\n",
      "g_05_posibilidad_probar_sp | 0.507-0.478 | int64\n",
      "g_06_a_posibilidad_conseguir_marihuana | 0.601-0.046 | int64\n",
      "g_06_b_posibilidad_conseguir_cocaina | 0.357-0.084 | int64\n",
      "g_06_c_posibilidad_conseguir_basuco | 0.385-0.09 | int64\n",
      "g_06_j_posibilidad_conseguir_heroina | 0.553-0.114 | int64\n",
      "g_07_alguien_ofrecio_comprar_probar_sp | 0.506-0.479 | int64\n",
      "g_08_a_ofrecieron_marihuana | 0.3-0.021 | float64\n",
      "g_08_b_ofrecieron_cocaina | 0.263-0.027 | float64\n",
      "g_08_c_ofrecieron_basuco | 0.382-0.01 | float64\n",
      "g_08_e_ofrecieron_heroina | 0.437-0.004 | float64\n",
      "g_11_f_consumio_alguna_vez_marihuana | 0.6-0.385 | int64\n",
      "g_11_f_anios_consumio_marihuana | 0.057-0.0 | float64\n",
      "g_11_g_consumio_alguna_vez_cocaina | 0.892-0.093 | int64\n",
      "g_11_g_anios_consumio_cocaina | 0.013-0.0 | float64\n",
      "g_11_h_consumio_alguna_vez_basuco | 0.956-0.03 | int64\n",
      "g_11_h_anios_consumio_basuco | 0.057-0.0 | float64\n",
      "g_11_j_consumio_alguna_vez_heroina | 0.981-0.004 | int64\n",
      "g_11_j_anios_consumio_heroina | 0.001-0.0 | float64\n",
      "k_03_consumio_marihuana_12m | 0.268-0.117 | float64\n",
      "k_04_frecuencia_consumo_marihuana_12m | 0.033-0.014 | float64\n",
      "l_02_consumio_cocaina_12m | 0.07-0.023 | float64\n",
      "l_03_frecuencia_consumo_cocaina_12m | 0.008-0.002 | float64\n",
      "m_02_consumio_basuco_12m | 0.025-0.005 | float64\n",
      "m_03_frecuencia_consumo_basuco_12m | 0.001-0.0 | float64\n",
      "o_02_consumio_heroina_12m | 0.004-0.0 | float64\n",
      "o_03_frecuencia_consumo_heroina_12m | 0.0-0.0 | float64\n"
     ]
    }
   ],
   "source": [
    "valores_duplicados_col(aux_consumidores)"
   ]
  },
  {
   "cell_type": "code",
   "execution_count": 70,
   "metadata": {},
   "outputs": [
    {
     "data": {
      "text/plain": [
       "1    5029\n",
       "2    4971\n",
       "Name: per_sexo, dtype: int64"
      ]
     },
     "execution_count": 70,
     "metadata": {},
     "output_type": "execute_result"
    }
   ],
   "source": [
    "aux_consumidores.per_sexo.value_counts(normalize=False)"
   ]
  },
  {
   "cell_type": "markdown",
   "metadata": {},
   "source": [
    "### Valores inexistentes"
   ]
  },
  {
   "cell_type": "code",
   "execution_count": 71,
   "metadata": {},
   "outputs": [
    {
     "name": "stdout",
     "output_type": "stream",
     "text": [
      "directorio | 0.0 | int64\n",
      "per_sexo | 0.0 | int64\n",
      "per_edad | 0.0 | int64\n",
      "vive_padre_hogar | 0.0 | int64\n",
      "vive_madre_hogar | 0.0 | int64\n",
      "departamento | 0.0 | object\n",
      "municipio | 0.0 | object\n",
      "tipo_vivienda | 0.0 | int64\n",
      "estrato | 0.0 | float64\n",
      "residentes_hogar | 0.0 | int64\n",
      "d_01_aporta_dinero_hogar | 0.0 | int64\n",
      "d_02_situacion_actual | 0.0 | int64\n",
      "d_08_estado_salud | 0.0 | int64\n",
      "d_09_deprimido | 0.0 | int64\n",
      "d_10_poco_interes | 0.0 | int64\n",
      "d_11_h_conocimiento_riesgo_fumar_marihuana_frecuentemente | 0.0 | int64\n",
      "d_11_k_conocimiento_riesgo_cocaina_frecuentemente | 0.0 | int64\n",
      "d_11_n_conocimiento_riesgo_fumar_basuco_frecuentemente | 0.0 | int64\n",
      "d_12_b_presenta_problema_consumo_sp_barrio | 0.0 | int64\n",
      "d_12_c_presenta_problema_expendio_sp_barrio | 0.0 | int64\n",
      "d2_01_etnia | 0.0 | int64\n",
      "d2_03_estado_civil | 0.0 | int64\n",
      "d2_04_num_hijos | 0.0 | int64\n",
      "d2_05_nivel_educativo | 0.0 | int64\n",
      "g_01_familiares_consumen_sp | 0.0 | int64\n",
      "g_01_a_num_familiares_consumen_sp | 0.7146516898216573 | float64\n",
      "g_02_amigos_consumen_sp | 0.0 | int64\n",
      "g_02_a_num_amigos_consumen_sp | 0.5634052616021283 | float64\n",
      "g_03_curiosidad_probar_sp | 0.0 | int64\n",
      "g_04_probaria_sp | 0.0 | int64\n",
      "g_05_posibilidad_probar_sp | 0.0 | int64\n",
      "g_06_a_posibilidad_conseguir_marihuana | 0.0 | int64\n",
      "g_06_b_posibilidad_conseguir_cocaina | 0.0 | int64\n",
      "g_06_c_posibilidad_conseguir_basuco | 0.0 | int64\n",
      "g_06_j_posibilidad_conseguir_heroina | 0.0 | int64\n",
      "g_07_alguien_ofrecio_comprar_probar_sp | 0.0 | int64\n",
      "g_08_a_ofrecieron_marihuana | 0.5058626465661642 | float64\n",
      "g_08_b_ofrecieron_cocaina | 0.5058626465661642 | float64\n",
      "g_08_c_ofrecieron_basuco | 0.5058626465661642 | float64\n",
      "g_08_e_ofrecieron_heroina | 0.5058626465661642 | float64\n",
      "g_11_f_consumio_alguna_vez_marihuana | 0.0 | int64\n",
      "g_11_f_anios_consumio_marihuana | 0.5998620553749138 | float64\n",
      "g_11_g_consumio_alguna_vez_cocaina | 0.0 | int64\n",
      "g_11_g_anios_consumio_cocaina | 0.891910533057444 | float64\n",
      "g_11_h_consumio_alguna_vez_basuco | 0.0 | int64\n",
      "g_11_h_anios_consumio_basuco | 0.5998620553749138 | float64\n",
      "g_11_j_consumio_alguna_vez_heroina | 0.0 | int64\n",
      "g_11_j_anios_consumio_heroina | 0.9809833481131146 | float64\n",
      "k_03_consumio_marihuana_12m | 0.5998620553749138 | float64\n",
      "k_04_frecuencia_consumo_marihuana_12m | 0.8683614149177259 | float64\n",
      "l_02_consumio_cocaina_12m | 0.891910533057444 | float64\n",
      "l_03_frecuencia_consumo_cocaina_12m | 0.9619666962262292 | float64\n",
      "m_02_consumio_basuco_12m | 0.9556606562222879 | float64\n",
      "m_03_frecuencia_consumo_basuco_12m | 0.980195093112622 | float64\n",
      "o_02_consumio_heroina_12m | 0.9809833481131146 | float64\n",
      "o_03_frecuencia_consumo_heroina_12m | 0.9849246231155779 | float64\n"
     ]
    }
   ],
   "source": [
    "valores_inexistentes_col(aux_consumidores)"
   ]
  },
  {
   "cell_type": "markdown",
   "metadata": {},
   "source": [
    "Ahora vemos que no hay valores inexistentes extremos en ninguna variable. La variable con mayor numero de valores inexistentes es g_11_j_anios_consumio_heroina (99%). Es de resaltar que es necesario agregar datos a la variable dado que esta variable tiene relacion con otra variable"
   ]
  },
  {
   "cell_type": "markdown",
   "metadata": {},
   "source": [
    "### Conclusion\n",
    "- NO hay records duplicados \n",
    "- La variable `servicio_energia, d_01_aporta_dinero_hogar, d_08_estado_salud(61%),d_09_deprimido,d_10_poco_interes,d_11_h_conocimiento_riesgo_fumar_marihuana_frecuentemente,\n",
    "d_11_k_conocimiento_riesgo_cocaina_frecuentemente,d_11_n_conocimiento_riesgo_fumar_basuco_frecuentemente,\n",
    "d_12_b_presenta_problema_consumo_sp_barrio,d_12_c_presenta_problema_expendio_sp_barrio,d2_01_etnia,\n",
    "g_01_familiares_consumen_sp,g_02_amigos_consumen_sp,g_03_curiosidad_probar_sp,g_04_probaria_sp,\n",
    "g_05_posibilidad_probar_sp(50%),g_06_a_posibilidad_conseguir_marihuana(60%),g_06_j_posibilidad_conseguir_heroina(55%),\n",
    "g_07_alguien_ofrecio_comprar_probar_sp(50%),g_11_f_consumio_alguna_vez_marihuana,g_11_g_consumio_alguna_vez_cocaina,\n",
    "g_11_h_consumio_alguna_vez_basuco,g_11_j_consumio_alguna_vez_heroina ` tienen una clase dominante mayor al 65%\n",
    "- hay un outlier en las variables `d_09_deprimido,d_10_poco_interes,g_07_alguien_ofrecio_comprar_probar_sp` y tabien hay datos inconsistentes\n",
    "- Es necesario categoriazar las columnas g_11 a o_03, per_edad, estrato, situacion actual, edades\n",
    "- Posibles para eliminar: d2_04_num_hijos\n",
    "- Se descubre que la variable de estrato"
   ]
  },
  {
   "cell_type": "markdown",
   "metadata": {},
   "source": [
    "### Exportamos"
   ]
  },
  {
   "cell_type": "code",
   "execution_count": 72,
   "metadata": {},
   "outputs": [],
   "source": [
    "aux_consumidores.to_csv(\"C:/Users/Danny/Desktop/Analisis tesis/Analisis exploratorio de datos/data/consumidores.2.limpio_analisis.csv\", index=False)"
   ]
  },
  {
   "cell_type": "code",
   "execution_count": null,
   "metadata": {},
   "outputs": [],
   "source": []
  }
 ],
 "metadata": {
  "kernelspec": {
   "display_name": "Python 3 (ipykernel)",
   "language": "python",
   "name": "python3"
  },
  "language_info": {
   "codemirror_mode": {
    "name": "ipython",
    "version": 3
   },
   "file_extension": ".py",
   "mimetype": "text/x-python",
   "name": "python",
   "nbconvert_exporter": "python",
   "pygments_lexer": "ipython3",
   "version": "3.10.11"
  }
 },
 "nbformat": 4,
 "nbformat_minor": 2
}
