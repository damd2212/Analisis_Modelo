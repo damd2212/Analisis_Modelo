{
 "cells": [
  {
   "cell_type": "code",
   "execution_count": 23,
   "metadata": {},
   "outputs": [],
   "source": [
    "%load_ext watermark\n",
    "%watermark"
   ]
  },
  {
   "cell_type": "code",
   "execution_count": 6,
   "metadata": {},
   "outputs": [],
   "source": [
    "import pandas as pd\n",
    "import numpy as np"
   ]
  },
  {
   "cell_type": "markdown",
   "metadata": {},
   "source": [
    "La magia de matplotlib matplotlib notebook, es muy util para hacer plots mas visibles, pero es un poco complicada de usar ya que requiere el cerrar cada plot para poder continuar.\n",
    "\n",
    "Alternativamente, se puede usar la magia %matplotlib inline, que es más sencilla ya que simplemente muestra el gráfico original en el jupyter notebook. Para modificar el tamaño de los plots en este caso basta con cambiar el parámetro general de matplotlib figure.figsize al tamaño de gráfico deseado (en pulgadas)\n"
   ]
  },
  {
   "cell_type": "code",
   "execution_count": 7,
   "metadata": {},
   "outputs": [],
   "source": [
    "%matplotlib inline\n",
    "import matplotlib.pyplot as plt\n",
    "\n",
    "plt.rcParams['figure.figsize'] = (12,12) # 10 pulgadas de ancho y 10 de alto para todos los plots"
   ]
  },
  {
   "cell_type": "markdown",
   "metadata": {},
   "source": [
    "En este apartado vamos a revisar el dataset. El objetivo sera tener un dataset lo mas parecido al original pero sin fallos en el mismo que puedan llevarnos a sacar conclusiones erroneas.\n",
    "\n",
    "El input de este paso es el output del anterior"
   ]
  },
  {
   "cell_type": "code",
   "execution_count": 8,
   "metadata": {},
   "outputs": [],
   "source": [
    "consumidores = pd.read_csv(\"C:/Users/Danny/Desktop/Analisis tesis/Analisis exploratorio de datos/data/consumidores.1.procesado_inicial.csv\")"
   ]
  },
  {
   "cell_type": "code",
   "execution_count": 9,
   "metadata": {},
   "outputs": [],
   "source": [
    "consumidores.shape"
   ]
  },
  {
   "cell_type": "code",
   "execution_count": 10,
   "metadata": {},
   "outputs": [],
   "source": [
    "consumidores.head()"
   ]
  },
  {
   "cell_type": "markdown",
   "metadata": {},
   "source": [
    "### Duplicados\n",
    "\n",
    "En este apartado se intentan ver dos cosas:\n",
    "\n",
    "* Asegurarse de que datos que no debieran estar duplicados no lo están (por ejemplo, numeros de telefono)\n",
    "\n",
    "* Revisar  si hay columnas que tengan un alto numero de duplicados, ya que pueden no aportar mucha informacion"
   ]
  },
  {
   "cell_type": "code",
   "execution_count": 11,
   "metadata": {},
   "outputs": [],
   "source": [
    "consumidores['tipo_vivienda_unico'] = consumidores.tipo_vivienda.astype(str).str.cat([consumidores.servicio_energia.apply(str),consumidores.estrato.apply(str)],sep='-')"
   ]
  },
  {
   "cell_type": "code",
   "execution_count": 12,
   "metadata": {
    "scrolled": true
   },
   "outputs": [],
   "source": [
    "consumidores.tipo_vivienda_unico.value_counts()"
   ]
  },
  {
   "cell_type": "markdown",
   "metadata": {},
   "source": [
    "Nos damos cuenta de que hay muchos repetidos, veamos un ejemplo"
   ]
  },
  {
   "cell_type": "code",
   "execution_count": 13,
   "metadata": {},
   "outputs": [],
   "source": [
    "consumidores[consumidores.tipo_vivienda_unico=='3-1-2.0'].head()"
   ]
  },
  {
   "cell_type": "markdown",
   "metadata": {},
   "source": [
    "Por lo tanto se puede observar que cada tipo de vivienda tiene diferentes valores a las columnas tenidas en cuenta \n",
    "\n",
    "Por lo tanto, solo vamos a considerar duplicados aquellos records que sean idénticos en todas sus columnas"
   ]
  },
  {
   "cell_type": "code",
   "execution_count": 14,
   "metadata": {},
   "outputs": [],
   "source": [
    "consumidores[consumidores.duplicated()].shape"
   ]
  },
  {
   "cell_type": "markdown",
   "metadata": {},
   "source": [
    "De este modo se puede observar que no existen valores o filas duplicadas en el dataset que se esta analizando , sin embargo si existen valores nulos que se deben corregir"
   ]
  },
  {
   "cell_type": "markdown",
   "metadata": {},
   "source": [
    "Borramos la columna `tipo_vivienda_unico`"
   ]
  },
  {
   "cell_type": "code",
   "execution_count": 15,
   "metadata": {},
   "outputs": [],
   "source": [
    "del consumidores['tipo_vivienda_unico']"
   ]
  },
  {
   "cell_type": "markdown",
   "metadata": {},
   "source": [
    "Ahora falta ver si hay variables en las que haya una gran cantidad de records que tengan el mismo valor (cardinalidad)."
   ]
  },
  {
   "cell_type": "code",
   "execution_count": 16,
   "metadata": {},
   "outputs": [],
   "source": [
    "n_records = len(consumidores)\n",
    "def valores_duplicados_col(df):\n",
    "    for columna in df:\n",
    "        n_por_valor = df[columna].value_counts()\n",
    "        mas_comun = n_por_valor.iloc[0]\n",
    "        menos_comun = n_por_valor.iloc[-1]\n",
    "        print(\"{} | {}-{} | {}\".format(\n",
    "            df[columna].name,\n",
    "            round(mas_comun / (1.0*n_records),3),\n",
    "            round(menos_comun / (1.0*n_records),3),\n",
    "            df[columna].dtype\n",
    "        ))\n",
    "\n",
    "valores_duplicados_col(consumidores)"
   ]
  },
  {
   "cell_type": "code",
   "execution_count": 17,
   "metadata": {},
   "outputs": [],
   "source": [
    "consumidores.k_03_consumio_marihuana_12m.value_counts(normalize=False)"
   ]
  },
  {
   "cell_type": "code",
   "execution_count": 18,
   "metadata": {},
   "outputs": [],
   "source": [
    "consumidores.k_03_consumio_marihuana_12m.value_counts(normalize=False).plot.barh();"
   ]
  },
  {
   "cell_type": "code",
   "execution_count": 19,
   "metadata": {},
   "outputs": [],
   "source": [
    "consumidores[consumidores.vive_madre_hogar==9].shape"
   ]
  },
  {
   "cell_type": "markdown",
   "metadata": {},
   "source": [
    "### Valores inexistentes"
   ]
  },
  {
   "cell_type": "code",
   "execution_count": 20,
   "metadata": {
    "scrolled": false
   },
   "outputs": [],
   "source": [
    "n_records = len(consumidores)\n",
    "def valores_inexistentes_col(df):\n",
    "    for columna in df:\n",
    "        print(\"{} | {} | {}\".format(\n",
    "            df[columna].name, len(df[df[columna].isnull()]) / (1.0*n_records), df[columna].dtype\n",
    "        ))\n",
    "\n",
    "valores_inexistentes_col(consumidores)"
   ]
  },
  {
   "cell_type": "markdown",
   "metadata": {},
   "source": [
    "### Valores extremos (outliers)"
   ]
  },
  {
   "cell_type": "markdown",
   "metadata": {},
   "source": [
    "Para detectar valores extremos una medida general es considerar outliers aquellos valores con una puntuación Z (z score) mayor de 3, esto es, que se alejan 3 veces o mas desviaciones standard de la media.\n",
    "\n",
    "El z score se define como:\n",
    "\n",
    "$$z(x)= \\frac{x-\\mu}{\\sigma}$$"
   ]
  },
  {
   "cell_type": "code",
   "execution_count": 21,
   "metadata": {},
   "outputs": [],
   "source": [
    "import sys\n",
    "!{sys.executable} -m pip install numpy==1.23.4"
   ]
  },
  {
   "cell_type": "code",
   "execution_count": 22,
   "metadata": {},
   "outputs": [],
   "source": [
    "from scipy import stats\n",
    "import numpy as np\n",
    "\n",
    "def outliers_col(df):\n",
    "    for columna in df:\n",
    "        if df[columna].dtype != np.object_:\n",
    "            n_outliers = len(df[np.abs(stats.zscore(df[columna])) > 3])    \n",
    "            print(\"{} | {} | {}\".format(\n",
    "                df[columna].name,\n",
    "                n_outliers,\n",
    "                df[columna].dtype\n",
    "        ))\n",
    "\n",
    "outliers_col(consumidores)"
   ]
  },
  {
   "cell_type": "code",
   "execution_count": null,
   "metadata": {},
   "outputs": [],
   "source": [
    "consumidores.boxplot(column='d2_04_num_hijos');"
   ]
  },
  {
   "cell_type": "code",
   "execution_count": null,
   "metadata": {},
   "outputs": [],
   "source": [
    "consumidores.k_04_frecuencia_consumo_marihuana_12m.value_counts(normalize=False)"
   ]
  },
  {
   "cell_type": "markdown",
   "metadata": {},
   "source": [
    "Estado de alerta varibale de numero de hijos\n",
    "vive_padre_hogar\n",
    "vive_madre_hogar\n",
    "d_09_deprimido\n",
    "d_10_poco_interes\n",
    "g_07_alguien_ofrecio_comprar_probar_sp"
   ]
  },
  {
   "cell_type": "markdown",
   "metadata": {},
   "source": [
    "Se puede observar que existen ciertos valores en las respuestas que pueed que no ayuden al momento de entrenar el modelo, porende es necesario eliminar tales registros"
   ]
  },
  {
   "cell_type": "code",
   "execution_count": null,
   "metadata": {},
   "outputs": [],
   "source": [
    "aux_consumidores = consumidores[(consumidores.vive_madre_hogar!=9)]\n",
    "aux_consumidores.shape"
   ]
  },
  {
   "cell_type": "code",
   "execution_count": null,
   "metadata": {},
   "outputs": [],
   "source": [
    "aux_consumidores = aux_consumidores[(aux_consumidores.vive_padre_hogar!=9)]\n",
    "aux_consumidores.shape"
   ]
  },
  {
   "cell_type": "code",
   "execution_count": null,
   "metadata": {},
   "outputs": [],
   "source": [
    "aux_consumidores = aux_consumidores[(aux_consumidores.d_09_deprimido!=9)]\n",
    "aux_consumidores.shape"
   ]
  },
  {
   "cell_type": "code",
   "execution_count": null,
   "metadata": {},
   "outputs": [],
   "source": [
    "aux_consumidores = aux_consumidores[(aux_consumidores.d_10_poco_interes!=9)]\n",
    "aux_consumidores.shape"
   ]
  },
  {
   "cell_type": "code",
   "execution_count": null,
   "metadata": {},
   "outputs": [],
   "source": [
    "aux_consumidores = aux_consumidores[(aux_consumidores.g_07_alguien_ofrecio_comprar_probar_sp!=9)]\n",
    "aux_consumidores.shape"
   ]
  },
  {
   "cell_type": "code",
   "execution_count": null,
   "metadata": {},
   "outputs": [],
   "source": [
    "aux_consumidores.g_07_alguien_ofrecio_comprar_probar_sp.value_counts(normalize=False)"
   ]
  },
  {
   "cell_type": "markdown",
   "metadata": {},
   "source": [
    "Ahora se procedera a eliminar los registros cuyas respuestas no ayudan"
   ]
  },
  {
   "cell_type": "code",
   "execution_count": null,
   "metadata": {},
   "outputs": [],
   "source": [
    "aux_consumidores = aux_consumidores[(aux_consumidores.estrato!=9)]\n",
    "aux_consumidores.shape"
   ]
  },
  {
   "cell_type": "code",
   "execution_count": null,
   "metadata": {},
   "outputs": [],
   "source": [
    "aux_consumidores = aux_consumidores[(aux_consumidores.d2_05_nivel_educativo!=9)]\n",
    "aux_consumidores.shape"
   ]
  },
  {
   "cell_type": "code",
   "execution_count": null,
   "metadata": {},
   "outputs": [],
   "source": [
    "aux_consumidores = aux_consumidores[(aux_consumidores.k_03_consumio_marihuana_12m!=9)]\n",
    "aux_consumidores.shape"
   ]
  },
  {
   "cell_type": "code",
   "execution_count": null,
   "metadata": {},
   "outputs": [],
   "source": [
    "aux_consumidores = aux_consumidores[(aux_consumidores.k_04_frecuencia_consumo_marihuana_12m!=9)]\n",
    "aux_consumidores.shape"
   ]
  },
  {
   "cell_type": "code",
   "execution_count": null,
   "metadata": {},
   "outputs": [],
   "source": [
    "aux_consumidores = aux_consumidores[(aux_consumidores.l_02_consumio_cocaina_12m!=9)]\n",
    "aux_consumidores.shape"
   ]
  },
  {
   "cell_type": "code",
   "execution_count": null,
   "metadata": {},
   "outputs": [],
   "source": [
    "aux_consumidores = aux_consumidores[(aux_consumidores.l_03_frecuencia_consumo_cocaina_12m!=9)]\n",
    "aux_consumidores.shape"
   ]
  },
  {
   "cell_type": "code",
   "execution_count": null,
   "metadata": {},
   "outputs": [],
   "source": [
    "aux_consumidores = aux_consumidores[(aux_consumidores.m_02_consumio_basuco_12m!=9)]\n",
    "aux_consumidores.shape"
   ]
  },
  {
   "cell_type": "code",
   "execution_count": null,
   "metadata": {},
   "outputs": [],
   "source": [
    "aux_consumidores = aux_consumidores[(aux_consumidores.m_03_frecuencia_consumo_basuco_12m!=9)]\n",
    "aux_consumidores.shape"
   ]
  },
  {
   "cell_type": "code",
   "execution_count": null,
   "metadata": {},
   "outputs": [],
   "source": [
    "aux_consumidores = aux_consumidores[(aux_consumidores.o_02_consumio_heroina_12m!=9)]\n",
    "aux_consumidores.shape"
   ]
  },
  {
   "cell_type": "code",
   "execution_count": null,
   "metadata": {},
   "outputs": [],
   "source": [
    "aux_consumidores = aux_consumidores[(aux_consumidores.o_03_frecuencia_consumo_heroina_12m!=9)]\n",
    "aux_consumidores.shape"
   ]
  },
  {
   "cell_type": "code",
   "execution_count": null,
   "metadata": {},
   "outputs": [],
   "source": [
    "aux_consumidores = aux_consumidores.dropna(subset=['estrato'])\n",
    "aux_consumidores.shape"
   ]
  },
  {
   "cell_type": "code",
   "execution_count": null,
   "metadata": {},
   "outputs": [],
   "source": [
    "aux_consumidores = aux_consumidores[(aux_consumidores.estrato!=8)]\n",
    "aux_consumidores.shape"
   ]
  },
  {
   "cell_type": "code",
   "execution_count": null,
   "metadata": {},
   "outputs": [],
   "source": [
    "aux_consumidores.estrato.value_counts(normalize=False)"
   ]
  },
  {
   "cell_type": "markdown",
   "metadata": {},
   "source": [
    "Se elimina la columna de servicio de energia dado que ya no aporta informacion valiosa para el dataset"
   ]
  },
  {
   "cell_type": "code",
   "execution_count": null,
   "metadata": {},
   "outputs": [],
   "source": [
    "del aux_consumidores['servicio_energia']"
   ]
  },
  {
   "cell_type": "markdown",
   "metadata": {},
   "source": [
    "Ya que hemos descubierto esto, volvamos a revisar los datos con el nuevo dataset"
   ]
  },
  {
   "cell_type": "code",
   "execution_count": null,
   "metadata": {},
   "outputs": [],
   "source": [
    "aux_consumidores.shape"
   ]
  },
  {
   "cell_type": "code",
   "execution_count": null,
   "metadata": {},
   "outputs": [],
   "source": [
    "outliers_col(aux_consumidores)"
   ]
  },
  {
   "cell_type": "code",
   "execution_count": null,
   "metadata": {},
   "outputs": [],
   "source": [
    "valores_duplicados_col(aux_consumidores)"
   ]
  },
  {
   "cell_type": "code",
   "execution_count": null,
   "metadata": {},
   "outputs": [],
   "source": [
    "aux_consumidores.per_sexo.value_counts(normalize=False)"
   ]
  },
  {
   "cell_type": "markdown",
   "metadata": {},
   "source": [
    "### Valores inexistentes"
   ]
  },
  {
   "cell_type": "code",
   "execution_count": null,
   "metadata": {},
   "outputs": [],
   "source": [
    "valores_inexistentes_col(aux_consumidores)"
   ]
  },
  {
   "cell_type": "markdown",
   "metadata": {},
   "source": [
    "Ahora vemos que no hay valores inexistentes extremos en ninguna variable. La variable con mayor numero de valores inexistentes es g_11_j_anios_consumio_heroina (99%). Es de resaltar que es necesario agregar datos a la variable dado que esta variable tiene relacion con otra variable"
   ]
  },
  {
   "cell_type": "markdown",
   "metadata": {},
   "source": [
    "### Conclusion\n",
    "- NO hay records duplicados \n",
    "- La variable `servicio_energia, d_01_aporta_dinero_hogar, d_08_estado_salud(61%),d_09_deprimido,d_10_poco_interes,d_11_h_conocimiento_riesgo_fumar_marihuana_frecuentemente,\n",
    "d_11_k_conocimiento_riesgo_cocaina_frecuentemente,d_11_n_conocimiento_riesgo_fumar_basuco_frecuentemente,\n",
    "d_12_b_presenta_problema_consumo_sp_barrio,d_12_c_presenta_problema_expendio_sp_barrio,d2_01_etnia,\n",
    "g_01_familiares_consumen_sp,g_02_amigos_consumen_sp,g_03_curiosidad_probar_sp,g_04_probaria_sp,\n",
    "g_05_posibilidad_probar_sp(50%),g_06_a_posibilidad_conseguir_marihuana(60%),g_06_j_posibilidad_conseguir_heroina(55%),\n",
    "g_07_alguien_ofrecio_comprar_probar_sp(50%),g_11_f_consumio_alguna_vez_marihuana,g_11_g_consumio_alguna_vez_cocaina,\n",
    "g_11_h_consumio_alguna_vez_basuco,g_11_j_consumio_alguna_vez_heroina ` tienen una clase dominante mayor al 65%\n",
    "- hay un outlier en las variables `d_09_deprimido,d_10_poco_interes,g_07_alguien_ofrecio_comprar_probar_sp` y tabien hay datos inconsistentes\n",
    "- Es necesario categoriazar las columnas g_11 a o_03, per_edad, estrato, situacion actual, edades\n",
    "- Posibles para eliminar: d2_04_num_hijos\n",
    "- Se descubre que la variable de estrato"
   ]
  },
  {
   "cell_type": "markdown",
   "metadata": {},
   "source": [
    "### Exportamos"
   ]
  },
  {
   "cell_type": "code",
   "execution_count": null,
   "metadata": {},
   "outputs": [],
   "source": [
    "aux_consumidores.to_csv(\"C:/Users/Danny/Desktop/Analisis tesis/Analisis exploratorio de datos/data/consumidores.2.limpio_analisis.csv\", index=False)"
   ]
  },
  {
   "cell_type": "code",
   "execution_count": null,
   "metadata": {},
   "outputs": [],
   "source": []
  }
 ],
 "metadata": {
  "kernelspec": {
   "display_name": "Python 3 (ipykernel)",
   "language": "python",
   "name": "python3"
  },
  "language_info": {
   "codemirror_mode": {
    "name": "ipython",
    "version": 3
   },
   "file_extension": ".py",
   "mimetype": "text/x-python",
   "name": "python",
   "nbconvert_exporter": "python",
   "pygments_lexer": "ipython3",
   "version": "3.10.11"
  }
 },
 "nbformat": 4,
 "nbformat_minor": 2
}
